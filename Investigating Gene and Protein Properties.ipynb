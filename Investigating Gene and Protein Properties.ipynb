{
 "cells": [
  {
   "cell_type": "markdown",
   "id": "8a0ce337",
   "metadata": {},
   "source": [
    "# Installation"
   ]
  },
  {
   "cell_type": "markdown",
   "id": "786aff28",
   "metadata": {},
   "source": [
    "Check Python version"
   ]
  },
  {
   "cell_type": "code",
   "execution_count": 1,
   "id": "87f4fb1a",
   "metadata": {},
   "outputs": [
    {
     "data": {
      "text/plain": [
       "'3.9.7'"
      ]
     },
     "execution_count": 1,
     "metadata": {},
     "output_type": "execute_result"
    }
   ],
   "source": [
    "from platform import python_version\n",
    "python_version()"
   ]
  },
  {
   "cell_type": "markdown",
   "id": "787846ee",
   "metadata": {},
   "source": [
    "Install BioPython.\n",
    "\n",
    "Note:\n",
    "- only need to run this line for the first run"
   ]
  },
  {
   "cell_type": "code",
   "execution_count": 2,
   "id": "ee946486",
   "metadata": {},
   "outputs": [],
   "source": [
    "#pip install biopython"
   ]
  },
  {
   "cell_type": "markdown",
   "id": "6fc9d967",
   "metadata": {},
   "source": [
    "Import `Bio` and view version"
   ]
  },
  {
   "cell_type": "code",
   "execution_count": 3,
   "id": "d838ae57",
   "metadata": {},
   "outputs": [
    {
     "name": "stdout",
     "output_type": "stream",
     "text": [
      "1.80\n"
     ]
    }
   ],
   "source": [
    "import Bio\n",
    "print(Bio.__version__)"
   ]
  },
  {
   "cell_type": "code",
   "execution_count": 4,
   "id": "75d384c1",
   "metadata": {},
   "outputs": [],
   "source": [
    "#from Bio.Seq import Seq\n",
    "from Bio import SeqIO, SearchIO, Entrez\n",
    "#from Bio.Seq import Seq\n",
    "#from Bio.SeqUtils import GC, molecular_weight\n",
    "from Bio.Blast import NCBIWWW\n",
    "#from Bio.Data import CodonTable\n",
    "import Bio.Data as bd\n",
    "import Bio.SeqUtils as bsu\n",
    "import Bio.Seq as bseq\n",
    "import numpy as np"
   ]
  },
  {
   "cell_type": "markdown",
   "id": "c0d4d7db",
   "metadata": {},
   "source": [
    "# BioPython"
   ]
  },
  {
   "cell_type": "markdown",
   "id": "23455ba9",
   "metadata": {},
   "source": [
    "Multiple file formats can be used to read, write and index. For more detail, click [here](https://biopython.org/wiki/SeqIO)\n",
    "\n",
    "* Provides a simple uniform interface to input and output assorted sequence file formats (including multiple sequence alignments)\n",
    "* Will only deal with sequences as `SeqRecord` objects\n",
    "* File formats:\n",
    "    * `abi`\n",
    "    * `cif-atoms`\n",
    "    * `clustal`\n",
    "    * `fasta`\n",
    "    * `pdb-seqres`\n",
    "    * `pdb-atom`\n",
    "    * `swiss`\n",
    "* Note: When using Bio.SeqIO for alignment, make sure all the sequences are the same length (aka. they need to include gaps)"
   ]
  },
  {
   "cell_type": "markdown",
   "id": "803f35d1",
   "metadata": {},
   "source": [
    "View the complete sequence for [Drosophila X Virus Segment A](https://www.ncbi.nlm.nih.gov/gene/993338) using `Bio.SeqIO`.\n",
    "\n",
    "Note:\n",
    "- Organism: Drosophila X virus\n",
    "- Molecule type: genomic RNA\n",
    "- Gene: 1 to 3099\n",
    "- Locus tag: DxvsAgp1\n",
    "- For more detail, click [here](https://www.ncbi.nlm.nih.gov/nuccore/NC_004177.1?report=genbank&from=108&to=3206)"
   ]
  },
  {
   "cell_type": "code",
   "execution_count": 5,
   "id": "aaf4e44d",
   "metadata": {},
   "outputs": [
    {
     "name": "stdout",
     "output_type": "stream",
     "text": [
      "ATGAATACGACAAACGAATACTTGAAAACTCTTTTAAACCCAGCACAATTTATCTCAGACATTCCTGATGATATAATGATCCGACACGTAAACAGCGCCCAGACCATCACCTACAACTTGAAGTCAGGGGCCTCTGGCACCGGCCTGATCGTGGTCTATCCAAACACCCCGTCGAGTATTAGCGGCTTCCATTACATATGGGATTCCGCTACCTCGAATTGGGTGTTTGATCAGTACATCTACACAGCTCAGGAGTTGAAGGACTCATATGACTATGGCAGACTGATTTCAGGCTCGCTAAGCATTAAGTCCAGCACCTTACCTGCGGGTGTTTATGCACTGAATGGCACATTCAATGCAGTCTGGTTCCAAGGGACCTTGAGTGAAGTGTCTGACTACTCTTACGATAGGATCCTGTCAATAACATCCAATCCTCTGGATAAGGTTGGAAATGTGTTGGTTGGAGACGGCATAGAGGTTCTAAGCCTGCCGCAGGGGTTCAACAACCCCTACGTTAGGCTGGGTGACAAGTCACCGTCCACTCTATCCTCTCCAACCCACATAACCAACACTTCCCAGAACTTGGCTACGGGAGGTGCATACATGATCCCAGTAACCACAGTTCCTGGGCAAGGATTCCATAACAAGGAATTCAGCATTAATGTGGACTCCGTAGGGCCAGTTGACATCTTGTGGTCTGGTCAAATGACTATGCAGGACGAATGGACTGTAACTGCAAATTATCAACCATTGAACATCTCTGGCACGCTAATTGCAAACAGTCAGCGAACCCTAACATGGTCCAACACTGGTGTATCCAATGGCAGCCACTACATGAACATGAACAACCTTAATGTCTCCCTTTTCCATGAGAATCCACCACCTGAACCCGTTGCCGCCATAAAAATAAACATCAATTATGGAAACAACACCAATGGTGACAGCTCGTTCAGTGTGGACTCATCATTTACCATCAATGTCATTGGGGGCGCCACCATTGGCGTCAACTCTCCAACAGTCGGTGTTGGTTACCAAGGAGTAGCTGAGGGCACCGCCATTACAATTAGCGGTATCAACAACTATGAGCTGGTACCCAATCCGGACTTGCAAAAGAACCTGCCAATGACATATGGCACTTGTGATCCACATGATTTGACTTACATCAAGTACATACTGTCAAACCGAGAACAGTTGGGACTTAGGTCAGTGATGACCTTGGCCGACTACAATAGGATGAAGATGTACATGCATGTACTGACGAACTATCATGTCGATGAGAGGGAAGCATCGAGCTTCGATTTCTGGCAACTACTGAAACAGATAAAAAATGTTGCCGTGCCCTTGGCAGCTACACTTGCCCCCCAGTTCGCACCAATAATCGGTGCTGCCGATGGGTTAGCCAATGCAATATTGGGTGATAGCGCCAGCGGAAGGCCTGTTGGCAATTCCGCTAGCGGTATGCCCATTTCAATGAGTAGGCGTCTTAGAAACGCTTACTCAGCTGACTCCCCCTTAGGTGAAGAGCATTGGCTGCCAAACGAGAATGAGAACTTCAATAAATTTGACATCATCTATGACGTATCACATTCATCCATGGCTTTATTTCCAGTCATAATGATGGAACATGACAAAGTCATTCCATCCGACCCTGAGGAGCTGTATATTGCTGTATCACTAACAGAATCCCTCAGGAAGCAAATACCGAACCTCAATGACATGCCATACTATGAGATGGGTGGCCATAGGGTGTACAACTCCGTTTCCTCAAACGTAAGATCTGGAAATTTTTTAAGAAGCGATTACATCCTCCTACCATGCTATCAATTATTAGAAGGAAGACTCGCATCGTCGACATCACCAAACAAGGTAACGGGAACGTCCCACCAGCTTGCCATTTATGCAGCAGACGACTTACTAAAGAGTGGAGTTTTGGGGAAGGCACCATTTGCAGCTTTCACAGGATCCGTTGTCGGGTCCAGTGTGGGAGAAGTTTTTGGCATCAACCTGAAACTCCAATTGACGGACTCTCTTGGGATTCCACTACTTGGGAACTCACCAGGATTAGTTCAAGTAAAGACCCTGACATCTCTGGACAAAAAGATAAAAGATATGGGAGACGTAAAGAGAAGAACCCCAAAACAGACCCTCCCGCACTGGACAGCCGGGTCCGCGAGCATGAACCCATTCATGAACACGAACCCATTCCTGGAAGAGTTGGACCAGCCGATACCAAGCAACGCTGCAAAGCCAATCTCCGAGGAGACTCGGGATTTGTTTCTATCGGACGGTCAAACCATCCCAAGCTCTCAAGAGAAGATTGCCACAATACACGAGTACCTCCTGGAACACAAGGAGTTAGAGGAGGCAATGTTCAGCTTGATAAGCCAAGGGAGAGGCCGGTCTCTTATCAACATGGTAGTAAAAAGCGCTCTGAACATCGAAACCCAGTCTCGAGAAGTCACCGGCGAAAGAAGGCAAAGACTAGAACGAAAACTTCGAAACTTGGAAAATCAAGGGATATATGTTGATGAGAGCAAAATAATGTCAAGAGGAAGAATATCGAAAGAAGACACGGAACTAGCAATGAGGATTGCTCGGAAGAACCAAAAGGATGCAAAGTTACGGAGAATCTATAGCAATAACGCCTCGATCCAAGAGTCGTACACTGTGGATGACTTTGTATCCTATTGGATGGAGCAGGAGTCATTGCCTACTGGCATACAAATCGCAATGTGGTTAAAGGGTGACGATTGGTCCCAGCCAATACCACCTCGTGTCCAAAGACGACACTATGACAGCTACATTATGATGCTTGGGCCGTCACCAACCCAAGAACAAGCCGATGCTGTTAAGGACCTTGTCGACGACATATACGACAGAAATCAAGGGAAGGGGCCATCCCAGGAACAAGCTCGGGAATTAAGTCATGCTGTCCGCAGGCTTATTTCGCACTCACTTGTCAACCAACCGGCAACTGCTCCTAGAGTCCCCCCACGCCGAATTGTATCAGCTCAGACTGCTCAAACTGATCCCCCCGGAAGGAGGGCCGCACTTGACCGATTGCGAAGAGTGCGTGGAGAGGACAATGACATTGTATAA\n"
     ]
    }
   ],
   "source": [
    "gene_record = SeqIO.read(\"drosophila_x_virus_segment_A_complete_sequence.fasta\", \"fasta\")\n",
    "print(gene_record.seq)"
   ]
  },
  {
   "cell_type": "code",
   "execution_count": 6,
   "id": "f7e5470f",
   "metadata": {},
   "outputs": [
    {
     "name": "stdout",
     "output_type": "stream",
     "text": [
      "Sequence length (bp) 3099\n"
     ]
    }
   ],
   "source": [
    "print(\"Sequence length (bp)\", len(gene_record))"
   ]
  },
  {
   "cell_type": "markdown",
   "id": "0a4f19ad",
   "metadata": {},
   "source": [
    "View the complete amino acid sequence for Drosophila X Virus Polyprotein using Bio.SeqIO\n",
    "\n",
    "Note:\n",
    "- Chromosome: Segment A\n",
    "- Region 2 to 442: Birnavirus VP2 protein\n",
    "- Region 44 to 702: Birnavirus VP4 protein\n",
    "- Region 734 to 983: Birnavirus VP3 protein\n",
    "- Fore more detail, click [here](https://www.ncbi.nlm.nih.gov/protein/1545998)"
   ]
  },
  {
   "cell_type": "code",
   "execution_count": 7,
   "id": "25cb2eba",
   "metadata": {},
   "outputs": [
    {
     "name": "stdout",
     "output_type": "stream",
     "text": [
      "MNTTNEYLKTLLNPAQFISDIPDDIMIRHVNSAQTITYNLKSGASGTGLIVVYPNTPSSISGFHYIWDSATSNWVFDQYIYTAQELKDSYDYGRLISGSLSIKSSTLPAGVYALNGTFNAVWFQGTLSEVSDYSYDRILSITSNPLDKVGNVLVGDGIEVLSLPQGFNNPYVRLGDKSPSTLSSPTHITNTSQNLATGGAYMIPVTTVPGQGFHNKEFSINVDSVGPVDILWSGQMTMQDEWTVTANYQPLNISGTLIANSQRTLTWSNTGVSNGSHYMNMNNLNVSLFHENPPPEPVAAIKININYGNNTNGDSSFSVDSSFTINVIGGATIGVNSPTVGVGYQGVAEGTAITISGINNYELVPNPDLQKNLPMTYGTCDPHDLTYIKYILSNREQLGLRSVMTLADYNRMKMYMHVLTNYHVDEREASSFDFWQLLKQIKNVAVPLAATLAPQFAPIIGAADGLANAILGDSASGRPVGNSASGMPISMSRRLRNAYSADSPLGEEHWLPNENENFNKFDIIYDVSHSSMALFPVIMMEHDKVIPSDPEELYIAVSLTESLRKQIPNLNDMPYYEMGGHRVYNSVSSNVRSGNFLRSDYILLPCYQLLEGRLASSTSPNKVTGTSHQLAIYAADDLLKSGVLGKAPFAAFTGSVVGSSVGEVFGINLKLQLTDSLGIPLLGNSPGLVQVKTLTSLDKKIKDMGDVKRRTPKQTLPHWTAGSASMNPFMNTNPFLEELDQPIPSNAAKPISEETRDLFLSDGQTIPSSQEKIATIHEYLLEHKELEEAMFSLISQGRGRSLINMVVKSALNIETQSREVTGERRQRLERKLRNLENQGIYVDESKIMSRGRISKEDTELAMRIARKNQKDAKLRRIYSNNASIQESYTVDDFVSYWMEQESLPTGIQIAMWLKGDDWSQPIPPRVQRRHYDSYIMMLGPSPTQEQADAVKDLVDDIYDRNQGKGPSQEQARELSHAVRRLISHSLVNQPATAPRVPPRRIVSAQTAQTDPPGRRAALDRLRRVRGEDNDIV\n"
     ]
    }
   ],
   "source": [
    "polyprotein_record = SeqIO.read(\"polyprotein_Drosophila_X_virus_sequence.fasta\", \"fasta\")\n",
    "print(polyprotein_record.seq)"
   ]
  },
  {
   "cell_type": "code",
   "execution_count": 8,
   "id": "aa44bede",
   "metadata": {},
   "outputs": [
    {
     "name": "stdout",
     "output_type": "stream",
     "text": [
      "Sequence length (bp) 1032\n"
     ]
    }
   ],
   "source": [
    "print(\"Sequence length (bp)\", len(polyprotein_record))"
   ]
  },
  {
   "cell_type": "markdown",
   "id": "91e3f375",
   "metadata": {},
   "source": [
    "## `SeqRecord` class"
   ]
  },
  {
   "cell_type": "markdown",
   "id": "ae20bb73",
   "metadata": {},
   "source": [
    "- The only class of object returned by `SeqIO`.\n",
    "- Extracting information from a SeqRecord object. Note: it depends on the file format (e.g. FASTA, GenBank).\n",
    "- View all the information held in this object via: `print(record)`"
   ]
  },
  {
   "cell_type": "code",
   "execution_count": 15,
   "id": "4a6584fe",
   "metadata": {},
   "outputs": [
    {
     "name": "stdout",
     "output_type": "stream",
     "text": [
      "ID: AAB16798.1\n",
      "Name: AAB16798.1\n",
      "Description: AAB16798.1 polyprotein [Drosophila X virus]\n",
      "Number of features: 0\n",
      "Seq('MNTTNEYLKTLLNPAQFISDIPDDIMIRHVNSAQTITYNLKSGASGTGLIVVYP...DIV')\n"
     ]
    }
   ],
   "source": [
    "from Bio import SeqIO\n",
    "for polyprotein_record in SeqIO.parse(\"polyprotein_Drosophila_X_virus_sequence.fasta\", \"fasta\"):\n",
    "    print(polyprotein_record)"
   ]
  },
  {
   "cell_type": "markdown",
   "id": "29c1af03",
   "metadata": {},
   "source": [
    "View the type of information help in this object using the `dir()` function. Note: the `dir()` function returns all properties and methods of the specified object, without the values:"
   ]
  },
  {
   "cell_type": "code",
   "execution_count": 16,
   "id": "6ca94ddd",
   "metadata": {},
   "outputs": [
    {
     "data": {
      "text/plain": [
       "['__add__',\n",
       " '__bool__',\n",
       " '__class__',\n",
       " '__contains__',\n",
       " '__delattr__',\n",
       " '__dict__',\n",
       " '__dir__',\n",
       " '__doc__',\n",
       " '__eq__',\n",
       " '__format__',\n",
       " '__ge__',\n",
       " '__getattribute__',\n",
       " '__getitem__',\n",
       " '__gt__',\n",
       " '__hash__',\n",
       " '__init__',\n",
       " '__init_subclass__',\n",
       " '__iter__',\n",
       " '__le__',\n",
       " '__len__',\n",
       " '__lt__',\n",
       " '__module__',\n",
       " '__ne__',\n",
       " '__new__',\n",
       " '__radd__',\n",
       " '__reduce__',\n",
       " '__reduce_ex__',\n",
       " '__repr__',\n",
       " '__setattr__',\n",
       " '__sizeof__',\n",
       " '__str__',\n",
       " '__subclasshook__',\n",
       " '__weakref__',\n",
       " '_per_letter_annotations',\n",
       " '_seq',\n",
       " '_set_per_letter_annotations',\n",
       " '_set_seq',\n",
       " 'annotations',\n",
       " 'count',\n",
       " 'dbxrefs',\n",
       " 'description',\n",
       " 'features',\n",
       " 'format',\n",
       " 'id',\n",
       " 'islower',\n",
       " 'isupper',\n",
       " 'letter_annotations',\n",
       " 'lower',\n",
       " 'name',\n",
       " 'reverse_complement',\n",
       " 'seq',\n",
       " 'translate',\n",
       " 'upper']"
      ]
     },
     "execution_count": 16,
     "metadata": {},
     "output_type": "execute_result"
    }
   ],
   "source": [
    "dir(polyprotein_record)"
   ]
  },
  {
   "cell_type": "markdown",
   "id": "a91b6508",
   "metadata": {},
   "source": [
    "Print the information `polyprotein_record`"
   ]
  },
  {
   "cell_type": "code",
   "execution_count": 17,
   "id": "0cdb20fa",
   "metadata": {},
   "outputs": [
    {
     "name": "stdout",
     "output_type": "stream",
     "text": [
      "ID AAB16798.1\n",
      "Name AAB16798.1\n",
      "Description AAB16798.1 polyprotein [Drosophila X virus]\n",
      "Sequence MNTTNEYLKTLLNPAQFISDIPDDIMIRHVNSAQTITYNLKSGASGTGLIVVYPNTPSSISGFHYIWDSATSNWVFDQYIYTAQELKDSYDYGRLISGSLSIKSSTLPAGVYALNGTFNAVWFQGTLSEVSDYSYDRILSITSNPLDKVGNVLVGDGIEVLSLPQGFNNPYVRLGDKSPSTLSSPTHITNTSQNLATGGAYMIPVTTVPGQGFHNKEFSINVDSVGPVDILWSGQMTMQDEWTVTANYQPLNISGTLIANSQRTLTWSNTGVSNGSHYMNMNNLNVSLFHENPPPEPVAAIKININYGNNTNGDSSFSVDSSFTINVIGGATIGVNSPTVGVGYQGVAEGTAITISGINNYELVPNPDLQKNLPMTYGTCDPHDLTYIKYILSNREQLGLRSVMTLADYNRMKMYMHVLTNYHVDEREASSFDFWQLLKQIKNVAVPLAATLAPQFAPIIGAADGLANAILGDSASGRPVGNSASGMPISMSRRLRNAYSADSPLGEEHWLPNENENFNKFDIIYDVSHSSMALFPVIMMEHDKVIPSDPEELYIAVSLTESLRKQIPNLNDMPYYEMGGHRVYNSVSSNVRSGNFLRSDYILLPCYQLLEGRLASSTSPNKVTGTSHQLAIYAADDLLKSGVLGKAPFAAFTGSVVGSSVGEVFGINLKLQLTDSLGIPLLGNSPGLVQVKTLTSLDKKIKDMGDVKRRTPKQTLPHWTAGSASMNPFMNTNPFLEELDQPIPSNAAKPISEETRDLFLSDGQTIPSSQEKIATIHEYLLEHKELEEAMFSLISQGRGRSLINMVVKSALNIETQSREVTGERRQRLERKLRNLENQGIYVDESKIMSRGRISKEDTELAMRIARKNQKDAKLRRIYSNNASIQESYTVDDFVSYWMEQESLPTGIQIAMWLKGDDWSQPIPPRVQRRHYDSYIMMLGPSPTQEQADAVKDLVDDIYDRNQGKGPSQEQARELSHAVRRLISHSLVNQPATAPRVPPRRIVSAQTAQTDPPGRRAALDRLRRVRGEDNDIV\n",
      "Number of features []\n"
     ]
    }
   ],
   "source": [
    "print(\"ID\", polyprotein_record.id)\n",
    "print(\"Name\", polyprotein_record.name)\n",
    "print(\"Description\", polyprotein_record.description)\n",
    "print(\"Sequence\", polyprotein_record.seq)\n",
    "print(\"Number of features\", polyprotein_record.features) # empty"
   ]
  },
  {
   "cell_type": "markdown",
   "id": "3f52eb9d",
   "metadata": {},
   "source": [
    "## Other application of `BioSeq.IO`:\n",
    "- parse\n",
    "- convert file format\n",
    "- generate random subsequences\n",
    "- filter by seqeuence length\n",
    "- write seqeunce output"
   ]
  },
  {
   "cell_type": "code",
   "execution_count": 9,
   "id": "6caa4f77",
   "metadata": {},
   "outputs": [
    {
     "data": {
      "text/plain": [
       "SeqRecord(seq=Seq('MNTTNEYLKTLLNPAQFISDIPDDIMIRHVNSAQTITYNLKSGASGTGLIVVYP...DIV'), id='AAB16798.1', name='AAB16798.1', description='AAB16798.1 polyprotein [Drosophila X virus]', dbxrefs=[])"
      ]
     },
     "execution_count": 9,
     "metadata": {},
     "output_type": "execute_result"
    }
   ],
   "source": [
    "polyprotein_record"
   ]
  },
  {
   "cell_type": "markdown",
   "id": "e3666ac8",
   "metadata": {},
   "source": [
    "# `Bio.Blast`"
   ]
  },
  {
   "cell_type": "markdown",
   "id": "f94d7dbc",
   "metadata": {},
   "source": []
  },
  {
   "cell_type": "code",
   "execution_count": 18,
   "id": "614e14e7",
   "metadata": {},
   "outputs": [],
   "source": [
    "from Bio.Blast import NCBIWWW"
   ]
  },
  {
   "cell_type": "code",
   "execution_count": null,
   "id": "97defe1c",
   "metadata": {},
   "outputs": [],
   "source": []
  },
  {
   "cell_type": "markdown",
   "id": "7b9ee992",
   "metadata": {},
   "source": [
    "# PyRosetta"
   ]
  },
  {
   "cell_type": "markdown",
   "id": "d9bb7e94",
   "metadata": {},
   "source": [
    "Introduction to Python on Juypter Notebook [link](https://nbviewer.org/github/jckantor/CBE20255/blob/master/notebooks/00.01-Getting-Started-with-Jupyter-Notebooks-and-Python.ipynb)"
   ]
  },
  {
   "cell_type": "markdown",
   "id": "926785df",
   "metadata": {},
   "source": []
  },
  {
   "cell_type": "code",
   "execution_count": 22,
   "id": "151221e6",
   "metadata": {},
   "outputs": [
    {
     "name": "stdout",
     "output_type": "stream",
     "text": [
      "Requirement already satisfied: pyrosettacolabsetup in /opt/conda/lib/python3.9/site-packages (1.0.6)\r\n"
     ]
    },
    {
     "ename": "ModuleNotFoundError",
     "evalue": "No module named 'google.colab'",
     "output_type": "error",
     "traceback": [
      "\u001b[0;31m---------------------------------------------------------------------------\u001b[0m",
      "\u001b[0;31mModuleNotFoundError\u001b[0m                       Traceback (most recent call last)",
      "\u001b[0;32m/tmp/ipykernel_123/964176983.py\u001b[0m in \u001b[0;36m<module>\u001b[0;34m\u001b[0m\n\u001b[1;32m      1\u001b[0m \u001b[0mget_ipython\u001b[0m\u001b[0;34m(\u001b[0m\u001b[0;34m)\u001b[0m\u001b[0;34m.\u001b[0m\u001b[0msystem\u001b[0m\u001b[0;34m(\u001b[0m\u001b[0;34m'pip install pyrosettacolabsetup'\u001b[0m\u001b[0;34m)\u001b[0m\u001b[0;34m\u001b[0m\u001b[0;34m\u001b[0m\u001b[0m\n\u001b[0;32m----> 2\u001b[0;31m \u001b[0;32mimport\u001b[0m \u001b[0mpyrosettacolabsetup\u001b[0m\u001b[0;34m;\u001b[0m \u001b[0mpyrosettacolabsetup\u001b[0m\u001b[0;34m.\u001b[0m\u001b[0minstall_pyrosetta\u001b[0m\u001b[0;34m(\u001b[0m\u001b[0;34m)\u001b[0m\u001b[0;34m\u001b[0m\u001b[0;34m\u001b[0m\u001b[0m\n\u001b[0m\u001b[1;32m      3\u001b[0m \u001b[0;32mimport\u001b[0m \u001b[0mpyrosetta\u001b[0m\u001b[0;34m;\u001b[0m \u001b[0mpyrosetta\u001b[0m\u001b[0;34m.\u001b[0m\u001b[0minit\u001b[0m\u001b[0;34m(\u001b[0m\u001b[0;34m)\u001b[0m\u001b[0;34m\u001b[0m\u001b[0;34m\u001b[0m\u001b[0m\n",
      "\u001b[0;32m/opt/conda/lib/python3.9/site-packages/pyrosettacolabsetup/__init__.py\u001b[0m in \u001b[0;36minstall_pyrosetta_on_colab\u001b[0;34m(prefix, cache_wheel_on_google_drive)\u001b[0m\n\u001b[1;32m    160\u001b[0m     \u001b[0;32mexcept\u001b[0m \u001b[0mModuleNotFoundError\u001b[0m\u001b[0;34m:\u001b[0m \u001b[0;32mpass\u001b[0m\u001b[0;34m\u001b[0m\u001b[0;34m\u001b[0m\u001b[0m\n\u001b[1;32m    161\u001b[0m \u001b[0;34m\u001b[0m\u001b[0m\n\u001b[0;32m--> 162\u001b[0;31m     \u001b[0;32mif\u001b[0m \u001b[0mcache_wheel_on_google_drive\u001b[0m\u001b[0;34m:\u001b[0m \u001b[0mpyrosetta_root\u001b[0m \u001b[0;34m=\u001b[0m \u001b[0mmount_google_drive\u001b[0m\u001b[0;34m(\u001b[0m\u001b[0;34m)\u001b[0m \u001b[0;34m+\u001b[0m \u001b[0;34m'/'\u001b[0m \u001b[0;34m+\u001b[0m \u001b[0mprefix\u001b[0m\u001b[0;34m\u001b[0m\u001b[0;34m\u001b[0m\u001b[0m\n\u001b[0m\u001b[1;32m    163\u001b[0m     \u001b[0;32melse\u001b[0m\u001b[0;34m:\u001b[0m\u001b[0;34m\u001b[0m\u001b[0;34m\u001b[0m\u001b[0m\n\u001b[1;32m    164\u001b[0m       \u001b[0mpyrosetta_root\u001b[0m \u001b[0;34m=\u001b[0m \u001b[0;34m'/'\u001b[0m \u001b[0;34m+\u001b[0m \u001b[0mprefix\u001b[0m\u001b[0;34m\u001b[0m\u001b[0;34m\u001b[0m\u001b[0m\n",
      "\u001b[0;32m/opt/conda/lib/python3.9/site-packages/pyrosettacolabsetup/__init__.py\u001b[0m in \u001b[0;36mmount_google_drive\u001b[0;34m()\u001b[0m\n\u001b[1;32m     71\u001b[0m \u001b[0;34m\u001b[0m\u001b[0m\n\u001b[1;32m     72\u001b[0m     \u001b[0;31m#if 'google.colab' in sys.modules:\u001b[0m\u001b[0;34m\u001b[0m\u001b[0;34m\u001b[0m\u001b[0m\n\u001b[0;32m---> 73\u001b[0;31m     \u001b[0;32mfrom\u001b[0m \u001b[0mgoogle\u001b[0m\u001b[0;34m.\u001b[0m\u001b[0mcolab\u001b[0m \u001b[0;32mimport\u001b[0m \u001b[0mdrive\u001b[0m\u001b[0;34m\u001b[0m\u001b[0;34m\u001b[0m\u001b[0m\n\u001b[0m\u001b[1;32m     74\u001b[0m     \u001b[0mdrive\u001b[0m\u001b[0;34m.\u001b[0m\u001b[0mmount\u001b[0m\u001b[0;34m(\u001b[0m\u001b[0mgoogle_drive_mount_point\u001b[0m\u001b[0;34m)\u001b[0m\u001b[0;34m\u001b[0m\u001b[0;34m\u001b[0m\u001b[0m\n\u001b[1;32m     75\u001b[0m \u001b[0;34m\u001b[0m\u001b[0m\n",
      "\u001b[0;31mModuleNotFoundError\u001b[0m: No module named 'google.colab'"
     ]
    }
   ],
   "source": [
    "!pip install pyrosettacolabsetup\n",
    "import pyrosettacolabsetup; pyrosettacolabsetup.install_pyrosetta()\n",
    "import pyrosetta; pyrosetta.init()"
   ]
  },
  {
   "cell_type": "code",
   "execution_count": null,
   "id": "3ed341c8",
   "metadata": {},
   "outputs": [],
   "source": []
  }
 ],
 "metadata": {
  "kernelspec": {
   "display_name": "Python 3 (ipykernel)",
   "language": "python",
   "name": "python3"
  },
  "language_info": {
   "codemirror_mode": {
    "name": "ipython",
    "version": 3
   },
   "file_extension": ".py",
   "mimetype": "text/x-python",
   "name": "python",
   "nbconvert_exporter": "python",
   "pygments_lexer": "ipython3",
   "version": "3.9.7"
  }
 },
 "nbformat": 4,
 "nbformat_minor": 5
}
