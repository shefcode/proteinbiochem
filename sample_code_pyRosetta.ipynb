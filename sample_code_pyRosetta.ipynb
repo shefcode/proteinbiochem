{
  "cells": [
    {
      "cell_type": "code",
      "execution_count": null,
      "metadata": {
        "colab": {
          "base_uri": "https://localhost:8080/",
          "height": 35
        },
        "id": "bsD7qvwwVKdT",
        "outputId": "5e0f821b-56b4-4461-929b-09a71c971768"
      },
      "outputs": [
        {
          "output_type": "execute_result",
          "data": {
            "text/plain": [
              "'3.7.15'"
            ],
            "application/vnd.google.colaboratory.intrinsic+json": {
              "type": "string"
            }
          },
          "metadata": {},
          "execution_count": 1
        }
      ],
      "source": [
        "from platform import python_version\n",
        "python_version()"
      ]
    },
    {
      "cell_type": "code",
      "execution_count": null,
      "metadata": {
        "colab": {
          "base_uri": "https://localhost:8080/"
        },
        "id": "zR1h6k9DWQoa",
        "outputId": "c7722f7e-e553-4988-831e-05cc471541bc"
      },
      "outputs": [
        {
          "output_type": "stream",
          "name": "stdout",
          "text": [
            "Looking in indexes: https://pypi.org/simple, https://us-python.pkg.dev/colab-wheels/public/simple/\n",
            "Collecting biopython\n",
            "  Downloading biopython-1.80-cp37-cp37m-manylinux_2_17_x86_64.manylinux2014_x86_64.whl (3.0 MB)\n",
            "\u001b[K     |████████████████████████████████| 3.0 MB 5.0 MB/s \n",
            "\u001b[?25hRequirement already satisfied: numpy in /usr/local/lib/python3.7/dist-packages (from biopython) (1.21.6)\n",
            "Installing collected packages: biopython\n",
            "Successfully installed biopython-1.80\n"
          ]
        }
      ],
      "source": [
        "pip install biopython"
      ]
    },
    {
      "cell_type": "code",
      "execution_count": null,
      "metadata": {
        "colab": {
          "base_uri": "https://localhost:8080/"
        },
        "id": "ie90HBhppnjD",
        "outputId": "8f90b74d-2fe5-47e6-c4c1-8b2381edaa1c"
      },
      "outputs": [
        {
          "output_type": "stream",
          "name": "stdout",
          "text": [
            "1.80\n"
          ]
        }
      ],
      "source": [
        "import Bio\n",
        "print(Bio.__version__)"
      ]
    },
    {
      "cell_type": "code",
      "execution_count": null,
      "metadata": {
        "id": "4xwiebf0qRSi"
      },
      "outputs": [],
      "source": [
        "#from Bio.Seq import Seq\n",
        "from Bio import SeqIO, SearchIO, Entrez\n",
        "#from Bio.Seq import Seq\n",
        "#from Bio.SeqUtils import GC, molecular_weight\n",
        "from Bio.Blast import NCBIWWW\n",
        "#from Bio.Data import CodonTable\n",
        "import numpy as np\n",
        "import Bio.Data as bd\n",
        "import Bio.SeqUtils as bsu\n",
        "import Bio.Seq as bseq"
      ]
    },
    {
      "cell_type": "code",
      "execution_count": null,
      "metadata": {
        "colab": {
          "base_uri": "https://localhost:8080/"
        },
        "id": "fPX8G7o9sXhB",
        "outputId": "79b1fa3e-80c3-4dc2-896c-bc84df45488e"
      },
      "outputs": [
        {
          "output_type": "stream",
          "name": "stdout",
          "text": [
            "MASKQFSMLATRKSPYIKSLLLPETGPASIPDDKIRRHVKRSESTTTNLTSTTGKGMLIVYNNHPKNLVGSHYTYASDGKLRFDRNLYTAQDLSKNFNYGRKVSQLVTIKSTQLPAGVYAMQGTMNGVCIDGAPSEVETALKYETILSASTNALDKVAGVLVNDGVGVLSLPTTFDNDYIRMGDPAPSSFTPGSAQLSKPTHNPGLNSIVTAGTTGLTSGTKTISTTKTIISTDVINVDSTEGLLLDLNIQLMRWGVPSGKTATVTVDVKTVDLAGAETDAEQREIKISGTNTGRDNVITLSGLMMGLSGKKPLVAPTAAVVIEVSAISSESMTLTHSGHINNYSLTSLCAGTPGTTNPITIIIYTDLTPGGIMTVTAVSNFELIPNAELRKNIPTDFGNSDPSEMDFIKRILGQRETLELRTIWDMGMYDARRDVLSEFAHLDDNSLAMAWEWSDVLWWIKKIAGTIAPIAGAVFPAAAPLTSAISTMANAASGRALAASGKPLYRNMALAGERPLSRQITRIARTAARMTATALRSAALTPCCLRNQDACNLTADILMELTGADSCPPGISSAARLVNENNGCRCSNPSPDIKDAISAIEAGEAMDSILTAEVAQAADRPMIRTKRKARKTRTANGVELSAVGVLLPVLMDSGRRISGGAFMAVKGDLSEHIKNPKNTRIAQTVAGGTIYGLSEMVNIDEAEKLPIKGAITVLPVVQATATSILVPDNQPQLAFNSWEAAACAADTLESQQTPFLMVTGAVESGNLSPNLLAVQKQLLVAKPAGIGLAANSDRALKVVTLEQLRQVVGDKPWRKPMVTFSSGKNVAQASTNPFTSNNPFNPFMNLGDEYEEAPINPFLNLLPEAPTPPVPAPRRRPTPSPRQIAVAERFEAAAEEAAAQSPDLSDALEVANWLMETGNIQMMLDFMKRDRRGDKLSRMLFVTTYPSMAPNPGNGPTPEQARWESAVRKAGNMAATYPDITPEWVVANGYAGPDQAQAKYFSIHRRLPTAGETPIFSLGEKRKPGPDHARRLLQRLLASRDWNEEQIDALTDYVEEHGTGPDEATMQYIAQLGHNRRERPSASSRNAMKEARDAARTTAKMSLNRYKNNSGML\n"
          ]
        }
      ],
      "source": [
        "record = SeqIO.read(\"/content/Q2PBR5.fasta\", \"fasta\")\n",
        "print(record.seq)"
      ]
    },
    {
      "cell_type": "code",
      "execution_count": null,
      "metadata": {
        "colab": {
          "base_uri": "https://localhost:8080/"
        },
        "id": "foyYpU-YsoYS",
        "outputId": "d2dcfa6e-1c52-41f1-a442-95ec3a85a536"
      },
      "outputs": [
        {
          "output_type": "stream",
          "name": "stdout",
          "text": [
            "Sequence length (bp) 1114\n"
          ]
        }
      ],
      "source": [
        "print(\"Sequence length (bp)\", len(record))"
      ]
    },
    {
      "cell_type": "markdown",
      "metadata": {
        "id": "7x8C5lijuHHB"
      },
      "source": [
        "**View the molecular weight**"
      ]
    },
    {
      "cell_type": "code",
      "execution_count": null,
      "metadata": {
        "colab": {
          "base_uri": "https://localhost:8080/"
        },
        "id": "kJv35MTgs_Ms",
        "outputId": "7b084970-101d-477d-b983-ab5996f741aa"
      },
      "outputs": [
        {
          "output_type": "stream",
          "name": "stdout",
          "text": [
            "119737.96360000074\n"
          ]
        }
      ],
      "source": [
        "record = SeqIO.read(\"/content/Q2PBR5.fasta\", \"fasta\")\n",
        "record.seq\n",
        "print(Bio.SeqUtils.molecular_weight(\"MASKQFSMLATRKSPYIKSLLLPETGPASIPDDKIRRHVKRSESTTTNLTSTTGKGMLIVYNNHPKNLVGSHYTYASDGKLRFDRNLYTAQDLSKNFNYGRKVSQLVTIKSTQLPAGVYAMQGTMNGVCIDGAPSEVETALKYETILSASTNALDKVAGVLVNDGVGVLSLPTTFDNDYIRMGDPAPSSFTPGSAQLSKPTHNPGLNSIVTAGTTGLTSGTKTISTTKTIISTDVINVDSTEGLLLDLNIQLMRWGVPSGKTATVTVDVKTVDLAGAETDAEQREIKISGTNTGRDNVITLSGLMMGLSGKKPLVAPTAAVVIEVSAISSESMTLTHSGHINNYSLTSLCAGTPGTTNPITIIIYTDLTPGGIMTVTAVSNFELIPNAELRKNIPTDFGNSDPSEMDFIKRILGQRETLELRTIWDMGMYDARRDVLSEFAHLDDNSLAMAWEWSDVLWWIKKIAGTIAPIAGAVFPAAAPLTSAISTMANAASGRALAASGKPLYRNMALAGERPLSRQITRIARTAARMTATALRSAALTPCCLRNQDACNLTADILMELTGADSCPPGISSAARLVNENNGCRCSNPSPDIKDAISAIEAGEAMDSILTAEVAQAADRPMIRTKRKARKTRTANGVELSAVGVLLPVLMDSGRRISGGAFMAVKGDLSEHIKNPKNTRIAQTVAGGTIYGLSEMVNIDEAEKLPIKGAITVLPVVQATATSILVPDNQPQLAFNSWEAAACAADTLESQQTPFLMVTGAVESGNLSPNLLAVQKQLLVAKPAGIGLAANSDRALKVVTLEQLRQVVGDKPWRKPMVTFSSGKNVAQASTNPFTSNNPFNPFMNLGDEYEEAPINPFLNLLPEAPTPPVPAPRRRPTPSPRQIAVAERFEAAAEEAAAQSPDLSDALEVANWLMETGNIQMMLDFMKRDRRGDKLSRMLFVTTYPSMAPNPGNGPTPEQARWESAVRKAGNMAATYPDITPEWVVANGYAGPDQAQAKYFSIHRRLPTAGETPIFSLGEKRKPGPDHARRLLQRLLASRDWNEEQIDALTDYVEEHGTGPDEATMQYIAQLGHNRRERPSASSRNAMKEARDAARTTAKMSLNRYKNNSGML\", \"protein\"))"
      ]
    },
    {
      "cell_type": "code",
      "execution_count": null,
      "metadata": {
        "colab": {
          "base_uri": "https://localhost:8080/"
        },
        "id": "AZ1nKIAOuCBr",
        "outputId": "aeb9284e-6459-45fc-c668-bb52340b13da"
      },
      "outputs": [
        {
          "output_type": "stream",
          "name": "stdout",
          "text": [
            "119737.96360000074\n"
          ]
        }
      ],
      "source": [
        "print(Bio.SeqUtils.molecular_weight(record.seq, \"protein\"))"
      ]
    },
    {
      "cell_type": "code",
      "execution_count": null,
      "metadata": {
        "colab": {
          "base_uri": "https://localhost:8080/"
        },
        "id": "a8CP75o7sruK",
        "outputId": "6b8a3db5-508a-404b-c717-f69bda1ced13"
      },
      "outputs": [
        {
          "output_type": "stream",
          "name": "stdout",
          "text": [
            "GC content (%) 0.41975308641975306\n"
          ]
        }
      ],
      "source": [
        "print(\"GC content (%)\", Bio.SeqUtils.gc_fraction(record.seq))"
      ]
    },
    {
      "cell_type": "markdown",
      "source": [
        "**Introduction to SeqIO**\n",
        "\n",
        "Subpackage used: `Bio.SeqIO`\n",
        "* Provides a simple uniform interface to input and output assorted sequence file formats (including multiple sequence alignments)\n",
        "* Will only deal with sequences as `SeqRecord` objects\n",
        "* File formats:\n",
        "    * `abi`\n",
        "    * `cif-atoms`\n",
        "    * `clustal`\n",
        "    * `fasta`\n",
        "    * `pdb-seqres`\n",
        "    * `pdb-atom`\n",
        "    * `swiss`\n",
        "* Note: When using Bio.SeqIO for alignment, make sure all the sequences are the same length (aka. they need to include gaps)"
      ],
      "metadata": {
        "id": "DY_zDJCk4g32"
      }
    },
    {
      "cell_type": "markdown",
      "source": [
        "**`SeqRecord` class**\n",
        "\n",
        "The only class of object returned by `SeqIO`.\n",
        "\n",
        "Extracting information from a `SeqRecord` object. Note: it depends on the file format (e.g. FASTA, GenBank).\n",
        "\n",
        "View all the information held in this object via:\n",
        "> `print(record)`\n"
      ],
      "metadata": {
        "id": "VH3M-1BN8UUm"
      }
    },
    {
      "cell_type": "code",
      "source": [
        "from Bio import SeqIO\n",
        "for record in SeqIO.parse(\"/content/Q2PBR5.fasta\", \"fasta\"):\n",
        "    print(record)"
      ],
      "metadata": {
        "colab": {
          "base_uri": "https://localhost:8080/"
        },
        "id": "-SfEGAhm_jvK",
        "outputId": "d4bf9692-fd44-4e7c-aabc-2a758db2c2d3"
      },
      "execution_count": null,
      "outputs": [
        {
          "output_type": "stream",
          "name": "stdout",
          "text": [
            "ID: tr|Q2PBR5|Q2PBR5_9VIRU\n",
            "Name: tr|Q2PBR5|Q2PBR5_9VIRU\n",
            "Description: tr|Q2PBR5|Q2PBR5_9VIRU Structural polyprotein OS=Tellina virus 1 OX=321302 PE=1 SV=1\n",
            "Number of features: 0\n",
            "Seq('MASKQFSMLATRKSPYIKSLLLPETGPASIPDDKIRRHVKRSESTTTNLTSTTG...GML')\n"
          ]
        }
      ]
    },
    {
      "cell_type": "markdown",
      "source": [
        "View the type of information help in this object using the `dir()` function. Note: the `dir()` function returns all properties and methods of the specified object, without the values:\n",
        "> `dir(record)`\n"
      ],
      "metadata": {
        "id": "jgrzqt0b_rbX"
      }
    },
    {
      "cell_type": "code",
      "source": [
        "dir(record)"
      ],
      "metadata": {
        "colab": {
          "base_uri": "https://localhost:8080/"
        },
        "id": "a3chlX3S_q3v",
        "outputId": "59aca613-d37f-4af9-d962-7d9f6c526305"
      },
      "execution_count": null,
      "outputs": [
        {
          "output_type": "execute_result",
          "data": {
            "text/plain": [
              "['__add__',\n",
              " '__bool__',\n",
              " '__class__',\n",
              " '__contains__',\n",
              " '__delattr__',\n",
              " '__dict__',\n",
              " '__dir__',\n",
              " '__doc__',\n",
              " '__eq__',\n",
              " '__format__',\n",
              " '__ge__',\n",
              " '__getattribute__',\n",
              " '__getitem__',\n",
              " '__gt__',\n",
              " '__hash__',\n",
              " '__init__',\n",
              " '__init_subclass__',\n",
              " '__iter__',\n",
              " '__le__',\n",
              " '__len__',\n",
              " '__lt__',\n",
              " '__module__',\n",
              " '__ne__',\n",
              " '__new__',\n",
              " '__radd__',\n",
              " '__reduce__',\n",
              " '__reduce_ex__',\n",
              " '__repr__',\n",
              " '__setattr__',\n",
              " '__sizeof__',\n",
              " '__str__',\n",
              " '__subclasshook__',\n",
              " '__weakref__',\n",
              " '_per_letter_annotations',\n",
              " '_seq',\n",
              " '_set_per_letter_annotations',\n",
              " '_set_seq',\n",
              " 'annotations',\n",
              " 'count',\n",
              " 'dbxrefs',\n",
              " 'description',\n",
              " 'features',\n",
              " 'format',\n",
              " 'id',\n",
              " 'islower',\n",
              " 'isupper',\n",
              " 'letter_annotations',\n",
              " 'lower',\n",
              " 'name',\n",
              " 'reverse_complement',\n",
              " 'seq',\n",
              " 'translate',\n",
              " 'upper']"
            ]
          },
          "metadata": {},
          "execution_count": 28
        }
      ]
    },
    {
      "cell_type": "markdown",
      "source": [
        "Print the information of interest"
      ],
      "metadata": {
        "id": "mC7TqtbR8TrV"
      }
    },
    {
      "cell_type": "code",
      "execution_count": null,
      "metadata": {
        "colab": {
          "base_uri": "https://localhost:8080/"
        },
        "id": "n8hb4vu5p1Nj",
        "outputId": "3e9756da-fd88-4e3e-cc1e-41e40d0dc33f"
      },
      "outputs": [
        {
          "output_type": "stream",
          "name": "stdout",
          "text": [
            "ID tr|Q2PBR5|Q2PBR5_9VIRU\n",
            "Name tr|Q2PBR5|Q2PBR5_9VIRU\n",
            "Description tr|Q2PBR5|Q2PBR5_9VIRU Structural polyprotein OS=Tellina virus 1 OX=321302 PE=1 SV=1\n",
            "Sequence MASKQFSMLATRKSPYIKSLLLPETGPASIPDDKIRRHVKRSESTTTNLTSTTGKGMLIVYNNHPKNLVGSHYTYASDGKLRFDRNLYTAQDLSKNFNYGRKVSQLVTIKSTQLPAGVYAMQGTMNGVCIDGAPSEVETALKYETILSASTNALDKVAGVLVNDGVGVLSLPTTFDNDYIRMGDPAPSSFTPGSAQLSKPTHNPGLNSIVTAGTTGLTSGTKTISTTKTIISTDVINVDSTEGLLLDLNIQLMRWGVPSGKTATVTVDVKTVDLAGAETDAEQREIKISGTNTGRDNVITLSGLMMGLSGKKPLVAPTAAVVIEVSAISSESMTLTHSGHINNYSLTSLCAGTPGTTNPITIIIYTDLTPGGIMTVTAVSNFELIPNAELRKNIPTDFGNSDPSEMDFIKRILGQRETLELRTIWDMGMYDARRDVLSEFAHLDDNSLAMAWEWSDVLWWIKKIAGTIAPIAGAVFPAAAPLTSAISTMANAASGRALAASGKPLYRNMALAGERPLSRQITRIARTAARMTATALRSAALTPCCLRNQDACNLTADILMELTGADSCPPGISSAARLVNENNGCRCSNPSPDIKDAISAIEAGEAMDSILTAEVAQAADRPMIRTKRKARKTRTANGVELSAVGVLLPVLMDSGRRISGGAFMAVKGDLSEHIKNPKNTRIAQTVAGGTIYGLSEMVNIDEAEKLPIKGAITVLPVVQATATSILVPDNQPQLAFNSWEAAACAADTLESQQTPFLMVTGAVESGNLSPNLLAVQKQLLVAKPAGIGLAANSDRALKVVTLEQLRQVVGDKPWRKPMVTFSSGKNVAQASTNPFTSNNPFNPFMNLGDEYEEAPINPFLNLLPEAPTPPVPAPRRRPTPSPRQIAVAERFEAAAEEAAAQSPDLSDALEVANWLMETGNIQMMLDFMKRDRRGDKLSRMLFVTTYPSMAPNPGNGPTPEQARWESAVRKAGNMAATYPDITPEWVVANGYAGPDQAQAKYFSIHRRLPTAGETPIFSLGEKRKPGPDHARRLLQRLLASRDWNEEQIDALTDYVEEHGTGPDEATMQYIAQLGHNRRERPSASSRNAMKEARDAARTTAKMSLNRYKNNSGML\n",
            "Number of features []\n"
          ]
        }
      ],
      "source": [
        "print(\"ID\", record.id)\n",
        "print(\"Name\", record.name)\n",
        "print(\"Description\", record.description)\n",
        "print(\"Sequence\", record.seq)\n",
        "print(\"Number of features\", record.features) # empty"
      ]
    },
    {
      "cell_type": "markdown",
      "metadata": {
        "id": "0XZOVvaArZS5"
      },
      "source": []
    },
    {
      "cell_type": "code",
      "execution_count": null,
      "metadata": {
        "id": "c9AXbhMBrVc3"
      },
      "outputs": [],
      "source": [
        "from Bio.Blast import NCBIWWW\n"
      ]
    },
    {
      "cell_type": "code",
      "execution_count": 1,
      "metadata": {
        "colab": {
          "base_uri": "https://localhost:8080/"
        },
        "id": "7xSQPsTzvfV6",
        "outputId": "73c34132-1864-4348-ba9c-242d20c2b7a6"
      },
      "outputs": [
        {
          "output_type": "stream",
          "name": "stdout",
          "text": [
            "Looking in indexes: https://pypi.org/simple, https://us-python.pkg.dev/colab-wheels/public/simple/\n",
            "Collecting pyrosettacolabsetup\n",
            "  Downloading pyrosettacolabsetup-1.0.6-py3-none-any.whl (4.7 kB)\n",
            "Installing collected packages: pyrosettacolabsetup\n",
            "Successfully installed pyrosettacolabsetup-1.0.6\n",
            "Mounted at /content/google_drive\n",
            "Looking for compatible PyRosetta wheel file at google-drive/PyRosetta/colab.bin/wheels...\n",
            "Found compatible wheel: /content/google_drive/MyDrive/PyRosetta/colab.bin/wheels//content/google_drive/MyDrive/PyRosetta/colab.bin/wheels/pyrosetta-2022.46+release.f0c6fca0e2f-cp37-cp37m-linux_x86_64.whl\n",
            "Looking in indexes: https://pypi.org/simple, https://us-python.pkg.dev/colab-wheels/public/simple/\n",
            "\n",
            "\n",
            "PyRosetta-4 2022 [Rosetta PyRosetta4.MinSizeRel.python37.ubuntu 2022.46+release.f0c6fca0e2fae27020abfa11ca7804caf65edd38 2022-11-16T11:41:29] retrieved from: http://www.pyrosetta.org\n",
            "(C) Copyright Rosetta Commons Member Institutions. Created in JHU by Sergey Lyskov and PyRosetta Team.\n",
            "core.init: Checking for fconfig files in pwd and ./rosetta/flags\n",
            "core.init: Rosetta version: PyRosetta4.MinSizeRel.python37.ubuntu r335 2022.46+release.f0c6fca0e2f f0c6fca0e2fae27020abfa11ca7804caf65edd38 http://www.pyrosetta.org 2022-11-16T11:41:29\n",
            "core.init: command: PyRosetta -ex1 -ex2aro -database /usr/local/lib/python3.7/dist-packages/pyrosetta/database\n",
            "basic.random.init_random_generator: 'RNG device' seed mode, using '/dev/urandom', seed=-1921675881 seed_offset=0 real_seed=-1921675881\n",
            "basic.random.init_random_generator: RandomGenerator:init: Normal mode, seed=-1921675881 RG_type=mt19937\n"
          ]
        }
      ],
      "source": [
        "!pip install pyrosettacolabsetup\n",
        "import pyrosettacolabsetup; pyrosettacolabsetup.install_pyrosetta()\n",
        "import pyrosetta; pyrosetta.init()"
      ]
    },
    {
      "cell_type": "code",
      "source": [
        "from pyrosetta import *\n",
        "init()"
      ],
      "metadata": {
        "colab": {
          "base_uri": "https://localhost:8080/"
        },
        "id": "yb0vF80UEGb_",
        "outputId": "552462af-7634-42ee-cd8d-b1923da7b436"
      },
      "execution_count": null,
      "outputs": [
        {
          "output_type": "stream",
          "name": "stdout",
          "text": [
            "PyRosetta-4 2022 [Rosetta PyRosetta4.MinSizeRel.python37.ubuntu 2022.46+release.f0c6fca0e2fae27020abfa11ca7804caf65edd38 2022-11-16T11:41:29] retrieved from: http://www.pyrosetta.org\n",
            "(C) Copyright Rosetta Commons Member Institutions. Created in JHU by Sergey Lyskov and PyRosetta Team.\n",
            "core.init: Checking for fconfig files in pwd and ./rosetta/flags\n",
            "core.init: Rosetta version: PyRosetta4.MinSizeRel.python37.ubuntu r335 2022.46+release.f0c6fca0e2f f0c6fca0e2fae27020abfa11ca7804caf65edd38 http://www.pyrosetta.org 2022-11-16T11:41:29\n",
            "core.init: command: PyRosetta -ex1 -ex2aro -database /usr/local/lib/python3.7/dist-packages/pyrosetta/database\n",
            "basic.random.init_random_generator: 'RNG device' seed mode, using '/dev/urandom', seed=-560086933 seed_offset=0 real_seed=-560086933\n",
            "basic.random.init_random_generator: RandomGenerator:init: Normal mode, seed=-560086933 RG_type=mt19937\n"
          ]
        }
      ]
    },
    {
      "cell_type": "markdown",
      "source": [
        "**Jupyter Notebook - PyRosetta Tutorial**\n",
        "\n",
        "Pose Basics [link text](https://nbviewer.org/github/RosettaCommons/PyRosetta.notebooks/blob/master/notebooks/02.01-Pose-Basics.ipynb)\n"
      ],
      "metadata": {
        "id": "nVitNdXYFjwf"
      }
    },
    {
      "cell_type": "code",
      "source": [
        "### BEGIN SOLUTION\n",
        "pose = pose_from_pdb(\"/content/2gef.pdb\")\n",
        "### END SOLUTION"
      ],
      "metadata": {
        "colab": {
          "base_uri": "https://localhost:8080/"
        },
        "id": "0yJzW3-1E4QE",
        "outputId": "ecc053bc-000a-497f-cb87-ffb4fd57f957"
      },
      "execution_count": null,
      "outputs": [
        {
          "output_type": "stream",
          "name": "stdout",
          "text": [
            "core.import_pose.import_pose: File '/content/2gef.pdb' automatically determined to be of type PDB\n",
            "core.chemical.GlobalResidueTypeSet: Loading (but possibly not actually using) 'MSE' from the PDB components dictionary for residue type 'pdb_MSE'\n",
            "core.io.pose_from_sfr.PoseFromSFRBuilder: Reading MSE as MET!\n",
            "core.io.pose_from_sfr.PoseFromSFRBuilder: Reading MSE as MET!\n",
            "core.io.pose_from_sfr.PoseFromSFRBuilder: Reading MSE as MET!\n",
            "core.io.pose_from_sfr.PoseFromSFRBuilder: Reading MSE as MET!\n",
            "core.io.pose_from_sfr.PoseFromSFRBuilder: Reading MSE as MET!\n",
            "core.io.pose_from_sfr.PoseFromSFRBuilder: Reading MSE as MET!\n",
            "core.io.pose_from_sfr.PoseFromSFRBuilder: Reading MSE as MET!\n",
            "core.io.pose_from_sfr.PoseFromSFRBuilder: Reading Selenium SE from MSE as SD from MET\n",
            "core.io.pose_from_sfr.PoseFromSFRBuilder: Reading MSE as MET!\n",
            "core.io.pose_from_sfr.PoseFromSFRBuilder: Reading MSE as MET!\n",
            "core.io.pose_from_sfr.PoseFromSFRBuilder: Reading MSE as MET!\n",
            "core.io.pose_from_sfr.PoseFromSFRBuilder: Reading MSE as MET!\n",
            "core.io.pose_from_sfr.PoseFromSFRBuilder: Reading MSE as MET!\n",
            "core.io.pose_from_sfr.PoseFromSFRBuilder: Reading MSE as MET!\n",
            "core.io.pose_from_sfr.PoseFromSFRBuilder: Reading MSE as MET!\n",
            "core.io.pose_from_sfr.PoseFromSFRBuilder: Reading MSE as MET!\n",
            "core.io.pose_from_sfr.PoseFromSFRBuilder: Reading Selenium SE from MSE as SD from MET\n",
            "core.io.pose_from_sfr.PoseFromSFRBuilder: Reading MSE as MET!\n",
            "core.io.pose_from_sfr.PoseFromSFRBuilder: Reading MSE as MET!\n",
            "core.io.pose_from_sfr.PoseFromSFRBuilder: Reading MSE as MET!\n",
            "core.io.pose_from_sfr.PoseFromSFRBuilder: Reading MSE as MET!\n",
            "core.io.pose_from_sfr.PoseFromSFRBuilder: Reading MSE as MET!\n",
            "core.io.pose_from_sfr.PoseFromSFRBuilder: Reading MSE as MET!\n",
            "core.io.pose_from_sfr.PoseFromSFRBuilder: Reading MSE as MET!\n",
            "core.io.pose_from_sfr.PoseFromSFRBuilder: Reading MSE as MET!\n",
            "core.io.pose_from_sfr.PoseFromSFRBuilder: Reading Selenium SE from MSE as SD from MET\n",
            "core.io.pose_from_sfr.PoseFromSFRBuilder: Reading MSE as MET!\n",
            "core.io.pose_from_sfr.PoseFromSFRBuilder: Reading MSE as MET!\n",
            "core.io.pose_from_sfr.PoseFromSFRBuilder: Reading MSE as MET!\n",
            "core.io.pose_from_sfr.PoseFromSFRBuilder: Reading MSE as MET!\n",
            "core.io.pose_from_sfr.PoseFromSFRBuilder: Reading MSE as MET!\n",
            "core.io.pose_from_sfr.PoseFromSFRBuilder: Reading MSE as MET!\n",
            "core.io.pose_from_sfr.PoseFromSFRBuilder: Reading MSE as MET!\n",
            "core.io.pose_from_sfr.PoseFromSFRBuilder: Reading MSE as MET!\n",
            "core.io.pose_from_sfr.PoseFromSFRBuilder: Reading Selenium SE from MSE as SD from MET\n",
            "core.io.pose_from_sfr.PoseFromSFRBuilder: Reading MSE as MET!\n",
            "core.io.pose_from_sfr.PoseFromSFRBuilder: Reading MSE as MET!\n",
            "core.io.pose_from_sfr.PoseFromSFRBuilder: Reading MSE as MET!\n",
            "core.io.pose_from_sfr.PoseFromSFRBuilder: Reading MSE as MET!\n",
            "core.io.pose_from_sfr.PoseFromSFRBuilder: Reading MSE as MET!\n",
            "core.io.pose_from_sfr.PoseFromSFRBuilder: Reading MSE as MET!\n",
            "core.io.pose_from_sfr.PoseFromSFRBuilder: Reading MSE as MET!\n",
            "core.io.pose_from_sfr.PoseFromSFRBuilder: Reading MSE as MET!\n",
            "core.io.pose_from_sfr.PoseFromSFRBuilder: Reading Selenium SE from MSE as SD from MET\n",
            "core.io.pose_from_sfr.PoseFromSFRBuilder: Reading MSE as MET!\n",
            "core.io.pose_from_sfr.PoseFromSFRBuilder: Reading MSE as MET!\n",
            "core.io.pose_from_sfr.PoseFromSFRBuilder: Reading MSE as MET!\n",
            "core.io.pose_from_sfr.PoseFromSFRBuilder: Reading MSE as MET!\n",
            "core.io.pose_from_sfr.PoseFromSFRBuilder: Reading MSE as MET!\n",
            "core.io.pose_from_sfr.PoseFromSFRBuilder: Reading MSE as MET!\n",
            "core.io.pose_from_sfr.PoseFromSFRBuilder: Reading MSE as MET!\n",
            "core.io.pose_from_sfr.PoseFromSFRBuilder: Reading MSE as MET!\n",
            "core.io.pose_from_sfr.PoseFromSFRBuilder: Reading Selenium SE from MSE as SD from MET\n",
            "core.io.pose_from_sfr.PoseFromSFRBuilder: Reading MSE as MET!\n",
            "core.io.pose_from_sfr.PoseFromSFRBuilder: Reading MSE as MET!\n",
            "core.io.pose_from_sfr.PoseFromSFRBuilder: Reading MSE as MET!\n",
            "core.io.pose_from_sfr.PoseFromSFRBuilder: Reading MSE as MET!\n",
            "core.io.pose_from_sfr.PoseFromSFRBuilder: Reading MSE as MET!\n",
            "core.io.pose_from_sfr.PoseFromSFRBuilder: Reading MSE as MET!\n",
            "core.io.pose_from_sfr.PoseFromSFRBuilder: Reading MSE as MET!\n",
            "core.io.pose_from_sfr.PoseFromSFRBuilder: Reading MSE as MET!\n",
            "core.io.pose_from_sfr.PoseFromSFRBuilder: Reading Selenium SE from MSE as SD from MET\n",
            "core.io.pose_from_sfr.PoseFromSFRBuilder: Reading MSE as MET!\n",
            "core.io.pose_from_sfr.PoseFromSFRBuilder: Reading MSE as MET!\n",
            "core.io.pose_from_sfr.PoseFromSFRBuilder: Reading MSE as MET!\n",
            "core.io.pose_from_sfr.PoseFromSFRBuilder: Reading MSE as MET!\n",
            "core.io.pose_from_sfr.PoseFromSFRBuilder: Reading MSE as MET!\n",
            "core.io.pose_from_sfr.PoseFromSFRBuilder: Reading MSE as MET!\n",
            "core.io.pose_from_sfr.PoseFromSFRBuilder: Reading MSE as MET!\n",
            "core.io.pose_from_sfr.PoseFromSFRBuilder: Reading MSE as MET!\n",
            "core.io.pose_from_sfr.PoseFromSFRBuilder: Reading Selenium SE from MSE as SD from MET\n",
            "core.io.pose_from_sfr.PoseFromSFRBuilder: Reading MSE as MET!\n",
            "core.conformation.Conformation: [ WARNING ] missing heavyatom:  OG1 on residue THR 78\n",
            "core.conformation.Conformation: [ WARNING ] missing heavyatom:  CG2 on residue THR 78\n",
            "core.conformation.Conformation: [ WARNING ] missing heavyatom:  CG  on residue HIS 79\n",
            "core.conformation.Conformation: [ WARNING ] missing heavyatom:  ND1 on residue HIS 79\n",
            "core.conformation.Conformation: [ WARNING ] missing heavyatom:  CD2 on residue HIS 79\n",
            "core.conformation.Conformation: [ WARNING ] missing heavyatom:  CE1 on residue HIS 79\n",
            "core.conformation.Conformation: [ WARNING ] missing heavyatom:  NE2 on residue HIS 79\n",
            "core.conformation.Conformation: [ WARNING ] missing heavyatom:  CG  on residue LYS 80\n",
            "core.conformation.Conformation: [ WARNING ] missing heavyatom:  CD  on residue LYS 80\n",
            "core.conformation.Conformation: [ WARNING ] missing heavyatom:  CE  on residue LYS 80\n",
            "core.conformation.Conformation: [ WARNING ] missing heavyatom:  NZ  on residue LYS 80\n",
            "core.conformation.Conformation: [ WARNING ] missing heavyatom:  OXT on residue SER:CtermProteinFull 198\n",
            "core.conformation.Conformation: [ WARNING ] missing heavyatom:  OG1 on residue THR 276\n",
            "core.conformation.Conformation: [ WARNING ] missing heavyatom:  CG2 on residue THR 276\n",
            "core.conformation.Conformation: [ WARNING ] missing heavyatom:  CG  on residue HIS 277\n",
            "core.conformation.Conformation: [ WARNING ] missing heavyatom:  ND1 on residue HIS 277\n",
            "core.conformation.Conformation: [ WARNING ] missing heavyatom:  CD2 on residue HIS 277\n",
            "core.conformation.Conformation: [ WARNING ] missing heavyatom:  CE1 on residue HIS 277\n",
            "core.conformation.Conformation: [ WARNING ] missing heavyatom:  NE2 on residue HIS 277\n",
            "core.conformation.Conformation: [ WARNING ] missing heavyatom:  CG  on residue LEU 278\n",
            "core.conformation.Conformation: [ WARNING ] missing heavyatom:  CD1 on residue LEU 278\n",
            "core.conformation.Conformation: [ WARNING ] missing heavyatom:  CD2 on residue LEU 278\n",
            "core.conformation.Conformation: [ WARNING ] missing heavyatom:  CG  on residue LYS 279\n",
            "core.conformation.Conformation: [ WARNING ] missing heavyatom:  CD  on residue LYS 279\n",
            "core.conformation.Conformation: [ WARNING ] missing heavyatom:  CE  on residue LYS 279\n",
            "core.conformation.Conformation: [ WARNING ] missing heavyatom:  NZ  on residue LYS 279\n",
            "core.conformation.Conformation: [ WARNING ] missing heavyatom:  OXT on residue ARG:CtermProteinFull 401\n",
            "core.conformation.Conformation: [ WARNING ] missing heavyatom:  CG  on residue ARG:CtermProteinFull 401\n",
            "core.conformation.Conformation: [ WARNING ] missing heavyatom:  CD  on residue ARG:CtermProteinFull 401\n",
            "core.conformation.Conformation: [ WARNING ] missing heavyatom:  NE  on residue ARG:CtermProteinFull 401\n",
            "core.conformation.Conformation: [ WARNING ] missing heavyatom:  CZ  on residue ARG:CtermProteinFull 401\n",
            "core.conformation.Conformation: [ WARNING ] missing heavyatom:  NH1 on residue ARG:CtermProteinFull 401\n",
            "core.conformation.Conformation: [ WARNING ] missing heavyatom:  NH2 on residue ARG:CtermProteinFull 401\n",
            "core.pack.pack_missing_sidechains: packing residue number 78 because of missing atom number 6 atom name  OG1\n",
            "core.pack.pack_missing_sidechains: packing residue number 79 because of missing atom number 6 atom name  CG\n",
            "core.pack.pack_missing_sidechains: packing residue number 80 because of missing atom number 6 atom name  CG\n",
            "core.pack.pack_missing_sidechains: packing residue number 276 because of missing atom number 6 atom name  OG1\n",
            "core.pack.pack_missing_sidechains: packing residue number 277 because of missing atom number 6 atom name  CG\n",
            "core.pack.pack_missing_sidechains: packing residue number 278 because of missing atom number 6 atom name  CG\n",
            "core.pack.pack_missing_sidechains: packing residue number 279 because of missing atom number 6 atom name  CG\n",
            "core.pack.pack_missing_sidechains: packing residue number 401 because of missing atom number 7 atom name  CG\n",
            "core.pack.task: Packer task: initialize from command line()\n",
            "core.scoring.ScoreFunctionFactory: SCOREFUNCTION: ref2015\n",
            "core.scoring.etable: Starting energy table calculation\n",
            "core.scoring.etable: smooth_etable: changing atr/rep split to bottom of energy well\n",
            "core.scoring.etable: smooth_etable: spline smoothing lj etables (maxdis = 6)\n",
            "core.scoring.etable: smooth_etable: spline smoothing solvation etables (max_dis = 6)\n",
            "core.scoring.etable: Finished calculating energy tables.\n",
            "basic.io.database: Database file opened: scoring/score_functions/hbonds/ref2015_params/HBPoly1D.csv\n",
            "basic.io.database: Database file opened: scoring/score_functions/hbonds/ref2015_params/HBFadeIntervals.csv\n",
            "basic.io.database: Database file opened: scoring/score_functions/hbonds/ref2015_params/HBEval.csv\n",
            "basic.io.database: Database file opened: scoring/score_functions/hbonds/ref2015_params/DonStrength.csv\n",
            "basic.io.database: Database file opened: scoring/score_functions/hbonds/ref2015_params/AccStrength.csv\n",
            "basic.io.database: Database file opened: scoring/score_functions/rama/fd/all.ramaProb\n",
            "basic.io.database: Database file opened: scoring/score_functions/rama/fd/prepro.ramaProb\n",
            "basic.io.database: Database file opened: scoring/score_functions/omega/omega_ppdep.all.txt\n",
            "basic.io.database: Database file opened: scoring/score_functions/omega/omega_ppdep.gly.txt\n",
            "basic.io.database: Database file opened: scoring/score_functions/omega/omega_ppdep.pro.txt\n",
            "basic.io.database: Database file opened: scoring/score_functions/omega/omega_ppdep.valile.txt\n",
            "basic.io.database: Database file opened: scoring/score_functions/P_AA_pp/P_AA\n",
            "basic.io.database: Database file opened: scoring/score_functions/P_AA_pp/P_AA_n\n",
            "core.scoring.P_AA: shapovalov_lib::shap_p_aa_pp_smooth_level of 1( aka low_smooth ) got activated.\n",
            "basic.io.database: Database file opened: scoring/score_functions/P_AA_pp/shapovalov/10deg/kappa131/a20.prop\n",
            "basic.io.database: Database file opened: scoring/score_functions/elec_cp_reps.dat\n",
            "core.scoring.elec.util: Read 40 countpair representative atoms\n",
            "core.pack.dunbrack.RotamerLibrary: shapovalov_lib_fixes_enable option is true.\n",
            "core.pack.dunbrack.RotamerLibrary: shapovalov_lib::shap_dun10_smooth_level of 1( aka lowest_smooth ) got activated.\n",
            "core.pack.dunbrack.RotamerLibrary: Binary rotamer library selected: /usr/local/lib/python3.7/dist-packages/pyrosetta/database/rotamer/shapovalov/StpDwn_0-0-0/Dunbrack10.lib.bin\n",
            "core.pack.dunbrack.RotamerLibrary: Using Dunbrack library binary file '/usr/local/lib/python3.7/dist-packages/pyrosetta/database/rotamer/shapovalov/StpDwn_0-0-0/Dunbrack10.lib.bin'.\n",
            "core.pack.dunbrack.RotamerLibrary: Dunbrack 2010 library took 0.723673 seconds to load from binary\n",
            "core.pack.pack_rotamers: built 78 rotamers at 8 positions.\n",
            "core.pack.interaction_graph.interaction_graph_factory: Instantiating DensePDInteractionGraph\n"
          ]
        }
      ]
    },
    {
      "cell_type": "code",
      "source": [
        "from pyrosetta.toolbox import cleanATOM\n",
        "cleanATOM(\"/content/2gef.pdb\")"
      ],
      "metadata": {
        "id": "yfpWoXbiGCt7"
      },
      "execution_count": null,
      "outputs": []
    },
    {
      "cell_type": "code",
      "source": [
        "pose_clean = pose_from_pdb(\"/content/2gef.clean.pdb\")"
      ],
      "metadata": {
        "colab": {
          "base_uri": "https://localhost:8080/"
        },
        "id": "XyQ9jSyTGLcc",
        "outputId": "71084a49-1239-4944-9d67-e9e5f11adcaa"
      },
      "execution_count": null,
      "outputs": [
        {
          "output_type": "stream",
          "name": "stdout",
          "text": [
            "core.import_pose.import_pose: File '/content/2gef.clean.pdb' automatically determined to be of type PDB\n",
            "core.conformation.Conformation: [ WARNING ] missing heavyatom:  OG1 on residue THR 77\n",
            "core.conformation.Conformation: [ WARNING ] missing heavyatom:  CG2 on residue THR 77\n",
            "core.conformation.Conformation: [ WARNING ] missing heavyatom:  CG  on residue HIS 78\n",
            "core.conformation.Conformation: [ WARNING ] missing heavyatom:  ND1 on residue HIS 78\n",
            "core.conformation.Conformation: [ WARNING ] missing heavyatom:  CD2 on residue HIS 78\n",
            "core.conformation.Conformation: [ WARNING ] missing heavyatom:  CE1 on residue HIS 78\n",
            "core.conformation.Conformation: [ WARNING ] missing heavyatom:  NE2 on residue HIS 78\n",
            "core.conformation.Conformation: [ WARNING ] missing heavyatom:  CG  on residue LYS 79\n",
            "core.conformation.Conformation: [ WARNING ] missing heavyatom:  CD  on residue LYS 79\n",
            "core.conformation.Conformation: [ WARNING ] missing heavyatom:  CE  on residue LYS 79\n",
            "core.conformation.Conformation: [ WARNING ] missing heavyatom:  NZ  on residue LYS 79\n",
            "core.conformation.Conformation: [ WARNING ] missing heavyatom:  OXT on residue SER:CtermProteinFull 194\n",
            "core.conformation.Conformation: [ WARNING ] missing heavyatom:  OG1 on residue THR 271\n",
            "core.conformation.Conformation: [ WARNING ] missing heavyatom:  CG2 on residue THR 271\n",
            "core.conformation.Conformation: [ WARNING ] missing heavyatom:  CG  on residue HIS 272\n",
            "core.conformation.Conformation: [ WARNING ] missing heavyatom:  ND1 on residue HIS 272\n",
            "core.conformation.Conformation: [ WARNING ] missing heavyatom:  CD2 on residue HIS 272\n",
            "core.conformation.Conformation: [ WARNING ] missing heavyatom:  CE1 on residue HIS 272\n",
            "core.conformation.Conformation: [ WARNING ] missing heavyatom:  NE2 on residue HIS 272\n",
            "core.conformation.Conformation: [ WARNING ] missing heavyatom:  CG  on residue LEU 273\n",
            "core.conformation.Conformation: [ WARNING ] missing heavyatom:  CD1 on residue LEU 273\n",
            "core.conformation.Conformation: [ WARNING ] missing heavyatom:  CD2 on residue LEU 273\n",
            "core.conformation.Conformation: [ WARNING ] missing heavyatom:  CG  on residue LYS 274\n",
            "core.conformation.Conformation: [ WARNING ] missing heavyatom:  CD  on residue LYS 274\n",
            "core.conformation.Conformation: [ WARNING ] missing heavyatom:  CE  on residue LYS 274\n",
            "core.conformation.Conformation: [ WARNING ] missing heavyatom:  NZ  on residue LYS 274\n",
            "core.conformation.Conformation: [ WARNING ] missing heavyatom:  OXT on residue ARG:CtermProteinFull 393\n",
            "core.conformation.Conformation: [ WARNING ] missing heavyatom:  CG  on residue ARG:CtermProteinFull 393\n",
            "core.conformation.Conformation: [ WARNING ] missing heavyatom:  CD  on residue ARG:CtermProteinFull 393\n",
            "core.conformation.Conformation: [ WARNING ] missing heavyatom:  NE  on residue ARG:CtermProteinFull 393\n",
            "core.conformation.Conformation: [ WARNING ] missing heavyatom:  CZ  on residue ARG:CtermProteinFull 393\n",
            "core.conformation.Conformation: [ WARNING ] missing heavyatom:  NH1 on residue ARG:CtermProteinFull 393\n",
            "core.conformation.Conformation: [ WARNING ] missing heavyatom:  NH2 on residue ARG:CtermProteinFull 393\n",
            "core.pack.pack_missing_sidechains: packing residue number 77 because of missing atom number 6 atom name  OG1\n",
            "core.pack.pack_missing_sidechains: packing residue number 78 because of missing atom number 6 atom name  CG\n",
            "core.pack.pack_missing_sidechains: packing residue number 79 because of missing atom number 6 atom name  CG\n",
            "core.pack.pack_missing_sidechains: packing residue number 271 because of missing atom number 6 atom name  OG1\n",
            "core.pack.pack_missing_sidechains: packing residue number 272 because of missing atom number 6 atom name  CG\n",
            "core.pack.pack_missing_sidechains: packing residue number 273 because of missing atom number 6 atom name  CG\n",
            "core.pack.pack_missing_sidechains: packing residue number 274 because of missing atom number 6 atom name  CG\n",
            "core.pack.pack_missing_sidechains: packing residue number 393 because of missing atom number 7 atom name  CG\n",
            "core.pack.task: Packer task: initialize from command line()\n",
            "core.scoring.ScoreFunctionFactory: SCOREFUNCTION: ref2015\n",
            "core.pack.pack_rotamers: built 78 rotamers at 8 positions.\n",
            "core.pack.interaction_graph.interaction_graph_factory: Instantiating DensePDInteractionGraph\n"
          ]
        }
      ]
    },
    {
      "cell_type": "code",
      "source": [
        "# print out the sequence of the pose_clean\n",
        "### BEGIN SOLUTION\n",
        "pose_clean.sequence()\n",
        "### END SOLUTION"
      ],
      "metadata": {
        "colab": {
          "base_uri": "https://localhost:8080/",
          "height": 70
        },
        "id": "gp2Lf5ElGd7q",
        "outputId": "cbb429d0-9375-4871-e6db-90b2b31ad2e4"
      },
      "execution_count": null,
      "outputs": [
        {
          "output_type": "execute_result",
          "data": {
            "text/plain": [
              "'DLPISLLQTLAYKQPLGRNSRIVHFTDGALFPVVAFGDNHSTSELYIAVRGDHRDLSPDVRDSYALTGDDHKVWGATHKFNVKTRTDLTILPVADVFWRADGSADVDVVWNDPAVAGQSSSIALALASSLPFVPKAAYTGCLSGTNVQPVQFGNLKARAAHKIGLPLVGTQDGGEDTRICTLDDAADHAFDSESDLPISLLQTLAYKQPLGRNSRIVHFTDGALFPVVAFGDNHSTSELYIAVRGDHRDLSPDVRDSYALTGDDHKVWGATHLKFNVKTRTDLTILPVADVFWRADGSADVDVVWNDPAVAGQSSSIALALASSLPFVPKAAYTGCLSGTNVQPVQFGNLKARAAHKIGLPLVGTQDGGEDTRICTLDDAADHAFDSESTVTR'"
            ],
            "application/vnd.google.colaboratory.intrinsic+json": {
              "type": "string"
            }
          },
          "metadata": {},
          "execution_count": 38
        }
      ]
    },
    {
      "cell_type": "code",
      "source": [
        "pose.annotated_sequence()"
      ],
      "metadata": {
        "colab": {
          "base_uri": "https://localhost:8080/",
          "height": 70
        },
        "id": "oz2l-33LGg5S",
        "outputId": "7d78d828-faed-4a4f-83e1-95a535d3a637"
      },
      "execution_count": null,
      "outputs": [
        {
          "output_type": "execute_result",
          "data": {
            "text/plain": [
              "'D[ASP:NtermProteinFull]LPISLLQTLAYKQPLGRNSRIVHFTDGALFPVVAFGDNHSTSELYIAVRGDHRDLMSPDVRDSYALTGDDHKVWGATH[HIS_D]KFNVKTRTDLTILPVADVFWRADGSADVDVVWNDMPAVAGQSSSIALALASSLPFVPKAAYTGCLSGTNVQPVQFGNLKARAAHKIGLPLVGMTQDGGEDTRICTLDDAADHAFDSMES[SER:CtermProteinFull]D[ASP:NtermProteinFull]LPISLLQTLAYKQPLGRNSRIVHFTDGALFPVVAFGDNHSTSELYIAVRGDHRDLMSPDVRDSYALTGDDHKVWGATHLKFNVKTRTDLTILPVADVFWRADGSADVDVVWNDMPAVAGQSSSIALALASSLPFVPKAAYTGCLSGTNVQPVQFGNLKARAAHKIGLPLVGMTQDGGEDTRICTLDDAADHAFDSMESTVTR[ARG:CtermProteinFull]'"
            ],
            "application/vnd.google.colaboratory.intrinsic+json": {
              "type": "string"
            }
          },
          "metadata": {},
          "execution_count": 39
        }
      ]
    },
    {
      "cell_type": "code",
      "source": [
        "pose_clean.annotated_sequence()"
      ],
      "metadata": {
        "colab": {
          "base_uri": "https://localhost:8080/",
          "height": 70
        },
        "id": "Pp3Vub6gGjXL",
        "outputId": "963231ac-7f61-49ac-8350-06a3cb972dd7"
      },
      "execution_count": null,
      "outputs": [
        {
          "output_type": "execute_result",
          "data": {
            "text/plain": [
              "'D[ASP:NtermProteinFull]LPISLLQTLAYKQPLGRNSRIVHFTDGALFPVVAFGDNHSTSELYIAVRGDHRDLSPDVRDSYALTGDDHKVWGATH[HIS_D]KFNVKTRTDLTILPVADVFWRADGSADVDVVWNDPAVAGQSSSIALALASSLPFVPKAAYTGCLSGTNVQPVQFGNLKARAAHKIGLPLVGTQDGGEDTRICTLDDAADHAFDSES[SER:CtermProteinFull]D[ASP:NtermProteinFull]LPISLLQTLAYKQPLGRNSRIVHFTDGALFPVVAFGDNHSTSELYIAVRGDHRDLSPDVRDSYALTGDDHKVWGATHLKFNVKTRTDLTILPVADVFWRADGSADVDVVWNDPAVAGQSSSIALALASSLPFVPKAAYTGCLSGTNVQPVQFGNLKARAAHKIGLPLVGTQDGGEDTRICTLDDAADHAFDSESTVTR[ARG:CtermProteinFull]'"
            ],
            "application/vnd.google.colaboratory.intrinsic+json": {
              "type": "string"
            }
          },
          "metadata": {},
          "execution_count": 40
        }
      ]
    },
    {
      "cell_type": "markdown",
      "source": [
        "Working with Pose residue"
      ],
      "metadata": {
        "id": "LZjan3COG1-1"
      }
    },
    {
      "cell_type": "code",
      "source": [
        "!pip install pyrosettacolabsetup\n",
        "import pyrosettacolabsetup; pyrosettacolabsetup.install_pyrosetta()\n",
        "import pyrosetta; pyrosetta.init()"
      ],
      "metadata": {
        "colab": {
          "base_uri": "https://localhost:8080/"
        },
        "id": "BU3wDw_VG0ey",
        "outputId": "39a830a6-7df9-42b4-d112-16a79a85c6b4"
      },
      "execution_count": null,
      "outputs": [
        {
          "output_type": "stream",
          "name": "stdout",
          "text": [
            "Looking in indexes: https://pypi.org/simple, https://us-python.pkg.dev/colab-wheels/public/simple/\n",
            "Requirement already satisfied: pyrosettacolabsetup in /usr/local/lib/python3.7/dist-packages (1.0.6)\n",
            "PyRosetta-4 2022 [Rosetta PyRosetta4.MinSizeRel.python37.ubuntu 2022.46+release.f0c6fca0e2fae27020abfa11ca7804caf65edd38 2022-11-16T11:41:29] retrieved from: http://www.pyrosetta.org\n",
            "(C) Copyright Rosetta Commons Member Institutions. Created in JHU by Sergey Lyskov and PyRosetta Team.\n",
            "core.init: Checking for fconfig files in pwd and ./rosetta/flags\n",
            "core.init: Rosetta version: PyRosetta4.MinSizeRel.python37.ubuntu r335 2022.46+release.f0c6fca0e2f f0c6fca0e2fae27020abfa11ca7804caf65edd38 http://www.pyrosetta.org 2022-11-16T11:41:29\n",
            "core.init: command: PyRosetta -ex1 -ex2aro -database /usr/local/lib/python3.7/dist-packages/pyrosetta/database\n",
            "basic.random.init_random_generator: 'RNG device' seed mode, using '/dev/urandom', seed=1311649938 seed_offset=0 real_seed=1311649938\n",
            "basic.random.init_random_generator: RandomGenerator:init: Normal mode, seed=1311649938 RG_type=mt19937\n"
          ]
        }
      ]
    },
    {
      "cell_type": "code",
      "source": [
        "from pyrosetta import *\n",
        "init()"
      ],
      "metadata": {
        "colab": {
          "base_uri": "https://localhost:8080/"
        },
        "id": "Czc2seaxG0aL",
        "outputId": "d64792b5-6681-41f6-bbca-b59f26cef166"
      },
      "execution_count": null,
      "outputs": [
        {
          "output_type": "stream",
          "name": "stdout",
          "text": [
            "PyRosetta-4 2022 [Rosetta PyRosetta4.MinSizeRel.python37.ubuntu 2022.46+release.f0c6fca0e2fae27020abfa11ca7804caf65edd38 2022-11-16T11:41:29] retrieved from: http://www.pyrosetta.org\n",
            "(C) Copyright Rosetta Commons Member Institutions. Created in JHU by Sergey Lyskov and PyRosetta Team.\n",
            "core.init: Checking for fconfig files in pwd and ./rosetta/flags\n",
            "core.init: Rosetta version: PyRosetta4.MinSizeRel.python37.ubuntu r335 2022.46+release.f0c6fca0e2f f0c6fca0e2fae27020abfa11ca7804caf65edd38 http://www.pyrosetta.org 2022-11-16T11:41:29\n",
            "core.init: command: PyRosetta -ex1 -ex2aro -database /usr/local/lib/python3.7/dist-packages/pyrosetta/database\n",
            "basic.random.init_random_generator: 'RNG device' seed mode, using '/dev/urandom', seed=-1398032586 seed_offset=0 real_seed=-1398032586\n",
            "basic.random.init_random_generator: RandomGenerator:init: Normal mode, seed=-1398032586 RG_type=mt19937\n"
          ]
        }
      ]
    },
    {
      "cell_type": "code",
      "source": [
        "pose = pose_from_pdb(\"/content/2gef.pdb\")\n",
        "pose_clean = pose_from_pdb(\"/content/2gef.clean.pdb\")"
      ],
      "metadata": {
        "colab": {
          "base_uri": "https://localhost:8080/"
        },
        "id": "DRTo7Sq_HBvt",
        "outputId": "97f3eb09-91f8-4d8e-8048-5f33d7026d0d"
      },
      "execution_count": null,
      "outputs": [
        {
          "output_type": "stream",
          "name": "stdout",
          "text": [
            "core.import_pose.import_pose: File '/content/2gef.pdb' automatically determined to be of type PDB\n",
            "core.io.pose_from_sfr.PoseFromSFRBuilder: Reading MSE as MET!\n",
            "core.io.pose_from_sfr.PoseFromSFRBuilder: Reading MSE as MET!\n",
            "core.io.pose_from_sfr.PoseFromSFRBuilder: Reading MSE as MET!\n",
            "core.io.pose_from_sfr.PoseFromSFRBuilder: Reading MSE as MET!\n",
            "core.io.pose_from_sfr.PoseFromSFRBuilder: Reading MSE as MET!\n",
            "core.io.pose_from_sfr.PoseFromSFRBuilder: Reading MSE as MET!\n",
            "core.io.pose_from_sfr.PoseFromSFRBuilder: Reading MSE as MET!\n",
            "core.io.pose_from_sfr.PoseFromSFRBuilder: Reading Selenium SE from MSE as SD from MET\n",
            "core.io.pose_from_sfr.PoseFromSFRBuilder: Reading MSE as MET!\n",
            "core.io.pose_from_sfr.PoseFromSFRBuilder: Reading MSE as MET!\n",
            "core.io.pose_from_sfr.PoseFromSFRBuilder: Reading MSE as MET!\n",
            "core.io.pose_from_sfr.PoseFromSFRBuilder: Reading MSE as MET!\n",
            "core.io.pose_from_sfr.PoseFromSFRBuilder: Reading MSE as MET!\n",
            "core.io.pose_from_sfr.PoseFromSFRBuilder: Reading MSE as MET!\n",
            "core.io.pose_from_sfr.PoseFromSFRBuilder: Reading MSE as MET!\n",
            "core.io.pose_from_sfr.PoseFromSFRBuilder: Reading MSE as MET!\n",
            "core.io.pose_from_sfr.PoseFromSFRBuilder: Reading Selenium SE from MSE as SD from MET\n",
            "core.io.pose_from_sfr.PoseFromSFRBuilder: Reading MSE as MET!\n",
            "core.io.pose_from_sfr.PoseFromSFRBuilder: Reading MSE as MET!\n",
            "core.io.pose_from_sfr.PoseFromSFRBuilder: Reading MSE as MET!\n",
            "core.io.pose_from_sfr.PoseFromSFRBuilder: Reading MSE as MET!\n",
            "core.io.pose_from_sfr.PoseFromSFRBuilder: Reading MSE as MET!\n",
            "core.io.pose_from_sfr.PoseFromSFRBuilder: Reading MSE as MET!\n",
            "core.io.pose_from_sfr.PoseFromSFRBuilder: Reading MSE as MET!\n",
            "core.io.pose_from_sfr.PoseFromSFRBuilder: Reading MSE as MET!\n",
            "core.io.pose_from_sfr.PoseFromSFRBuilder: Reading Selenium SE from MSE as SD from MET\n",
            "core.io.pose_from_sfr.PoseFromSFRBuilder: Reading MSE as MET!\n",
            "core.io.pose_from_sfr.PoseFromSFRBuilder: Reading MSE as MET!\n",
            "core.io.pose_from_sfr.PoseFromSFRBuilder: Reading MSE as MET!\n",
            "core.io.pose_from_sfr.PoseFromSFRBuilder: Reading MSE as MET!\n",
            "core.io.pose_from_sfr.PoseFromSFRBuilder: Reading MSE as MET!\n",
            "core.io.pose_from_sfr.PoseFromSFRBuilder: Reading MSE as MET!\n",
            "core.io.pose_from_sfr.PoseFromSFRBuilder: Reading MSE as MET!\n",
            "core.io.pose_from_sfr.PoseFromSFRBuilder: Reading MSE as MET!\n",
            "core.io.pose_from_sfr.PoseFromSFRBuilder: Reading Selenium SE from MSE as SD from MET\n",
            "core.io.pose_from_sfr.PoseFromSFRBuilder: Reading MSE as MET!\n",
            "core.io.pose_from_sfr.PoseFromSFRBuilder: Reading MSE as MET!\n",
            "core.io.pose_from_sfr.PoseFromSFRBuilder: Reading MSE as MET!\n",
            "core.io.pose_from_sfr.PoseFromSFRBuilder: Reading MSE as MET!\n",
            "core.io.pose_from_sfr.PoseFromSFRBuilder: Reading MSE as MET!\n",
            "core.io.pose_from_sfr.PoseFromSFRBuilder: Reading MSE as MET!\n",
            "core.io.pose_from_sfr.PoseFromSFRBuilder: Reading MSE as MET!\n",
            "core.io.pose_from_sfr.PoseFromSFRBuilder: Reading MSE as MET!\n",
            "core.io.pose_from_sfr.PoseFromSFRBuilder: Reading Selenium SE from MSE as SD from MET\n",
            "core.io.pose_from_sfr.PoseFromSFRBuilder: Reading MSE as MET!\n",
            "core.io.pose_from_sfr.PoseFromSFRBuilder: Reading MSE as MET!\n",
            "core.io.pose_from_sfr.PoseFromSFRBuilder: Reading MSE as MET!\n",
            "core.io.pose_from_sfr.PoseFromSFRBuilder: Reading MSE as MET!\n",
            "core.io.pose_from_sfr.PoseFromSFRBuilder: Reading MSE as MET!\n",
            "core.io.pose_from_sfr.PoseFromSFRBuilder: Reading MSE as MET!\n",
            "core.io.pose_from_sfr.PoseFromSFRBuilder: Reading MSE as MET!\n",
            "core.io.pose_from_sfr.PoseFromSFRBuilder: Reading MSE as MET!\n",
            "core.io.pose_from_sfr.PoseFromSFRBuilder: Reading Selenium SE from MSE as SD from MET\n",
            "core.io.pose_from_sfr.PoseFromSFRBuilder: Reading MSE as MET!\n",
            "core.io.pose_from_sfr.PoseFromSFRBuilder: Reading MSE as MET!\n",
            "core.io.pose_from_sfr.PoseFromSFRBuilder: Reading MSE as MET!\n",
            "core.io.pose_from_sfr.PoseFromSFRBuilder: Reading MSE as MET!\n",
            "core.io.pose_from_sfr.PoseFromSFRBuilder: Reading MSE as MET!\n",
            "core.io.pose_from_sfr.PoseFromSFRBuilder: Reading MSE as MET!\n",
            "core.io.pose_from_sfr.PoseFromSFRBuilder: Reading MSE as MET!\n",
            "core.io.pose_from_sfr.PoseFromSFRBuilder: Reading MSE as MET!\n",
            "core.io.pose_from_sfr.PoseFromSFRBuilder: Reading Selenium SE from MSE as SD from MET\n",
            "core.io.pose_from_sfr.PoseFromSFRBuilder: Reading MSE as MET!\n",
            "core.io.pose_from_sfr.PoseFromSFRBuilder: Reading MSE as MET!\n",
            "core.io.pose_from_sfr.PoseFromSFRBuilder: Reading MSE as MET!\n",
            "core.io.pose_from_sfr.PoseFromSFRBuilder: Reading MSE as MET!\n",
            "core.io.pose_from_sfr.PoseFromSFRBuilder: Reading MSE as MET!\n",
            "core.io.pose_from_sfr.PoseFromSFRBuilder: Reading MSE as MET!\n",
            "core.io.pose_from_sfr.PoseFromSFRBuilder: Reading MSE as MET!\n",
            "core.io.pose_from_sfr.PoseFromSFRBuilder: Reading MSE as MET!\n",
            "core.io.pose_from_sfr.PoseFromSFRBuilder: Reading Selenium SE from MSE as SD from MET\n",
            "core.io.pose_from_sfr.PoseFromSFRBuilder: Reading MSE as MET!\n",
            "core.conformation.Conformation: [ WARNING ] missing heavyatom:  OG1 on residue THR 78\n",
            "core.conformation.Conformation: [ WARNING ] missing heavyatom:  CG2 on residue THR 78\n",
            "core.conformation.Conformation: [ WARNING ] missing heavyatom:  CG  on residue HIS 79\n",
            "core.conformation.Conformation: [ WARNING ] missing heavyatom:  ND1 on residue HIS 79\n",
            "core.conformation.Conformation: [ WARNING ] missing heavyatom:  CD2 on residue HIS 79\n",
            "core.conformation.Conformation: [ WARNING ] missing heavyatom:  CE1 on residue HIS 79\n",
            "core.conformation.Conformation: [ WARNING ] missing heavyatom:  NE2 on residue HIS 79\n",
            "core.conformation.Conformation: [ WARNING ] missing heavyatom:  CG  on residue LYS 80\n",
            "core.conformation.Conformation: [ WARNING ] missing heavyatom:  CD  on residue LYS 80\n",
            "core.conformation.Conformation: [ WARNING ] missing heavyatom:  CE  on residue LYS 80\n",
            "core.conformation.Conformation: [ WARNING ] missing heavyatom:  NZ  on residue LYS 80\n",
            "core.conformation.Conformation: [ WARNING ] missing heavyatom:  OXT on residue SER:CtermProteinFull 198\n",
            "core.conformation.Conformation: [ WARNING ] missing heavyatom:  OG1 on residue THR 276\n",
            "core.conformation.Conformation: [ WARNING ] missing heavyatom:  CG2 on residue THR 276\n",
            "core.conformation.Conformation: [ WARNING ] missing heavyatom:  CG  on residue HIS 277\n",
            "core.conformation.Conformation: [ WARNING ] missing heavyatom:  ND1 on residue HIS 277\n",
            "core.conformation.Conformation: [ WARNING ] missing heavyatom:  CD2 on residue HIS 277\n",
            "core.conformation.Conformation: [ WARNING ] missing heavyatom:  CE1 on residue HIS 277\n",
            "core.conformation.Conformation: [ WARNING ] missing heavyatom:  NE2 on residue HIS 277\n",
            "core.conformation.Conformation: [ WARNING ] missing heavyatom:  CG  on residue LEU 278\n",
            "core.conformation.Conformation: [ WARNING ] missing heavyatom:  CD1 on residue LEU 278\n",
            "core.conformation.Conformation: [ WARNING ] missing heavyatom:  CD2 on residue LEU 278\n",
            "core.conformation.Conformation: [ WARNING ] missing heavyatom:  CG  on residue LYS 279\n",
            "core.conformation.Conformation: [ WARNING ] missing heavyatom:  CD  on residue LYS 279\n",
            "core.conformation.Conformation: [ WARNING ] missing heavyatom:  CE  on residue LYS 279\n",
            "core.conformation.Conformation: [ WARNING ] missing heavyatom:  NZ  on residue LYS 279\n",
            "core.conformation.Conformation: [ WARNING ] missing heavyatom:  OXT on residue ARG:CtermProteinFull 401\n",
            "core.conformation.Conformation: [ WARNING ] missing heavyatom:  CG  on residue ARG:CtermProteinFull 401\n",
            "core.conformation.Conformation: [ WARNING ] missing heavyatom:  CD  on residue ARG:CtermProteinFull 401\n",
            "core.conformation.Conformation: [ WARNING ] missing heavyatom:  NE  on residue ARG:CtermProteinFull 401\n",
            "core.conformation.Conformation: [ WARNING ] missing heavyatom:  CZ  on residue ARG:CtermProteinFull 401\n",
            "core.conformation.Conformation: [ WARNING ] missing heavyatom:  NH1 on residue ARG:CtermProteinFull 401\n",
            "core.conformation.Conformation: [ WARNING ] missing heavyatom:  NH2 on residue ARG:CtermProteinFull 401\n",
            "core.pack.pack_missing_sidechains: packing residue number 78 because of missing atom number 6 atom name  OG1\n",
            "core.pack.pack_missing_sidechains: packing residue number 79 because of missing atom number 6 atom name  CG\n",
            "core.pack.pack_missing_sidechains: packing residue number 80 because of missing atom number 6 atom name  CG\n",
            "core.pack.pack_missing_sidechains: packing residue number 276 because of missing atom number 6 atom name  OG1\n",
            "core.pack.pack_missing_sidechains: packing residue number 277 because of missing atom number 6 atom name  CG\n",
            "core.pack.pack_missing_sidechains: packing residue number 278 because of missing atom number 6 atom name  CG\n",
            "core.pack.pack_missing_sidechains: packing residue number 279 because of missing atom number 6 atom name  CG\n",
            "core.pack.pack_missing_sidechains: packing residue number 401 because of missing atom number 7 atom name  CG\n",
            "core.pack.task: Packer task: initialize from command line()\n",
            "core.scoring.ScoreFunctionFactory: SCOREFUNCTION: ref2015\n",
            "core.pack.pack_rotamers: built 78 rotamers at 8 positions.\n",
            "core.pack.interaction_graph.interaction_graph_factory: Instantiating DensePDInteractionGraph\n",
            "core.import_pose.import_pose: File '/content/2gef.clean.pdb' automatically determined to be of type PDB\n",
            "core.conformation.Conformation: [ WARNING ] missing heavyatom:  OG1 on residue THR 77\n",
            "core.conformation.Conformation: [ WARNING ] missing heavyatom:  CG2 on residue THR 77\n",
            "core.conformation.Conformation: [ WARNING ] missing heavyatom:  CG  on residue HIS 78\n",
            "core.conformation.Conformation: [ WARNING ] missing heavyatom:  ND1 on residue HIS 78\n",
            "core.conformation.Conformation: [ WARNING ] missing heavyatom:  CD2 on residue HIS 78\n",
            "core.conformation.Conformation: [ WARNING ] missing heavyatom:  CE1 on residue HIS 78\n",
            "core.conformation.Conformation: [ WARNING ] missing heavyatom:  NE2 on residue HIS 78\n",
            "core.conformation.Conformation: [ WARNING ] missing heavyatom:  CG  on residue LYS 79\n",
            "core.conformation.Conformation: [ WARNING ] missing heavyatom:  CD  on residue LYS 79\n",
            "core.conformation.Conformation: [ WARNING ] missing heavyatom:  CE  on residue LYS 79\n",
            "core.conformation.Conformation: [ WARNING ] missing heavyatom:  NZ  on residue LYS 79\n",
            "core.conformation.Conformation: [ WARNING ] missing heavyatom:  OXT on residue SER:CtermProteinFull 194\n",
            "core.conformation.Conformation: [ WARNING ] missing heavyatom:  OG1 on residue THR 271\n",
            "core.conformation.Conformation: [ WARNING ] missing heavyatom:  CG2 on residue THR 271\n",
            "core.conformation.Conformation: [ WARNING ] missing heavyatom:  CG  on residue HIS 272\n",
            "core.conformation.Conformation: [ WARNING ] missing heavyatom:  ND1 on residue HIS 272\n",
            "core.conformation.Conformation: [ WARNING ] missing heavyatom:  CD2 on residue HIS 272\n",
            "core.conformation.Conformation: [ WARNING ] missing heavyatom:  CE1 on residue HIS 272\n",
            "core.conformation.Conformation: [ WARNING ] missing heavyatom:  NE2 on residue HIS 272\n",
            "core.conformation.Conformation: [ WARNING ] missing heavyatom:  CG  on residue LEU 273\n",
            "core.conformation.Conformation: [ WARNING ] missing heavyatom:  CD1 on residue LEU 273\n",
            "core.conformation.Conformation: [ WARNING ] missing heavyatom:  CD2 on residue LEU 273\n",
            "core.conformation.Conformation: [ WARNING ] missing heavyatom:  CG  on residue LYS 274\n",
            "core.conformation.Conformation: [ WARNING ] missing heavyatom:  CD  on residue LYS 274\n",
            "core.conformation.Conformation: [ WARNING ] missing heavyatom:  CE  on residue LYS 274\n",
            "core.conformation.Conformation: [ WARNING ] missing heavyatom:  NZ  on residue LYS 274\n",
            "core.conformation.Conformation: [ WARNING ] missing heavyatom:  OXT on residue ARG:CtermProteinFull 393\n",
            "core.conformation.Conformation: [ WARNING ] missing heavyatom:  CG  on residue ARG:CtermProteinFull 393\n",
            "core.conformation.Conformation: [ WARNING ] missing heavyatom:  CD  on residue ARG:CtermProteinFull 393\n",
            "core.conformation.Conformation: [ WARNING ] missing heavyatom:  NE  on residue ARG:CtermProteinFull 393\n",
            "core.conformation.Conformation: [ WARNING ] missing heavyatom:  CZ  on residue ARG:CtermProteinFull 393\n",
            "core.conformation.Conformation: [ WARNING ] missing heavyatom:  NH1 on residue ARG:CtermProteinFull 393\n",
            "core.conformation.Conformation: [ WARNING ] missing heavyatom:  NH2 on residue ARG:CtermProteinFull 393\n",
            "core.pack.pack_missing_sidechains: packing residue number 77 because of missing atom number 6 atom name  OG1\n",
            "core.pack.pack_missing_sidechains: packing residue number 78 because of missing atom number 6 atom name  CG\n",
            "core.pack.pack_missing_sidechains: packing residue number 79 because of missing atom number 6 atom name  CG\n",
            "core.pack.pack_missing_sidechains: packing residue number 271 because of missing atom number 6 atom name  OG1\n",
            "core.pack.pack_missing_sidechains: packing residue number 272 because of missing atom number 6 atom name  CG\n",
            "core.pack.pack_missing_sidechains: packing residue number 273 because of missing atom number 6 atom name  CG\n",
            "core.pack.pack_missing_sidechains: packing residue number 274 because of missing atom number 6 atom name  CG\n",
            "core.pack.pack_missing_sidechains: packing residue number 393 because of missing atom number 7 atom name  CG\n",
            "core.pack.task: Packer task: initialize from command line()\n",
            "core.scoring.ScoreFunctionFactory: SCOREFUNCTION: ref2015\n",
            "core.pack.pack_rotamers: built 78 rotamers at 8 positions.\n",
            "core.pack.interaction_graph.interaction_graph_factory: Instantiating DensePDInteractionGraph\n"
          ]
        }
      ]
    },
    {
      "cell_type": "code",
      "source": [
        "print(pose.total_residue())\n",
        "print(pose_clean.total_residue())\n",
        "# Did you catch all the missing residues before?"
      ],
      "metadata": {
        "colab": {
          "base_uri": "https://localhost:8080/"
        },
        "id": "lptG3eDsHKY3",
        "outputId": "dd04ccc0-a22d-4ff2-fb90-236117f7b005"
      },
      "execution_count": null,
      "outputs": [
        {
          "output_type": "stream",
          "name": "stdout",
          "text": [
            "401\n",
            "393\n"
          ]
        }
      ]
    },
    {
      "cell_type": "code",
      "source": [
        "# residue20 = type here\n",
        "### BEGIN SOLUTION\n",
        "residue20 =  pose.residue(20)\n",
        "### END SOLUTION\n",
        "print(residue20.name())"
      ],
      "metadata": {
        "colab": {
          "base_uri": "https://localhost:8080/"
        },
        "id": "7f25k915HOgX",
        "outputId": "79ec82e8-bcb0-415e-b0b3-65beb3ac9bee"
      },
      "execution_count": null,
      "outputs": [
        {
          "output_type": "stream",
          "name": "stdout",
          "text": [
            "SER\n"
          ]
        }
      ]
    },
    {
      "cell_type": "code",
      "source": [
        "# store the 24th residue in the pose into a variable (see residue20 example above)\n",
        "### BEGIN SOLUTION\n",
        "residue24 = pose.residue(24)\n",
        "### END SOLUTION"
      ],
      "metadata": {
        "id": "t3TECPxzHftp"
      },
      "execution_count": null,
      "outputs": []
    },
    {
      "cell_type": "code",
      "source": [
        "print(pose.pdb_info().chain(24))\n",
        "print(pose.pdb_info().number(24))"
      ],
      "metadata": {
        "colab": {
          "base_uri": "https://localhost:8080/"
        },
        "id": "AfoIoFPDHa-I",
        "outputId": "8ffb3683-6e4e-4355-d5dc-2d176a0eacca"
      },
      "execution_count": null,
      "outputs": [
        {
          "output_type": "stream",
          "name": "stdout",
          "text": [
            "A\n",
            "582\n"
          ]
        }
      ]
    },
    {
      "cell_type": "code",
      "source": [
        "# PDB numbering to Pose numbering\n",
        "print(pose.pdb_info().pdb2pose('A', 24))"
      ],
      "metadata": {
        "colab": {
          "base_uri": "https://localhost:8080/"
        },
        "id": "RpTAFdnhHbA0",
        "outputId": "00761a03-a8d2-4cff-91a4-7bf217fddba2"
      },
      "execution_count": null,
      "outputs": [
        {
          "output_type": "stream",
          "name": "stdout",
          "text": [
            "0\n"
          ]
        }
      ]
    },
    {
      "cell_type": "code",
      "source": [
        "# Pose numbering to PDB numbering\n",
        "### BEGIN SOLUTION\n",
        "print(pose.pdb_info().pose2pdb(1))\n",
        "### END SOLUTION"
      ],
      "metadata": {
        "colab": {
          "base_uri": "https://localhost:8080/"
        },
        "id": "249NcdWzHbDZ",
        "outputId": "b7b8e1bd-b77d-4198-cf18-7e7e076b89af"
      },
      "execution_count": null,
      "outputs": [
        {
          "output_type": "stream",
          "name": "stdout",
          "text": [
            "559 A \n"
          ]
        }
      ]
    },
    {
      "cell_type": "code",
      "source": [
        "res_24 = pose.residue(24)\n",
        "print(res_24.name())\n",
        "print(res_24.is_charged())"
      ],
      "metadata": {
        "colab": {
          "base_uri": "https://localhost:8080/"
        },
        "id": "vqYF1PRgHbGa",
        "outputId": "8692830a-5c8b-4f34-ef77-eebff9538c82"
      },
      "execution_count": null,
      "outputs": [
        {
          "output_type": "stream",
          "name": "stdout",
          "text": [
            "HIS\n",
            "False\n"
          ]
        }
      ]
    },
    {
      "cell_type": "code",
      "source": [
        "#https://nbviewer.org/github/RosettaCommons/PyRosetta.notebooks/blob/master/notebooks/toc.ipynb\n",
        "#https://github.com/RosettaCommons/PyRosetta.notebooks"
      ],
      "metadata": {
        "id": "NaxTmNCrHbKE"
      },
      "execution_count": null,
      "outputs": []
    },
    {
      "cell_type": "markdown",
      "source": [
        "**Accessing PyRosetta Documentation**"
      ],
      "metadata": {
        "id": "dGxZAQosT_M0"
      }
    },
    {
      "cell_type": "code",
      "source": [
        "pose = pose_from_pdb(\"/content/2gef.pdb\")"
      ],
      "metadata": {
        "colab": {
          "base_uri": "https://localhost:8080/"
        },
        "id": "GZZigbtwT-a1",
        "outputId": "440f021b-e2ce-4e5d-c853-4ab2302269cf"
      },
      "execution_count": null,
      "outputs": [
        {
          "output_type": "stream",
          "name": "stdout",
          "text": [
            "core.import_pose.import_pose: File '/content/2gef.pdb' automatically determined to be of type PDB\n",
            "core.io.pose_from_sfr.PoseFromSFRBuilder: Reading MSE as MET!\n",
            "core.io.pose_from_sfr.PoseFromSFRBuilder: Reading MSE as MET!\n",
            "core.io.pose_from_sfr.PoseFromSFRBuilder: Reading MSE as MET!\n",
            "core.io.pose_from_sfr.PoseFromSFRBuilder: Reading MSE as MET!\n",
            "core.io.pose_from_sfr.PoseFromSFRBuilder: Reading MSE as MET!\n",
            "core.io.pose_from_sfr.PoseFromSFRBuilder: Reading MSE as MET!\n",
            "core.io.pose_from_sfr.PoseFromSFRBuilder: Reading MSE as MET!\n",
            "core.io.pose_from_sfr.PoseFromSFRBuilder: Reading Selenium SE from MSE as SD from MET\n",
            "core.io.pose_from_sfr.PoseFromSFRBuilder: Reading MSE as MET!\n",
            "core.io.pose_from_sfr.PoseFromSFRBuilder: Reading MSE as MET!\n",
            "core.io.pose_from_sfr.PoseFromSFRBuilder: Reading MSE as MET!\n",
            "core.io.pose_from_sfr.PoseFromSFRBuilder: Reading MSE as MET!\n",
            "core.io.pose_from_sfr.PoseFromSFRBuilder: Reading MSE as MET!\n",
            "core.io.pose_from_sfr.PoseFromSFRBuilder: Reading MSE as MET!\n",
            "core.io.pose_from_sfr.PoseFromSFRBuilder: Reading MSE as MET!\n",
            "core.io.pose_from_sfr.PoseFromSFRBuilder: Reading MSE as MET!\n",
            "core.io.pose_from_sfr.PoseFromSFRBuilder: Reading Selenium SE from MSE as SD from MET\n",
            "core.io.pose_from_sfr.PoseFromSFRBuilder: Reading MSE as MET!\n",
            "core.io.pose_from_sfr.PoseFromSFRBuilder: Reading MSE as MET!\n",
            "core.io.pose_from_sfr.PoseFromSFRBuilder: Reading MSE as MET!\n",
            "core.io.pose_from_sfr.PoseFromSFRBuilder: Reading MSE as MET!\n",
            "core.io.pose_from_sfr.PoseFromSFRBuilder: Reading MSE as MET!\n",
            "core.io.pose_from_sfr.PoseFromSFRBuilder: Reading MSE as MET!\n",
            "core.io.pose_from_sfr.PoseFromSFRBuilder: Reading MSE as MET!\n",
            "core.io.pose_from_sfr.PoseFromSFRBuilder: Reading MSE as MET!\n",
            "core.io.pose_from_sfr.PoseFromSFRBuilder: Reading Selenium SE from MSE as SD from MET\n",
            "core.io.pose_from_sfr.PoseFromSFRBuilder: Reading MSE as MET!\n",
            "core.io.pose_from_sfr.PoseFromSFRBuilder: Reading MSE as MET!\n",
            "core.io.pose_from_sfr.PoseFromSFRBuilder: Reading MSE as MET!\n",
            "core.io.pose_from_sfr.PoseFromSFRBuilder: Reading MSE as MET!\n",
            "core.io.pose_from_sfr.PoseFromSFRBuilder: Reading MSE as MET!\n",
            "core.io.pose_from_sfr.PoseFromSFRBuilder: Reading MSE as MET!\n",
            "core.io.pose_from_sfr.PoseFromSFRBuilder: Reading MSE as MET!\n",
            "core.io.pose_from_sfr.PoseFromSFRBuilder: Reading MSE as MET!\n",
            "core.io.pose_from_sfr.PoseFromSFRBuilder: Reading Selenium SE from MSE as SD from MET\n",
            "core.io.pose_from_sfr.PoseFromSFRBuilder: Reading MSE as MET!\n",
            "core.io.pose_from_sfr.PoseFromSFRBuilder: Reading MSE as MET!\n",
            "core.io.pose_from_sfr.PoseFromSFRBuilder: Reading MSE as MET!\n",
            "core.io.pose_from_sfr.PoseFromSFRBuilder: Reading MSE as MET!\n",
            "core.io.pose_from_sfr.PoseFromSFRBuilder: Reading MSE as MET!\n",
            "core.io.pose_from_sfr.PoseFromSFRBuilder: Reading MSE as MET!\n",
            "core.io.pose_from_sfr.PoseFromSFRBuilder: Reading MSE as MET!\n",
            "core.io.pose_from_sfr.PoseFromSFRBuilder: Reading MSE as MET!\n",
            "core.io.pose_from_sfr.PoseFromSFRBuilder: Reading Selenium SE from MSE as SD from MET\n",
            "core.io.pose_from_sfr.PoseFromSFRBuilder: Reading MSE as MET!\n",
            "core.io.pose_from_sfr.PoseFromSFRBuilder: Reading MSE as MET!\n",
            "core.io.pose_from_sfr.PoseFromSFRBuilder: Reading MSE as MET!\n",
            "core.io.pose_from_sfr.PoseFromSFRBuilder: Reading MSE as MET!\n",
            "core.io.pose_from_sfr.PoseFromSFRBuilder: Reading MSE as MET!\n",
            "core.io.pose_from_sfr.PoseFromSFRBuilder: Reading MSE as MET!\n",
            "core.io.pose_from_sfr.PoseFromSFRBuilder: Reading MSE as MET!\n",
            "core.io.pose_from_sfr.PoseFromSFRBuilder: Reading MSE as MET!\n",
            "core.io.pose_from_sfr.PoseFromSFRBuilder: Reading Selenium SE from MSE as SD from MET\n",
            "core.io.pose_from_sfr.PoseFromSFRBuilder: Reading MSE as MET!\n",
            "core.io.pose_from_sfr.PoseFromSFRBuilder: Reading MSE as MET!\n",
            "core.io.pose_from_sfr.PoseFromSFRBuilder: Reading MSE as MET!\n",
            "core.io.pose_from_sfr.PoseFromSFRBuilder: Reading MSE as MET!\n",
            "core.io.pose_from_sfr.PoseFromSFRBuilder: Reading MSE as MET!\n",
            "core.io.pose_from_sfr.PoseFromSFRBuilder: Reading MSE as MET!\n",
            "core.io.pose_from_sfr.PoseFromSFRBuilder: Reading MSE as MET!\n",
            "core.io.pose_from_sfr.PoseFromSFRBuilder: Reading MSE as MET!\n",
            "core.io.pose_from_sfr.PoseFromSFRBuilder: Reading Selenium SE from MSE as SD from MET\n",
            "core.io.pose_from_sfr.PoseFromSFRBuilder: Reading MSE as MET!\n",
            "core.io.pose_from_sfr.PoseFromSFRBuilder: Reading MSE as MET!\n",
            "core.io.pose_from_sfr.PoseFromSFRBuilder: Reading MSE as MET!\n",
            "core.io.pose_from_sfr.PoseFromSFRBuilder: Reading MSE as MET!\n",
            "core.io.pose_from_sfr.PoseFromSFRBuilder: Reading MSE as MET!\n",
            "core.io.pose_from_sfr.PoseFromSFRBuilder: Reading MSE as MET!\n",
            "core.io.pose_from_sfr.PoseFromSFRBuilder: Reading MSE as MET!\n",
            "core.io.pose_from_sfr.PoseFromSFRBuilder: Reading MSE as MET!\n",
            "core.io.pose_from_sfr.PoseFromSFRBuilder: Reading Selenium SE from MSE as SD from MET\n",
            "core.io.pose_from_sfr.PoseFromSFRBuilder: Reading MSE as MET!\n",
            "core.conformation.Conformation: [ WARNING ] missing heavyatom:  OG1 on residue THR 78\n",
            "core.conformation.Conformation: [ WARNING ] missing heavyatom:  CG2 on residue THR 78\n",
            "core.conformation.Conformation: [ WARNING ] missing heavyatom:  CG  on residue HIS 79\n",
            "core.conformation.Conformation: [ WARNING ] missing heavyatom:  ND1 on residue HIS 79\n",
            "core.conformation.Conformation: [ WARNING ] missing heavyatom:  CD2 on residue HIS 79\n",
            "core.conformation.Conformation: [ WARNING ] missing heavyatom:  CE1 on residue HIS 79\n",
            "core.conformation.Conformation: [ WARNING ] missing heavyatom:  NE2 on residue HIS 79\n",
            "core.conformation.Conformation: [ WARNING ] missing heavyatom:  CG  on residue LYS 80\n",
            "core.conformation.Conformation: [ WARNING ] missing heavyatom:  CD  on residue LYS 80\n",
            "core.conformation.Conformation: [ WARNING ] missing heavyatom:  CE  on residue LYS 80\n",
            "core.conformation.Conformation: [ WARNING ] missing heavyatom:  NZ  on residue LYS 80\n",
            "core.conformation.Conformation: [ WARNING ] missing heavyatom:  OXT on residue SER:CtermProteinFull 198\n",
            "core.conformation.Conformation: [ WARNING ] missing heavyatom:  OG1 on residue THR 276\n",
            "core.conformation.Conformation: [ WARNING ] missing heavyatom:  CG2 on residue THR 276\n",
            "core.conformation.Conformation: [ WARNING ] missing heavyatom:  CG  on residue HIS 277\n",
            "core.conformation.Conformation: [ WARNING ] missing heavyatom:  ND1 on residue HIS 277\n",
            "core.conformation.Conformation: [ WARNING ] missing heavyatom:  CD2 on residue HIS 277\n",
            "core.conformation.Conformation: [ WARNING ] missing heavyatom:  CE1 on residue HIS 277\n",
            "core.conformation.Conformation: [ WARNING ] missing heavyatom:  NE2 on residue HIS 277\n",
            "core.conformation.Conformation: [ WARNING ] missing heavyatom:  CG  on residue LEU 278\n",
            "core.conformation.Conformation: [ WARNING ] missing heavyatom:  CD1 on residue LEU 278\n",
            "core.conformation.Conformation: [ WARNING ] missing heavyatom:  CD2 on residue LEU 278\n",
            "core.conformation.Conformation: [ WARNING ] missing heavyatom:  CG  on residue LYS 279\n",
            "core.conformation.Conformation: [ WARNING ] missing heavyatom:  CD  on residue LYS 279\n",
            "core.conformation.Conformation: [ WARNING ] missing heavyatom:  CE  on residue LYS 279\n",
            "core.conformation.Conformation: [ WARNING ] missing heavyatom:  NZ  on residue LYS 279\n",
            "core.conformation.Conformation: [ WARNING ] missing heavyatom:  OXT on residue ARG:CtermProteinFull 401\n",
            "core.conformation.Conformation: [ WARNING ] missing heavyatom:  CG  on residue ARG:CtermProteinFull 401\n",
            "core.conformation.Conformation: [ WARNING ] missing heavyatom:  CD  on residue ARG:CtermProteinFull 401\n",
            "core.conformation.Conformation: [ WARNING ] missing heavyatom:  NE  on residue ARG:CtermProteinFull 401\n",
            "core.conformation.Conformation: [ WARNING ] missing heavyatom:  CZ  on residue ARG:CtermProteinFull 401\n",
            "core.conformation.Conformation: [ WARNING ] missing heavyatom:  NH1 on residue ARG:CtermProteinFull 401\n",
            "core.conformation.Conformation: [ WARNING ] missing heavyatom:  NH2 on residue ARG:CtermProteinFull 401\n",
            "core.pack.pack_missing_sidechains: packing residue number 78 because of missing atom number 6 atom name  OG1\n",
            "core.pack.pack_missing_sidechains: packing residue number 79 because of missing atom number 6 atom name  CG\n",
            "core.pack.pack_missing_sidechains: packing residue number 80 because of missing atom number 6 atom name  CG\n",
            "core.pack.pack_missing_sidechains: packing residue number 276 because of missing atom number 6 atom name  OG1\n",
            "core.pack.pack_missing_sidechains: packing residue number 277 because of missing atom number 6 atom name  CG\n",
            "core.pack.pack_missing_sidechains: packing residue number 278 because of missing atom number 6 atom name  CG\n",
            "core.pack.pack_missing_sidechains: packing residue number 279 because of missing atom number 6 atom name  CG\n",
            "core.pack.pack_missing_sidechains: packing residue number 401 because of missing atom number 7 atom name  CG\n",
            "core.pack.task: Packer task: initialize from command line()\n",
            "core.scoring.ScoreFunctionFactory: SCOREFUNCTION: ref2015\n",
            "core.pack.pack_rotamers: built 78 rotamers at 8 positions.\n",
            "core.pack.interaction_graph.interaction_graph_factory: Instantiating DensePDInteractionGraph\n"
          ]
        }
      ]
    },
    {
      "cell_type": "code",
      "source": [
        "zn_resid = pose.pdb_info().pdb2pose('A', 601)\n",
        "res_zn = pose.residue(zn_resid) \n",
        "res_zn.is_metal() "
      ],
      "metadata": {
        "colab": {
          "base_uri": "https://localhost:8080/"
        },
        "id": "z7ulE5ONUOzt",
        "outputId": "5fdab232-cbe1-48ab-aafa-bfed9935ea67"
      },
      "execution_count": null,
      "outputs": [
        {
          "output_type": "execute_result",
          "data": {
            "text/plain": [
              "False"
            ]
          },
          "metadata": {},
          "execution_count": 53
        }
      ]
    },
    {
      "cell_type": "code",
      "source": [
        "res_24 = pose.residue(24)\n",
        "\n",
        "# Uncomment this line:\n",
        "# res_24.atom_index?"
      ],
      "metadata": {
        "id": "9LbXJr-RUQrl"
      },
      "execution_count": null,
      "outputs": []
    },
    {
      "cell_type": "code",
      "source": [
        "# Uncomment this line:\n",
        "# res_24.atom_is_backbone?\n",
        "### BEGIN SOLUTION\n",
        "res_24.atom_is_backbone(res_24.atom_index(\"CA\"))\n",
        "### END SOLUTION"
      ],
      "metadata": {
        "colab": {
          "base_uri": "https://localhost:8080/"
        },
        "id": "LK_dI-4PUWAK",
        "outputId": "ca4104ec-34a0-4bdf-9870-be8ced31e03c"
      },
      "execution_count": null,
      "outputs": [
        {
          "output_type": "execute_result",
          "data": {
            "text/plain": [
              "True"
            ]
          },
          "metadata": {},
          "execution_count": 55
        }
      ]
    },
    {
      "cell_type": "markdown",
      "source": [
        "**Getting spatial features from a Pose**"
      ],
      "metadata": {
        "id": "IpbxnrTHUaXx"
      }
    },
    {
      "cell_type": "code",
      "source": [
        "pose = pose_from_pdb(\"/content/2gef.pdb\")\n",
        "from IPython.display import Image"
      ],
      "metadata": {
        "colab": {
          "base_uri": "https://localhost:8080/"
        },
        "id": "-EAc5ORkUcMa",
        "outputId": "e1e16ef9-ccb2-4fbf-c1d3-45c1ff494597"
      },
      "execution_count": null,
      "outputs": [
        {
          "output_type": "stream",
          "name": "stdout",
          "text": [
            "core.import_pose.import_pose: File '/content/2gef.pdb' automatically determined to be of type PDB\n",
            "core.io.pose_from_sfr.PoseFromSFRBuilder: Reading MSE as MET!\n",
            "core.io.pose_from_sfr.PoseFromSFRBuilder: Reading MSE as MET!\n",
            "core.io.pose_from_sfr.PoseFromSFRBuilder: Reading MSE as MET!\n",
            "core.io.pose_from_sfr.PoseFromSFRBuilder: Reading MSE as MET!\n",
            "core.io.pose_from_sfr.PoseFromSFRBuilder: Reading MSE as MET!\n",
            "core.io.pose_from_sfr.PoseFromSFRBuilder: Reading MSE as MET!\n",
            "core.io.pose_from_sfr.PoseFromSFRBuilder: Reading MSE as MET!\n",
            "core.io.pose_from_sfr.PoseFromSFRBuilder: Reading Selenium SE from MSE as SD from MET\n",
            "core.io.pose_from_sfr.PoseFromSFRBuilder: Reading MSE as MET!\n",
            "core.io.pose_from_sfr.PoseFromSFRBuilder: Reading MSE as MET!\n",
            "core.io.pose_from_sfr.PoseFromSFRBuilder: Reading MSE as MET!\n",
            "core.io.pose_from_sfr.PoseFromSFRBuilder: Reading MSE as MET!\n",
            "core.io.pose_from_sfr.PoseFromSFRBuilder: Reading MSE as MET!\n",
            "core.io.pose_from_sfr.PoseFromSFRBuilder: Reading MSE as MET!\n",
            "core.io.pose_from_sfr.PoseFromSFRBuilder: Reading MSE as MET!\n",
            "core.io.pose_from_sfr.PoseFromSFRBuilder: Reading MSE as MET!\n",
            "core.io.pose_from_sfr.PoseFromSFRBuilder: Reading Selenium SE from MSE as SD from MET\n",
            "core.io.pose_from_sfr.PoseFromSFRBuilder: Reading MSE as MET!\n",
            "core.io.pose_from_sfr.PoseFromSFRBuilder: Reading MSE as MET!\n",
            "core.io.pose_from_sfr.PoseFromSFRBuilder: Reading MSE as MET!\n",
            "core.io.pose_from_sfr.PoseFromSFRBuilder: Reading MSE as MET!\n",
            "core.io.pose_from_sfr.PoseFromSFRBuilder: Reading MSE as MET!\n",
            "core.io.pose_from_sfr.PoseFromSFRBuilder: Reading MSE as MET!\n",
            "core.io.pose_from_sfr.PoseFromSFRBuilder: Reading MSE as MET!\n",
            "core.io.pose_from_sfr.PoseFromSFRBuilder: Reading MSE as MET!\n",
            "core.io.pose_from_sfr.PoseFromSFRBuilder: Reading Selenium SE from MSE as SD from MET\n",
            "core.io.pose_from_sfr.PoseFromSFRBuilder: Reading MSE as MET!\n",
            "core.io.pose_from_sfr.PoseFromSFRBuilder: Reading MSE as MET!\n",
            "core.io.pose_from_sfr.PoseFromSFRBuilder: Reading MSE as MET!\n",
            "core.io.pose_from_sfr.PoseFromSFRBuilder: Reading MSE as MET!\n",
            "core.io.pose_from_sfr.PoseFromSFRBuilder: Reading MSE as MET!\n",
            "core.io.pose_from_sfr.PoseFromSFRBuilder: Reading MSE as MET!\n",
            "core.io.pose_from_sfr.PoseFromSFRBuilder: Reading MSE as MET!\n",
            "core.io.pose_from_sfr.PoseFromSFRBuilder: Reading MSE as MET!\n",
            "core.io.pose_from_sfr.PoseFromSFRBuilder: Reading Selenium SE from MSE as SD from MET\n",
            "core.io.pose_from_sfr.PoseFromSFRBuilder: Reading MSE as MET!\n",
            "core.io.pose_from_sfr.PoseFromSFRBuilder: Reading MSE as MET!\n",
            "core.io.pose_from_sfr.PoseFromSFRBuilder: Reading MSE as MET!\n",
            "core.io.pose_from_sfr.PoseFromSFRBuilder: Reading MSE as MET!\n",
            "core.io.pose_from_sfr.PoseFromSFRBuilder: Reading MSE as MET!\n",
            "core.io.pose_from_sfr.PoseFromSFRBuilder: Reading MSE as MET!\n",
            "core.io.pose_from_sfr.PoseFromSFRBuilder: Reading MSE as MET!\n",
            "core.io.pose_from_sfr.PoseFromSFRBuilder: Reading MSE as MET!\n",
            "core.io.pose_from_sfr.PoseFromSFRBuilder: Reading Selenium SE from MSE as SD from MET\n",
            "core.io.pose_from_sfr.PoseFromSFRBuilder: Reading MSE as MET!\n",
            "core.io.pose_from_sfr.PoseFromSFRBuilder: Reading MSE as MET!\n",
            "core.io.pose_from_sfr.PoseFromSFRBuilder: Reading MSE as MET!\n",
            "core.io.pose_from_sfr.PoseFromSFRBuilder: Reading MSE as MET!\n",
            "core.io.pose_from_sfr.PoseFromSFRBuilder: Reading MSE as MET!\n",
            "core.io.pose_from_sfr.PoseFromSFRBuilder: Reading MSE as MET!\n",
            "core.io.pose_from_sfr.PoseFromSFRBuilder: Reading MSE as MET!\n",
            "core.io.pose_from_sfr.PoseFromSFRBuilder: Reading MSE as MET!\n",
            "core.io.pose_from_sfr.PoseFromSFRBuilder: Reading Selenium SE from MSE as SD from MET\n",
            "core.io.pose_from_sfr.PoseFromSFRBuilder: Reading MSE as MET!\n",
            "core.io.pose_from_sfr.PoseFromSFRBuilder: Reading MSE as MET!\n",
            "core.io.pose_from_sfr.PoseFromSFRBuilder: Reading MSE as MET!\n",
            "core.io.pose_from_sfr.PoseFromSFRBuilder: Reading MSE as MET!\n",
            "core.io.pose_from_sfr.PoseFromSFRBuilder: Reading MSE as MET!\n",
            "core.io.pose_from_sfr.PoseFromSFRBuilder: Reading MSE as MET!\n",
            "core.io.pose_from_sfr.PoseFromSFRBuilder: Reading MSE as MET!\n",
            "core.io.pose_from_sfr.PoseFromSFRBuilder: Reading MSE as MET!\n",
            "core.io.pose_from_sfr.PoseFromSFRBuilder: Reading Selenium SE from MSE as SD from MET\n",
            "core.io.pose_from_sfr.PoseFromSFRBuilder: Reading MSE as MET!\n",
            "core.io.pose_from_sfr.PoseFromSFRBuilder: Reading MSE as MET!\n",
            "core.io.pose_from_sfr.PoseFromSFRBuilder: Reading MSE as MET!\n",
            "core.io.pose_from_sfr.PoseFromSFRBuilder: Reading MSE as MET!\n",
            "core.io.pose_from_sfr.PoseFromSFRBuilder: Reading MSE as MET!\n",
            "core.io.pose_from_sfr.PoseFromSFRBuilder: Reading MSE as MET!\n",
            "core.io.pose_from_sfr.PoseFromSFRBuilder: Reading MSE as MET!\n",
            "core.io.pose_from_sfr.PoseFromSFRBuilder: Reading MSE as MET!\n",
            "core.io.pose_from_sfr.PoseFromSFRBuilder: Reading Selenium SE from MSE as SD from MET\n",
            "core.io.pose_from_sfr.PoseFromSFRBuilder: Reading MSE as MET!\n",
            "core.conformation.Conformation: [ WARNING ] missing heavyatom:  OG1 on residue THR 78\n",
            "core.conformation.Conformation: [ WARNING ] missing heavyatom:  CG2 on residue THR 78\n",
            "core.conformation.Conformation: [ WARNING ] missing heavyatom:  CG  on residue HIS 79\n",
            "core.conformation.Conformation: [ WARNING ] missing heavyatom:  ND1 on residue HIS 79\n",
            "core.conformation.Conformation: [ WARNING ] missing heavyatom:  CD2 on residue HIS 79\n",
            "core.conformation.Conformation: [ WARNING ] missing heavyatom:  CE1 on residue HIS 79\n",
            "core.conformation.Conformation: [ WARNING ] missing heavyatom:  NE2 on residue HIS 79\n",
            "core.conformation.Conformation: [ WARNING ] missing heavyatom:  CG  on residue LYS 80\n",
            "core.conformation.Conformation: [ WARNING ] missing heavyatom:  CD  on residue LYS 80\n",
            "core.conformation.Conformation: [ WARNING ] missing heavyatom:  CE  on residue LYS 80\n",
            "core.conformation.Conformation: [ WARNING ] missing heavyatom:  NZ  on residue LYS 80\n",
            "core.conformation.Conformation: [ WARNING ] missing heavyatom:  OXT on residue SER:CtermProteinFull 198\n",
            "core.conformation.Conformation: [ WARNING ] missing heavyatom:  OG1 on residue THR 276\n",
            "core.conformation.Conformation: [ WARNING ] missing heavyatom:  CG2 on residue THR 276\n",
            "core.conformation.Conformation: [ WARNING ] missing heavyatom:  CG  on residue HIS 277\n",
            "core.conformation.Conformation: [ WARNING ] missing heavyatom:  ND1 on residue HIS 277\n",
            "core.conformation.Conformation: [ WARNING ] missing heavyatom:  CD2 on residue HIS 277\n",
            "core.conformation.Conformation: [ WARNING ] missing heavyatom:  CE1 on residue HIS 277\n",
            "core.conformation.Conformation: [ WARNING ] missing heavyatom:  NE2 on residue HIS 277\n",
            "core.conformation.Conformation: [ WARNING ] missing heavyatom:  CG  on residue LEU 278\n",
            "core.conformation.Conformation: [ WARNING ] missing heavyatom:  CD1 on residue LEU 278\n",
            "core.conformation.Conformation: [ WARNING ] missing heavyatom:  CD2 on residue LEU 278\n",
            "core.conformation.Conformation: [ WARNING ] missing heavyatom:  CG  on residue LYS 279\n",
            "core.conformation.Conformation: [ WARNING ] missing heavyatom:  CD  on residue LYS 279\n",
            "core.conformation.Conformation: [ WARNING ] missing heavyatom:  CE  on residue LYS 279\n",
            "core.conformation.Conformation: [ WARNING ] missing heavyatom:  NZ  on residue LYS 279\n",
            "core.conformation.Conformation: [ WARNING ] missing heavyatom:  OXT on residue ARG:CtermProteinFull 401\n",
            "core.conformation.Conformation: [ WARNING ] missing heavyatom:  CG  on residue ARG:CtermProteinFull 401\n",
            "core.conformation.Conformation: [ WARNING ] missing heavyatom:  CD  on residue ARG:CtermProteinFull 401\n",
            "core.conformation.Conformation: [ WARNING ] missing heavyatom:  NE  on residue ARG:CtermProteinFull 401\n",
            "core.conformation.Conformation: [ WARNING ] missing heavyatom:  CZ  on residue ARG:CtermProteinFull 401\n",
            "core.conformation.Conformation: [ WARNING ] missing heavyatom:  NH1 on residue ARG:CtermProteinFull 401\n",
            "core.conformation.Conformation: [ WARNING ] missing heavyatom:  NH2 on residue ARG:CtermProteinFull 401\n",
            "core.pack.pack_missing_sidechains: packing residue number 78 because of missing atom number 6 atom name  OG1\n",
            "core.pack.pack_missing_sidechains: packing residue number 79 because of missing atom number 6 atom name  CG\n",
            "core.pack.pack_missing_sidechains: packing residue number 80 because of missing atom number 6 atom name  CG\n",
            "core.pack.pack_missing_sidechains: packing residue number 276 because of missing atom number 6 atom name  OG1\n",
            "core.pack.pack_missing_sidechains: packing residue number 277 because of missing atom number 6 atom name  CG\n",
            "core.pack.pack_missing_sidechains: packing residue number 278 because of missing atom number 6 atom name  CG\n",
            "core.pack.pack_missing_sidechains: packing residue number 279 because of missing atom number 6 atom name  CG\n",
            "core.pack.pack_missing_sidechains: packing residue number 401 because of missing atom number 7 atom name  CG\n",
            "core.pack.task: Packer task: initialize from command line()\n",
            "core.scoring.ScoreFunctionFactory: SCOREFUNCTION: ref2015\n",
            "core.pack.pack_rotamers: built 78 rotamers at 8 positions.\n",
            "core.pack.interaction_graph.interaction_graph_factory: Instantiating DensePDInteractionGraph\n"
          ]
        }
      ]
    },
    {
      "cell_type": "code",
      "source": [
        "# Open the image called dihedral-final.png\n",
        "# Image(filename='./dihedral-final.png')"
      ],
      "metadata": {
        "colab": {
          "base_uri": "https://localhost:8080/",
          "height": 311
        },
        "id": "UpkMh7bGUvRq",
        "outputId": "f5cbdfe5-7be3-4661-877b-d90b5490d68a"
      },
      "execution_count": null,
      "outputs": [
        {
          "output_type": "error",
          "ename": "FileNotFoundError",
          "evalue": "ignored",
          "traceback": [
            "\u001b[0;31m---------------------------------------------------------------------------\u001b[0m",
            "\u001b[0;31mFileNotFoundError\u001b[0m                         Traceback (most recent call last)",
            "\u001b[0;32m<ipython-input-62-a2828281788d>\u001b[0m in \u001b[0;36m<module>\u001b[0;34m\u001b[0m\n\u001b[0;32m----> 1\u001b[0;31m \u001b[0mImage\u001b[0m\u001b[0;34m(\u001b[0m\u001b[0mfilename\u001b[0m\u001b[0;34m=\u001b[0m\u001b[0;34m'./dihedral-final.png'\u001b[0m\u001b[0;34m)\u001b[0m\u001b[0;34m\u001b[0m\u001b[0;34m\u001b[0m\u001b[0m\n\u001b[0m",
            "\u001b[0;32m/usr/local/lib/python3.7/dist-packages/IPython/core/display.py\u001b[0m in \u001b[0;36m__init__\u001b[0;34m(self, data, url, filename, format, embed, width, height, retina, unconfined, metadata)\u001b[0m\n\u001b[1;32m   1202\u001b[0m         \u001b[0mself\u001b[0m\u001b[0;34m.\u001b[0m\u001b[0munconfined\u001b[0m \u001b[0;34m=\u001b[0m \u001b[0munconfined\u001b[0m\u001b[0;34m\u001b[0m\u001b[0;34m\u001b[0m\u001b[0m\n\u001b[1;32m   1203\u001b[0m         super(Image, self).__init__(data=data, url=url, filename=filename, \n\u001b[0;32m-> 1204\u001b[0;31m                 metadata=metadata)\n\u001b[0m\u001b[1;32m   1205\u001b[0m \u001b[0;34m\u001b[0m\u001b[0m\n\u001b[1;32m   1206\u001b[0m         \u001b[0;32mif\u001b[0m \u001b[0mself\u001b[0m\u001b[0;34m.\u001b[0m\u001b[0mwidth\u001b[0m \u001b[0;32mis\u001b[0m \u001b[0;32mNone\u001b[0m \u001b[0;32mand\u001b[0m \u001b[0mself\u001b[0m\u001b[0;34m.\u001b[0m\u001b[0mmetadata\u001b[0m\u001b[0;34m.\u001b[0m\u001b[0mget\u001b[0m\u001b[0;34m(\u001b[0m\u001b[0;34m'width'\u001b[0m\u001b[0;34m,\u001b[0m \u001b[0;34m{\u001b[0m\u001b[0;34m}\u001b[0m\u001b[0;34m)\u001b[0m\u001b[0;34m:\u001b[0m\u001b[0;34m\u001b[0m\u001b[0;34m\u001b[0m\u001b[0m\n",
            "\u001b[0;32m/usr/local/lib/python3.7/dist-packages/IPython/core/display.py\u001b[0m in \u001b[0;36m__init__\u001b[0;34m(self, data, url, filename, metadata)\u001b[0m\n\u001b[1;32m    625\u001b[0m             \u001b[0mself\u001b[0m\u001b[0;34m.\u001b[0m\u001b[0mmetadata\u001b[0m \u001b[0;34m=\u001b[0m \u001b[0;34m{\u001b[0m\u001b[0;34m}\u001b[0m\u001b[0;34m\u001b[0m\u001b[0;34m\u001b[0m\u001b[0m\n\u001b[1;32m    626\u001b[0m \u001b[0;34m\u001b[0m\u001b[0m\n\u001b[0;32m--> 627\u001b[0;31m         \u001b[0mself\u001b[0m\u001b[0;34m.\u001b[0m\u001b[0mreload\u001b[0m\u001b[0;34m(\u001b[0m\u001b[0;34m)\u001b[0m\u001b[0;34m\u001b[0m\u001b[0;34m\u001b[0m\u001b[0m\n\u001b[0m\u001b[1;32m    628\u001b[0m         \u001b[0mself\u001b[0m\u001b[0;34m.\u001b[0m\u001b[0m_check_data\u001b[0m\u001b[0;34m(\u001b[0m\u001b[0;34m)\u001b[0m\u001b[0;34m\u001b[0m\u001b[0;34m\u001b[0m\u001b[0m\n\u001b[1;32m    629\u001b[0m \u001b[0;34m\u001b[0m\u001b[0m\n",
            "\u001b[0;32m/usr/local/lib/python3.7/dist-packages/IPython/core/display.py\u001b[0m in \u001b[0;36mreload\u001b[0;34m(self)\u001b[0m\n\u001b[1;32m   1233\u001b[0m         \u001b[0;34m\"\"\"Reload the raw data from file or URL.\"\"\"\u001b[0m\u001b[0;34m\u001b[0m\u001b[0;34m\u001b[0m\u001b[0m\n\u001b[1;32m   1234\u001b[0m         \u001b[0;32mif\u001b[0m \u001b[0mself\u001b[0m\u001b[0;34m.\u001b[0m\u001b[0membed\u001b[0m\u001b[0;34m:\u001b[0m\u001b[0;34m\u001b[0m\u001b[0;34m\u001b[0m\u001b[0m\n\u001b[0;32m-> 1235\u001b[0;31m             \u001b[0msuper\u001b[0m\u001b[0;34m(\u001b[0m\u001b[0mImage\u001b[0m\u001b[0;34m,\u001b[0m\u001b[0mself\u001b[0m\u001b[0;34m)\u001b[0m\u001b[0;34m.\u001b[0m\u001b[0mreload\u001b[0m\u001b[0;34m(\u001b[0m\u001b[0;34m)\u001b[0m\u001b[0;34m\u001b[0m\u001b[0;34m\u001b[0m\u001b[0m\n\u001b[0m\u001b[1;32m   1236\u001b[0m             \u001b[0;32mif\u001b[0m \u001b[0mself\u001b[0m\u001b[0;34m.\u001b[0m\u001b[0mretina\u001b[0m\u001b[0;34m:\u001b[0m\u001b[0;34m\u001b[0m\u001b[0;34m\u001b[0m\u001b[0m\n\u001b[1;32m   1237\u001b[0m                 \u001b[0mself\u001b[0m\u001b[0;34m.\u001b[0m\u001b[0m_retina_shape\u001b[0m\u001b[0;34m(\u001b[0m\u001b[0;34m)\u001b[0m\u001b[0;34m\u001b[0m\u001b[0;34m\u001b[0m\u001b[0m\n",
            "\u001b[0;32m/usr/local/lib/python3.7/dist-packages/IPython/core/display.py\u001b[0m in \u001b[0;36mreload\u001b[0;34m(self)\u001b[0m\n\u001b[1;32m    650\u001b[0m         \u001b[0;34m\"\"\"Reload the raw data from file or URL.\"\"\"\u001b[0m\u001b[0;34m\u001b[0m\u001b[0;34m\u001b[0m\u001b[0m\n\u001b[1;32m    651\u001b[0m         \u001b[0;32mif\u001b[0m \u001b[0mself\u001b[0m\u001b[0;34m.\u001b[0m\u001b[0mfilename\u001b[0m \u001b[0;32mis\u001b[0m \u001b[0;32mnot\u001b[0m \u001b[0;32mNone\u001b[0m\u001b[0;34m:\u001b[0m\u001b[0;34m\u001b[0m\u001b[0;34m\u001b[0m\u001b[0m\n\u001b[0;32m--> 652\u001b[0;31m             \u001b[0;32mwith\u001b[0m \u001b[0mopen\u001b[0m\u001b[0;34m(\u001b[0m\u001b[0mself\u001b[0m\u001b[0;34m.\u001b[0m\u001b[0mfilename\u001b[0m\u001b[0;34m,\u001b[0m \u001b[0mself\u001b[0m\u001b[0;34m.\u001b[0m\u001b[0m_read_flags\u001b[0m\u001b[0;34m)\u001b[0m \u001b[0;32mas\u001b[0m \u001b[0mf\u001b[0m\u001b[0;34m:\u001b[0m\u001b[0;34m\u001b[0m\u001b[0;34m\u001b[0m\u001b[0m\n\u001b[0m\u001b[1;32m    653\u001b[0m                 \u001b[0mself\u001b[0m\u001b[0;34m.\u001b[0m\u001b[0mdata\u001b[0m \u001b[0;34m=\u001b[0m \u001b[0mf\u001b[0m\u001b[0;34m.\u001b[0m\u001b[0mread\u001b[0m\u001b[0;34m(\u001b[0m\u001b[0;34m)\u001b[0m\u001b[0;34m\u001b[0m\u001b[0;34m\u001b[0m\u001b[0m\n\u001b[1;32m    654\u001b[0m         \u001b[0;32melif\u001b[0m \u001b[0mself\u001b[0m\u001b[0;34m.\u001b[0m\u001b[0murl\u001b[0m \u001b[0;32mis\u001b[0m \u001b[0;32mnot\u001b[0m \u001b[0;32mNone\u001b[0m\u001b[0;34m:\u001b[0m\u001b[0;34m\u001b[0m\u001b[0;34m\u001b[0m\u001b[0m\n",
            "\u001b[0;31mFileNotFoundError\u001b[0m: [Errno 2] No such file or directory: './dihedral-final.png'"
          ]
        }
      ]
    },
    {
      "cell_type": "code",
      "source": [
        "# Don't get result. Expect a T at residue 28 in chain A\n",
        "\n",
        "#resid = \"get the pose residue number for chain A:res 28 using the pdb2pose function\"\n",
        "### BEGIN SOLUTION\n",
        "resid = pose.pdb_info().pdb2pose('', 28)\n",
        "### END SOLUTION\n",
        "resid\n",
        "#print(\"phi:\", pose.phi(resid))\n",
        "#print(\"psi:\", pose.psi(resid))\n",
        "#print(\"chi1:\", pose.chi(1, resid))"
      ],
      "metadata": {
        "colab": {
          "base_uri": "https://localhost:8080/"
        },
        "id": "3-O9lRRvV5j6",
        "outputId": "bf002aef-0dad-4fab-ce41-7536ede63d50"
      },
      "execution_count": null,
      "outputs": [
        {
          "output_type": "execute_result",
          "data": {
            "text/plain": [
              "0"
            ]
          },
          "metadata": {},
          "execution_count": 67
        }
      ]
    },
    {
      "cell_type": "code",
      "source": [
        "conformation = pose.conformation()\n",
        "# do some tab completion here to explore the Conformation class methods\n",
        "#conformation."
      ],
      "metadata": {
        "id": "7TI6o38JW-O1"
      },
      "execution_count": null,
      "outputs": []
    },
    {
      "cell_type": "code",
      "source": [
        "### BEGIN SOLUTION\n",
        "# ?conformation.bond_length\n",
        "### END SOLUTION"
      ],
      "metadata": {
        "id": "ehl4__CVXA2T"
      },
      "execution_count": null,
      "outputs": []
    },
    {
      "cell_type": "code",
      "source": [
        "# Double Check: does resid contain the Pose numbering or PDB numbering?\n",
        "res_28 = pose.residue(resid)\n",
        "N28 = AtomID(res_28.atom_index(\"N\"), resid)\n",
        "CA28 = AtomID(res_28.atom_index(\"CA\"), resid)\n",
        "C28 = AtomID(res_28.atom_index(\"C\"), resid)\n",
        "\n",
        "# try printing out an AtomID object!"
      ],
      "metadata": {
        "colab": {
          "base_uri": "https://localhost:8080/",
          "height": 321
        },
        "id": "YU4Pw-nDXDcn",
        "outputId": "33ae7e37-ab61-4e13-ee50-d6b9e0960a3a"
      },
      "execution_count": null,
      "outputs": [
        {
          "output_type": "error",
          "ename": "RuntimeError",
          "evalue": "ignored",
          "traceback": [
            "\u001b[0;31m---------------------------------------------------------------------------\u001b[0m",
            "\u001b[0;31mRuntimeError\u001b[0m                              Traceback (most recent call last)",
            "\u001b[0;32m<ipython-input-70-17ac88eff2f5>\u001b[0m in \u001b[0;36m<module>\u001b[0;34m\u001b[0m\n\u001b[1;32m      1\u001b[0m \u001b[0;31m# Double Check: does resid contain the Pose numbering or PDB numbering?\u001b[0m\u001b[0;34m\u001b[0m\u001b[0;34m\u001b[0m\u001b[0;34m\u001b[0m\u001b[0m\n\u001b[0;32m----> 2\u001b[0;31m \u001b[0mres_28\u001b[0m \u001b[0;34m=\u001b[0m \u001b[0mpose\u001b[0m\u001b[0;34m.\u001b[0m\u001b[0mresidue\u001b[0m\u001b[0;34m(\u001b[0m\u001b[0mresid\u001b[0m\u001b[0;34m)\u001b[0m\u001b[0;34m\u001b[0m\u001b[0;34m\u001b[0m\u001b[0m\n\u001b[0m\u001b[1;32m      3\u001b[0m \u001b[0mN28\u001b[0m \u001b[0;34m=\u001b[0m \u001b[0mAtomID\u001b[0m\u001b[0;34m(\u001b[0m\u001b[0mres_28\u001b[0m\u001b[0;34m.\u001b[0m\u001b[0matom_index\u001b[0m\u001b[0;34m(\u001b[0m\u001b[0;34m\"N\"\u001b[0m\u001b[0;34m)\u001b[0m\u001b[0;34m,\u001b[0m \u001b[0mresid\u001b[0m\u001b[0;34m)\u001b[0m\u001b[0;34m\u001b[0m\u001b[0;34m\u001b[0m\u001b[0m\n\u001b[1;32m      4\u001b[0m \u001b[0mCA28\u001b[0m \u001b[0;34m=\u001b[0m \u001b[0mAtomID\u001b[0m\u001b[0;34m(\u001b[0m\u001b[0mres_28\u001b[0m\u001b[0;34m.\u001b[0m\u001b[0matom_index\u001b[0m\u001b[0;34m(\u001b[0m\u001b[0;34m\"CA\"\u001b[0m\u001b[0;34m)\u001b[0m\u001b[0;34m,\u001b[0m \u001b[0mresid\u001b[0m\u001b[0;34m)\u001b[0m\u001b[0;34m\u001b[0m\u001b[0;34m\u001b[0m\u001b[0m\n\u001b[1;32m      5\u001b[0m \u001b[0mC28\u001b[0m \u001b[0;34m=\u001b[0m \u001b[0mAtomID\u001b[0m\u001b[0;34m(\u001b[0m\u001b[0mres_28\u001b[0m\u001b[0;34m.\u001b[0m\u001b[0matom_index\u001b[0m\u001b[0;34m(\u001b[0m\u001b[0;34m\"C\"\u001b[0m\u001b[0;34m)\u001b[0m\u001b[0;34m,\u001b[0m \u001b[0mresid\u001b[0m\u001b[0;34m)\u001b[0m\u001b[0;34m\u001b[0m\u001b[0;34m\u001b[0m\u001b[0m\n",
            "\u001b[0;31mRuntimeError\u001b[0m: \n\nFile: /home/benchmark/rosetta/source/src/core/pose/Pose.cc:948\n[ ERROR ] UtilityExitException\nERROR: Pose::residue( Size const seqpos ): variable seqpos is out of range!\n\n"
          ]
        }
      ]
    },
    {
      "cell_type": "code",
      "source": [
        "### BEGIN SOLUTION\n",
        "print(N28)\n",
        "### END SOLUTION"
      ],
      "metadata": {
        "colab": {
          "base_uri": "https://localhost:8080/",
          "height": 200
        },
        "id": "ObZDj59LXG8X",
        "outputId": "eb8bc02f-c4b9-474a-e7c1-9638aaa46e48"
      },
      "execution_count": null,
      "outputs": [
        {
          "output_type": "error",
          "ename": "NameError",
          "evalue": "ignored",
          "traceback": [
            "\u001b[0;31m---------------------------------------------------------------------------\u001b[0m",
            "\u001b[0;31mNameError\u001b[0m                                 Traceback (most recent call last)",
            "\u001b[0;32m<ipython-input-71-f1e2667337f6>\u001b[0m in \u001b[0;36m<module>\u001b[0;34m\u001b[0m\n\u001b[1;32m      1\u001b[0m \u001b[0;31m### BEGIN SOLUTION\u001b[0m\u001b[0;34m\u001b[0m\u001b[0;34m\u001b[0m\u001b[0;34m\u001b[0m\u001b[0m\n\u001b[0;32m----> 2\u001b[0;31m \u001b[0mprint\u001b[0m\u001b[0;34m(\u001b[0m\u001b[0mN28\u001b[0m\u001b[0;34m)\u001b[0m\u001b[0;34m\u001b[0m\u001b[0;34m\u001b[0m\u001b[0m\n\u001b[0m\u001b[1;32m      3\u001b[0m \u001b[0;31m### END SOLUTION\u001b[0m\u001b[0;34m\u001b[0m\u001b[0;34m\u001b[0m\u001b[0;34m\u001b[0m\u001b[0m\n",
            "\u001b[0;31mNameError\u001b[0m: name 'N28' is not defined"
          ]
        }
      ]
    },
    {
      "cell_type": "code",
      "source": [
        "print(pose.conformation().bond_length(N28, CA28))\n",
        "print(pose.conformation().bond_length(CA28, C28))"
      ],
      "metadata": {
        "colab": {
          "base_uri": "https://localhost:8080/",
          "height": 183
        },
        "id": "Wk7phRG7XJwR",
        "outputId": "57b1bdaf-9b31-4c0c-91c7-e52c8329ec39"
      },
      "execution_count": null,
      "outputs": [
        {
          "output_type": "error",
          "ename": "NameError",
          "evalue": "ignored",
          "traceback": [
            "\u001b[0;31m---------------------------------------------------------------------------\u001b[0m",
            "\u001b[0;31mNameError\u001b[0m                                 Traceback (most recent call last)",
            "\u001b[0;32m<ipython-input-72-3d0b3fb0c066>\u001b[0m in \u001b[0;36m<module>\u001b[0;34m\u001b[0m\n\u001b[0;32m----> 1\u001b[0;31m \u001b[0mprint\u001b[0m\u001b[0;34m(\u001b[0m\u001b[0mpose\u001b[0m\u001b[0;34m.\u001b[0m\u001b[0mconformation\u001b[0m\u001b[0;34m(\u001b[0m\u001b[0;34m)\u001b[0m\u001b[0;34m.\u001b[0m\u001b[0mbond_length\u001b[0m\u001b[0;34m(\u001b[0m\u001b[0mN28\u001b[0m\u001b[0;34m,\u001b[0m \u001b[0mCA28\u001b[0m\u001b[0;34m)\u001b[0m\u001b[0;34m)\u001b[0m\u001b[0;34m\u001b[0m\u001b[0;34m\u001b[0m\u001b[0m\n\u001b[0m\u001b[1;32m      2\u001b[0m \u001b[0mprint\u001b[0m\u001b[0;34m(\u001b[0m\u001b[0mpose\u001b[0m\u001b[0;34m.\u001b[0m\u001b[0mconformation\u001b[0m\u001b[0;34m(\u001b[0m\u001b[0;34m)\u001b[0m\u001b[0;34m.\u001b[0m\u001b[0mbond_length\u001b[0m\u001b[0;34m(\u001b[0m\u001b[0mCA28\u001b[0m\u001b[0;34m,\u001b[0m \u001b[0mC28\u001b[0m\u001b[0;34m)\u001b[0m\u001b[0;34m)\u001b[0m\u001b[0;34m\u001b[0m\u001b[0;34m\u001b[0m\u001b[0m\n",
            "\u001b[0;31mNameError\u001b[0m: name 'N28' is not defined"
          ]
        }
      ]
    },
    {
      "cell_type": "code",
      "source": [
        "N_xyz = res_28.xyz(\"N\")\n",
        "CA_xyz = res_28.xyz(\"CA\")\n",
        "C_xyz = res_28.xyz(\"C\")\n",
        "N_CA_vector = CA_xyz - N_xyz\n",
        "CA_C_vector = CA_xyz - C_xyz\n",
        "print(N_CA_vector.norm())\n",
        "print(CA_C_vector.norm())"
      ],
      "metadata": {
        "colab": {
          "base_uri": "https://localhost:8080/",
          "height": 235
        },
        "id": "qTtPvzg6XKHu",
        "outputId": "ee91ae01-3572-49f1-f357-6b3b0c54fbf3"
      },
      "execution_count": null,
      "outputs": [
        {
          "output_type": "error",
          "ename": "NameError",
          "evalue": "ignored",
          "traceback": [
            "\u001b[0;31m---------------------------------------------------------------------------\u001b[0m",
            "\u001b[0;31mNameError\u001b[0m                                 Traceback (most recent call last)",
            "\u001b[0;32m<ipython-input-73-e358e860fed7>\u001b[0m in \u001b[0;36m<module>\u001b[0;34m\u001b[0m\n\u001b[0;32m----> 1\u001b[0;31m \u001b[0mN_xyz\u001b[0m \u001b[0;34m=\u001b[0m \u001b[0mres_28\u001b[0m\u001b[0;34m.\u001b[0m\u001b[0mxyz\u001b[0m\u001b[0;34m(\u001b[0m\u001b[0;34m\"N\"\u001b[0m\u001b[0;34m)\u001b[0m\u001b[0;34m\u001b[0m\u001b[0;34m\u001b[0m\u001b[0m\n\u001b[0m\u001b[1;32m      2\u001b[0m \u001b[0mCA_xyz\u001b[0m \u001b[0;34m=\u001b[0m \u001b[0mres_28\u001b[0m\u001b[0;34m.\u001b[0m\u001b[0mxyz\u001b[0m\u001b[0;34m(\u001b[0m\u001b[0;34m\"CA\"\u001b[0m\u001b[0;34m)\u001b[0m\u001b[0;34m\u001b[0m\u001b[0;34m\u001b[0m\u001b[0m\n\u001b[1;32m      3\u001b[0m \u001b[0mC_xyz\u001b[0m \u001b[0;34m=\u001b[0m \u001b[0mres_28\u001b[0m\u001b[0;34m.\u001b[0m\u001b[0mxyz\u001b[0m\u001b[0;34m(\u001b[0m\u001b[0;34m\"C\"\u001b[0m\u001b[0;34m)\u001b[0m\u001b[0;34m\u001b[0m\u001b[0;34m\u001b[0m\u001b[0m\n\u001b[1;32m      4\u001b[0m \u001b[0mN_CA_vector\u001b[0m \u001b[0;34m=\u001b[0m \u001b[0mCA_xyz\u001b[0m \u001b[0;34m-\u001b[0m \u001b[0mN_xyz\u001b[0m\u001b[0;34m\u001b[0m\u001b[0;34m\u001b[0m\u001b[0m\n\u001b[1;32m      5\u001b[0m \u001b[0mCA_C_vector\u001b[0m \u001b[0;34m=\u001b[0m \u001b[0mCA_xyz\u001b[0m \u001b[0;34m-\u001b[0m \u001b[0mC_xyz\u001b[0m\u001b[0;34m\u001b[0m\u001b[0;34m\u001b[0m\u001b[0m\n",
            "\u001b[0;31mNameError\u001b[0m: name 'res_28' is not defined"
          ]
        }
      ]
    },
    {
      "cell_type": "markdown",
      "source": [
        "**Protein Geometry**"
      ],
      "metadata": {
        "id": "73KgelzlXiX-"
      }
    },
    {
      "cell_type": "code",
      "source": [
        "!pip install pyrosettacolabsetup\n",
        "import pyrosettacolabsetup; pyrosettacolabsetup.install_pyrosetta()\n",
        "import pyrosetta; pyrosetta.init()\n",
        "from pyrosetta import *\n",
        "from pyrosetta.teaching import *\n",
        "init()"
      ],
      "metadata": {
        "colab": {
          "base_uri": "https://localhost:8080/"
        },
        "id": "FnH84NbWXNSz",
        "outputId": "8f849aa2-8217-4d7f-857e-43df39b9e3b9"
      },
      "execution_count": null,
      "outputs": [
        {
          "output_type": "stream",
          "name": "stdout",
          "text": [
            "Looking in indexes: https://pypi.org/simple, https://us-python.pkg.dev/colab-wheels/public/simple/\n",
            "Requirement already satisfied: pyrosettacolabsetup in /usr/local/lib/python3.7/dist-packages (1.0.6)\n",
            "PyRosetta-4 2022 [Rosetta PyRosetta4.MinSizeRel.python37.ubuntu 2022.46+release.f0c6fca0e2fae27020abfa11ca7804caf65edd38 2022-11-16T11:41:29] retrieved from: http://www.pyrosetta.org\n",
            "(C) Copyright Rosetta Commons Member Institutions. Created in JHU by Sergey Lyskov and PyRosetta Team.\n",
            "core.init: Checking for fconfig files in pwd and ./rosetta/flags\n",
            "core.init: Rosetta version: PyRosetta4.MinSizeRel.python37.ubuntu r335 2022.46+release.f0c6fca0e2f f0c6fca0e2fae27020abfa11ca7804caf65edd38 http://www.pyrosetta.org 2022-11-16T11:41:29\n",
            "core.init: command: PyRosetta -ex1 -ex2aro -database /usr/local/lib/python3.7/dist-packages/pyrosetta/database\n",
            "basic.random.init_random_generator: 'RNG device' seed mode, using '/dev/urandom', seed=-598085808 seed_offset=0 real_seed=-598085808\n",
            "basic.random.init_random_generator: RandomGenerator:init: Normal mode, seed=-598085808 RG_type=mt19937\n",
            "PyRosetta-4 2022 [Rosetta PyRosetta4.MinSizeRel.python37.ubuntu 2022.46+release.f0c6fca0e2fae27020abfa11ca7804caf65edd38 2022-11-16T11:41:29] retrieved from: http://www.pyrosetta.org\n",
            "(C) Copyright Rosetta Commons Member Institutions. Created in JHU by Sergey Lyskov and PyRosetta Team.\n",
            "core.init: Checking for fconfig files in pwd and ./rosetta/flags\n",
            "core.init: Rosetta version: PyRosetta4.MinSizeRel.python37.ubuntu r335 2022.46+release.f0c6fca0e2f f0c6fca0e2fae27020abfa11ca7804caf65edd38 http://www.pyrosetta.org 2022-11-16T11:41:29\n",
            "core.init: command: PyRosetta -ex1 -ex2aro -database /usr/local/lib/python3.7/dist-packages/pyrosetta/database\n",
            "basic.random.init_random_generator: 'RNG device' seed mode, using '/dev/urandom', seed=1679456845 seed_offset=0 real_seed=1679456845\n",
            "basic.random.init_random_generator: RandomGenerator:init: Normal mode, seed=1679456845 RG_type=mt19937\n"
          ]
        }
      ]
    },
    {
      "cell_type": "code",
      "source": [
        "pose = pose_from_pdb(\"/content/5tj3.pdb\")\n",
        "resid = pose.pdb_info().pdb2pose('A', 28)\n",
        "res_28 = pose.residue(resid)\n",
        "N28 = AtomID(res_28.atom_index(\"N\"), resid)\n",
        "CA28 = AtomID(res_28.atom_index(\"CA\"), resid)\n",
        "C28 = AtomID(res_28.atom_index(\"C\"), resid)"
      ],
      "metadata": {
        "colab": {
          "base_uri": "https://localhost:8080/",
          "height": 460
        },
        "id": "s8GF4F1JXpQY",
        "outputId": "88cc998f-d4b2-4b2b-b375-492bde1b85f2"
      },
      "execution_count": null,
      "outputs": [
        {
          "output_type": "stream",
          "name": "stdout",
          "text": [
            "core.import_pose.import_pose: File '/content/5tj3.pdb' automatically determined to be of type UNKNOWN\n"
          ]
        },
        {
          "output_type": "error",
          "ename": "RuntimeError",
          "evalue": "ignored",
          "traceback": [
            "\u001b[0;31m---------------------------------------------------------------------------\u001b[0m",
            "\u001b[0;31mRuntimeError\u001b[0m                              Traceback (most recent call last)",
            "\u001b[0;32m<ipython-input-76-2af2b9473f76>\u001b[0m in \u001b[0;36m<module>\u001b[0;34m\u001b[0m\n\u001b[0;32m----> 1\u001b[0;31m \u001b[0mpose\u001b[0m \u001b[0;34m=\u001b[0m \u001b[0mpose_from_pdb\u001b[0m\u001b[0;34m(\u001b[0m\u001b[0;34m\"/content/5tj3.pdb\"\u001b[0m\u001b[0;34m)\u001b[0m\u001b[0;34m\u001b[0m\u001b[0;34m\u001b[0m\u001b[0m\n\u001b[0m\u001b[1;32m      2\u001b[0m \u001b[0mresid\u001b[0m \u001b[0;34m=\u001b[0m \u001b[0mpose\u001b[0m\u001b[0;34m.\u001b[0m\u001b[0mpdb_info\u001b[0m\u001b[0;34m(\u001b[0m\u001b[0;34m)\u001b[0m\u001b[0;34m.\u001b[0m\u001b[0mpdb2pose\u001b[0m\u001b[0;34m(\u001b[0m\u001b[0;34m'A'\u001b[0m\u001b[0;34m,\u001b[0m \u001b[0;36m28\u001b[0m\u001b[0;34m)\u001b[0m\u001b[0;34m\u001b[0m\u001b[0;34m\u001b[0m\u001b[0m\n\u001b[1;32m      3\u001b[0m \u001b[0mres_28\u001b[0m \u001b[0;34m=\u001b[0m \u001b[0mpose\u001b[0m\u001b[0;34m.\u001b[0m\u001b[0mresidue\u001b[0m\u001b[0;34m(\u001b[0m\u001b[0mresid\u001b[0m\u001b[0;34m)\u001b[0m\u001b[0;34m\u001b[0m\u001b[0;34m\u001b[0m\u001b[0m\n\u001b[1;32m      4\u001b[0m \u001b[0mN28\u001b[0m \u001b[0;34m=\u001b[0m \u001b[0mAtomID\u001b[0m\u001b[0;34m(\u001b[0m\u001b[0mres_28\u001b[0m\u001b[0;34m.\u001b[0m\u001b[0matom_index\u001b[0m\u001b[0;34m(\u001b[0m\u001b[0;34m\"N\"\u001b[0m\u001b[0;34m)\u001b[0m\u001b[0;34m,\u001b[0m \u001b[0mresid\u001b[0m\u001b[0;34m)\u001b[0m\u001b[0;34m\u001b[0m\u001b[0;34m\u001b[0m\u001b[0m\n\u001b[1;32m      5\u001b[0m \u001b[0mCA28\u001b[0m \u001b[0;34m=\u001b[0m \u001b[0mAtomID\u001b[0m\u001b[0;34m(\u001b[0m\u001b[0mres_28\u001b[0m\u001b[0;34m.\u001b[0m\u001b[0matom_index\u001b[0m\u001b[0;34m(\u001b[0m\u001b[0;34m\"CA\"\u001b[0m\u001b[0;34m)\u001b[0m\u001b[0;34m,\u001b[0m \u001b[0mresid\u001b[0m\u001b[0;34m)\u001b[0m\u001b[0;34m\u001b[0m\u001b[0;34m\u001b[0m\u001b[0m\n",
            "\u001b[0;32m/usr/local/lib/python3.7/dist-packages/pyrosetta/io/__init__.py\u001b[0m in \u001b[0;36mpose_from_pdb\u001b[0;34m(filename)\u001b[0m\n\u001b[1;32m     18\u001b[0m \u001b[0;31m# because otherwise, it wrecks a lot of people's scripts.  ~Labonte\u001b[0m\u001b[0;34m\u001b[0m\u001b[0;34m\u001b[0m\u001b[0;34m\u001b[0m\u001b[0m\n\u001b[1;32m     19\u001b[0m \u001b[0;32mdef\u001b[0m \u001b[0mpose_from_pdb\u001b[0m\u001b[0;34m(\u001b[0m\u001b[0mfilename\u001b[0m\u001b[0;34m)\u001b[0m\u001b[0;34m:\u001b[0m\u001b[0;34m\u001b[0m\u001b[0;34m\u001b[0m\u001b[0m\n\u001b[0;32m---> 20\u001b[0;31m     \u001b[0;32mreturn\u001b[0m \u001b[0mpose_from_file\u001b[0m\u001b[0;34m(\u001b[0m\u001b[0mfilename\u001b[0m\u001b[0;34m)\u001b[0m\u001b[0;34m\u001b[0m\u001b[0;34m\u001b[0m\u001b[0m\n\u001b[0m\u001b[1;32m     21\u001b[0m \u001b[0;34m\u001b[0m\u001b[0m\n\u001b[1;32m     22\u001b[0m \u001b[0;34m\u001b[0m\u001b[0m\n",
            "\u001b[0;31mRuntimeError\u001b[0m: \n\nFile: /home/benchmark/rosetta/source/src/core/import_pose/import_pose.cc:379\n[ ERROR ] UtilityExitException\nERROR: Cannot determine file type. Current supported types are: PDB, CIF, SRLZ, MMTF\n\n"
          ]
        }
      ]
    },
    {
      "cell_type": "markdown",
      "source": [
        "# **Protein Geometry**"
      ],
      "metadata": {
        "id": "OG2HSLJGSgim"
      }
    },
    {
      "cell_type": "code",
      "source": [
        "!pip install pyrosettacolabsetup\n",
        "import pyrosettacolabsetup; pyrosettacolabsetup.install_pyrosetta()\n",
        "import pyrosetta; pyrosetta.init()\n",
        "\n",
        "from pyrosetta import *\n",
        "#init()"
      ],
      "metadata": {
        "colab": {
          "base_uri": "https://localhost:8080/"
        },
        "id": "QPdwagW0SgA0",
        "outputId": "99493d29-a418-4016-99b6-de8fce3dce16"
      },
      "execution_count": null,
      "outputs": [
        {
          "output_type": "stream",
          "name": "stdout",
          "text": [
            "Looking in indexes: https://pypi.org/simple, https://us-python.pkg.dev/colab-wheels/public/simple/\n",
            "Collecting pyrosettacolabsetup\n",
            "  Downloading pyrosettacolabsetup-1.0.6-py3-none-any.whl (4.7 kB)\n",
            "Installing collected packages: pyrosettacolabsetup\n",
            "Successfully installed pyrosettacolabsetup-1.0.6\n",
            "Mounted at /content/google_drive\n",
            "Looking for compatible PyRosetta wheel file at google-drive/PyRosetta/colab.bin/wheels...\n",
            "Found compatible wheel: /content/google_drive/MyDrive/PyRosetta/colab.bin/wheels//content/google_drive/MyDrive/PyRosetta/colab.bin/wheels/pyrosetta-2022.46+release.f0c6fca0e2f-cp37-cp37m-linux_x86_64.whl\n",
            "Looking in indexes: https://pypi.org/simple, https://us-python.pkg.dev/colab-wheels/public/simple/\n",
            "\n",
            "\n",
            "PyRosetta-4 2022 [Rosetta PyRosetta4.MinSizeRel.python37.ubuntu 2022.46+release.f0c6fca0e2fae27020abfa11ca7804caf65edd38 2022-11-16T11:41:29] retrieved from: http://www.pyrosetta.org\n",
            "(C) Copyright Rosetta Commons Member Institutions. Created in JHU by Sergey Lyskov and PyRosetta Team.\n",
            "core.init: Checking for fconfig files in pwd and ./rosetta/flags\n",
            "core.init: Rosetta version: PyRosetta4.MinSizeRel.python37.ubuntu r335 2022.46+release.f0c6fca0e2f f0c6fca0e2fae27020abfa11ca7804caf65edd38 http://www.pyrosetta.org 2022-11-16T11:41:29\n",
            "core.init: command: PyRosetta -ex1 -ex2aro -database /usr/local/lib/python3.7/dist-packages/pyrosetta/database\n",
            "basic.random.init_random_generator: 'RNG device' seed mode, using '/dev/urandom', seed=854057856 seed_offset=0 real_seed=854057856\n",
            "basic.random.init_random_generator: RandomGenerator:init: Normal mode, seed=854057856 RG_type=mt19937\n"
          ]
        }
      ]
    },
    {
      "cell_type": "code",
      "source": [
        "pose = pose_from_pdb(\"/content/2gef.pdb\")\n",
        "\n",
        "#from toolbox import cleanATOM\n",
        "#cleanATOM(\"2gef.pdb\")"
      ],
      "metadata": {
        "colab": {
          "base_uri": "https://localhost:8080/"
        },
        "id": "7UgksfY1SqXB",
        "outputId": "80f66733-79a3-4271-c1f3-893f3479394b"
      },
      "execution_count": null,
      "outputs": [
        {
          "output_type": "stream",
          "name": "stdout",
          "text": [
            "core.import_pose.import_pose: File '/content/2gef.pdb' automatically determined to be of type PDB\n",
            "core.chemical.GlobalResidueTypeSet: Loading (but possibly not actually using) 'MSE' from the PDB components dictionary for residue type 'pdb_MSE'\n",
            "core.io.pose_from_sfr.PoseFromSFRBuilder: Reading MSE as MET!\n",
            "core.io.pose_from_sfr.PoseFromSFRBuilder: Reading MSE as MET!\n",
            "core.io.pose_from_sfr.PoseFromSFRBuilder: Reading MSE as MET!\n",
            "core.io.pose_from_sfr.PoseFromSFRBuilder: Reading MSE as MET!\n",
            "core.io.pose_from_sfr.PoseFromSFRBuilder: Reading MSE as MET!\n",
            "core.io.pose_from_sfr.PoseFromSFRBuilder: Reading MSE as MET!\n",
            "core.io.pose_from_sfr.PoseFromSFRBuilder: Reading MSE as MET!\n",
            "core.io.pose_from_sfr.PoseFromSFRBuilder: Reading Selenium SE from MSE as SD from MET\n",
            "core.io.pose_from_sfr.PoseFromSFRBuilder: Reading MSE as MET!\n",
            "core.io.pose_from_sfr.PoseFromSFRBuilder: Reading MSE as MET!\n",
            "core.io.pose_from_sfr.PoseFromSFRBuilder: Reading MSE as MET!\n",
            "core.io.pose_from_sfr.PoseFromSFRBuilder: Reading MSE as MET!\n",
            "core.io.pose_from_sfr.PoseFromSFRBuilder: Reading MSE as MET!\n",
            "core.io.pose_from_sfr.PoseFromSFRBuilder: Reading MSE as MET!\n",
            "core.io.pose_from_sfr.PoseFromSFRBuilder: Reading MSE as MET!\n",
            "core.io.pose_from_sfr.PoseFromSFRBuilder: Reading MSE as MET!\n",
            "core.io.pose_from_sfr.PoseFromSFRBuilder: Reading Selenium SE from MSE as SD from MET\n",
            "core.io.pose_from_sfr.PoseFromSFRBuilder: Reading MSE as MET!\n",
            "core.io.pose_from_sfr.PoseFromSFRBuilder: Reading MSE as MET!\n",
            "core.io.pose_from_sfr.PoseFromSFRBuilder: Reading MSE as MET!\n",
            "core.io.pose_from_sfr.PoseFromSFRBuilder: Reading MSE as MET!\n",
            "core.io.pose_from_sfr.PoseFromSFRBuilder: Reading MSE as MET!\n",
            "core.io.pose_from_sfr.PoseFromSFRBuilder: Reading MSE as MET!\n",
            "core.io.pose_from_sfr.PoseFromSFRBuilder: Reading MSE as MET!\n",
            "core.io.pose_from_sfr.PoseFromSFRBuilder: Reading MSE as MET!\n",
            "core.io.pose_from_sfr.PoseFromSFRBuilder: Reading Selenium SE from MSE as SD from MET\n",
            "core.io.pose_from_sfr.PoseFromSFRBuilder: Reading MSE as MET!\n",
            "core.io.pose_from_sfr.PoseFromSFRBuilder: Reading MSE as MET!\n",
            "core.io.pose_from_sfr.PoseFromSFRBuilder: Reading MSE as MET!\n",
            "core.io.pose_from_sfr.PoseFromSFRBuilder: Reading MSE as MET!\n",
            "core.io.pose_from_sfr.PoseFromSFRBuilder: Reading MSE as MET!\n",
            "core.io.pose_from_sfr.PoseFromSFRBuilder: Reading MSE as MET!\n",
            "core.io.pose_from_sfr.PoseFromSFRBuilder: Reading MSE as MET!\n",
            "core.io.pose_from_sfr.PoseFromSFRBuilder: Reading MSE as MET!\n",
            "core.io.pose_from_sfr.PoseFromSFRBuilder: Reading Selenium SE from MSE as SD from MET\n",
            "core.io.pose_from_sfr.PoseFromSFRBuilder: Reading MSE as MET!\n",
            "core.io.pose_from_sfr.PoseFromSFRBuilder: Reading MSE as MET!\n",
            "core.io.pose_from_sfr.PoseFromSFRBuilder: Reading MSE as MET!\n",
            "core.io.pose_from_sfr.PoseFromSFRBuilder: Reading MSE as MET!\n",
            "core.io.pose_from_sfr.PoseFromSFRBuilder: Reading MSE as MET!\n",
            "core.io.pose_from_sfr.PoseFromSFRBuilder: Reading MSE as MET!\n",
            "core.io.pose_from_sfr.PoseFromSFRBuilder: Reading MSE as MET!\n",
            "core.io.pose_from_sfr.PoseFromSFRBuilder: Reading MSE as MET!\n",
            "core.io.pose_from_sfr.PoseFromSFRBuilder: Reading Selenium SE from MSE as SD from MET\n",
            "core.io.pose_from_sfr.PoseFromSFRBuilder: Reading MSE as MET!\n",
            "core.io.pose_from_sfr.PoseFromSFRBuilder: Reading MSE as MET!\n",
            "core.io.pose_from_sfr.PoseFromSFRBuilder: Reading MSE as MET!\n",
            "core.io.pose_from_sfr.PoseFromSFRBuilder: Reading MSE as MET!\n",
            "core.io.pose_from_sfr.PoseFromSFRBuilder: Reading MSE as MET!\n",
            "core.io.pose_from_sfr.PoseFromSFRBuilder: Reading MSE as MET!\n",
            "core.io.pose_from_sfr.PoseFromSFRBuilder: Reading MSE as MET!\n",
            "core.io.pose_from_sfr.PoseFromSFRBuilder: Reading MSE as MET!\n",
            "core.io.pose_from_sfr.PoseFromSFRBuilder: Reading Selenium SE from MSE as SD from MET\n",
            "core.io.pose_from_sfr.PoseFromSFRBuilder: Reading MSE as MET!\n",
            "core.io.pose_from_sfr.PoseFromSFRBuilder: Reading MSE as MET!\n",
            "core.io.pose_from_sfr.PoseFromSFRBuilder: Reading MSE as MET!\n",
            "core.io.pose_from_sfr.PoseFromSFRBuilder: Reading MSE as MET!\n",
            "core.io.pose_from_sfr.PoseFromSFRBuilder: Reading MSE as MET!\n",
            "core.io.pose_from_sfr.PoseFromSFRBuilder: Reading MSE as MET!\n",
            "core.io.pose_from_sfr.PoseFromSFRBuilder: Reading MSE as MET!\n",
            "core.io.pose_from_sfr.PoseFromSFRBuilder: Reading MSE as MET!\n",
            "core.io.pose_from_sfr.PoseFromSFRBuilder: Reading Selenium SE from MSE as SD from MET\n",
            "core.io.pose_from_sfr.PoseFromSFRBuilder: Reading MSE as MET!\n",
            "core.io.pose_from_sfr.PoseFromSFRBuilder: Reading MSE as MET!\n",
            "core.io.pose_from_sfr.PoseFromSFRBuilder: Reading MSE as MET!\n",
            "core.io.pose_from_sfr.PoseFromSFRBuilder: Reading MSE as MET!\n",
            "core.io.pose_from_sfr.PoseFromSFRBuilder: Reading MSE as MET!\n",
            "core.io.pose_from_sfr.PoseFromSFRBuilder: Reading MSE as MET!\n",
            "core.io.pose_from_sfr.PoseFromSFRBuilder: Reading MSE as MET!\n",
            "core.io.pose_from_sfr.PoseFromSFRBuilder: Reading MSE as MET!\n",
            "core.io.pose_from_sfr.PoseFromSFRBuilder: Reading Selenium SE from MSE as SD from MET\n",
            "core.io.pose_from_sfr.PoseFromSFRBuilder: Reading MSE as MET!\n",
            "core.conformation.Conformation: [ WARNING ] missing heavyatom:  OG1 on residue THR 78\n",
            "core.conformation.Conformation: [ WARNING ] missing heavyatom:  CG2 on residue THR 78\n",
            "core.conformation.Conformation: [ WARNING ] missing heavyatom:  CG  on residue HIS 79\n",
            "core.conformation.Conformation: [ WARNING ] missing heavyatom:  ND1 on residue HIS 79\n",
            "core.conformation.Conformation: [ WARNING ] missing heavyatom:  CD2 on residue HIS 79\n",
            "core.conformation.Conformation: [ WARNING ] missing heavyatom:  CE1 on residue HIS 79\n",
            "core.conformation.Conformation: [ WARNING ] missing heavyatom:  NE2 on residue HIS 79\n",
            "core.conformation.Conformation: [ WARNING ] missing heavyatom:  CG  on residue LYS 80\n",
            "core.conformation.Conformation: [ WARNING ] missing heavyatom:  CD  on residue LYS 80\n",
            "core.conformation.Conformation: [ WARNING ] missing heavyatom:  CE  on residue LYS 80\n",
            "core.conformation.Conformation: [ WARNING ] missing heavyatom:  NZ  on residue LYS 80\n",
            "core.conformation.Conformation: [ WARNING ] missing heavyatom:  OXT on residue SER:CtermProteinFull 198\n",
            "core.conformation.Conformation: [ WARNING ] missing heavyatom:  OG1 on residue THR 276\n",
            "core.conformation.Conformation: [ WARNING ] missing heavyatom:  CG2 on residue THR 276\n",
            "core.conformation.Conformation: [ WARNING ] missing heavyatom:  CG  on residue HIS 277\n",
            "core.conformation.Conformation: [ WARNING ] missing heavyatom:  ND1 on residue HIS 277\n",
            "core.conformation.Conformation: [ WARNING ] missing heavyatom:  CD2 on residue HIS 277\n",
            "core.conformation.Conformation: [ WARNING ] missing heavyatom:  CE1 on residue HIS 277\n",
            "core.conformation.Conformation: [ WARNING ] missing heavyatom:  NE2 on residue HIS 277\n",
            "core.conformation.Conformation: [ WARNING ] missing heavyatom:  CG  on residue LEU 278\n",
            "core.conformation.Conformation: [ WARNING ] missing heavyatom:  CD1 on residue LEU 278\n",
            "core.conformation.Conformation: [ WARNING ] missing heavyatom:  CD2 on residue LEU 278\n",
            "core.conformation.Conformation: [ WARNING ] missing heavyatom:  CG  on residue LYS 279\n",
            "core.conformation.Conformation: [ WARNING ] missing heavyatom:  CD  on residue LYS 279\n",
            "core.conformation.Conformation: [ WARNING ] missing heavyatom:  CE  on residue LYS 279\n",
            "core.conformation.Conformation: [ WARNING ] missing heavyatom:  NZ  on residue LYS 279\n",
            "core.conformation.Conformation: [ WARNING ] missing heavyatom:  OXT on residue ARG:CtermProteinFull 401\n",
            "core.conformation.Conformation: [ WARNING ] missing heavyatom:  CG  on residue ARG:CtermProteinFull 401\n",
            "core.conformation.Conformation: [ WARNING ] missing heavyatom:  CD  on residue ARG:CtermProteinFull 401\n",
            "core.conformation.Conformation: [ WARNING ] missing heavyatom:  NE  on residue ARG:CtermProteinFull 401\n",
            "core.conformation.Conformation: [ WARNING ] missing heavyatom:  CZ  on residue ARG:CtermProteinFull 401\n",
            "core.conformation.Conformation: [ WARNING ] missing heavyatom:  NH1 on residue ARG:CtermProteinFull 401\n",
            "core.conformation.Conformation: [ WARNING ] missing heavyatom:  NH2 on residue ARG:CtermProteinFull 401\n",
            "core.pack.pack_missing_sidechains: packing residue number 78 because of missing atom number 6 atom name  OG1\n",
            "core.pack.pack_missing_sidechains: packing residue number 79 because of missing atom number 6 atom name  CG\n",
            "core.pack.pack_missing_sidechains: packing residue number 80 because of missing atom number 6 atom name  CG\n",
            "core.pack.pack_missing_sidechains: packing residue number 276 because of missing atom number 6 atom name  OG1\n",
            "core.pack.pack_missing_sidechains: packing residue number 277 because of missing atom number 6 atom name  CG\n",
            "core.pack.pack_missing_sidechains: packing residue number 278 because of missing atom number 6 atom name  CG\n",
            "core.pack.pack_missing_sidechains: packing residue number 279 because of missing atom number 6 atom name  CG\n",
            "core.pack.pack_missing_sidechains: packing residue number 401 because of missing atom number 7 atom name  CG\n",
            "core.pack.task: Packer task: initialize from command line()\n",
            "core.scoring.ScoreFunctionFactory: SCOREFUNCTION: ref2015\n",
            "core.scoring.etable: Starting energy table calculation\n",
            "core.scoring.etable: smooth_etable: changing atr/rep split to bottom of energy well\n",
            "core.scoring.etable: smooth_etable: spline smoothing lj etables (maxdis = 6)\n",
            "core.scoring.etable: smooth_etable: spline smoothing solvation etables (max_dis = 6)\n",
            "core.scoring.etable: Finished calculating energy tables.\n",
            "basic.io.database: Database file opened: scoring/score_functions/hbonds/ref2015_params/HBPoly1D.csv\n",
            "basic.io.database: Database file opened: scoring/score_functions/hbonds/ref2015_params/HBFadeIntervals.csv\n",
            "basic.io.database: Database file opened: scoring/score_functions/hbonds/ref2015_params/HBEval.csv\n",
            "basic.io.database: Database file opened: scoring/score_functions/hbonds/ref2015_params/DonStrength.csv\n",
            "basic.io.database: Database file opened: scoring/score_functions/hbonds/ref2015_params/AccStrength.csv\n",
            "basic.io.database: Database file opened: scoring/score_functions/rama/fd/all.ramaProb\n",
            "basic.io.database: Database file opened: scoring/score_functions/rama/fd/prepro.ramaProb\n",
            "basic.io.database: Database file opened: scoring/score_functions/omega/omega_ppdep.all.txt\n",
            "basic.io.database: Database file opened: scoring/score_functions/omega/omega_ppdep.gly.txt\n",
            "basic.io.database: Database file opened: scoring/score_functions/omega/omega_ppdep.pro.txt\n",
            "basic.io.database: Database file opened: scoring/score_functions/omega/omega_ppdep.valile.txt\n",
            "basic.io.database: Database file opened: scoring/score_functions/P_AA_pp/P_AA\n",
            "basic.io.database: Database file opened: scoring/score_functions/P_AA_pp/P_AA_n\n",
            "core.scoring.P_AA: shapovalov_lib::shap_p_aa_pp_smooth_level of 1( aka low_smooth ) got activated.\n",
            "basic.io.database: Database file opened: scoring/score_functions/P_AA_pp/shapovalov/10deg/kappa131/a20.prop\n",
            "basic.io.database: Database file opened: scoring/score_functions/elec_cp_reps.dat\n",
            "core.scoring.elec.util: Read 40 countpair representative atoms\n",
            "core.pack.dunbrack.RotamerLibrary: shapovalov_lib_fixes_enable option is true.\n",
            "core.pack.dunbrack.RotamerLibrary: shapovalov_lib::shap_dun10_smooth_level of 1( aka lowest_smooth ) got activated.\n",
            "core.pack.dunbrack.RotamerLibrary: Binary rotamer library selected: /usr/local/lib/python3.7/dist-packages/pyrosetta/database/rotamer/shapovalov/StpDwn_0-0-0/Dunbrack10.lib.bin\n",
            "core.pack.dunbrack.RotamerLibrary: Using Dunbrack library binary file '/usr/local/lib/python3.7/dist-packages/pyrosetta/database/rotamer/shapovalov/StpDwn_0-0-0/Dunbrack10.lib.bin'.\n",
            "core.pack.dunbrack.RotamerLibrary: Dunbrack 2010 library took 0.256053 seconds to load from binary\n",
            "core.pack.pack_rotamers: built 78 rotamers at 8 positions.\n",
            "core.pack.interaction_graph.interaction_graph_factory: Instantiating DensePDInteractionGraph\n"
          ]
        }
      ]
    },
    {
      "cell_type": "code",
      "source": [
        "pyrosetta.rosetta.core.pose.Pose.phi(5)\n",
        "#print pose.psi(5)\n",
        "#print pose.chi(1, 5)"
      ],
      "metadata": {
        "colab": {
          "base_uri": "https://localhost:8080/",
          "height": 252
        },
        "id": "NhnzduUXsIV6",
        "outputId": "497fdd1c-e541-447a-b0fb-de65cde32a50"
      },
      "execution_count": null,
      "outputs": [
        {
          "output_type": "error",
          "ename": "TypeError",
          "evalue": "ignored",
          "traceback": [
            "\u001b[0;31m---------------------------------------------------------------------------\u001b[0m",
            "\u001b[0;31mTypeError\u001b[0m                                 Traceback (most recent call last)",
            "\u001b[0;32m<ipython-input-10-046cae73af7c>\u001b[0m in \u001b[0;36m<module>\u001b[0;34m\u001b[0m\n\u001b[0;32m----> 1\u001b[0;31m \u001b[0mpyrosetta\u001b[0m\u001b[0;34m.\u001b[0m\u001b[0mrosetta\u001b[0m\u001b[0;34m.\u001b[0m\u001b[0mcore\u001b[0m\u001b[0;34m.\u001b[0m\u001b[0mpose\u001b[0m\u001b[0;34m.\u001b[0m\u001b[0mPose\u001b[0m\u001b[0;34m.\u001b[0m\u001b[0mphi\u001b[0m\u001b[0;34m(\u001b[0m\u001b[0;36m5\u001b[0m\u001b[0;34m)\u001b[0m\u001b[0;34m\u001b[0m\u001b[0;34m\u001b[0m\u001b[0m\n\u001b[0m\u001b[1;32m      2\u001b[0m \u001b[0;31m#print pose.psi(5)\u001b[0m\u001b[0;34m\u001b[0m\u001b[0;34m\u001b[0m\u001b[0;34m\u001b[0m\u001b[0m\n\u001b[1;32m      3\u001b[0m \u001b[0;31m#print pose.chi(1, 5)\u001b[0m\u001b[0;34m\u001b[0m\u001b[0;34m\u001b[0m\u001b[0;34m\u001b[0m\u001b[0m\n",
            "\u001b[0;31mTypeError\u001b[0m: phi(): incompatible function arguments. The following argument types are supported:\n    1. (self: pyrosetta.rosetta.core.pose.Pose, seqpos: int) -> float\n\nInvoked with: 5"
          ]
        }
      ]
    }
  ],
  "metadata": {
    "colab": {
      "provenance": []
    },
    "kernelspec": {
      "display_name": "Python 3",
      "name": "python3"
    },
    "language_info": {
      "name": "python"
    }
  },
  "nbformat": 4,
  "nbformat_minor": 0
}