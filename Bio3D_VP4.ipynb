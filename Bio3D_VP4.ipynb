{
 "cells": [
  {
   "cell_type": "markdown",
   "id": "0efef5ea",
   "metadata": {},
   "source": [
    "# Example of basic molecular dynamics trajectory analysis"
   ]
  },
  {
   "cell_type": "markdown",
   "id": "d4de5284",
   "metadata": {},
   "source": [
    "Run each line using the `Run` buttom, or `Ctrl`+`Enter`"
   ]
  },
  {
   "cell_type": "markdown",
   "id": "7c641b18",
   "metadata": {},
   "source": [
    "## Installation"
   ]
  },
  {
   "cell_type": "markdown",
   "id": "95be1502",
   "metadata": {},
   "source": [
    "Install the `bio3D` package"
   ]
  },
  {
   "cell_type": "code",
   "execution_count": null,
   "id": "681a4051",
   "metadata": {},
   "outputs": [],
   "source": [
    "install.packages(\"bio3d\")"
   ]
  },
  {
   "cell_type": "markdown",
   "id": "4ecb74aa",
   "metadata": {},
   "source": [
    "Load the `bio3D` package"
   ]
  },
  {
   "cell_type": "code",
   "execution_count": null,
   "id": "06bb0a5f",
   "metadata": {},
   "outputs": [],
   "source": [
    "library(bio3d)"
   ]
  },
  {
   "cell_type": "markdown",
   "id": "796075fc",
   "metadata": {},
   "source": [
    "Read the starting PDB file to determine atom correspondence"
   ]
  },
  {
   "cell_type": "code",
   "execution_count": null,
   "id": "98672054",
   "metadata": {},
   "outputs": [],
   "source": [
    "pdb <- read.pdb(file = \"2GEF\")\n",
    "pdb"
   ]
  },
  {
   "cell_type": "markdown",
   "id": "3100aae1",
   "metadata": {},
   "source": [
    "View the contents of the `pdb` object."
   ]
  },
  {
   "cell_type": "code",
   "execution_count": null,
   "id": "a67ce27e",
   "metadata": {},
   "outputs": [],
   "source": [
    "attributes(pdb)"
   ]
  },
  {
   "cell_type": "markdown",
   "id": "c654bf3e",
   "metadata": {},
   "source": [
    "`atom` - \"a data.frame containing all atomic coordinate ATOM and HETATM data, with a row per ATOM/HETATM and a column per record type. See below for details of the record type naming convention (useful for accessing columns).\"?? From documentation.<br>\n",
    "`xyz` - \"a numeric matrix of class \"xyz\" containing the ATOM and HETATM coordinate data.\"?? From documentation.<br>\n",
    "`seqres` - \"sequence from SEQRES field.\"?? From documentation.<br>\n",
    "`helix` - \"‘start’, ‘end’ and ‘length’ of H type sse, where start and end are residue numbers “resno”.\"?? From documentation.<br>\n",
    "`sheet` - \"‘start’, ‘end’ and ‘length’ of E type sse, where start and end are residue numbers “resno”.\"?? From documentation.<br>\n",
    "`calpha` - \"logical vector with length equal to nrow(atom) with TRUE values indicating a C-alpha “elety”.\"?? From documentation.<br>\n",
    "`remark` - \"a list object containing information taken from 'REMARK' records of a \"pdb\". It can be used for building biological units (See biounit). Print the read.pdb() command.\"?? From documentation.<br>\n",
    "`call` - Print the read.pdb() command."
   ]
  },
  {
   "cell_type": "markdown",
   "id": "06ab056e",
   "metadata": {},
   "source": [
    "`atom`"
   ]
  },
  {
   "cell_type": "code",
   "execution_count": null,
   "id": "e1bb128d",
   "metadata": {},
   "outputs": [],
   "source": [
    "pdb$atom"
   ]
  },
  {
   "cell_type": "markdown",
   "id": "5afc5a3c",
   "metadata": {},
   "source": [
    "`xyz`"
   ]
  },
  {
   "cell_type": "code",
   "execution_count": null,
   "id": "0b1a1df7",
   "metadata": {},
   "outputs": [],
   "source": [
    "pdb$xyz"
   ]
  },
  {
   "cell_type": "markdown",
   "id": "712fdd1c",
   "metadata": {},
   "source": [
    "`seqres`"
   ]
  },
  {
   "cell_type": "code",
   "execution_count": null,
   "id": "533596ca",
   "metadata": {},
   "outputs": [],
   "source": [
    "pdb$seqres"
   ]
  },
  {
   "cell_type": "markdown",
   "id": "2cae2a9c",
   "metadata": {},
   "source": [
    "`helix`"
   ]
  },
  {
   "cell_type": "code",
   "execution_count": null,
   "id": "13b345b5",
   "metadata": {},
   "outputs": [],
   "source": [
    "pdb$helix"
   ]
  },
  {
   "cell_type": "markdown",
   "id": "6fac2340",
   "metadata": {},
   "source": [
    "`sheet`"
   ]
  },
  {
   "cell_type": "code",
   "execution_count": null,
   "id": "3cb0ee27",
   "metadata": {},
   "outputs": [],
   "source": [
    "pdb$sheet"
   ]
  },
  {
   "cell_type": "markdown",
   "id": "d59a1b0a",
   "metadata": {},
   "source": [
    "`calpha`"
   ]
  },
  {
   "cell_type": "code",
   "execution_count": null,
   "id": "1118eb1f",
   "metadata": {},
   "outputs": [],
   "source": [
    "pdb$calpha"
   ]
  },
  {
   "cell_type": "markdown",
   "id": "3b787519",
   "metadata": {},
   "source": [
    "`remark`"
   ]
  },
  {
   "cell_type": "code",
   "execution_count": null,
   "id": "fa47c4f6",
   "metadata": {},
   "outputs": [],
   "source": [
    "pdb$remark"
   ]
  },
  {
   "cell_type": "markdown",
   "id": "1603a8c6",
   "metadata": {},
   "source": [
    "`call`"
   ]
  },
  {
   "cell_type": "code",
   "execution_count": null,
   "id": "58e20795",
   "metadata": {},
   "outputs": [],
   "source": [
    "pdb$call"
   ]
  },
  {
   "cell_type": "markdown",
   "id": "71b7b8a7",
   "metadata": {},
   "source": [
    "`atom-select`"
   ]
  },
  {
   "cell_type": "code",
   "execution_count": null,
   "id": "718963a1",
   "metadata": {},
   "outputs": [],
   "source": [
    "ca.inds <- atom.select(pdb = pdb,\n",
    "                       string = \"calpha\")\n",
    "ca.inds"
   ]
  },
  {
   "cell_type": "markdown",
   "id": "b6f31b31",
   "metadata": {},
   "source": [
    "Function arguments: `atom.select`<br>\n",
    "`string`    a single selection keyword from calpha cbeta backbone sidechain protein nucleic ligand water `h` or `noh`.<br>\n",
    "`type`      a single element character vector for selecting `ATOM` or `HETATM` record types. <br>\n",
    "`eleno`     a numeric vector of element numbers. <br>\n",
    "`elena`     a character vector of atom names. <br>\n",
    "`elety`     a character vector of atom names. <br>\n",
    "`resid`     a character vector of residue name identifiers. <br>\n",
    "`chain`     a character vector of chain identifiers. <br>\n",
    "`resno`     a numeric vector of residue numbers. <br>\n",
    "`insert`    a character vector of insert identifiers. Non-insert residues can be selected with `NA` or ` ` values. The default value of NULL will select both insert and non-insert residues. <br>\n",
    "`segid`     a character vector of segment identifiers. <br>\n",
    "`operator`  a single element character specifying either the AND or OR operator by which individual selection components should be combined. Allowed values are ‘\"AND\"’ and ‘\"OR\"’. <br>\n",
    "`inverse`   logical, if `TRUE` the inversed selection is retured (i.e. all atoms NOT in the selection). <br>\n",
    "`value`     logical, if `FALSE`, vectors containing the (integer) indices of the matches determined by atom.select are returned, and if TRUE, a pdb object containing the matching atoms themselves is returned. <br>\n",
    "`statbit`   a character vector of statbit identifiers. <br>\n",
    "`prmtop`    a structure object of class \"prmtop\", obtained from `read.prmtop`. <br>\n",
    "`x`         a atom.select object as obtained from atom.select. <br>"
   ]
  },
  {
   "cell_type": "code",
   "execution_count": null,
   "id": "62beb446",
   "metadata": {
    "scrolled": true
   },
   "outputs": [],
   "source": [
    "# Plot B-factor\n",
    "bf <- pdb$atom$b[ca.inds$atom]\n",
    "plot.bio3d(x = bf,\n",
    "           resno = pdb,\n",
    "           sse = pdb,\n",
    "           ylab = \"B-factor\",\n",
    "           xlab = \"Residue\",\n",
    "           typ = \"l\")"
   ]
  },
  {
   "cell_type": "markdown",
   "id": "9a0f2ec5",
   "metadata": {},
   "source": [
    "## Structure Analysis"
   ]
  },
  {
   "cell_type": "markdown",
   "id": "619bc22f",
   "metadata": {},
   "source": [
    "Read a Protein Data Bank (mmCIF) coordinate file."
   ]
  },
  {
   "cell_type": "code",
   "execution_count": null,
   "id": "76589f79",
   "metadata": {},
   "outputs": [],
   "source": [
    "pdb <- read.pdb(file = \"2GEF\")\n",
    "structure_2GEF <- read.cif(file = \"2GEF\")"
   ]
  },
  {
   "cell_type": "code",
   "execution_count": null,
   "id": "84216573",
   "metadata": {},
   "outputs": [],
   "source": [
    "angle.xyz(xyz = as.numeric(pdb$xyz))\n",
    "\n",
    "inds <- atom.select(pdb = pdb,\n",
    "                    resno = 4,\n",
    "                    elety = c(\"N\", \"CA\", \"C\")\n",
    "                   )\n",
    "# ERROR AHEAD\n",
    "#angle.xyz(xyz = pdb$xyz[inds$xyz])\n",
    "\n",
    "## Basic stats of all N-CA-C bound angles\n",
    "inds <- atom.select(pdb, elety = c(\"N\",\"CA\",\"C\"))\n",
    "summary( angle.xyz(pdb$xyz[inds$xyz]) )\n",
    "hist(angle.xyz(pdb$xyz[inds$xyz]), xlab = \"Angle\")"
   ]
  },
  {
   "cell_type": "markdown",
   "id": "1f4d7946",
   "metadata": {},
   "source": [
    "**Select the commands and figure out how to make them work.**<br>\n",
    "`angle.xyz()` &emsp; Calculate the Angle Between Three Atoms<br>\n",
    "`biounit()` &emsp; Biological Units Construction<br>\n",
    "`blast.pdb()` `get.blast()` `plot(<blast>)` &emsp; NCBI BLAST Sequence Search and Summary Plot of Hit Statistics<br>\n",
    "`atom.select()` `print(<select>)` &emsp; Atom Selection from PDB and PRMTOP Structure Objects<br>\n",
    "`combine.select()` &emsp; Combine Atom Selections From PDB Structure<br>\n",
    "`cmap()` &emsp; Contact Map<br>\n",
    "`filter.cmap()` &emsp; Contact Map Consensus Filtering<br>\n",
    "`core.find()` &emsp; Identification of Invariant Core Positions<br>\n",
    "`core.cmap()` &emsp; Identification of Contact Map Core Positions<br>\n",
    "`com()` &emsp; Center of Mass<br>\n",
    "`dccm()` &emsp; DCCM: Dynamical Cross-Correlation Matrix<br>\n",
    "`filter.dccm()` &emsp; Filter for Cross-correlation Matrices (Cij)<br>\n",
    "`dist.xyz()` &emsp; Calculate the Distances Between the Rows of Two Matrices<br>\n",
    "`dm()` &emsp; Distance Matrix Analysis<br>\n",
    "`dssp()` `stride()` `print(<sse>)` &emsp; Secondary Structure Analysis with DSSP or STRIDE<br>\n",
    "`geostas()` `amsm.xyz()` `print(<geostas>)` &emsp; GeoStaS Domain Finder<br>\n",
    "`mustang()` &emsp; Structure-based Sequence Alignment with MUSTANG<br>\n",
    "`fit.xyz()` `rot.lsq()` &emsp; Coordinate Superposition<br>\n",
    "`binding.site()` &emsp; Binding Site Residues<br>\n",
    "`mktrj()` &emsp; PCA / NMA Atomic Displacement Trajectory<br>\n",
    "`overlap()` &emsp; Overlap analysis<br>\n",
    "`pca()` &emsp; Principal Component Analysis<br>\n",
    "`pca(<xyz>)` `print(<pca>)` &emsp; Principal Component Analysis<br>\n",
    "`pca(<pdbs>)` &emsp; Principal Component Analysis<br>\n",
    "`pca(<array>)` &emsp; Principal Component Analysis of an array of matrices<br>\n",
    "`pca(<tor>)` &emsp; Principal Component Analysis<br>\n",
    "`dccm(<pca>)` &emsp; Dynamical Cross-Correlation Matrix from Principal Component Analysis<br>\n",
    "`project.pca()` `z2xyz.pca()` `xyz2z.pca()` &emsp; Project Data onto Principal Components<br>\n",
    "`pdbaln()` &emsp; Sequence Alignment of PDB Files<br>\n",
    "`pdb.annotate()` pdb.pfam() &emsp; Get Customizable Annotations From PDB Or PFAM Databases<br>\n",
    "`pdb2aln()` &emsp; Align a PDB structure to an existing alignment<br>\n",
    "`pdb2aln.ind()` &emsp; Mapping from alignment positions to PDB atomic indices<br>\n",
    "`pdb2sse()` &emsp; Obtain An SSE Sequence Vector From A PDB Object<br>\n",
    "`pdbs2sse()` &emsp; SSE annotation for a PDBs Object<br>\n",
    "`pdbfit()` &emsp; PDB File Coordinate Superposition<br>\n",
    "`chain.pdb()` &emsp; Find Possible PDB Chain Breaks<br>\n",
    "`convert.pdb()` &emsp; Renumber and Convert Between Various PDB formats<br>\n",
    "`rgyr()` &emsp; Radius of Gyration<br>\n",
    "`rmsd()` &emsp; Root Mean Square Deviation<br>\n",
    "`filter.rmsd()` &emsp; RMSD Filter<br>\n",
    "`rmsf()` &emsp; Atomic RMS Fluctuations<br>\n",
    "`rmsip()` &emsp; Root Mean Square Inner Product<br>\n",
    "`struct.aln()` &emsp; Structure Alignment Of Two PDB Files<br>\n",
    "`torsion.pdb()` &emsp; Calculate Mainchain and Sidechain Torsion/Dihedral Angles<br>\n",
    "`torsion.xyz()` &emsp; Calculate Torsion/Dihedral Angles<br>\n",
    "`wrap.tor()` &emsp; Wrap Torsion Angle Data<br>\n",
    "`aa2mass()` &emsp; Amino Acid Residues to Mass Converter<br>\n",
    "`aa.table` &emsp; Table of Relevant Amino Acids<br>\n",
    "`atom.index` &emsp; Atom Names/Types<br>\n",
    "`atom2mass()` &emsp; Atom Names/Types to Mass Converter<br>\n",
    "`atom2ele()` &emsp; Atom Names/Types to Atomic Symbols Converter<br>\n",
    "`cov(<nma>)` `cov(<enma>)` &emsp; Calculate Covariance Matrix from Normal Modes<br>\n",
    "`dccm(<enma>)` &emsp; Cross-Correlation for Ensemble NMA (eNMA)<br>\n",
    "`dccm(<nma>)` &emsp; Dynamic Cross-Correlation from Normal Modes Analysis<br>\n",
    "`dccm(<xyz>)` &emsp; Dynamical Cross-Correlation Matrix from Cartesian Coordinates<br>\n",
    "`deformation.nma()` &emsp; Deformation Analysis<br>\n",
    "`fluct.nma()` &emsp; NMA Fluctuations<br>\n",
    "`inner.prod()` &emsp; Mass-weighted Inner Product<br>\n",
    "`load.enmff()` `ff.calpha()` `ff.anm()` `ff.pfanm()` `ff.sdenm()` `ff.reach()` `ff.aaenm()` `ff.aaenm2()` &emsp; ENM Force Field Loader\n",
    "`nma()` &emsp; Normal Mode Analysis<br>\n",
    "`nma(<pdb>)` `build.hessian()` `print(<nma>)` &emsp; Normal Mode Analysis<br>\n",
    "`nma(<pdbs>)` `print(<enma>)` &emsp; Ensemble Normal Mode Analysis<br>\n",
    "`normalize.vector()` &emsp; Mass-Weighted Normalized Vector<br>\n",
    "`pdbs2pdb()` &emsp; PDBs to PDB Converter<br>\n",
    "`plot(<enma>)` &emsp; Plot eNMA Results<br>\n",
    "`plot(<nma>)` &emsp; Plot NMA Results<br>\n",
    "`plot(<rmsip>)` &emsp; Plot RMSIP Results<br>\n",
    "`sdENM` &emsp; Index for the sdENM ff<br>\n",
    "`sse.bridges()` &emsp; SSE Backbone Hydrogen Bonding<br>\n",
    "`var.xyz()` `var.pdbs()` &emsp; Pairwise Distance Variance in Cartesian Coordinates<br>\n",
    "`inspect.connectivity()` &emsp; Check the Connectivity of Protein Structures"
   ]
  },
  {
   "cell_type": "code",
   "execution_count": null,
   "id": "c581ad49",
   "metadata": {},
   "outputs": [],
   "source": [
    "## ??\n",
    "loop <- pdb$sheet$end[3]:pdb$helix$start[1]\n",
    "\n",
    "loop.inds <- atom.select(pdb = pdb,\n",
    "                         resno = loop,\n",
    "                         elety = \"CA\")\n",
    "\n",
    "pdb$atom[loop.inds$atom, \"resid\"]"
   ]
  },
  {
   "cell_type": "markdown",
   "id": "969b8332",
   "metadata": {},
   "source": [
    "Trajectory Frame Superposition on Calpha atoms"
   ]
  },
  {
   "cell_type": "code",
   "execution_count": null,
   "id": "23a699b9",
   "metadata": {},
   "outputs": [],
   "source": [
    "ca.inds <- atom.select(pdb = pdb,\n",
    "                       elety = \"CA\")"
   ]
  },
  {
   "cell_type": "code",
   "execution_count": null,
   "id": "dd0ddef1",
   "metadata": {},
   "outputs": [],
   "source": [
    "# Need to figure out how to read.dcd(), or read.crd(). Nevermind, used read.cif()\n",
    "xyz <- fit.xyz(fixed = pdb$xyz,\n",
    "               mobile = structure_2GEF,\n",
    "               fixed.inds = ca.inds$xyz,\n",
    "               mobile.inds = ca.inds$xyz)\n",
    "xyz"
   ]
  },
  {
   "cell_type": "code",
   "execution_count": null,
   "id": "6182f82f",
   "metadata": {},
   "outputs": [],
   "source": [
    "# Not working correctly. Need to check earlier steps.\n",
    "\n",
    "# How many rows (frames) and columns (coords) present in structure_2GEF?\n",
    "dim(structure_2GEF)\n",
    "ncol(structure_2GEF) == length(pdb$xyz)"
   ]
  },
  {
   "cell_type": "markdown",
   "id": "9a84a9be",
   "metadata": {},
   "source": [
    "**Root Mean Square Deviation (RMSD)**"
   ]
  },
  {
   "cell_type": "code",
   "execution_count": null,
   "id": "2ae14d79",
   "metadata": {},
   "outputs": [],
   "source": [
    "rd <- rmsd(xyz[1, ca.inds$xyz], xyz[, ca.inds$xyz])"
   ]
  },
  {
   "cell_type": "code",
   "execution_count": null,
   "id": "d88545e1",
   "metadata": {},
   "outputs": [],
   "source": [
    "# Not working correctly. Need to check earlier steps.\n",
    "plot(rd, typ = \"l\", ylab = \"RMSD\", xlab = \"Frame No.\")"
   ]
  },
  {
   "cell_type": "markdown",
   "id": "e044d13c",
   "metadata": {},
   "source": [
    "Visualize Bio3D structure objects in PyMOL"
   ]
  },
  {
   "cell_type": "code",
   "execution_count": null,
   "id": "15a2be6e",
   "metadata": {},
   "outputs": [],
   "source": [
    "py <- pdbaln(files = \"2GEF\")\n",
    "pymol(pdbs = py,\n",
    "     as = \"cartoon\")\n",
    "#motif.find(pdb)"
   ]
  },
  {
   "cell_type": "markdown",
   "id": "ba22b461",
   "metadata": {},
   "source": [
    "## Multiple sequences"
   ]
  },
  {
   "cell_type": "markdown",
   "id": "acde0032",
   "metadata": {},
   "source": [
    "Protein sequences<br>\n",
    "`2GEF`<br>\n",
    "`2PNL`<br>\n",
    "`2PNM`<br>\n",
    "`3P06`<br>\n",
    "`4IZJ`<br>\n",
    "`4IZK`<br>"
   ]
  },
  {
   "cell_type": "code",
   "execution_count": null,
   "id": "abde3b24",
   "metadata": {},
   "outputs": [],
   "source": [
    "multiple_pdbs <- c(\"2GEF\", \"2PNL\", \"2PNM\", \"3P06\", \"4IZJ\", \"4IZK\")\n",
    "raw.files <- get.pdb(multiple_pdbs)"
   ]
  },
  {
   "cell_type": "code",
   "execution_count": null,
   "id": "44a4a400",
   "metadata": {},
   "outputs": [],
   "source": [
    "# Extract and align the sequences we are interested in.\n",
    "\n",
    "# Sequence alignment requires MUSCLE. Need to install it when using a proper tool.\n",
    "\n",
    "files <- pdbsplit(pdb.files = raw.files,\n",
    "                  ids = multiple_pdbs,\n",
    "                  path = \"split_chain\"\n",
    "                 )\n",
    "\n",
    "pdbs <- pdbaln(files)"
   ]
  },
  {
   "cell_type": "code",
   "execution_count": null,
   "id": "0b57739d",
   "metadata": {},
   "outputs": [],
   "source": [
    "# Calculate sequence identity\n",
    "pdbs$id <- substr(basename(pdbs$id),\n",
    "                  1,\n",
    "                  6)\n",
    "seqidentity(pdbs)"
   ]
  }
 ],
 "metadata": {
  "kernelspec": {
   "display_name": "R",
   "language": "R",
   "name": "ir"
  },
  "language_info": {
   "codemirror_mode": "r",
   "file_extension": ".r",
   "mimetype": "text/x-r-source",
   "name": "R",
   "pygments_lexer": "r",
   "version": "4.1.2"
  }
 },
 "nbformat": 4,
 "nbformat_minor": 5
}
