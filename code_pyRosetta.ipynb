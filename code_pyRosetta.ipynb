{
  "nbformat": 4,
  "nbformat_minor": 0,
  "metadata": {
    "colab": {
      "provenance": [],
      "collapsed_sections": [
        "IQ7L_kAumcQh",
        "iVxb5d--BIlD",
        "lwQRdviHKsza",
        "jAz8agIULdcU",
        "FI9jAPqTL4dk",
        "td3amVorL60o",
        "aoRFnrYDO5dp",
        "7AuVL0P_QCRs",
        "9-nLKza6Xdxh"
      ]
    },
    "kernelspec": {
      "name": "python3",
      "display_name": "Python 3"
    },
    "language_info": {
      "name": "python"
    }
  },
  "cells": [
    {
      "cell_type": "markdown",
      "source": [
        "Python Version"
      ],
      "metadata": {
        "id": "6ten_uCrmCTw"
      }
    },
    {
      "cell_type": "code",
      "source": [
        "from platform import python_version\n",
        "python_version()"
      ],
      "metadata": {
        "colab": {
          "base_uri": "https://localhost:8080/",
          "height": 35
        },
        "id": "r4F8fPZ6mCAg",
        "outputId": "47eb3085-b656-42bd-c55d-5eb071c76abe"
      },
      "execution_count": null,
      "outputs": [
        {
          "output_type": "execute_result",
          "data": {
            "text/plain": [
              "'3.8.15'"
            ],
            "application/vnd.google.colaboratory.intrinsic+json": {
              "type": "string"
            }
          },
          "metadata": {},
          "execution_count": 1
        }
      ]
    },
    {
      "cell_type": "markdown",
      "source": [
        "# Biopython\n",
        "A set of libraries for analysis of biological data."
      ],
      "metadata": {
        "id": "dboGUs9bmHwL"
      }
    },
    {
      "cell_type": "markdown",
      "source": [
        "## Installation"
      ],
      "metadata": {
        "id": "IQ7L_kAumcQh"
      }
    },
    {
      "cell_type": "code",
      "source": [
        "pip install biopython"
      ],
      "metadata": {
        "colab": {
          "base_uri": "https://localhost:8080/"
        },
        "id": "LqAy9F1cmR2J",
        "outputId": "cb6e459f-e4d3-4472-d764-0cad8240f66e"
      },
      "execution_count": null,
      "outputs": [
        {
          "output_type": "stream",
          "name": "stdout",
          "text": [
            "Looking in indexes: https://pypi.org/simple, https://us-python.pkg.dev/colab-wheels/public/simple/\n",
            "Collecting biopython\n",
            "  Downloading biopython-1.80-cp38-cp38-manylinux_2_17_x86_64.manylinux2014_x86_64.whl (3.1 MB)\n",
            "\u001b[K     |████████████████████████████████| 3.1 MB 5.1 MB/s \n",
            "\u001b[?25hRequirement already satisfied: numpy in /usr/local/lib/python3.8/dist-packages (from biopython) (1.21.6)\n",
            "Installing collected packages: biopython\n",
            "Successfully installed biopython-1.80\n"
          ]
        }
      ]
    },
    {
      "cell_type": "code",
      "source": [
        "# version installed\n",
        "import Bio\n",
        "print(Bio.__version__)"
      ],
      "metadata": {
        "colab": {
          "base_uri": "https://localhost:8080/"
        },
        "id": "hn0F20ChmVj6",
        "outputId": "8cf9e67c-1726-4401-943d-24baddc9ec40"
      },
      "execution_count": null,
      "outputs": [
        {
          "output_type": "stream",
          "name": "stdout",
          "text": [
            "1.80\n"
          ]
        }
      ]
    },
    {
      "cell_type": "markdown",
      "source": [
        "## Sequencing Data "
      ],
      "metadata": {
        "id": "COXaFOw_nfLJ"
      }
    },
    {
      "cell_type": "markdown",
      "source": [
        "Multiple file formats can be used to read, write and index. For more detail, click [here](https://biopython.org/wiki/SeqIO)\n",
        "\n",
        "* Provides a simple uniform interface to input and output assorted sequence file formats (including multiple sequence alignments)\n",
        "* Will only deal with sequences as SeqRecord objects\n",
        "* File formats:\n",
        "  * `abi`\n",
        "  * `cif-atoms`\n",
        "  * `clustal`\n",
        "  * `fasta`\n",
        "  * `pdb-seqres`\n",
        "  * `pdb-atom`\n",
        "  * `swiss`\n",
        "\n",
        "* Note: When using Bio.SeqIO for alignment, make sure all the sequences are the same length (aka. they need to include gaps)"
      ],
      "metadata": {
        "id": "lHBhxzGP_6Ca"
      }
    },
    {
      "cell_type": "markdown",
      "source": [
        "### Drosophila X Virus"
      ],
      "metadata": {
        "id": "uZCmEOpMeOda"
      }
    },
    {
      "cell_type": "markdown",
      "source": [
        "View the complete sequence for [Drosophila X Virus Segment A](https://www.ncbi.nlm.nih.gov/gene/993338) using Bio.SeqIO.\n",
        "\n",
        "Note:\n",
        "* Organism: Drosophila X virus\n",
        "* Molecule type: genomic RNA\n",
        "* Gene: 1 to 3099\n",
        "* Locus tag: DxvsAgp1\n",
        "* For more detail, click [here](https://www.ncbi.nlm.nih.gov/nuccore/NC_004177.1?report=genbank&from=108&to=3206)"
      ],
      "metadata": {
        "id": "A7ef684JeXDN"
      }
    },
    {
      "cell_type": "code",
      "source": [
        "gene_record = SeqIO.read(\"/content/google_drive/MyDrive/vp4_protease_structure/drosophila_x_virus_segment_A_complete_sequence.fasta\", \"fasta\")\n",
        "print(gene_record.seq)"
      ],
      "metadata": {
        "colab": {
          "base_uri": "https://localhost:8080/"
        },
        "id": "ilt-pLTReIdi",
        "outputId": "d875b24e-1fb3-4269-9254-a450da57400f"
      },
      "execution_count": 243,
      "outputs": [
        {
          "output_type": "stream",
          "name": "stdout",
          "text": [
            "ATGAATACGACAAACGAATACTTGAAAACTCTTTTAAACCCAGCACAATTTATCTCAGACATTCCTGATGATATAATGATCCGACACGTAAACAGCGCCCAGACCATCACCTACAACTTGAAGTCAGGGGCCTCTGGCACCGGCCTGATCGTGGTCTATCCAAACACCCCGTCGAGTATTAGCGGCTTCCATTACATATGGGATTCCGCTACCTCGAATTGGGTGTTTGATCAGTACATCTACACAGCTCAGGAGTTGAAGGACTCATATGACTATGGCAGACTGATTTCAGGCTCGCTAAGCATTAAGTCCAGCACCTTACCTGCGGGTGTTTATGCACTGAATGGCACATTCAATGCAGTCTGGTTCCAAGGGACCTTGAGTGAAGTGTCTGACTACTCTTACGATAGGATCCTGTCAATAACATCCAATCCTCTGGATAAGGTTGGAAATGTGTTGGTTGGAGACGGCATAGAGGTTCTAAGCCTGCCGCAGGGGTTCAACAACCCCTACGTTAGGCTGGGTGACAAGTCACCGTCCACTCTATCCTCTCCAACCCACATAACCAACACTTCCCAGAACTTGGCTACGGGAGGTGCATACATGATCCCAGTAACCACAGTTCCTGGGCAAGGATTCCATAACAAGGAATTCAGCATTAATGTGGACTCCGTAGGGCCAGTTGACATCTTGTGGTCTGGTCAAATGACTATGCAGGACGAATGGACTGTAACTGCAAATTATCAACCATTGAACATCTCTGGCACGCTAATTGCAAACAGTCAGCGAACCCTAACATGGTCCAACACTGGTGTATCCAATGGCAGCCACTACATGAACATGAACAACCTTAATGTCTCCCTTTTCCATGAGAATCCACCACCTGAACCCGTTGCCGCCATAAAAATAAACATCAATTATGGAAACAACACCAATGGTGACAGCTCGTTCAGTGTGGACTCATCATTTACCATCAATGTCATTGGGGGCGCCACCATTGGCGTCAACTCTCCAACAGTCGGTGTTGGTTACCAAGGAGTAGCTGAGGGCACCGCCATTACAATTAGCGGTATCAACAACTATGAGCTGGTACCCAATCCGGACTTGCAAAAGAACCTGCCAATGACATATGGCACTTGTGATCCACATGATTTGACTTACATCAAGTACATACTGTCAAACCGAGAACAGTTGGGACTTAGGTCAGTGATGACCTTGGCCGACTACAATAGGATGAAGATGTACATGCATGTACTGACGAACTATCATGTCGATGAGAGGGAAGCATCGAGCTTCGATTTCTGGCAACTACTGAAACAGATAAAAAATGTTGCCGTGCCCTTGGCAGCTACACTTGCCCCCCAGTTCGCACCAATAATCGGTGCTGCCGATGGGTTAGCCAATGCAATATTGGGTGATAGCGCCAGCGGAAGGCCTGTTGGCAATTCCGCTAGCGGTATGCCCATTTCAATGAGTAGGCGTCTTAGAAACGCTTACTCAGCTGACTCCCCCTTAGGTGAAGAGCATTGGCTGCCAAACGAGAATGAGAACTTCAATAAATTTGACATCATCTATGACGTATCACATTCATCCATGGCTTTATTTCCAGTCATAATGATGGAACATGACAAAGTCATTCCATCCGACCCTGAGGAGCTGTATATTGCTGTATCACTAACAGAATCCCTCAGGAAGCAAATACCGAACCTCAATGACATGCCATACTATGAGATGGGTGGCCATAGGGTGTACAACTCCGTTTCCTCAAACGTAAGATCTGGAAATTTTTTAAGAAGCGATTACATCCTCCTACCATGCTATCAATTATTAGAAGGAAGACTCGCATCGTCGACATCACCAAACAAGGTAACGGGAACGTCCCACCAGCTTGCCATTTATGCAGCAGACGACTTACTAAAGAGTGGAGTTTTGGGGAAGGCACCATTTGCAGCTTTCACAGGATCCGTTGTCGGGTCCAGTGTGGGAGAAGTTTTTGGCATCAACCTGAAACTCCAATTGACGGACTCTCTTGGGATTCCACTACTTGGGAACTCACCAGGATTAGTTCAAGTAAAGACCCTGACATCTCTGGACAAAAAGATAAAAGATATGGGAGACGTAAAGAGAAGAACCCCAAAACAGACCCTCCCGCACTGGACAGCCGGGTCCGCGAGCATGAACCCATTCATGAACACGAACCCATTCCTGGAAGAGTTGGACCAGCCGATACCAAGCAACGCTGCAAAGCCAATCTCCGAGGAGACTCGGGATTTGTTTCTATCGGACGGTCAAACCATCCCAAGCTCTCAAGAGAAGATTGCCACAATACACGAGTACCTCCTGGAACACAAGGAGTTAGAGGAGGCAATGTTCAGCTTGATAAGCCAAGGGAGAGGCCGGTCTCTTATCAACATGGTAGTAAAAAGCGCTCTGAACATCGAAACCCAGTCTCGAGAAGTCACCGGCGAAAGAAGGCAAAGACTAGAACGAAAACTTCGAAACTTGGAAAATCAAGGGATATATGTTGATGAGAGCAAAATAATGTCAAGAGGAAGAATATCGAAAGAAGACACGGAACTAGCAATGAGGATTGCTCGGAAGAACCAAAAGGATGCAAAGTTACGGAGAATCTATAGCAATAACGCCTCGATCCAAGAGTCGTACACTGTGGATGACTTTGTATCCTATTGGATGGAGCAGGAGTCATTGCCTACTGGCATACAAATCGCAATGTGGTTAAAGGGTGACGATTGGTCCCAGCCAATACCACCTCGTGTCCAAAGACGACACTATGACAGCTACATTATGATGCTTGGGCCGTCACCAACCCAAGAACAAGCCGATGCTGTTAAGGACCTTGTCGACGACATATACGACAGAAATCAAGGGAAGGGGCCATCCCAGGAACAAGCTCGGGAATTAAGTCATGCTGTCCGCAGGCTTATTTCGCACTCACTTGTCAACCAACCGGCAACTGCTCCTAGAGTCCCCCCACGCCGAATTGTATCAGCTCAGACTGCTCAAACTGATCCCCCCGGAAGGAGGGCCGCACTTGACCGATTGCGAAGAGTGCGTGGAGAGGACAATGACATTGTATAA\n"
          ]
        }
      ]
    },
    {
      "cell_type": "code",
      "source": [
        "print(\"Sequence length (bp)\", len(gene_record))"
      ],
      "metadata": {
        "colab": {
          "base_uri": "https://localhost:8080/"
        },
        "id": "p7Ho8XBbebC-",
        "outputId": "304768ec-9bf2-4933-d9ff-99eb52c0847c"
      },
      "execution_count": 244,
      "outputs": [
        {
          "output_type": "stream",
          "name": "stdout",
          "text": [
            "Sequence length (bp) 3099\n"
          ]
        }
      ]
    },
    {
      "cell_type": "markdown",
      "source": [
        "View the complete amino acid sequence for [Drosophila X Virus Polyprotein](https://www.ncbi.nlm.nih.gov/protein/1545998) using `Bio.SeqIO`\n",
        "\n",
        "* Chromosome: Segment A\n",
        "* Region 2 to 442: Birnavirus VP2 protein\n",
        "* Region 44 to 702: Birnavirus VP4 protein\n",
        "* Region 734 to 983: Birnavirus VP3 protein"
      ],
      "metadata": {
        "id": "SEH-oAINednq"
      }
    },
    {
      "cell_type": "code",
      "source": [
        "polyprotein_record = SeqIO.read(\"/content/google_drive/MyDrive/vp4_protease_structure/polyprotein_Drosophila_X_virus_sequence.fasta\", \"fasta\")\n",
        "print(polyprotein_record.seq)"
      ],
      "metadata": {
        "colab": {
          "base_uri": "https://localhost:8080/"
        },
        "id": "if6pQ8W9erH3",
        "outputId": "89f7c929-b474-4e17-b3dc-c0e0d360fbb7"
      },
      "execution_count": 245,
      "outputs": [
        {
          "output_type": "stream",
          "name": "stdout",
          "text": [
            "MNTTNEYLKTLLNPAQFISDIPDDIMIRHVNSAQTITYNLKSGASGTGLIVVYPNTPSSISGFHYIWDSATSNWVFDQYIYTAQELKDSYDYGRLISGSLSIKSSTLPAGVYALNGTFNAVWFQGTLSEVSDYSYDRILSITSNPLDKVGNVLVGDGIEVLSLPQGFNNPYVRLGDKSPSTLSSPTHITNTSQNLATGGAYMIPVTTVPGQGFHNKEFSINVDSVGPVDILWSGQMTMQDEWTVTANYQPLNISGTLIANSQRTLTWSNTGVSNGSHYMNMNNLNVSLFHENPPPEPVAAIKININYGNNTNGDSSFSVDSSFTINVIGGATIGVNSPTVGVGYQGVAEGTAITISGINNYELVPNPDLQKNLPMTYGTCDPHDLTYIKYILSNREQLGLRSVMTLADYNRMKMYMHVLTNYHVDEREASSFDFWQLLKQIKNVAVPLAATLAPQFAPIIGAADGLANAILGDSASGRPVGNSASGMPISMSRRLRNAYSADSPLGEEHWLPNENENFNKFDIIYDVSHSSMALFPVIMMEHDKVIPSDPEELYIAVSLTESLRKQIPNLNDMPYYEMGGHRVYNSVSSNVRSGNFLRSDYILLPCYQLLEGRLASSTSPNKVTGTSHQLAIYAADDLLKSGVLGKAPFAAFTGSVVGSSVGEVFGINLKLQLTDSLGIPLLGNSPGLVQVKTLTSLDKKIKDMGDVKRRTPKQTLPHWTAGSASMNPFMNTNPFLEELDQPIPSNAAKPISEETRDLFLSDGQTIPSSQEKIATIHEYLLEHKELEEAMFSLISQGRGRSLINMVVKSALNIETQSREVTGERRQRLERKLRNLENQGIYVDESKIMSRGRISKEDTELAMRIARKNQKDAKLRRIYSNNASIQESYTVDDFVSYWMEQESLPTGIQIAMWLKGDDWSQPIPPRVQRRHYDSYIMMLGPSPTQEQADAVKDLVDDIYDRNQGKGPSQEQARELSHAVRRLISHSLVNQPATAPRVPPRRIVSAQTAQTDPPGRRAALDRLRRVRGEDNDIV\n"
          ]
        }
      ]
    },
    {
      "cell_type": "code",
      "source": [
        "print(\"Sequence length (bp)\", len(polyprotein_record))"
      ],
      "metadata": {
        "colab": {
          "base_uri": "https://localhost:8080/"
        },
        "id": "KuGTYEBWes1W",
        "outputId": "5833be3a-4c9b-4449-b1e6-c9d3e1929f64"
      },
      "execution_count": 246,
      "outputs": [
        {
          "output_type": "stream",
          "name": "stdout",
          "text": [
            "Sequence length (bp) 1032\n"
          ]
        }
      ]
    },
    {
      "cell_type": "markdown",
      "source": [
        "#### `SeqRecord` class"
      ],
      "metadata": {
        "id": "mq3dI1W6ew8i"
      }
    },
    {
      "cell_type": "markdown",
      "source": [
        "* The only class of object returned by `SeqIO`.\n",
        "* Extracting information from a `SeqRecord` object. Note: it depends on the file format (e.g. FASTA, GenBank).\n",
        "* View all the information held in this object via: `print(record)`"
      ],
      "metadata": {
        "id": "rsj1fWD-e0Fd"
      }
    },
    {
      "cell_type": "code",
      "source": [
        "from Bio import SeqIO\n",
        "for polyprotein_record in SeqIO.parse(\"/content/google_drive/MyDrive/vp4_protease_structure/polyprotein_Drosophila_X_virus_sequence.fasta\", \"fasta\"):\n",
        "    print(polyprotein_record)"
      ],
      "metadata": {
        "colab": {
          "base_uri": "https://localhost:8080/"
        },
        "id": "KPPIUQuse8XH",
        "outputId": "c6b0fbb5-1478-4a14-bcd1-f1ad26dd4f58"
      },
      "execution_count": 248,
      "outputs": [
        {
          "output_type": "stream",
          "name": "stdout",
          "text": [
            "ID: AAB16798.1\n",
            "Name: AAB16798.1\n",
            "Description: AAB16798.1 polyprotein [Drosophila X virus]\n",
            "Number of features: 0\n",
            "Seq('MNTTNEYLKTLLNPAQFISDIPDDIMIRHVNSAQTITYNLKSGASGTGLIVVYP...DIV')\n"
          ]
        }
      ]
    },
    {
      "cell_type": "code",
      "source": [
        "print(\"ID\", polyprotein_record.id)\n",
        "print(\"Name\", polyprotein_record.name)\n",
        "print(\"Description\", polyprotein_record.description)\n",
        "print(\"Sequence\", polyprotein_record.seq)\n",
        "print(\"Number of features\", polyprotein_record.features) # empty"
      ],
      "metadata": {
        "colab": {
          "base_uri": "https://localhost:8080/"
        },
        "id": "eOdOmKUNe_c5",
        "outputId": "18690940-2473-475d-97b3-94a3cab98a29"
      },
      "execution_count": 249,
      "outputs": [
        {
          "output_type": "stream",
          "name": "stdout",
          "text": [
            "ID AAB16798.1\n",
            "Name AAB16798.1\n",
            "Description AAB16798.1 polyprotein [Drosophila X virus]\n",
            "Sequence MNTTNEYLKTLLNPAQFISDIPDDIMIRHVNSAQTITYNLKSGASGTGLIVVYPNTPSSISGFHYIWDSATSNWVFDQYIYTAQELKDSYDYGRLISGSLSIKSSTLPAGVYALNGTFNAVWFQGTLSEVSDYSYDRILSITSNPLDKVGNVLVGDGIEVLSLPQGFNNPYVRLGDKSPSTLSSPTHITNTSQNLATGGAYMIPVTTVPGQGFHNKEFSINVDSVGPVDILWSGQMTMQDEWTVTANYQPLNISGTLIANSQRTLTWSNTGVSNGSHYMNMNNLNVSLFHENPPPEPVAAIKININYGNNTNGDSSFSVDSSFTINVIGGATIGVNSPTVGVGYQGVAEGTAITISGINNYELVPNPDLQKNLPMTYGTCDPHDLTYIKYILSNREQLGLRSVMTLADYNRMKMYMHVLTNYHVDEREASSFDFWQLLKQIKNVAVPLAATLAPQFAPIIGAADGLANAILGDSASGRPVGNSASGMPISMSRRLRNAYSADSPLGEEHWLPNENENFNKFDIIYDVSHSSMALFPVIMMEHDKVIPSDPEELYIAVSLTESLRKQIPNLNDMPYYEMGGHRVYNSVSSNVRSGNFLRSDYILLPCYQLLEGRLASSTSPNKVTGTSHQLAIYAADDLLKSGVLGKAPFAAFTGSVVGSSVGEVFGINLKLQLTDSLGIPLLGNSPGLVQVKTLTSLDKKIKDMGDVKRRTPKQTLPHWTAGSASMNPFMNTNPFLEELDQPIPSNAAKPISEETRDLFLSDGQTIPSSQEKIATIHEYLLEHKELEEAMFSLISQGRGRSLINMVVKSALNIETQSREVTGERRQRLERKLRNLENQGIYVDESKIMSRGRISKEDTELAMRIARKNQKDAKLRRIYSNNASIQESYTVDDFVSYWMEQESLPTGIQIAMWLKGDDWSQPIPPRVQRRHYDSYIMMLGPSPTQEQADAVKDLVDDIYDRNQGKGPSQEQARELSHAVRRLISHSLVNQPATAPRVPPRRIVSAQTAQTDPPGRRAALDRLRRVRGEDNDIV\n",
            "Number of features []\n"
          ]
        }
      ]
    },
    {
      "cell_type": "markdown",
      "source": [
        "### Other application of `BioSeq.IO`:\n",
        "* parse\n",
        "* convert file format\n",
        "* generate random subsequences\n",
        "* filter by seqeuence length\n",
        "* write seqeunce output"
      ],
      "metadata": {
        "id": "LM-QXzm-fHlz"
      }
    },
    {
      "cell_type": "markdown",
      "source": [
        "### VP4 Protease"
      ],
      "metadata": {
        "id": "GCnACGdYeIte"
      }
    },
    {
      "cell_type": "markdown",
      "source": [
        "Parse the FASTA file for the four proteins. Can perform this for other file formats too."
      ],
      "metadata": {
        "id": "grYvf16Gudde"
      }
    },
    {
      "cell_type": "code",
      "source": [
        "from Bio import SeqIO\n",
        "bsnv = SeqIO.read(\"/content/drive/MyDrive/vp4_protease_structure/vp4_protease_sequence/rcsb_pdb_2GEF.fasta\", \"fasta\")\n",
        "ipnv_tri = SeqIO.read(\"/content/drive/MyDrive/vp4_protease_structure/vp4_protease_sequence/rcsb_pdb_2PNL.fasta\", \"fasta\")\n",
        "ipnv_hex = SeqIO.read(\"/content/drive/MyDrive/vp4_protease_structure/vp4_protease_sequence/rcsb_pdb_2PNM.fasta\", \"fasta\")\n",
        "tv_1 = SeqIO.read(\"/content/drive/MyDrive/vp4_protease_structure/vp4_protease_sequence/rcsb_pdb_3P06.fasta\", \"fasta\")\n",
        "\n",
        "print(bsnv)\n",
        "print(ipnv_tri)\n",
        "print(ipnv_hex)\n",
        "print(tv_1)"
      ],
      "metadata": {
        "colab": {
          "base_uri": "https://localhost:8080/"
        },
        "id": "_DOtEEKJmPPO",
        "outputId": "b2ef33af-875b-4a1e-d0f1-016c8864934f"
      },
      "execution_count": null,
      "outputs": [
        {
          "output_type": "stream",
          "name": "stdout",
          "text": [
            "ID: 2GEF_1|Chains\n",
            "Name: 2GEF_1|Chains\n",
            "Description: 2GEF_1|Chains A, B|Protease VP4|Blotched snakehead virus (311176)\n",
            "Number of features: 0\n",
            "Seq('MADLPISLLQTLAYKQPLGRNSRIVHFTDGALFPVVAFGDNHSTSELYIAVRGD...VTR')\n",
            "ID: 2PNL_1|Chains\n",
            "Name: 2PNL_1|Chains\n",
            "Description: 2PNL_1|Chains A, B, C, D, E, F, G, H, I, J|Protease VP4|Infectious pancreatic necrosis virus (11002)\n",
            "Number of features: 0\n",
            "Seq('GKFSRALKNRLESANYEEVELPPPSKGVIVPVVHTVKSAPGEAFGSLAIIIPGE...QRA')\n",
            "ID: 2PNM_1|Chain\n",
            "Name: 2PNM_1|Chain\n",
            "Description: 2PNM_1|Chain A|Protease VP4|Infectious pancreatic necrosis virus - Sp (11005)\n",
            "Number of features: 0\n",
            "Seq('LESANYEEVELPPPSKGVIVPVVHTVKSAPGEAFGSLAIIIPGEYPELLDANQQ...QRA')\n",
            "ID: 3P06_1|Chain\n",
            "Name: 3P06_1|Chain\n",
            "Description: 3P06_1|Chain A|VP4 protein|Tellina virus 1 (321302)\n",
            "Number of features: 0\n",
            "Seq('NGVELSAVGVLLPVLMDSGRRISGGAFMAVKGDLSEHIKNPKNTRIAQTVAGGT...AQA')\n"
          ]
        }
      ]
    },
    {
      "cell_type": "code",
      "source": [
        "print(tv_1.seq)"
      ],
      "metadata": {
        "colab": {
          "base_uri": "https://localhost:8080/"
        },
        "id": "a652qrSEG4lD",
        "outputId": "d19946e3-5eae-4d53-acd2-3d76fb552942"
      },
      "execution_count": 136,
      "outputs": [
        {
          "output_type": "stream",
          "name": "stdout",
          "text": [
            "NGVELSAVGVLLPVLMDSGRRISGGAFMAVKGDLSEHIKNPKNTRIAQTVAGGTIYGLSEMVNIDEAEKLPIKGAITVLPVVQATATSILVPDNQPQLAFNSWEAAACAADTLESQQTPFLMVTGAVESGNLSPNLLAVQKQLLVAKPAGIGLAANSDRALKVVTLEQLRQVVGDKPWRKPMVTFSSGKNVAQA\n"
          ]
        }
      ]
    },
    {
      "cell_type": "markdown",
      "source": [
        "View the type of information help in this object using the `dir()` function. Note: the `dir()` function returns all properties and methods of the specified object, without the values:\n",
        "> `dir(record)`\n",
        "\n",
        "*Replace* `record` *with object*"
      ],
      "metadata": {
        "id": "gvn4bsUoAbHZ"
      }
    },
    {
      "cell_type": "code",
      "source": [
        "dir(bsnv)"
      ],
      "metadata": {
        "colab": {
          "base_uri": "https://localhost:8080/"
        },
        "id": "cLodemGvAfg3",
        "outputId": "e0c823fb-495a-4437-98bc-46c388fbcd90"
      },
      "execution_count": null,
      "outputs": [
        {
          "output_type": "execute_result",
          "data": {
            "text/plain": [
              "['__add__',\n",
              " '__bool__',\n",
              " '__class__',\n",
              " '__contains__',\n",
              " '__delattr__',\n",
              " '__dict__',\n",
              " '__dir__',\n",
              " '__doc__',\n",
              " '__eq__',\n",
              " '__format__',\n",
              " '__ge__',\n",
              " '__getattribute__',\n",
              " '__getitem__',\n",
              " '__gt__',\n",
              " '__hash__',\n",
              " '__init__',\n",
              " '__init_subclass__',\n",
              " '__iter__',\n",
              " '__le__',\n",
              " '__len__',\n",
              " '__lt__',\n",
              " '__module__',\n",
              " '__ne__',\n",
              " '__new__',\n",
              " '__radd__',\n",
              " '__reduce__',\n",
              " '__reduce_ex__',\n",
              " '__repr__',\n",
              " '__setattr__',\n",
              " '__sizeof__',\n",
              " '__str__',\n",
              " '__subclasshook__',\n",
              " '__weakref__',\n",
              " '_per_letter_annotations',\n",
              " '_seq',\n",
              " '_set_per_letter_annotations',\n",
              " '_set_seq',\n",
              " 'annotations',\n",
              " 'count',\n",
              " 'dbxrefs',\n",
              " 'description',\n",
              " 'features',\n",
              " 'format',\n",
              " 'id',\n",
              " 'islower',\n",
              " 'isupper',\n",
              " 'letter_annotations',\n",
              " 'lower',\n",
              " 'name',\n",
              " 'reverse_complement',\n",
              " 'seq',\n",
              " 'translate',\n",
              " 'upper']"
            ]
          },
          "metadata": {},
          "execution_count": 74
        }
      ]
    },
    {
      "cell_type": "code",
      "source": [
        "#Sequence length for bsnv\n",
        "print(\"Sequence length (bp)\", len(bsnv))"
      ],
      "metadata": {
        "colab": {
          "base_uri": "https://localhost:8080/"
        },
        "id": "uflMn_9fmOKD",
        "outputId": "645cf6f5-727c-4170-923d-1f09d7805aa3"
      },
      "execution_count": null,
      "outputs": [
        {
          "output_type": "stream",
          "name": "stdout",
          "text": [
            "Sequence length (bp) 217\n"
          ]
        }
      ]
    },
    {
      "cell_type": "code",
      "source": [
        "# Note there are two chains\n",
        "from Bio.SeqUtils import GC, molecular_weight\n",
        "print(\"Molecular weight of Chain A:\", Bio.SeqUtils.molecular_weight(bsnv.seq, \"protein\"))"
      ],
      "metadata": {
        "colab": {
          "base_uri": "https://localhost:8080/"
        },
        "id": "ipj1F6IttYcV",
        "outputId": "66aad0d5-454c-4322-a8bf-01f5475e37aa"
      },
      "execution_count": null,
      "outputs": [
        {
          "output_type": "stream",
          "name": "stdout",
          "text": [
            "Molecular weight of Chain A: 23441.183599999982\n"
          ]
        }
      ]
    },
    {
      "cell_type": "markdown",
      "source": [
        "Convert DNA into RNA"
      ],
      "metadata": {
        "id": "5O7RrQZsoUkS"
      }
    },
    {
      "cell_type": "code",
      "source": [
        "def DNAtoRNA(dna):\n",
        "  convert_T_to_U = dna.maketrans('T', 'U')\n",
        "  generate_rna = dna.translate(convert_T_to_U)\n",
        "\n",
        "  return generate_rna\n",
        "\n",
        "dna_seq = \"ATTTAGGGCC\"\n",
        "DNAtoRNA(dna_seq)"
      ],
      "metadata": {
        "colab": {
          "base_uri": "https://localhost:8080/",
          "height": 35
        },
        "id": "tNCS2tAMof5k",
        "outputId": "f0eed3d6-ef19-41ab-dd45-7e46a81dae72"
      },
      "execution_count": null,
      "outputs": [
        {
          "output_type": "execute_result",
          "data": {
            "text/plain": [
              "'AUUUAGGGCC'"
            ],
            "application/vnd.google.colaboratory.intrinsic+json": {
              "type": "string"
            }
          },
          "metadata": {},
          "execution_count": 12
        }
      ]
    },
    {
      "cell_type": "markdown",
      "source": [
        "Other application of `BioSeq.IO`:\n",
        "parse\n",
        "* convert file format\n",
        "* generate random subsequences\n",
        "* filter by seqeuence length\n",
        "* write seqeunce output"
      ],
      "metadata": {
        "id": "FA97MsBHdAAQ"
      }
    },
    {
      "cell_type": "markdown",
      "source": [
        "# PyRosetta"
      ],
      "metadata": {
        "id": "iVxb5d--BIlD"
      }
    },
    {
      "cell_type": "markdown",
      "source": [
        "italicized text"
      ],
      "metadata": {
        "id": "JbkOo3keBbfE"
      }
    },
    {
      "cell_type": "markdown",
      "source": [],
      "metadata": {
        "id": "Dq0LXn8hBOkq"
      }
    },
    {
      "cell_type": "code",
      "source": [
        "!pip install pyrosettacolabsetup\n",
        "import pyrosettacolabsetup; pyrosettacolabsetup.install_pyrosetta()\n",
        "import pyrosetta; pyrosetta.init()"
      ],
      "metadata": {
        "colab": {
          "base_uri": "https://localhost:8080/"
        },
        "id": "SP5Q5JfionU9",
        "outputId": "cf12240b-2f3b-4cfa-c641-675645a267be"
      },
      "execution_count": 75,
      "outputs": [
        {
          "output_type": "stream",
          "name": "stdout",
          "text": [
            "Looking in indexes: https://pypi.org/simple, https://us-python.pkg.dev/colab-wheels/public/simple/\n",
            "Collecting pyrosettacolabsetup\n",
            "  Downloading pyrosettacolabsetup-1.0.6-py3-none-any.whl (4.7 kB)\n",
            "Installing collected packages: pyrosettacolabsetup\n",
            "Successfully installed pyrosettacolabsetup-1.0.6\n",
            "Mounted at /content/google_drive\n",
            "Looking for compatible PyRosetta wheel file at google-drive/PyRosetta/colab.bin/wheels...\n",
            "To obtain PyRosetta license please visit https://www.rosettacommons.org/software/license-and-download\n",
            "Please enter you RC license login:levinthal\n",
            "Please enter you RC license password:paradox\n",
            "Downloading PyRosetta package...\n",
            "\n",
            "Resolving west.rosettacommons.org (west.rosettacommons.org)... 128.95.160.153\n",
            "\n",
            "HTTP request sent, awaiting response... 401 Unauthorized\n",
            "Authentication selected: Basic realm=\"Rosetta Repo\"\n",
            "\n",
            "HTTP request sent, awaiting response... 302 Found\n",
            "Location: https://west.rosettacommons.org/pyrosetta/release/release/PyRosetta4.MinSizeRel.python38.ubuntu.wheel/pyrosetta-2022.47+release.d2aee95a6b7-cp38-cp38-linux_x86_64.whl [following]\n",
            "--2022-12-04 05:45:59--  https://west.rosettacommons.org/pyrosetta/release/release/PyRosetta4.MinSizeRel.python38.ubuntu.wheel/pyrosetta-2022.47+release.d2aee95a6b7-cp38-cp38-linux_x86_64.whl\n",
            "\n",
            "HTTP request sent, awaiting response... 200 OK\n",
            "Length: 1576542858 (1.5G)\n",
            "--2022-12-04 05:45:59--  https://west.rosettacommons.org/pyrosetta/release/release/PyRosetta4.MinSizeRel.python38.ubuntu.wheel/pyrosetta-2022.47+release.d2aee95a6b7-cp38-cp38-linux_x86_64.whl\n",
            "Reusing existing connection to west.rosettacommons.org:443.\n",
            "HTTP request sent, awaiting response... 200 OK\n",
            "Length: 1576542858 (1.5G)\n",
            "Saving to: ‘/content/google_drive/MyDrive/PyRosetta/colab.bin/tmpn3y746j9/pyrosetta-2022.47+release.d2aee95a6b7-cp38-cp38-linux_x86_64.whl’\n",
            "\n",
            "pyrosetta-2022.47+r 100%[===================>]   1.47G  34.3MB/s    in 52s     \n",
            "\n",
            "2022-12-04 05:46:51 (28.9 MB/s) - ‘/content/google_drive/MyDrive/PyRosetta/colab.bin/tmpn3y746j9/pyrosetta-2022.47+release.d2aee95a6b7-cp38-cp38-linux_x86_64.whl’ saved [1576542858/1576542858]\n",
            "Moving wheel file pyrosetta-2022.47+release.d2aee95a6b7-cp38-cp38-linux_x86_64.whl to target dir /content/google_drive/MyDrive/PyRosetta/colab.bin/wheels...\n",
            "Installing PyRosetta wheel '/content/google_drive/MyDrive/PyRosetta/colab.bin/wheels/pyrosetta-2022.47+release.d2aee95a6b7-cp38-cp38-linux_x86_64.whl'...\n",
            "Looking in indexes: https://pypi.org/simple, https://us-python.pkg.dev/colab-wheels/public/simple/\n",
            "\n",
            "\n",
            "PyRosetta-4 2022 [Rosetta PyRosetta4.MinSizeRel.python38.ubuntu 2022.47+release.d2aee95a6b7bf6ee70c5e2c7b29d0915e9112fa7 2022-11-23T13:33:36] retrieved from: http://www.pyrosetta.org\n",
            "(C) Copyright Rosetta Commons Member Institutions. Created in JHU by Sergey Lyskov and PyRosetta Team.\n",
            "core.init: Checking for fconfig files in pwd and ./rosetta/flags\n",
            "core.init: Rosetta version: PyRosetta4.MinSizeRel.python38.ubuntu r336 2022.47+release.d2aee95a6b7 d2aee95a6b7bf6ee70c5e2c7b29d0915e9112fa7 http://www.pyrosetta.org 2022-11-23T13:33:36\n",
            "core.init: command: PyRosetta -ex1 -ex2aro -database /usr/local/lib/python3.8/dist-packages/pyrosetta/database\n",
            "basic.random.init_random_generator: 'RNG device' seed mode, using '/dev/urandom', seed=-151459466 seed_offset=0 real_seed=-151459466\n",
            "basic.random.init_random_generator: RandomGenerator:init: Normal mode, seed=-151459466 RG_type=mt19937\n"
          ]
        }
      ]
    },
    {
      "cell_type": "markdown",
      "source": [
        "## `Pose` class in PyRosetta\n",
        "Includes different types of information that describe the protein structure"
      ],
      "metadata": {
        "id": "iJqxTzGtseF7"
      }
    },
    {
      "cell_type": "code",
      "source": [
        "from pyrosetta import *\n",
        "init()"
      ],
      "metadata": {
        "colab": {
          "base_uri": "https://localhost:8080/"
        },
        "id": "ari2LsLBrgYQ",
        "outputId": "3de28224-cd77-46b8-9d95-b7dfd0dd0091"
      },
      "execution_count": 78,
      "outputs": [
        {
          "output_type": "stream",
          "name": "stdout",
          "text": [
            "PyRosetta-4 2022 [Rosetta PyRosetta4.MinSizeRel.python38.ubuntu 2022.47+release.d2aee95a6b7bf6ee70c5e2c7b29d0915e9112fa7 2022-11-23T13:33:36] retrieved from: http://www.pyrosetta.org\n",
            "(C) Copyright Rosetta Commons Member Institutions. Created in JHU by Sergey Lyskov and PyRosetta Team.\n",
            "core.init: Checking for fconfig files in pwd and ./rosetta/flags\n",
            "core.init: Rosetta version: PyRosetta4.MinSizeRel.python38.ubuntu r336 2022.47+release.d2aee95a6b7 d2aee95a6b7bf6ee70c5e2c7b29d0915e9112fa7 http://www.pyrosetta.org 2022-11-23T13:33:36\n",
            "core.init: command: PyRosetta -ex1 -ex2aro -database /usr/local/lib/python3.8/dist-packages/pyrosetta/database\n",
            "basic.random.init_random_generator: 'RNG device' seed mode, using '/dev/urandom', seed=-1065151969 seed_offset=0 real_seed=-1065151969\n",
            "basic.random.init_random_generator: RandomGenerator:init: Normal mode, seed=-1065151969 RG_type=mt19937\n"
          ]
        }
      ]
    },
    {
      "cell_type": "markdown",
      "source": [
        "Load the PDB file"
      ],
      "metadata": {
        "id": "EBcxl5joukki"
      }
    },
    {
      "cell_type": "code",
      "source": [
        "pose = pose_from_pdb(\"/content/google_drive/MyDrive/vp4_protease_structure/2gef.pdb\")\n",
        "\n",
        "# Alternatively use pyrosetta.toolbox.rcsb.load_fasta_from_rcsb(\"2GEF\")\n",
        "# Note: It requires access the internet to load"
      ],
      "metadata": {
        "colab": {
          "base_uri": "https://localhost:8080/"
        },
        "id": "I3xoKNhKstDt",
        "outputId": "b44c850c-017f-4bdc-816a-2fdbd715bbe6"
      },
      "execution_count": 83,
      "outputs": [
        {
          "output_type": "stream",
          "name": "stdout",
          "text": [
            "core.import_pose.import_pose: File '/content/google_drive/MyDrive/vp4_protease_structure/2gef.pdb' automatically determined to be of type PDB\n",
            "core.io.pose_from_sfr.PoseFromSFRBuilder: Reading MSE as MET!\n",
            "core.io.pose_from_sfr.PoseFromSFRBuilder: Reading MSE as MET!\n",
            "core.io.pose_from_sfr.PoseFromSFRBuilder: Reading MSE as MET!\n",
            "core.io.pose_from_sfr.PoseFromSFRBuilder: Reading MSE as MET!\n",
            "core.io.pose_from_sfr.PoseFromSFRBuilder: Reading MSE as MET!\n",
            "core.io.pose_from_sfr.PoseFromSFRBuilder: Reading MSE as MET!\n",
            "core.io.pose_from_sfr.PoseFromSFRBuilder: Reading MSE as MET!\n",
            "core.io.pose_from_sfr.PoseFromSFRBuilder: Reading Selenium SE from MSE as SD from MET\n",
            "core.io.pose_from_sfr.PoseFromSFRBuilder: Reading MSE as MET!\n",
            "core.io.pose_from_sfr.PoseFromSFRBuilder: Reading MSE as MET!\n",
            "core.io.pose_from_sfr.PoseFromSFRBuilder: Reading MSE as MET!\n",
            "core.io.pose_from_sfr.PoseFromSFRBuilder: Reading MSE as MET!\n",
            "core.io.pose_from_sfr.PoseFromSFRBuilder: Reading MSE as MET!\n",
            "core.io.pose_from_sfr.PoseFromSFRBuilder: Reading MSE as MET!\n",
            "core.io.pose_from_sfr.PoseFromSFRBuilder: Reading MSE as MET!\n",
            "core.io.pose_from_sfr.PoseFromSFRBuilder: Reading MSE as MET!\n",
            "core.io.pose_from_sfr.PoseFromSFRBuilder: Reading Selenium SE from MSE as SD from MET\n",
            "core.io.pose_from_sfr.PoseFromSFRBuilder: Reading MSE as MET!\n",
            "core.io.pose_from_sfr.PoseFromSFRBuilder: Reading MSE as MET!\n",
            "core.io.pose_from_sfr.PoseFromSFRBuilder: Reading MSE as MET!\n",
            "core.io.pose_from_sfr.PoseFromSFRBuilder: Reading MSE as MET!\n",
            "core.io.pose_from_sfr.PoseFromSFRBuilder: Reading MSE as MET!\n",
            "core.io.pose_from_sfr.PoseFromSFRBuilder: Reading MSE as MET!\n",
            "core.io.pose_from_sfr.PoseFromSFRBuilder: Reading MSE as MET!\n",
            "core.io.pose_from_sfr.PoseFromSFRBuilder: Reading MSE as MET!\n",
            "core.io.pose_from_sfr.PoseFromSFRBuilder: Reading Selenium SE from MSE as SD from MET\n",
            "core.io.pose_from_sfr.PoseFromSFRBuilder: Reading MSE as MET!\n",
            "core.io.pose_from_sfr.PoseFromSFRBuilder: Reading MSE as MET!\n",
            "core.io.pose_from_sfr.PoseFromSFRBuilder: Reading MSE as MET!\n",
            "core.io.pose_from_sfr.PoseFromSFRBuilder: Reading MSE as MET!\n",
            "core.io.pose_from_sfr.PoseFromSFRBuilder: Reading MSE as MET!\n",
            "core.io.pose_from_sfr.PoseFromSFRBuilder: Reading MSE as MET!\n",
            "core.io.pose_from_sfr.PoseFromSFRBuilder: Reading MSE as MET!\n",
            "core.io.pose_from_sfr.PoseFromSFRBuilder: Reading MSE as MET!\n",
            "core.io.pose_from_sfr.PoseFromSFRBuilder: Reading Selenium SE from MSE as SD from MET\n",
            "core.io.pose_from_sfr.PoseFromSFRBuilder: Reading MSE as MET!\n",
            "core.io.pose_from_sfr.PoseFromSFRBuilder: Reading MSE as MET!\n",
            "core.io.pose_from_sfr.PoseFromSFRBuilder: Reading MSE as MET!\n",
            "core.io.pose_from_sfr.PoseFromSFRBuilder: Reading MSE as MET!\n",
            "core.io.pose_from_sfr.PoseFromSFRBuilder: Reading MSE as MET!\n",
            "core.io.pose_from_sfr.PoseFromSFRBuilder: Reading MSE as MET!\n",
            "core.io.pose_from_sfr.PoseFromSFRBuilder: Reading MSE as MET!\n",
            "core.io.pose_from_sfr.PoseFromSFRBuilder: Reading MSE as MET!\n",
            "core.io.pose_from_sfr.PoseFromSFRBuilder: Reading Selenium SE from MSE as SD from MET\n",
            "core.io.pose_from_sfr.PoseFromSFRBuilder: Reading MSE as MET!\n",
            "core.io.pose_from_sfr.PoseFromSFRBuilder: Reading MSE as MET!\n",
            "core.io.pose_from_sfr.PoseFromSFRBuilder: Reading MSE as MET!\n",
            "core.io.pose_from_sfr.PoseFromSFRBuilder: Reading MSE as MET!\n",
            "core.io.pose_from_sfr.PoseFromSFRBuilder: Reading MSE as MET!\n",
            "core.io.pose_from_sfr.PoseFromSFRBuilder: Reading MSE as MET!\n",
            "core.io.pose_from_sfr.PoseFromSFRBuilder: Reading MSE as MET!\n",
            "core.io.pose_from_sfr.PoseFromSFRBuilder: Reading MSE as MET!\n",
            "core.io.pose_from_sfr.PoseFromSFRBuilder: Reading Selenium SE from MSE as SD from MET\n",
            "core.io.pose_from_sfr.PoseFromSFRBuilder: Reading MSE as MET!\n",
            "core.io.pose_from_sfr.PoseFromSFRBuilder: Reading MSE as MET!\n",
            "core.io.pose_from_sfr.PoseFromSFRBuilder: Reading MSE as MET!\n",
            "core.io.pose_from_sfr.PoseFromSFRBuilder: Reading MSE as MET!\n",
            "core.io.pose_from_sfr.PoseFromSFRBuilder: Reading MSE as MET!\n",
            "core.io.pose_from_sfr.PoseFromSFRBuilder: Reading MSE as MET!\n",
            "core.io.pose_from_sfr.PoseFromSFRBuilder: Reading MSE as MET!\n",
            "core.io.pose_from_sfr.PoseFromSFRBuilder: Reading MSE as MET!\n",
            "core.io.pose_from_sfr.PoseFromSFRBuilder: Reading Selenium SE from MSE as SD from MET\n",
            "core.io.pose_from_sfr.PoseFromSFRBuilder: Reading MSE as MET!\n",
            "core.io.pose_from_sfr.PoseFromSFRBuilder: Reading MSE as MET!\n",
            "core.io.pose_from_sfr.PoseFromSFRBuilder: Reading MSE as MET!\n",
            "core.io.pose_from_sfr.PoseFromSFRBuilder: Reading MSE as MET!\n",
            "core.io.pose_from_sfr.PoseFromSFRBuilder: Reading MSE as MET!\n",
            "core.io.pose_from_sfr.PoseFromSFRBuilder: Reading MSE as MET!\n",
            "core.io.pose_from_sfr.PoseFromSFRBuilder: Reading MSE as MET!\n",
            "core.io.pose_from_sfr.PoseFromSFRBuilder: Reading MSE as MET!\n",
            "core.io.pose_from_sfr.PoseFromSFRBuilder: Reading Selenium SE from MSE as SD from MET\n",
            "core.io.pose_from_sfr.PoseFromSFRBuilder: Reading MSE as MET!\n",
            "core.conformation.Conformation: [ WARNING ] missing heavyatom:  OG1 on residue THR 78\n",
            "core.conformation.Conformation: [ WARNING ] missing heavyatom:  CG2 on residue THR 78\n",
            "core.conformation.Conformation: [ WARNING ] missing heavyatom:  CG  on residue HIS 79\n",
            "core.conformation.Conformation: [ WARNING ] missing heavyatom:  ND1 on residue HIS 79\n",
            "core.conformation.Conformation: [ WARNING ] missing heavyatom:  CD2 on residue HIS 79\n",
            "core.conformation.Conformation: [ WARNING ] missing heavyatom:  CE1 on residue HIS 79\n",
            "core.conformation.Conformation: [ WARNING ] missing heavyatom:  NE2 on residue HIS 79\n",
            "core.conformation.Conformation: [ WARNING ] missing heavyatom:  CG  on residue LYS 80\n",
            "core.conformation.Conformation: [ WARNING ] missing heavyatom:  CD  on residue LYS 80\n",
            "core.conformation.Conformation: [ WARNING ] missing heavyatom:  CE  on residue LYS 80\n",
            "core.conformation.Conformation: [ WARNING ] missing heavyatom:  NZ  on residue LYS 80\n",
            "core.conformation.Conformation: [ WARNING ] missing heavyatom:  OXT on residue SER:CtermProteinFull 198\n",
            "core.conformation.Conformation: [ WARNING ] missing heavyatom:  OG1 on residue THR 276\n",
            "core.conformation.Conformation: [ WARNING ] missing heavyatom:  CG2 on residue THR 276\n",
            "core.conformation.Conformation: [ WARNING ] missing heavyatom:  CG  on residue HIS 277\n",
            "core.conformation.Conformation: [ WARNING ] missing heavyatom:  ND1 on residue HIS 277\n",
            "core.conformation.Conformation: [ WARNING ] missing heavyatom:  CD2 on residue HIS 277\n",
            "core.conformation.Conformation: [ WARNING ] missing heavyatom:  CE1 on residue HIS 277\n",
            "core.conformation.Conformation: [ WARNING ] missing heavyatom:  NE2 on residue HIS 277\n",
            "core.conformation.Conformation: [ WARNING ] missing heavyatom:  CG  on residue LEU 278\n",
            "core.conformation.Conformation: [ WARNING ] missing heavyatom:  CD1 on residue LEU 278\n",
            "core.conformation.Conformation: [ WARNING ] missing heavyatom:  CD2 on residue LEU 278\n",
            "core.conformation.Conformation: [ WARNING ] missing heavyatom:  CG  on residue LYS 279\n",
            "core.conformation.Conformation: [ WARNING ] missing heavyatom:  CD  on residue LYS 279\n",
            "core.conformation.Conformation: [ WARNING ] missing heavyatom:  CE  on residue LYS 279\n",
            "core.conformation.Conformation: [ WARNING ] missing heavyatom:  NZ  on residue LYS 279\n",
            "core.conformation.Conformation: [ WARNING ] missing heavyatom:  OXT on residue ARG:CtermProteinFull 401\n",
            "core.conformation.Conformation: [ WARNING ] missing heavyatom:  CG  on residue ARG:CtermProteinFull 401\n",
            "core.conformation.Conformation: [ WARNING ] missing heavyatom:  CD  on residue ARG:CtermProteinFull 401\n",
            "core.conformation.Conformation: [ WARNING ] missing heavyatom:  NE  on residue ARG:CtermProteinFull 401\n",
            "core.conformation.Conformation: [ WARNING ] missing heavyatom:  CZ  on residue ARG:CtermProteinFull 401\n",
            "core.conformation.Conformation: [ WARNING ] missing heavyatom:  NH1 on residue ARG:CtermProteinFull 401\n",
            "core.conformation.Conformation: [ WARNING ] missing heavyatom:  NH2 on residue ARG:CtermProteinFull 401\n",
            "core.pack.pack_missing_sidechains: packing residue number 78 because of missing atom number 6 atom name  OG1\n",
            "core.pack.pack_missing_sidechains: packing residue number 79 because of missing atom number 6 atom name  CG\n",
            "core.pack.pack_missing_sidechains: packing residue number 80 because of missing atom number 6 atom name  CG\n",
            "core.pack.pack_missing_sidechains: packing residue number 276 because of missing atom number 6 atom name  OG1\n",
            "core.pack.pack_missing_sidechains: packing residue number 277 because of missing atom number 6 atom name  CG\n",
            "core.pack.pack_missing_sidechains: packing residue number 278 because of missing atom number 6 atom name  CG\n",
            "core.pack.pack_missing_sidechains: packing residue number 279 because of missing atom number 6 atom name  CG\n",
            "core.pack.pack_missing_sidechains: packing residue number 401 because of missing atom number 7 atom name  CG\n",
            "core.pack.task: Packer task: initialize from command line()\n",
            "core.scoring.ScoreFunctionFactory: SCOREFUNCTION: ref2015\n",
            "core.pack.pack_rotamers: built 78 rotamers at 8 positions.\n",
            "core.pack.interaction_graph.interaction_graph_factory: Instantiating DensePDInteractionGraph\n"
          ]
        }
      ]
    },
    {
      "cell_type": "code",
      "source": [
        "# View the sequence\n",
        "pose.sequence()"
      ],
      "metadata": {
        "colab": {
          "base_uri": "https://localhost:8080/",
          "height": 73
        },
        "id": "8m6FQEESunj0",
        "outputId": "ce496a93-9024-46b8-c510-e444afcf89e5"
      },
      "execution_count": 84,
      "outputs": [
        {
          "output_type": "execute_result",
          "data": {
            "text/plain": [
              "'DLPISLLQTLAYKQPLGRNSRIVHFTDGALFPVVAFGDNHSTSELYIAVRGDHRDLMSPDVRDSYALTGDDHKVWGATHKFNVKTRTDLTILPVADVFWRADGSADVDVVWNDMPAVAGQSSSIALALASSLPFVPKAAYTGCLSGTNVQPVQFGNLKARAAHKIGLPLVGMTQDGGEDTRICTLDDAADHAFDSMESDLPISLLQTLAYKQPLGRNSRIVHFTDGALFPVVAFGDNHSTSELYIAVRGDHRDLMSPDVRDSYALTGDDHKVWGATHLKFNVKTRTDLTILPVADVFWRADGSADVDVVWNDMPAVAGQSSSIALALASSLPFVPKAAYTGCLSGTNVQPVQFGNLKARAAHKIGLPLVGMTQDGGEDTRICTLDDAADHAFDSMESTVTR'"
            ],
            "application/vnd.google.colaboratory.intrinsic+json": {
              "type": "string"
            }
          },
          "metadata": {},
          "execution_count": 84
        }
      ]
    },
    {
      "cell_type": "markdown",
      "source": [
        "Clean the PDB file to conform to the PyRosetta standard"
      ],
      "metadata": {
        "id": "tPkSSYAWxEH7"
      }
    },
    {
      "cell_type": "code",
      "source": [
        "from pyrosetta.toolbox import cleanATOM\n",
        "cleanATOM(\"/content/google_drive/MyDrive/vp4_protease_structure/2gef.pdb\")"
      ],
      "metadata": {
        "id": "P899rqtivaHy"
      },
      "execution_count": 85,
      "outputs": []
    },
    {
      "cell_type": "code",
      "source": [
        "pose_clean = pose_from_pdb(\"/content/google_drive/MyDrive/vp4_protease_structure/2gef.pdb\")"
      ],
      "metadata": {
        "colab": {
          "base_uri": "https://localhost:8080/"
        },
        "id": "zZ0Imu1RxG4P",
        "outputId": "3e45ec3c-1c03-434d-f867-3a2523a2d4a5"
      },
      "execution_count": 86,
      "outputs": [
        {
          "output_type": "stream",
          "name": "stdout",
          "text": [
            "core.import_pose.import_pose: File '/content/google_drive/MyDrive/vp4_protease_structure/2gef.pdb' automatically determined to be of type PDB\n",
            "core.io.pose_from_sfr.PoseFromSFRBuilder: Reading MSE as MET!\n",
            "core.io.pose_from_sfr.PoseFromSFRBuilder: Reading MSE as MET!\n",
            "core.io.pose_from_sfr.PoseFromSFRBuilder: Reading MSE as MET!\n",
            "core.io.pose_from_sfr.PoseFromSFRBuilder: Reading MSE as MET!\n",
            "core.io.pose_from_sfr.PoseFromSFRBuilder: Reading MSE as MET!\n",
            "core.io.pose_from_sfr.PoseFromSFRBuilder: Reading MSE as MET!\n",
            "core.io.pose_from_sfr.PoseFromSFRBuilder: Reading MSE as MET!\n",
            "core.io.pose_from_sfr.PoseFromSFRBuilder: Reading Selenium SE from MSE as SD from MET\n",
            "core.io.pose_from_sfr.PoseFromSFRBuilder: Reading MSE as MET!\n",
            "core.io.pose_from_sfr.PoseFromSFRBuilder: Reading MSE as MET!\n",
            "core.io.pose_from_sfr.PoseFromSFRBuilder: Reading MSE as MET!\n",
            "core.io.pose_from_sfr.PoseFromSFRBuilder: Reading MSE as MET!\n",
            "core.io.pose_from_sfr.PoseFromSFRBuilder: Reading MSE as MET!\n",
            "core.io.pose_from_sfr.PoseFromSFRBuilder: Reading MSE as MET!\n",
            "core.io.pose_from_sfr.PoseFromSFRBuilder: Reading MSE as MET!\n",
            "core.io.pose_from_sfr.PoseFromSFRBuilder: Reading MSE as MET!\n",
            "core.io.pose_from_sfr.PoseFromSFRBuilder: Reading Selenium SE from MSE as SD from MET\n",
            "core.io.pose_from_sfr.PoseFromSFRBuilder: Reading MSE as MET!\n",
            "core.io.pose_from_sfr.PoseFromSFRBuilder: Reading MSE as MET!\n",
            "core.io.pose_from_sfr.PoseFromSFRBuilder: Reading MSE as MET!\n",
            "core.io.pose_from_sfr.PoseFromSFRBuilder: Reading MSE as MET!\n",
            "core.io.pose_from_sfr.PoseFromSFRBuilder: Reading MSE as MET!\n",
            "core.io.pose_from_sfr.PoseFromSFRBuilder: Reading MSE as MET!\n",
            "core.io.pose_from_sfr.PoseFromSFRBuilder: Reading MSE as MET!\n",
            "core.io.pose_from_sfr.PoseFromSFRBuilder: Reading MSE as MET!\n",
            "core.io.pose_from_sfr.PoseFromSFRBuilder: Reading Selenium SE from MSE as SD from MET\n",
            "core.io.pose_from_sfr.PoseFromSFRBuilder: Reading MSE as MET!\n",
            "core.io.pose_from_sfr.PoseFromSFRBuilder: Reading MSE as MET!\n",
            "core.io.pose_from_sfr.PoseFromSFRBuilder: Reading MSE as MET!\n",
            "core.io.pose_from_sfr.PoseFromSFRBuilder: Reading MSE as MET!\n",
            "core.io.pose_from_sfr.PoseFromSFRBuilder: Reading MSE as MET!\n",
            "core.io.pose_from_sfr.PoseFromSFRBuilder: Reading MSE as MET!\n",
            "core.io.pose_from_sfr.PoseFromSFRBuilder: Reading MSE as MET!\n",
            "core.io.pose_from_sfr.PoseFromSFRBuilder: Reading MSE as MET!\n",
            "core.io.pose_from_sfr.PoseFromSFRBuilder: Reading Selenium SE from MSE as SD from MET\n",
            "core.io.pose_from_sfr.PoseFromSFRBuilder: Reading MSE as MET!\n",
            "core.io.pose_from_sfr.PoseFromSFRBuilder: Reading MSE as MET!\n",
            "core.io.pose_from_sfr.PoseFromSFRBuilder: Reading MSE as MET!\n",
            "core.io.pose_from_sfr.PoseFromSFRBuilder: Reading MSE as MET!\n",
            "core.io.pose_from_sfr.PoseFromSFRBuilder: Reading MSE as MET!\n",
            "core.io.pose_from_sfr.PoseFromSFRBuilder: Reading MSE as MET!\n",
            "core.io.pose_from_sfr.PoseFromSFRBuilder: Reading MSE as MET!\n",
            "core.io.pose_from_sfr.PoseFromSFRBuilder: Reading MSE as MET!\n",
            "core.io.pose_from_sfr.PoseFromSFRBuilder: Reading Selenium SE from MSE as SD from MET\n",
            "core.io.pose_from_sfr.PoseFromSFRBuilder: Reading MSE as MET!\n",
            "core.io.pose_from_sfr.PoseFromSFRBuilder: Reading MSE as MET!\n",
            "core.io.pose_from_sfr.PoseFromSFRBuilder: Reading MSE as MET!\n",
            "core.io.pose_from_sfr.PoseFromSFRBuilder: Reading MSE as MET!\n",
            "core.io.pose_from_sfr.PoseFromSFRBuilder: Reading MSE as MET!\n",
            "core.io.pose_from_sfr.PoseFromSFRBuilder: Reading MSE as MET!\n",
            "core.io.pose_from_sfr.PoseFromSFRBuilder: Reading MSE as MET!\n",
            "core.io.pose_from_sfr.PoseFromSFRBuilder: Reading MSE as MET!\n",
            "core.io.pose_from_sfr.PoseFromSFRBuilder: Reading Selenium SE from MSE as SD from MET\n",
            "core.io.pose_from_sfr.PoseFromSFRBuilder: Reading MSE as MET!\n",
            "core.io.pose_from_sfr.PoseFromSFRBuilder: Reading MSE as MET!\n",
            "core.io.pose_from_sfr.PoseFromSFRBuilder: Reading MSE as MET!\n",
            "core.io.pose_from_sfr.PoseFromSFRBuilder: Reading MSE as MET!\n",
            "core.io.pose_from_sfr.PoseFromSFRBuilder: Reading MSE as MET!\n",
            "core.io.pose_from_sfr.PoseFromSFRBuilder: Reading MSE as MET!\n",
            "core.io.pose_from_sfr.PoseFromSFRBuilder: Reading MSE as MET!\n",
            "core.io.pose_from_sfr.PoseFromSFRBuilder: Reading MSE as MET!\n",
            "core.io.pose_from_sfr.PoseFromSFRBuilder: Reading Selenium SE from MSE as SD from MET\n",
            "core.io.pose_from_sfr.PoseFromSFRBuilder: Reading MSE as MET!\n",
            "core.io.pose_from_sfr.PoseFromSFRBuilder: Reading MSE as MET!\n",
            "core.io.pose_from_sfr.PoseFromSFRBuilder: Reading MSE as MET!\n",
            "core.io.pose_from_sfr.PoseFromSFRBuilder: Reading MSE as MET!\n",
            "core.io.pose_from_sfr.PoseFromSFRBuilder: Reading MSE as MET!\n",
            "core.io.pose_from_sfr.PoseFromSFRBuilder: Reading MSE as MET!\n",
            "core.io.pose_from_sfr.PoseFromSFRBuilder: Reading MSE as MET!\n",
            "core.io.pose_from_sfr.PoseFromSFRBuilder: Reading MSE as MET!\n",
            "core.io.pose_from_sfr.PoseFromSFRBuilder: Reading Selenium SE from MSE as SD from MET\n",
            "core.io.pose_from_sfr.PoseFromSFRBuilder: Reading MSE as MET!\n",
            "core.conformation.Conformation: [ WARNING ] missing heavyatom:  OG1 on residue THR 78\n",
            "core.conformation.Conformation: [ WARNING ] missing heavyatom:  CG2 on residue THR 78\n",
            "core.conformation.Conformation: [ WARNING ] missing heavyatom:  CG  on residue HIS 79\n",
            "core.conformation.Conformation: [ WARNING ] missing heavyatom:  ND1 on residue HIS 79\n",
            "core.conformation.Conformation: [ WARNING ] missing heavyatom:  CD2 on residue HIS 79\n",
            "core.conformation.Conformation: [ WARNING ] missing heavyatom:  CE1 on residue HIS 79\n",
            "core.conformation.Conformation: [ WARNING ] missing heavyatom:  NE2 on residue HIS 79\n",
            "core.conformation.Conformation: [ WARNING ] missing heavyatom:  CG  on residue LYS 80\n",
            "core.conformation.Conformation: [ WARNING ] missing heavyatom:  CD  on residue LYS 80\n",
            "core.conformation.Conformation: [ WARNING ] missing heavyatom:  CE  on residue LYS 80\n",
            "core.conformation.Conformation: [ WARNING ] missing heavyatom:  NZ  on residue LYS 80\n",
            "core.conformation.Conformation: [ WARNING ] missing heavyatom:  OXT on residue SER:CtermProteinFull 198\n",
            "core.conformation.Conformation: [ WARNING ] missing heavyatom:  OG1 on residue THR 276\n",
            "core.conformation.Conformation: [ WARNING ] missing heavyatom:  CG2 on residue THR 276\n",
            "core.conformation.Conformation: [ WARNING ] missing heavyatom:  CG  on residue HIS 277\n",
            "core.conformation.Conformation: [ WARNING ] missing heavyatom:  ND1 on residue HIS 277\n",
            "core.conformation.Conformation: [ WARNING ] missing heavyatom:  CD2 on residue HIS 277\n",
            "core.conformation.Conformation: [ WARNING ] missing heavyatom:  CE1 on residue HIS 277\n",
            "core.conformation.Conformation: [ WARNING ] missing heavyatom:  NE2 on residue HIS 277\n",
            "core.conformation.Conformation: [ WARNING ] missing heavyatom:  CG  on residue LEU 278\n",
            "core.conformation.Conformation: [ WARNING ] missing heavyatom:  CD1 on residue LEU 278\n",
            "core.conformation.Conformation: [ WARNING ] missing heavyatom:  CD2 on residue LEU 278\n",
            "core.conformation.Conformation: [ WARNING ] missing heavyatom:  CG  on residue LYS 279\n",
            "core.conformation.Conformation: [ WARNING ] missing heavyatom:  CD  on residue LYS 279\n",
            "core.conformation.Conformation: [ WARNING ] missing heavyatom:  CE  on residue LYS 279\n",
            "core.conformation.Conformation: [ WARNING ] missing heavyatom:  NZ  on residue LYS 279\n",
            "core.conformation.Conformation: [ WARNING ] missing heavyatom:  OXT on residue ARG:CtermProteinFull 401\n",
            "core.conformation.Conformation: [ WARNING ] missing heavyatom:  CG  on residue ARG:CtermProteinFull 401\n",
            "core.conformation.Conformation: [ WARNING ] missing heavyatom:  CD  on residue ARG:CtermProteinFull 401\n",
            "core.conformation.Conformation: [ WARNING ] missing heavyatom:  NE  on residue ARG:CtermProteinFull 401\n",
            "core.conformation.Conformation: [ WARNING ] missing heavyatom:  CZ  on residue ARG:CtermProteinFull 401\n",
            "core.conformation.Conformation: [ WARNING ] missing heavyatom:  NH1 on residue ARG:CtermProteinFull 401\n",
            "core.conformation.Conformation: [ WARNING ] missing heavyatom:  NH2 on residue ARG:CtermProteinFull 401\n",
            "core.pack.pack_missing_sidechains: packing residue number 78 because of missing atom number 6 atom name  OG1\n",
            "core.pack.pack_missing_sidechains: packing residue number 79 because of missing atom number 6 atom name  CG\n",
            "core.pack.pack_missing_sidechains: packing residue number 80 because of missing atom number 6 atom name  CG\n",
            "core.pack.pack_missing_sidechains: packing residue number 276 because of missing atom number 6 atom name  OG1\n",
            "core.pack.pack_missing_sidechains: packing residue number 277 because of missing atom number 6 atom name  CG\n",
            "core.pack.pack_missing_sidechains: packing residue number 278 because of missing atom number 6 atom name  CG\n",
            "core.pack.pack_missing_sidechains: packing residue number 279 because of missing atom number 6 atom name  CG\n",
            "core.pack.pack_missing_sidechains: packing residue number 401 because of missing atom number 7 atom name  CG\n",
            "core.pack.task: Packer task: initialize from command line()\n",
            "core.scoring.ScoreFunctionFactory: SCOREFUNCTION: ref2015\n",
            "core.pack.pack_rotamers: built 78 rotamers at 8 positions.\n",
            "core.pack.interaction_graph.interaction_graph_factory: Instantiating DensePDInteractionGraph\n"
          ]
        }
      ]
    },
    {
      "cell_type": "code",
      "source": [
        "# Sequence after cleaning the PDB file\n",
        "pose_clean.sequence()\n",
        "# No differences seen"
      ],
      "metadata": {
        "colab": {
          "base_uri": "https://localhost:8080/",
          "height": 73
        },
        "id": "emhK9EBfxWAl",
        "outputId": "092d0de1-ebd2-49d9-a558-ac18bb192943"
      },
      "execution_count": 87,
      "outputs": [
        {
          "output_type": "execute_result",
          "data": {
            "text/plain": [
              "'DLPISLLQTLAYKQPLGRNSRIVHFTDGALFPVVAFGDNHSTSELYIAVRGDHRDLMSPDVRDSYALTGDDHKVWGATHKFNVKTRTDLTILPVADVFWRADGSADVDVVWNDMPAVAGQSSSIALALASSLPFVPKAAYTGCLSGTNVQPVQFGNLKARAAHKIGLPLVGMTQDGGEDTRICTLDDAADHAFDSMESDLPISLLQTLAYKQPLGRNSRIVHFTDGALFPVVAFGDNHSTSELYIAVRGDHRDLMSPDVRDSYALTGDDHKVWGATHLKFNVKTRTDLTILPVADVFWRADGSADVDVVWNDMPAVAGQSSSIALALASSLPFVPKAAYTGCLSGTNVQPVQFGNLKARAAHKIGLPLVGMTQDGGEDTRICTLDDAADHAFDSMESTVTR'"
            ],
            "application/vnd.google.colaboratory.intrinsic+json": {
              "type": "string"
            }
          },
          "metadata": {},
          "execution_count": 87
        }
      ]
    },
    {
      "cell_type": "code",
      "source": [
        "pose.annotated_sequence()"
      ],
      "metadata": {
        "colab": {
          "base_uri": "https://localhost:8080/",
          "height": 91
        },
        "id": "e2NRoVvVyg4n",
        "outputId": "19c9ea0a-0fa7-47e8-8c16-cd5a89b5ea57"
      },
      "execution_count": 88,
      "outputs": [
        {
          "output_type": "execute_result",
          "data": {
            "text/plain": [
              "'D[ASP:NtermProteinFull]LPISLLQTLAYKQPLGRNSRIVHFTDGALFPVVAFGDNHSTSELYIAVRGDHRDLMSPDVRDSYALTGDDHKVWGATH[HIS_D]KFNVKTRTDLTILPVADVFWRADGSADVDVVWNDMPAVAGQSSSIALALASSLPFVPKAAYTGCLSGTNVQPVQFGNLKARAAHKIGLPLVGMTQDGGEDTRICTLDDAADHAFDSMES[SER:CtermProteinFull]D[ASP:NtermProteinFull]LPISLLQTLAYKQPLGRNSRIVHFTDGALFPVVAFGDNHSTSELYIAVRGDHRDLMSPDVRDSYALTGDDHKVWGATHLKFNVKTRTDLTILPVADVFWRADGSADVDVVWNDMPAVAGQSSSIALALASSLPFVPKAAYTGCLSGTNVQPVQFGNLKARAAHKIGLPLVGMTQDGGEDTRICTLDDAADHAFDSMESTVTR[ARG:CtermProteinFull]'"
            ],
            "application/vnd.google.colaboratory.intrinsic+json": {
              "type": "string"
            }
          },
          "metadata": {},
          "execution_count": 88
        }
      ]
    },
    {
      "cell_type": "code",
      "source": [
        "pose_clean.annotated_sequence()"
      ],
      "metadata": {
        "colab": {
          "base_uri": "https://localhost:8080/",
          "height": 91
        },
        "id": "qcZQRp35yjb_",
        "outputId": "6c775caf-563f-4384-968a-a38ddbf60615"
      },
      "execution_count": 89,
      "outputs": [
        {
          "output_type": "execute_result",
          "data": {
            "text/plain": [
              "'D[ASP:NtermProteinFull]LPISLLQTLAYKQPLGRNSRIVHFTDGALFPVVAFGDNHSTSELYIAVRGDHRDLMSPDVRDSYALTGDDHKVWGATH[HIS_D]KFNVKTRTDLTILPVADVFWRADGSADVDVVWNDMPAVAGQSSSIALALASSLPFVPKAAYTGCLSGTNVQPVQFGNLKARAAHKIGLPLVGMTQDGGEDTRICTLDDAADHAFDSMES[SER:CtermProteinFull]D[ASP:NtermProteinFull]LPISLLQTLAYKQPLGRNSRIVHFTDGALFPVVAFGDNHSTSELYIAVRGDHRDLMSPDVRDSYALTGDDHKVWGATHLKFNVKTRTDLTILPVADVFWRADGSADVDVVWNDMPAVAGQSSSIALALASSLPFVPKAAYTGCLSGTNVQPVQFGNLKARAAHKIGLPLVGMTQDGGEDTRICTLDDAADHAFDSMESTVTR[ARG:CtermProteinFull]'"
            ],
            "application/vnd.google.colaboratory.intrinsic+json": {
              "type": "string"
            }
          },
          "metadata": {},
          "execution_count": 89
        }
      ]
    },
    {
      "cell_type": "code",
      "source": [
        "print(pose.total_residue())\n",
        "print(pose_clean.total_residue())\n",
        "# Same number of residues"
      ],
      "metadata": {
        "colab": {
          "base_uri": "https://localhost:8080/"
        },
        "id": "nLmM2i1HzakQ",
        "outputId": "707d8ebd-9a12-432e-d202-687e869e5716"
      },
      "execution_count": 90,
      "outputs": [
        {
          "output_type": "stream",
          "name": "stdout",
          "text": [
            "401\n",
            "401\n"
          ]
        }
      ]
    },
    {
      "cell_type": "markdown",
      "source": [
        "Catalytic residues\n",
        "\n",
        "Blotched Snakehead Virus (BSNV), PDB 2GEF:\n",
        "- Serine 692\n",
        "- Lysine 729\n",
        "\n",
        "Infectious Pancreatic Necrosis Virus (IPNV) - Triclinic form, PDB 2PNL:\n",
        "- Serine 633\n",
        "- Lysine 674\n",
        "\n",
        "Infectious Pancreatic Necrosis Virus (IPNV) - Hexagonal form, PDB 2PNM:\n",
        "- Serine 633\n",
        "- Lysine 674\n",
        "\n",
        "Tellina Virus 1, PDB 3P06:\n",
        "- Serine 738\n",
        "- Lysine 777"
      ],
      "metadata": {
        "id": "m93l3Abd7BGu"
      }
    },
    {
      "cell_type": "markdown",
      "source": [
        "## BSNV"
      ],
      "metadata": {
        "id": "P5f9Oz0mDNRr"
      }
    },
    {
      "cell_type": "markdown",
      "source": [
        "### Pose"
      ],
      "metadata": {
        "id": "1aAsEsI7KpVD"
      }
    },
    {
      "cell_type": "code",
      "source": [
        "pose = pose_from_pdb(\"/content/google_drive/MyDrive/vp4_protease_structure/2gef.pdb\")\n",
        "pose.sequence()\n",
        "from pyrosetta.toolbox import cleanATOM\n",
        "cleanATOM(\"/content/google_drive/MyDrive/vp4_protease_structure/2gef.pdb\")\n",
        "pose_clean = pose_from_pdb(\"/content/google_drive/MyDrive/vp4_protease_structure/2gef.pdb\")\n",
        "pose_clean.sequence()\n",
        "pose.annotated_sequence()\n",
        "pose_clean.annotated_sequence()\n",
        "print(pose.total_residue())\n",
        "print(pose_clean.total_residue())"
      ],
      "metadata": {
        "colab": {
          "base_uri": "https://localhost:8080/"
        },
        "id": "g-4CQ1jEKyGx",
        "outputId": "85cea2c3-2cf1-4009-b430-9490b4a4182e"
      },
      "execution_count": 187,
      "outputs": [
        {
          "output_type": "stream",
          "name": "stdout",
          "text": [
            "core.import_pose.import_pose: File '/content/google_drive/MyDrive/vp4_protease_structure/2gef.pdb' automatically determined to be of type PDB\n",
            "core.io.pose_from_sfr.PoseFromSFRBuilder: Reading MSE as MET!\n",
            "core.io.pose_from_sfr.PoseFromSFRBuilder: Reading MSE as MET!\n",
            "core.io.pose_from_sfr.PoseFromSFRBuilder: Reading MSE as MET!\n",
            "core.io.pose_from_sfr.PoseFromSFRBuilder: Reading MSE as MET!\n",
            "core.io.pose_from_sfr.PoseFromSFRBuilder: Reading MSE as MET!\n",
            "core.io.pose_from_sfr.PoseFromSFRBuilder: Reading MSE as MET!\n",
            "core.io.pose_from_sfr.PoseFromSFRBuilder: Reading MSE as MET!\n",
            "core.io.pose_from_sfr.PoseFromSFRBuilder: Reading Selenium SE from MSE as SD from MET\n",
            "core.io.pose_from_sfr.PoseFromSFRBuilder: Reading MSE as MET!\n",
            "core.io.pose_from_sfr.PoseFromSFRBuilder: Reading MSE as MET!\n",
            "core.io.pose_from_sfr.PoseFromSFRBuilder: Reading MSE as MET!\n",
            "core.io.pose_from_sfr.PoseFromSFRBuilder: Reading MSE as MET!\n",
            "core.io.pose_from_sfr.PoseFromSFRBuilder: Reading MSE as MET!\n",
            "core.io.pose_from_sfr.PoseFromSFRBuilder: Reading MSE as MET!\n",
            "core.io.pose_from_sfr.PoseFromSFRBuilder: Reading MSE as MET!\n",
            "core.io.pose_from_sfr.PoseFromSFRBuilder: Reading MSE as MET!\n",
            "core.io.pose_from_sfr.PoseFromSFRBuilder: Reading Selenium SE from MSE as SD from MET\n",
            "core.io.pose_from_sfr.PoseFromSFRBuilder: Reading MSE as MET!\n",
            "core.io.pose_from_sfr.PoseFromSFRBuilder: Reading MSE as MET!\n",
            "core.io.pose_from_sfr.PoseFromSFRBuilder: Reading MSE as MET!\n",
            "core.io.pose_from_sfr.PoseFromSFRBuilder: Reading MSE as MET!\n",
            "core.io.pose_from_sfr.PoseFromSFRBuilder: Reading MSE as MET!\n",
            "core.io.pose_from_sfr.PoseFromSFRBuilder: Reading MSE as MET!\n",
            "core.io.pose_from_sfr.PoseFromSFRBuilder: Reading MSE as MET!\n",
            "core.io.pose_from_sfr.PoseFromSFRBuilder: Reading MSE as MET!\n",
            "core.io.pose_from_sfr.PoseFromSFRBuilder: Reading Selenium SE from MSE as SD from MET\n",
            "core.io.pose_from_sfr.PoseFromSFRBuilder: Reading MSE as MET!\n",
            "core.io.pose_from_sfr.PoseFromSFRBuilder: Reading MSE as MET!\n",
            "core.io.pose_from_sfr.PoseFromSFRBuilder: Reading MSE as MET!\n",
            "core.io.pose_from_sfr.PoseFromSFRBuilder: Reading MSE as MET!\n",
            "core.io.pose_from_sfr.PoseFromSFRBuilder: Reading MSE as MET!\n",
            "core.io.pose_from_sfr.PoseFromSFRBuilder: Reading MSE as MET!\n",
            "core.io.pose_from_sfr.PoseFromSFRBuilder: Reading MSE as MET!\n",
            "core.io.pose_from_sfr.PoseFromSFRBuilder: Reading MSE as MET!\n",
            "core.io.pose_from_sfr.PoseFromSFRBuilder: Reading Selenium SE from MSE as SD from MET\n",
            "core.io.pose_from_sfr.PoseFromSFRBuilder: Reading MSE as MET!\n",
            "core.io.pose_from_sfr.PoseFromSFRBuilder: Reading MSE as MET!\n",
            "core.io.pose_from_sfr.PoseFromSFRBuilder: Reading MSE as MET!\n",
            "core.io.pose_from_sfr.PoseFromSFRBuilder: Reading MSE as MET!\n",
            "core.io.pose_from_sfr.PoseFromSFRBuilder: Reading MSE as MET!\n",
            "core.io.pose_from_sfr.PoseFromSFRBuilder: Reading MSE as MET!\n",
            "core.io.pose_from_sfr.PoseFromSFRBuilder: Reading MSE as MET!\n",
            "core.io.pose_from_sfr.PoseFromSFRBuilder: Reading MSE as MET!\n",
            "core.io.pose_from_sfr.PoseFromSFRBuilder: Reading Selenium SE from MSE as SD from MET\n",
            "core.io.pose_from_sfr.PoseFromSFRBuilder: Reading MSE as MET!\n",
            "core.io.pose_from_sfr.PoseFromSFRBuilder: Reading MSE as MET!\n",
            "core.io.pose_from_sfr.PoseFromSFRBuilder: Reading MSE as MET!\n",
            "core.io.pose_from_sfr.PoseFromSFRBuilder: Reading MSE as MET!\n",
            "core.io.pose_from_sfr.PoseFromSFRBuilder: Reading MSE as MET!\n",
            "core.io.pose_from_sfr.PoseFromSFRBuilder: Reading MSE as MET!\n",
            "core.io.pose_from_sfr.PoseFromSFRBuilder: Reading MSE as MET!\n",
            "core.io.pose_from_sfr.PoseFromSFRBuilder: Reading MSE as MET!\n",
            "core.io.pose_from_sfr.PoseFromSFRBuilder: Reading Selenium SE from MSE as SD from MET\n",
            "core.io.pose_from_sfr.PoseFromSFRBuilder: Reading MSE as MET!\n",
            "core.io.pose_from_sfr.PoseFromSFRBuilder: Reading MSE as MET!\n",
            "core.io.pose_from_sfr.PoseFromSFRBuilder: Reading MSE as MET!\n",
            "core.io.pose_from_sfr.PoseFromSFRBuilder: Reading MSE as MET!\n",
            "core.io.pose_from_sfr.PoseFromSFRBuilder: Reading MSE as MET!\n",
            "core.io.pose_from_sfr.PoseFromSFRBuilder: Reading MSE as MET!\n",
            "core.io.pose_from_sfr.PoseFromSFRBuilder: Reading MSE as MET!\n",
            "core.io.pose_from_sfr.PoseFromSFRBuilder: Reading MSE as MET!\n",
            "core.io.pose_from_sfr.PoseFromSFRBuilder: Reading Selenium SE from MSE as SD from MET\n",
            "core.io.pose_from_sfr.PoseFromSFRBuilder: Reading MSE as MET!\n",
            "core.io.pose_from_sfr.PoseFromSFRBuilder: Reading MSE as MET!\n",
            "core.io.pose_from_sfr.PoseFromSFRBuilder: Reading MSE as MET!\n",
            "core.io.pose_from_sfr.PoseFromSFRBuilder: Reading MSE as MET!\n",
            "core.io.pose_from_sfr.PoseFromSFRBuilder: Reading MSE as MET!\n",
            "core.io.pose_from_sfr.PoseFromSFRBuilder: Reading MSE as MET!\n",
            "core.io.pose_from_sfr.PoseFromSFRBuilder: Reading MSE as MET!\n",
            "core.io.pose_from_sfr.PoseFromSFRBuilder: Reading MSE as MET!\n",
            "core.io.pose_from_sfr.PoseFromSFRBuilder: Reading Selenium SE from MSE as SD from MET\n",
            "core.io.pose_from_sfr.PoseFromSFRBuilder: Reading MSE as MET!\n",
            "core.conformation.Conformation: [ WARNING ] missing heavyatom:  OG1 on residue THR 78\n",
            "core.conformation.Conformation: [ WARNING ] missing heavyatom:  CG2 on residue THR 78\n",
            "core.conformation.Conformation: [ WARNING ] missing heavyatom:  CG  on residue HIS 79\n",
            "core.conformation.Conformation: [ WARNING ] missing heavyatom:  ND1 on residue HIS 79\n",
            "core.conformation.Conformation: [ WARNING ] missing heavyatom:  CD2 on residue HIS 79\n",
            "core.conformation.Conformation: [ WARNING ] missing heavyatom:  CE1 on residue HIS 79\n",
            "core.conformation.Conformation: [ WARNING ] missing heavyatom:  NE2 on residue HIS 79\n",
            "core.conformation.Conformation: [ WARNING ] missing heavyatom:  CG  on residue LYS 80\n",
            "core.conformation.Conformation: [ WARNING ] missing heavyatom:  CD  on residue LYS 80\n",
            "core.conformation.Conformation: [ WARNING ] missing heavyatom:  CE  on residue LYS 80\n",
            "core.conformation.Conformation: [ WARNING ] missing heavyatom:  NZ  on residue LYS 80\n",
            "core.conformation.Conformation: [ WARNING ] missing heavyatom:  OXT on residue SER:CtermProteinFull 198\n",
            "core.conformation.Conformation: [ WARNING ] missing heavyatom:  OG1 on residue THR 276\n",
            "core.conformation.Conformation: [ WARNING ] missing heavyatom:  CG2 on residue THR 276\n",
            "core.conformation.Conformation: [ WARNING ] missing heavyatom:  CG  on residue HIS 277\n",
            "core.conformation.Conformation: [ WARNING ] missing heavyatom:  ND1 on residue HIS 277\n",
            "core.conformation.Conformation: [ WARNING ] missing heavyatom:  CD2 on residue HIS 277\n",
            "core.conformation.Conformation: [ WARNING ] missing heavyatom:  CE1 on residue HIS 277\n",
            "core.conformation.Conformation: [ WARNING ] missing heavyatom:  NE2 on residue HIS 277\n",
            "core.conformation.Conformation: [ WARNING ] missing heavyatom:  CG  on residue LEU 278\n",
            "core.conformation.Conformation: [ WARNING ] missing heavyatom:  CD1 on residue LEU 278\n",
            "core.conformation.Conformation: [ WARNING ] missing heavyatom:  CD2 on residue LEU 278\n",
            "core.conformation.Conformation: [ WARNING ] missing heavyatom:  CG  on residue LYS 279\n",
            "core.conformation.Conformation: [ WARNING ] missing heavyatom:  CD  on residue LYS 279\n",
            "core.conformation.Conformation: [ WARNING ] missing heavyatom:  CE  on residue LYS 279\n",
            "core.conformation.Conformation: [ WARNING ] missing heavyatom:  NZ  on residue LYS 279\n",
            "core.conformation.Conformation: [ WARNING ] missing heavyatom:  OXT on residue ARG:CtermProteinFull 401\n",
            "core.conformation.Conformation: [ WARNING ] missing heavyatom:  CG  on residue ARG:CtermProteinFull 401\n",
            "core.conformation.Conformation: [ WARNING ] missing heavyatom:  CD  on residue ARG:CtermProteinFull 401\n",
            "core.conformation.Conformation: [ WARNING ] missing heavyatom:  NE  on residue ARG:CtermProteinFull 401\n",
            "core.conformation.Conformation: [ WARNING ] missing heavyatom:  CZ  on residue ARG:CtermProteinFull 401\n",
            "core.conformation.Conformation: [ WARNING ] missing heavyatom:  NH1 on residue ARG:CtermProteinFull 401\n",
            "core.conformation.Conformation: [ WARNING ] missing heavyatom:  NH2 on residue ARG:CtermProteinFull 401\n",
            "core.pack.pack_missing_sidechains: packing residue number 78 because of missing atom number 6 atom name  OG1\n",
            "core.pack.pack_missing_sidechains: packing residue number 79 because of missing atom number 6 atom name  CG\n",
            "core.pack.pack_missing_sidechains: packing residue number 80 because of missing atom number 6 atom name  CG\n",
            "core.pack.pack_missing_sidechains: packing residue number 276 because of missing atom number 6 atom name  OG1\n",
            "core.pack.pack_missing_sidechains: packing residue number 277 because of missing atom number 6 atom name  CG\n",
            "core.pack.pack_missing_sidechains: packing residue number 278 because of missing atom number 6 atom name  CG\n",
            "core.pack.pack_missing_sidechains: packing residue number 279 because of missing atom number 6 atom name  CG\n",
            "core.pack.pack_missing_sidechains: packing residue number 401 because of missing atom number 7 atom name  CG\n",
            "core.pack.task: Packer task: initialize from command line()\n",
            "core.scoring.ScoreFunctionFactory: SCOREFUNCTION: ref2015\n",
            "core.pack.pack_rotamers: built 78 rotamers at 8 positions.\n",
            "core.pack.interaction_graph.interaction_graph_factory: Instantiating DensePDInteractionGraph\n",
            "core.import_pose.import_pose: File '/content/google_drive/MyDrive/vp4_protease_structure/2gef.pdb' automatically determined to be of type PDB\n",
            "core.io.pose_from_sfr.PoseFromSFRBuilder: Reading MSE as MET!\n",
            "core.io.pose_from_sfr.PoseFromSFRBuilder: Reading MSE as MET!\n",
            "core.io.pose_from_sfr.PoseFromSFRBuilder: Reading MSE as MET!\n",
            "core.io.pose_from_sfr.PoseFromSFRBuilder: Reading MSE as MET!\n",
            "core.io.pose_from_sfr.PoseFromSFRBuilder: Reading MSE as MET!\n",
            "core.io.pose_from_sfr.PoseFromSFRBuilder: Reading MSE as MET!\n",
            "core.io.pose_from_sfr.PoseFromSFRBuilder: Reading MSE as MET!\n",
            "core.io.pose_from_sfr.PoseFromSFRBuilder: Reading Selenium SE from MSE as SD from MET\n",
            "core.io.pose_from_sfr.PoseFromSFRBuilder: Reading MSE as MET!\n",
            "core.io.pose_from_sfr.PoseFromSFRBuilder: Reading MSE as MET!\n",
            "core.io.pose_from_sfr.PoseFromSFRBuilder: Reading MSE as MET!\n",
            "core.io.pose_from_sfr.PoseFromSFRBuilder: Reading MSE as MET!\n",
            "core.io.pose_from_sfr.PoseFromSFRBuilder: Reading MSE as MET!\n",
            "core.io.pose_from_sfr.PoseFromSFRBuilder: Reading MSE as MET!\n",
            "core.io.pose_from_sfr.PoseFromSFRBuilder: Reading MSE as MET!\n",
            "core.io.pose_from_sfr.PoseFromSFRBuilder: Reading MSE as MET!\n",
            "core.io.pose_from_sfr.PoseFromSFRBuilder: Reading Selenium SE from MSE as SD from MET\n",
            "core.io.pose_from_sfr.PoseFromSFRBuilder: Reading MSE as MET!\n",
            "core.io.pose_from_sfr.PoseFromSFRBuilder: Reading MSE as MET!\n",
            "core.io.pose_from_sfr.PoseFromSFRBuilder: Reading MSE as MET!\n",
            "core.io.pose_from_sfr.PoseFromSFRBuilder: Reading MSE as MET!\n",
            "core.io.pose_from_sfr.PoseFromSFRBuilder: Reading MSE as MET!\n",
            "core.io.pose_from_sfr.PoseFromSFRBuilder: Reading MSE as MET!\n",
            "core.io.pose_from_sfr.PoseFromSFRBuilder: Reading MSE as MET!\n",
            "core.io.pose_from_sfr.PoseFromSFRBuilder: Reading MSE as MET!\n",
            "core.io.pose_from_sfr.PoseFromSFRBuilder: Reading Selenium SE from MSE as SD from MET\n",
            "core.io.pose_from_sfr.PoseFromSFRBuilder: Reading MSE as MET!\n",
            "core.io.pose_from_sfr.PoseFromSFRBuilder: Reading MSE as MET!\n",
            "core.io.pose_from_sfr.PoseFromSFRBuilder: Reading MSE as MET!\n",
            "core.io.pose_from_sfr.PoseFromSFRBuilder: Reading MSE as MET!\n",
            "core.io.pose_from_sfr.PoseFromSFRBuilder: Reading MSE as MET!\n",
            "core.io.pose_from_sfr.PoseFromSFRBuilder: Reading MSE as MET!\n",
            "core.io.pose_from_sfr.PoseFromSFRBuilder: Reading MSE as MET!\n",
            "core.io.pose_from_sfr.PoseFromSFRBuilder: Reading MSE as MET!\n",
            "core.io.pose_from_sfr.PoseFromSFRBuilder: Reading Selenium SE from MSE as SD from MET\n",
            "core.io.pose_from_sfr.PoseFromSFRBuilder: Reading MSE as MET!\n",
            "core.io.pose_from_sfr.PoseFromSFRBuilder: Reading MSE as MET!\n",
            "core.io.pose_from_sfr.PoseFromSFRBuilder: Reading MSE as MET!\n",
            "core.io.pose_from_sfr.PoseFromSFRBuilder: Reading MSE as MET!\n",
            "core.io.pose_from_sfr.PoseFromSFRBuilder: Reading MSE as MET!\n",
            "core.io.pose_from_sfr.PoseFromSFRBuilder: Reading MSE as MET!\n",
            "core.io.pose_from_sfr.PoseFromSFRBuilder: Reading MSE as MET!\n",
            "core.io.pose_from_sfr.PoseFromSFRBuilder: Reading MSE as MET!\n",
            "core.io.pose_from_sfr.PoseFromSFRBuilder: Reading Selenium SE from MSE as SD from MET\n",
            "core.io.pose_from_sfr.PoseFromSFRBuilder: Reading MSE as MET!\n",
            "core.io.pose_from_sfr.PoseFromSFRBuilder: Reading MSE as MET!\n",
            "core.io.pose_from_sfr.PoseFromSFRBuilder: Reading MSE as MET!\n",
            "core.io.pose_from_sfr.PoseFromSFRBuilder: Reading MSE as MET!\n",
            "core.io.pose_from_sfr.PoseFromSFRBuilder: Reading MSE as MET!\n",
            "core.io.pose_from_sfr.PoseFromSFRBuilder: Reading MSE as MET!\n",
            "core.io.pose_from_sfr.PoseFromSFRBuilder: Reading MSE as MET!\n",
            "core.io.pose_from_sfr.PoseFromSFRBuilder: Reading MSE as MET!\n",
            "core.io.pose_from_sfr.PoseFromSFRBuilder: Reading Selenium SE from MSE as SD from MET\n",
            "core.io.pose_from_sfr.PoseFromSFRBuilder: Reading MSE as MET!\n",
            "core.io.pose_from_sfr.PoseFromSFRBuilder: Reading MSE as MET!\n",
            "core.io.pose_from_sfr.PoseFromSFRBuilder: Reading MSE as MET!\n",
            "core.io.pose_from_sfr.PoseFromSFRBuilder: Reading MSE as MET!\n",
            "core.io.pose_from_sfr.PoseFromSFRBuilder: Reading MSE as MET!\n",
            "core.io.pose_from_sfr.PoseFromSFRBuilder: Reading MSE as MET!\n",
            "core.io.pose_from_sfr.PoseFromSFRBuilder: Reading MSE as MET!\n",
            "core.io.pose_from_sfr.PoseFromSFRBuilder: Reading MSE as MET!\n",
            "core.io.pose_from_sfr.PoseFromSFRBuilder: Reading Selenium SE from MSE as SD from MET\n",
            "core.io.pose_from_sfr.PoseFromSFRBuilder: Reading MSE as MET!\n",
            "core.io.pose_from_sfr.PoseFromSFRBuilder: Reading MSE as MET!\n",
            "core.io.pose_from_sfr.PoseFromSFRBuilder: Reading MSE as MET!\n",
            "core.io.pose_from_sfr.PoseFromSFRBuilder: Reading MSE as MET!\n",
            "core.io.pose_from_sfr.PoseFromSFRBuilder: Reading MSE as MET!\n",
            "core.io.pose_from_sfr.PoseFromSFRBuilder: Reading MSE as MET!\n",
            "core.io.pose_from_sfr.PoseFromSFRBuilder: Reading MSE as MET!\n",
            "core.io.pose_from_sfr.PoseFromSFRBuilder: Reading MSE as MET!\n",
            "core.io.pose_from_sfr.PoseFromSFRBuilder: Reading Selenium SE from MSE as SD from MET\n",
            "core.io.pose_from_sfr.PoseFromSFRBuilder: Reading MSE as MET!\n",
            "core.conformation.Conformation: [ WARNING ] missing heavyatom:  OG1 on residue THR 78\n",
            "core.conformation.Conformation: [ WARNING ] missing heavyatom:  CG2 on residue THR 78\n",
            "core.conformation.Conformation: [ WARNING ] missing heavyatom:  CG  on residue HIS 79\n",
            "core.conformation.Conformation: [ WARNING ] missing heavyatom:  ND1 on residue HIS 79\n",
            "core.conformation.Conformation: [ WARNING ] missing heavyatom:  CD2 on residue HIS 79\n",
            "core.conformation.Conformation: [ WARNING ] missing heavyatom:  CE1 on residue HIS 79\n",
            "core.conformation.Conformation: [ WARNING ] missing heavyatom:  NE2 on residue HIS 79\n",
            "core.conformation.Conformation: [ WARNING ] missing heavyatom:  CG  on residue LYS 80\n",
            "core.conformation.Conformation: [ WARNING ] missing heavyatom:  CD  on residue LYS 80\n",
            "core.conformation.Conformation: [ WARNING ] missing heavyatom:  CE  on residue LYS 80\n",
            "core.conformation.Conformation: [ WARNING ] missing heavyatom:  NZ  on residue LYS 80\n",
            "core.conformation.Conformation: [ WARNING ] missing heavyatom:  OXT on residue SER:CtermProteinFull 198\n",
            "core.conformation.Conformation: [ WARNING ] missing heavyatom:  OG1 on residue THR 276\n",
            "core.conformation.Conformation: [ WARNING ] missing heavyatom:  CG2 on residue THR 276\n",
            "core.conformation.Conformation: [ WARNING ] missing heavyatom:  CG  on residue HIS 277\n",
            "core.conformation.Conformation: [ WARNING ] missing heavyatom:  ND1 on residue HIS 277\n",
            "core.conformation.Conformation: [ WARNING ] missing heavyatom:  CD2 on residue HIS 277\n",
            "core.conformation.Conformation: [ WARNING ] missing heavyatom:  CE1 on residue HIS 277\n",
            "core.conformation.Conformation: [ WARNING ] missing heavyatom:  NE2 on residue HIS 277\n",
            "core.conformation.Conformation: [ WARNING ] missing heavyatom:  CG  on residue LEU 278\n",
            "core.conformation.Conformation: [ WARNING ] missing heavyatom:  CD1 on residue LEU 278\n",
            "core.conformation.Conformation: [ WARNING ] missing heavyatom:  CD2 on residue LEU 278\n",
            "core.conformation.Conformation: [ WARNING ] missing heavyatom:  CG  on residue LYS 279\n",
            "core.conformation.Conformation: [ WARNING ] missing heavyatom:  CD  on residue LYS 279\n",
            "core.conformation.Conformation: [ WARNING ] missing heavyatom:  CE  on residue LYS 279\n",
            "core.conformation.Conformation: [ WARNING ] missing heavyatom:  NZ  on residue LYS 279\n",
            "core.conformation.Conformation: [ WARNING ] missing heavyatom:  OXT on residue ARG:CtermProteinFull 401\n",
            "core.conformation.Conformation: [ WARNING ] missing heavyatom:  CG  on residue ARG:CtermProteinFull 401\n",
            "core.conformation.Conformation: [ WARNING ] missing heavyatom:  CD  on residue ARG:CtermProteinFull 401\n",
            "core.conformation.Conformation: [ WARNING ] missing heavyatom:  NE  on residue ARG:CtermProteinFull 401\n",
            "core.conformation.Conformation: [ WARNING ] missing heavyatom:  CZ  on residue ARG:CtermProteinFull 401\n",
            "core.conformation.Conformation: [ WARNING ] missing heavyatom:  NH1 on residue ARG:CtermProteinFull 401\n",
            "core.conformation.Conformation: [ WARNING ] missing heavyatom:  NH2 on residue ARG:CtermProteinFull 401\n",
            "core.pack.pack_missing_sidechains: packing residue number 78 because of missing atom number 6 atom name  OG1\n",
            "core.pack.pack_missing_sidechains: packing residue number 79 because of missing atom number 6 atom name  CG\n",
            "core.pack.pack_missing_sidechains: packing residue number 80 because of missing atom number 6 atom name  CG\n",
            "core.pack.pack_missing_sidechains: packing residue number 276 because of missing atom number 6 atom name  OG1\n",
            "core.pack.pack_missing_sidechains: packing residue number 277 because of missing atom number 6 atom name  CG\n",
            "core.pack.pack_missing_sidechains: packing residue number 278 because of missing atom number 6 atom name  CG\n",
            "core.pack.pack_missing_sidechains: packing residue number 279 because of missing atom number 6 atom name  CG\n",
            "core.pack.pack_missing_sidechains: packing residue number 401 because of missing atom number 7 atom name  CG\n",
            "core.pack.task: Packer task: initialize from command line()\n",
            "core.scoring.ScoreFunctionFactory: SCOREFUNCTION: ref2015\n",
            "core.pack.pack_rotamers: built 78 rotamers at 8 positions.\n",
            "core.pack.interaction_graph.interaction_graph_factory: Instantiating DensePDInteractionGraph\n",
            "401\n",
            "401\n"
          ]
        }
      ]
    },
    {
      "cell_type": "markdown",
      "source": [
        "### Angles"
      ],
      "metadata": {
        "id": "lwQRdviHKsza"
      }
    },
    {
      "cell_type": "code",
      "source": [
        "print(pose.pdb_info())\n",
        "\n",
        "# Catalytic Serine\n",
        "resid_ser = pose.pdb_info().pdb2pose('A', 692)\n",
        "print(resid_ser)\n",
        "# Catalytic Lysine\n",
        "resid_lys = pose.pdb_info().pdb2pose('A', 729)\n",
        "print(resid_lys)"
      ],
      "metadata": {
        "colab": {
          "base_uri": "https://localhost:8080/"
        },
        "id": "CBfJlU8g0QAr",
        "outputId": "26467da3-18d7-478a-9cf9-c1580b8534cd"
      },
      "execution_count": 188,
      "outputs": [
        {
          "output_type": "stream",
          "name": "stdout",
          "text": [
            "PDB file name: /content/google_drive/MyDrive/vp4_protease_structure/2gef.pdb\n",
            " Pose Range  Chain    PDB Range  |   #Residues         #Atoms\n",
            "\n",
            "0001 -- 0079    A 0559  -- 0637  |   0079 residues;    01222 atoms\n",
            "0080 -- 0198    A 0651  -- 0769  |   0119 residues;    01747 atoms\n",
            "0199 -- 0277    B 0559  -- 0637  |   0079 residues;    01222 atoms\n",
            "0278 -- 0401    B 0650  -- 0773  |   0124 residues;    01834 atoms\n",
            "                           TOTAL |   0401 residues;    06025 atoms\n",
            "\n",
            "121\n",
            "158\n"
          ]
        }
      ]
    },
    {
      "cell_type": "markdown",
      "source": [
        "Angles for Serine residue"
      ],
      "metadata": {
        "id": "tac7VmG66gbR"
      }
    },
    {
      "cell_type": "code",
      "source": [
        "print(\"phi:\", pose.phi(resid_ser))\n",
        "print(\"psi:\", pose.psi(resid_ser))\n",
        "print(\"chi1:\", pose.chi(1, resid_ser))"
      ],
      "metadata": {
        "colab": {
          "base_uri": "https://localhost:8080/"
        },
        "id": "3BKLESyb6e6_",
        "outputId": "a7a39169-0491-4cd7-d0a5-ce4a88342f79"
      },
      "execution_count": 189,
      "outputs": [
        {
          "output_type": "stream",
          "name": "stdout",
          "text": [
            "phi: -61.94625549372842\n",
            "psi: -8.219627882218836\n",
            "chi1: 59.15864216058228\n"
          ]
        }
      ]
    },
    {
      "cell_type": "markdown",
      "source": [
        "Angles for Lysine residue"
      ],
      "metadata": {
        "id": "z6KkcTd16lNj"
      }
    },
    {
      "cell_type": "code",
      "source": [
        "print(\"phi:\", pose.phi(resid_lys))\n",
        "print(\"psi:\", pose.psi(resid_lys))\n",
        "print(\"chi1:\", pose.chi(1, resid_lys))"
      ],
      "metadata": {
        "colab": {
          "base_uri": "https://localhost:8080/"
        },
        "id": "ThV4W1v_6oGq",
        "outputId": "a0b716b6-0e58-4482-d70e-ec8c0610cd9a"
      },
      "execution_count": 190,
      "outputs": [
        {
          "output_type": "stream",
          "name": "stdout",
          "text": [
            "phi: -53.85899147051257\n",
            "psi: -42.578411192963664\n",
            "chi1: -73.50990034388595\n"
          ]
        }
      ]
    },
    {
      "cell_type": "markdown",
      "source": [
        "## Tellina virus 1"
      ],
      "metadata": {
        "id": "tEgZrJX3DSpP"
      }
    },
    {
      "cell_type": "markdown",
      "source": [
        "#### Pose"
      ],
      "metadata": {
        "id": "jAz8agIULdcU"
      }
    },
    {
      "cell_type": "code",
      "source": [
        "pose = pose_from_pdb(\"/content/google_drive/MyDrive/vp4_protease_structure/3p06.pdb\")\n",
        "pose.sequence()\n",
        "from pyrosetta.toolbox import cleanATOM\n",
        "cleanATOM(\"/content/google_drive/MyDrive/vp4_protease_structure/3p06.pdb\")\n",
        "pose_clean = pose_from_pdb(\"/content/google_drive/MyDrive/vp4_protease_structure/3p06.pdb\")\n",
        "pose_clean.sequence()\n",
        "pose.annotated_sequence()\n",
        "pose_clean.annotated_sequence()\n",
        "print(pose.total_residue())\n",
        "print(pose_clean.total_residue())"
      ],
      "metadata": {
        "colab": {
          "base_uri": "https://localhost:8080/"
        },
        "id": "lzs7820WLiHx",
        "outputId": "a99b72a3-8196-45cb-e93b-ed1bc4217b92"
      },
      "execution_count": 191,
      "outputs": [
        {
          "output_type": "stream",
          "name": "stdout",
          "text": [
            "core.import_pose.import_pose: File '/content/google_drive/MyDrive/vp4_protease_structure/3p06.pdb' automatically determined to be of type PDB\n",
            "core.io.pose_from_sfr.PoseFromSFRBuilder: Reading MSE as MET!\n",
            "core.io.pose_from_sfr.PoseFromSFRBuilder: Reading MSE as MET!\n",
            "core.io.pose_from_sfr.PoseFromSFRBuilder: Reading MSE as MET!\n",
            "core.io.pose_from_sfr.PoseFromSFRBuilder: Reading MSE as MET!\n",
            "core.io.pose_from_sfr.PoseFromSFRBuilder: Reading MSE as MET!\n",
            "core.io.pose_from_sfr.PoseFromSFRBuilder: Reading MSE as MET!\n",
            "core.io.pose_from_sfr.PoseFromSFRBuilder: Reading MSE as MET!\n",
            "core.io.pose_from_sfr.PoseFromSFRBuilder: Reading Selenium SE from MSE as SD from MET\n",
            "core.io.pose_from_sfr.PoseFromSFRBuilder: Reading MSE as MET!\n",
            "core.io.pose_from_sfr.PoseFromSFRBuilder: Reading MSE as MET!\n",
            "core.io.pose_from_sfr.PoseFromSFRBuilder: Reading MSE as MET!\n",
            "core.io.pose_from_sfr.PoseFromSFRBuilder: Reading MSE as MET!\n",
            "core.io.pose_from_sfr.PoseFromSFRBuilder: Reading MSE as MET!\n",
            "core.io.pose_from_sfr.PoseFromSFRBuilder: Reading MSE as MET!\n",
            "core.io.pose_from_sfr.PoseFromSFRBuilder: Reading MSE as MET!\n",
            "core.io.pose_from_sfr.PoseFromSFRBuilder: Reading MSE as MET!\n",
            "core.io.pose_from_sfr.PoseFromSFRBuilder: Reading Selenium SE from MSE as SD from MET\n",
            "core.io.pose_from_sfr.PoseFromSFRBuilder: Reading MSE as MET!\n",
            "core.io.pose_from_sfr.PoseFromSFRBuilder: Reading MSE as MET!\n",
            "core.io.pose_from_sfr.PoseFromSFRBuilder: Reading MSE as MET!\n",
            "core.io.pose_from_sfr.PoseFromSFRBuilder: Reading MSE as MET!\n",
            "core.io.pose_from_sfr.PoseFromSFRBuilder: Reading MSE as MET!\n",
            "core.io.pose_from_sfr.PoseFromSFRBuilder: Reading MSE as MET!\n",
            "core.io.pose_from_sfr.PoseFromSFRBuilder: Reading MSE as MET!\n",
            "core.io.pose_from_sfr.PoseFromSFRBuilder: Reading MSE as MET!\n",
            "core.io.pose_from_sfr.PoseFromSFRBuilder: Reading Selenium SE from MSE as SD from MET\n",
            "core.io.pose_from_sfr.PoseFromSFRBuilder: Reading MSE as MET!\n",
            "core.io.pose_from_sfr.PoseFromSFRBuilder: Reading MSE as MET!\n",
            "core.io.pose_from_sfr.PoseFromSFRBuilder: Reading MSE as MET!\n",
            "core.io.pose_from_sfr.PoseFromSFRBuilder: Reading MSE as MET!\n",
            "core.io.pose_from_sfr.PoseFromSFRBuilder: Reading MSE as MET!\n",
            "core.io.pose_from_sfr.PoseFromSFRBuilder: Reading MSE as MET!\n",
            "core.io.pose_from_sfr.PoseFromSFRBuilder: Reading MSE as MET!\n",
            "core.io.pose_from_sfr.PoseFromSFRBuilder: Reading MSE as MET!\n",
            "core.io.pose_from_sfr.PoseFromSFRBuilder: Reading Selenium SE from MSE as SD from MET\n",
            "core.io.pose_from_sfr.PoseFromSFRBuilder: Reading MSE as MET!\n",
            "core.io.pose_from_sfr.PoseFromSFRBuilder: Reading MSE as MET!\n",
            "core.io.pose_from_sfr.PoseFromSFRBuilder: Reading MSE as MET!\n",
            "core.io.pose_from_sfr.PoseFromSFRBuilder: Reading MSE as MET!\n",
            "core.io.pose_from_sfr.PoseFromSFRBuilder: Reading MSE as MET!\n",
            "core.io.pose_from_sfr.PoseFromSFRBuilder: Reading MSE as MET!\n",
            "core.io.pose_from_sfr.PoseFromSFRBuilder: Reading MSE as MET!\n",
            "core.io.pose_from_sfr.PoseFromSFRBuilder: Reading MSE as MET!\n",
            "core.io.pose_from_sfr.PoseFromSFRBuilder: Reading Selenium SE from MSE as SD from MET\n",
            "core.io.pose_from_sfr.PoseFromSFRBuilder: Reading MSE as MET!\n",
            "core.import_pose.import_pose: File '/content/google_drive/MyDrive/vp4_protease_structure/3p06.pdb' automatically determined to be of type PDB\n",
            "core.io.pose_from_sfr.PoseFromSFRBuilder: Reading MSE as MET!\n",
            "core.io.pose_from_sfr.PoseFromSFRBuilder: Reading MSE as MET!\n",
            "core.io.pose_from_sfr.PoseFromSFRBuilder: Reading MSE as MET!\n",
            "core.io.pose_from_sfr.PoseFromSFRBuilder: Reading MSE as MET!\n",
            "core.io.pose_from_sfr.PoseFromSFRBuilder: Reading MSE as MET!\n",
            "core.io.pose_from_sfr.PoseFromSFRBuilder: Reading MSE as MET!\n",
            "core.io.pose_from_sfr.PoseFromSFRBuilder: Reading MSE as MET!\n",
            "core.io.pose_from_sfr.PoseFromSFRBuilder: Reading Selenium SE from MSE as SD from MET\n",
            "core.io.pose_from_sfr.PoseFromSFRBuilder: Reading MSE as MET!\n",
            "core.io.pose_from_sfr.PoseFromSFRBuilder: Reading MSE as MET!\n",
            "core.io.pose_from_sfr.PoseFromSFRBuilder: Reading MSE as MET!\n",
            "core.io.pose_from_sfr.PoseFromSFRBuilder: Reading MSE as MET!\n",
            "core.io.pose_from_sfr.PoseFromSFRBuilder: Reading MSE as MET!\n",
            "core.io.pose_from_sfr.PoseFromSFRBuilder: Reading MSE as MET!\n",
            "core.io.pose_from_sfr.PoseFromSFRBuilder: Reading MSE as MET!\n",
            "core.io.pose_from_sfr.PoseFromSFRBuilder: Reading MSE as MET!\n",
            "core.io.pose_from_sfr.PoseFromSFRBuilder: Reading Selenium SE from MSE as SD from MET\n",
            "core.io.pose_from_sfr.PoseFromSFRBuilder: Reading MSE as MET!\n",
            "core.io.pose_from_sfr.PoseFromSFRBuilder: Reading MSE as MET!\n",
            "core.io.pose_from_sfr.PoseFromSFRBuilder: Reading MSE as MET!\n",
            "core.io.pose_from_sfr.PoseFromSFRBuilder: Reading MSE as MET!\n",
            "core.io.pose_from_sfr.PoseFromSFRBuilder: Reading MSE as MET!\n",
            "core.io.pose_from_sfr.PoseFromSFRBuilder: Reading MSE as MET!\n",
            "core.io.pose_from_sfr.PoseFromSFRBuilder: Reading MSE as MET!\n",
            "core.io.pose_from_sfr.PoseFromSFRBuilder: Reading MSE as MET!\n",
            "core.io.pose_from_sfr.PoseFromSFRBuilder: Reading Selenium SE from MSE as SD from MET\n",
            "core.io.pose_from_sfr.PoseFromSFRBuilder: Reading MSE as MET!\n",
            "core.io.pose_from_sfr.PoseFromSFRBuilder: Reading MSE as MET!\n",
            "core.io.pose_from_sfr.PoseFromSFRBuilder: Reading MSE as MET!\n",
            "core.io.pose_from_sfr.PoseFromSFRBuilder: Reading MSE as MET!\n",
            "core.io.pose_from_sfr.PoseFromSFRBuilder: Reading MSE as MET!\n",
            "core.io.pose_from_sfr.PoseFromSFRBuilder: Reading MSE as MET!\n",
            "core.io.pose_from_sfr.PoseFromSFRBuilder: Reading MSE as MET!\n",
            "core.io.pose_from_sfr.PoseFromSFRBuilder: Reading MSE as MET!\n",
            "core.io.pose_from_sfr.PoseFromSFRBuilder: Reading Selenium SE from MSE as SD from MET\n",
            "core.io.pose_from_sfr.PoseFromSFRBuilder: Reading MSE as MET!\n",
            "core.io.pose_from_sfr.PoseFromSFRBuilder: Reading MSE as MET!\n",
            "core.io.pose_from_sfr.PoseFromSFRBuilder: Reading MSE as MET!\n",
            "core.io.pose_from_sfr.PoseFromSFRBuilder: Reading MSE as MET!\n",
            "core.io.pose_from_sfr.PoseFromSFRBuilder: Reading MSE as MET!\n",
            "core.io.pose_from_sfr.PoseFromSFRBuilder: Reading MSE as MET!\n",
            "core.io.pose_from_sfr.PoseFromSFRBuilder: Reading MSE as MET!\n",
            "core.io.pose_from_sfr.PoseFromSFRBuilder: Reading MSE as MET!\n",
            "core.io.pose_from_sfr.PoseFromSFRBuilder: Reading Selenium SE from MSE as SD from MET\n",
            "core.io.pose_from_sfr.PoseFromSFRBuilder: Reading MSE as MET!\n",
            "201\n",
            "201\n"
          ]
        }
      ]
    },
    {
      "cell_type": "markdown",
      "source": [
        "#### Angle"
      ],
      "metadata": {
        "id": "IrgShrIoLZ54"
      }
    },
    {
      "cell_type": "code",
      "source": [
        "print(pose.pdb_info())\n",
        "\n",
        "# Catalytic Serine\n",
        "resid_ser = pose.pdb_info().pdb2pose('A', 738)\n",
        "print(resid_ser)\n",
        "# Catalytic Lysine\n",
        "resid_lys = pose.pdb_info().pdb2pose('A', 777)\n",
        "print(resid_lys)\n",
        "# Note: result is 0, will omit"
      ],
      "metadata": {
        "colab": {
          "base_uri": "https://localhost:8080/"
        },
        "outputId": "a823f38f-963f-4966-bdc9-7879f28918ef",
        "id": "MeNhGISSDXcI"
      },
      "execution_count": 192,
      "outputs": [
        {
          "output_type": "stream",
          "name": "stdout",
          "text": [
            "PDB file name: /content/google_drive/MyDrive/vp4_protease_structure/3p06.pdb\n",
            " Pose Range  Chain    PDB Range  |   #Residues         #Atoms\n",
            "\n",
            "0001 -- 0194    A 0637  -- 0830  |   0194 residues;    02916 atoms\n",
            "0195 -- 0201    A 0100  -- 0106  |   0007 residues;    00068 atoms\n",
            "                           TOTAL |   0201 residues;    02984 atoms\n",
            "\n",
            "102\n",
            "141\n"
          ]
        }
      ]
    },
    {
      "cell_type": "markdown",
      "source": [
        "Angles for Serine residue"
      ],
      "metadata": {
        "id": "fC-NpnyqDXcI"
      }
    },
    {
      "cell_type": "code",
      "source": [
        "print(\"phi:\", pose.phi(resid_ser))\n",
        "print(\"psi:\", pose.psi(resid_ser))\n",
        "print(\"chi1:\", pose.chi(1, resid_ser))"
      ],
      "metadata": {
        "colab": {
          "base_uri": "https://localhost:8080/"
        },
        "outputId": "3c3dc0ac-815e-4bda-cb11-299e56d86363",
        "id": "gAtuVsCvDXcI"
      },
      "execution_count": 193,
      "outputs": [
        {
          "output_type": "stream",
          "name": "stdout",
          "text": [
            "phi: -70.07070649863586\n",
            "psi: -1.4033892575937037\n",
            "chi1: 74.3788294187084\n"
          ]
        }
      ]
    },
    {
      "cell_type": "markdown",
      "source": [
        "Angles for Lysine residue"
      ],
      "metadata": {
        "id": "_Y4JeKHbDXcJ"
      }
    },
    {
      "cell_type": "code",
      "source": [
        "print(\"phi:\", pose.phi(resid_lys))\n",
        "print(\"psi:\", pose.psi(resid_lys))\n",
        "print(\"chi1:\", pose.chi(1, resid_lys))"
      ],
      "metadata": {
        "colab": {
          "base_uri": "https://localhost:8080/"
        },
        "outputId": "4b4acfd2-ebdc-448e-dde5-925724b83efc",
        "id": "hEOpCPDADXcJ"
      },
      "execution_count": 194,
      "outputs": [
        {
          "output_type": "stream",
          "name": "stdout",
          "text": [
            "phi: -72.8864124621807\n",
            "psi: -33.751707324943396\n",
            "chi1: -66.1803096072293\n"
          ]
        }
      ]
    },
    {
      "cell_type": "markdown",
      "source": [
        "## IPNV Hexagonal form"
      ],
      "metadata": {
        "id": "GR2cyh36JciV"
      }
    },
    {
      "cell_type": "markdown",
      "source": [
        "#### Pose"
      ],
      "metadata": {
        "id": "FI9jAPqTL4dk"
      }
    },
    {
      "cell_type": "code",
      "source": [
        "pose = pose_from_pdb(\"/content/google_drive/MyDrive/vp4_protease_structure/2pnm.pdb\")\n",
        "pose.sequence()\n",
        "from pyrosetta.toolbox import cleanATOM\n",
        "cleanATOM(\"/content/google_drive/MyDrive/vp4_protease_structure/2pnm.pdb\")\n",
        "pose_clean = pose_from_pdb(\"/content/google_drive/MyDrive/vp4_protease_structure/2pnm.pdb\")\n",
        "pose_clean.sequence()\n",
        "pose.annotated_sequence()\n",
        "pose_clean.annotated_sequence()\n",
        "print(pose.total_residue())\n",
        "print(pose_clean.total_residue())"
      ],
      "metadata": {
        "colab": {
          "base_uri": "https://localhost:8080/"
        },
        "id": "YASglKe8L8eh",
        "outputId": "98e513bd-1f2c-4d8b-8741-9f5ae5d35cb8"
      },
      "execution_count": 199,
      "outputs": [
        {
          "output_type": "stream",
          "name": "stdout",
          "text": [
            "core.import_pose.import_pose: File '/content/google_drive/MyDrive/vp4_protease_structure/2pnm.pdb' automatically determined to be of type PDB\n",
            "core.io.pose_from_sfr.PoseFromSFRBuilder: Reading MSE as MET!\n",
            "core.io.pose_from_sfr.PoseFromSFRBuilder: Reading MSE as MET!\n",
            "core.io.pose_from_sfr.PoseFromSFRBuilder: Reading MSE as MET!\n",
            "core.io.pose_from_sfr.PoseFromSFRBuilder: Reading MSE as MET!\n",
            "core.io.pose_from_sfr.PoseFromSFRBuilder: Reading MSE as MET!\n",
            "core.io.pose_from_sfr.PoseFromSFRBuilder: Reading MSE as MET!\n",
            "core.io.pose_from_sfr.PoseFromSFRBuilder: Reading MSE as MET!\n",
            "core.io.pose_from_sfr.PoseFromSFRBuilder: Reading Selenium SE from MSE as SD from MET\n",
            "core.io.pose_from_sfr.PoseFromSFRBuilder: Reading MSE as MET!\n",
            "core.io.pose_from_sfr.PoseFromSFRBuilder: Reading MSE as MET!\n",
            "core.io.pose_from_sfr.PoseFromSFRBuilder: Reading MSE as MET!\n",
            "core.io.pose_from_sfr.PoseFromSFRBuilder: Reading MSE as MET!\n",
            "core.io.pose_from_sfr.PoseFromSFRBuilder: Reading MSE as MET!\n",
            "core.io.pose_from_sfr.PoseFromSFRBuilder: Reading MSE as MET!\n",
            "core.io.pose_from_sfr.PoseFromSFRBuilder: Reading MSE as MET!\n",
            "core.io.pose_from_sfr.PoseFromSFRBuilder: Reading MSE as MET!\n",
            "core.io.pose_from_sfr.PoseFromSFRBuilder: Reading Selenium SE from MSE as SD from MET\n",
            "core.io.pose_from_sfr.PoseFromSFRBuilder: Reading MSE as MET!\n",
            "core.io.pose_from_sfr.PoseFromSFRBuilder: Reading MSE as MET!\n",
            "core.io.pose_from_sfr.PoseFromSFRBuilder: Reading MSE as MET!\n",
            "core.io.pose_from_sfr.PoseFromSFRBuilder: Reading MSE as MET!\n",
            "core.io.pose_from_sfr.PoseFromSFRBuilder: Reading MSE as MET!\n",
            "core.io.pose_from_sfr.PoseFromSFRBuilder: Reading MSE as MET!\n",
            "core.io.pose_from_sfr.PoseFromSFRBuilder: Reading MSE as MET!\n",
            "core.io.pose_from_sfr.PoseFromSFRBuilder: Reading MSE as MET!\n",
            "core.io.pose_from_sfr.PoseFromSFRBuilder: Reading Selenium SE from MSE as SD from MET\n",
            "core.io.pose_from_sfr.PoseFromSFRBuilder: Reading MSE as MET!\n",
            "core.conformation.Conformation: [ WARNING ] missing heavyatom:  CG  on residue GLU 25\n",
            "core.conformation.Conformation: [ WARNING ] missing heavyatom:  CD  on residue GLU 25\n",
            "core.conformation.Conformation: [ WARNING ] missing heavyatom:  OE1 on residue GLU 25\n",
            "core.conformation.Conformation: [ WARNING ] missing heavyatom:  OE2 on residue GLU 25\n",
            "core.conformation.Conformation: [ WARNING ] missing heavyatom:  CG  on residue ARG 85\n",
            "core.conformation.Conformation: [ WARNING ] missing heavyatom:  CD  on residue ARG 85\n",
            "core.conformation.Conformation: [ WARNING ] missing heavyatom:  NE  on residue ARG 85\n",
            "core.conformation.Conformation: [ WARNING ] missing heavyatom:  CZ  on residue ARG 85\n",
            "core.conformation.Conformation: [ WARNING ] missing heavyatom:  NH1 on residue ARG 85\n",
            "core.conformation.Conformation: [ WARNING ] missing heavyatom:  NH2 on residue ARG 85\n",
            "core.conformation.Conformation: [ WARNING ] missing heavyatom:  CG  on residue ARG 167\n",
            "core.conformation.Conformation: [ WARNING ] missing heavyatom:  CD  on residue ARG 167\n",
            "core.conformation.Conformation: [ WARNING ] missing heavyatom:  NE  on residue ARG 167\n",
            "core.conformation.Conformation: [ WARNING ] missing heavyatom:  CZ  on residue ARG 167\n",
            "core.conformation.Conformation: [ WARNING ] missing heavyatom:  NH1 on residue ARG 167\n",
            "core.conformation.Conformation: [ WARNING ] missing heavyatom:  NH2 on residue ARG 167\n",
            "core.conformation.Conformation: [ WARNING ] missing heavyatom:  OXT on residue LEU:CtermProteinFull 181\n",
            "core.pack.pack_missing_sidechains: packing residue number 25 because of missing atom number 6 atom name  CG\n",
            "core.pack.pack_missing_sidechains: packing residue number 85 because of missing atom number 6 atom name  CG\n",
            "core.pack.pack_missing_sidechains: packing residue number 167 because of missing atom number 6 atom name  CG\n",
            "core.pack.task: Packer task: initialize from command line()\n",
            "core.scoring.ScoreFunctionFactory: SCOREFUNCTION: ref2015\n",
            "core.pack.pack_rotamers: built 74 rotamers at 3 positions.\n",
            "core.pack.interaction_graph.interaction_graph_factory: Instantiating DensePDInteractionGraph\n",
            "core.import_pose.import_pose: File '/content/google_drive/MyDrive/vp4_protease_structure/2pnm.pdb' automatically determined to be of type PDB\n",
            "core.io.pose_from_sfr.PoseFromSFRBuilder: Reading MSE as MET!\n",
            "core.io.pose_from_sfr.PoseFromSFRBuilder: Reading MSE as MET!\n",
            "core.io.pose_from_sfr.PoseFromSFRBuilder: Reading MSE as MET!\n",
            "core.io.pose_from_sfr.PoseFromSFRBuilder: Reading MSE as MET!\n",
            "core.io.pose_from_sfr.PoseFromSFRBuilder: Reading MSE as MET!\n",
            "core.io.pose_from_sfr.PoseFromSFRBuilder: Reading MSE as MET!\n",
            "core.io.pose_from_sfr.PoseFromSFRBuilder: Reading MSE as MET!\n",
            "core.io.pose_from_sfr.PoseFromSFRBuilder: Reading Selenium SE from MSE as SD from MET\n",
            "core.io.pose_from_sfr.PoseFromSFRBuilder: Reading MSE as MET!\n",
            "core.io.pose_from_sfr.PoseFromSFRBuilder: Reading MSE as MET!\n",
            "core.io.pose_from_sfr.PoseFromSFRBuilder: Reading MSE as MET!\n",
            "core.io.pose_from_sfr.PoseFromSFRBuilder: Reading MSE as MET!\n",
            "core.io.pose_from_sfr.PoseFromSFRBuilder: Reading MSE as MET!\n",
            "core.io.pose_from_sfr.PoseFromSFRBuilder: Reading MSE as MET!\n",
            "core.io.pose_from_sfr.PoseFromSFRBuilder: Reading MSE as MET!\n",
            "core.io.pose_from_sfr.PoseFromSFRBuilder: Reading MSE as MET!\n",
            "core.io.pose_from_sfr.PoseFromSFRBuilder: Reading Selenium SE from MSE as SD from MET\n",
            "core.io.pose_from_sfr.PoseFromSFRBuilder: Reading MSE as MET!\n",
            "core.io.pose_from_sfr.PoseFromSFRBuilder: Reading MSE as MET!\n",
            "core.io.pose_from_sfr.PoseFromSFRBuilder: Reading MSE as MET!\n",
            "core.io.pose_from_sfr.PoseFromSFRBuilder: Reading MSE as MET!\n",
            "core.io.pose_from_sfr.PoseFromSFRBuilder: Reading MSE as MET!\n",
            "core.io.pose_from_sfr.PoseFromSFRBuilder: Reading MSE as MET!\n",
            "core.io.pose_from_sfr.PoseFromSFRBuilder: Reading MSE as MET!\n",
            "core.io.pose_from_sfr.PoseFromSFRBuilder: Reading MSE as MET!\n",
            "core.io.pose_from_sfr.PoseFromSFRBuilder: Reading Selenium SE from MSE as SD from MET\n",
            "core.io.pose_from_sfr.PoseFromSFRBuilder: Reading MSE as MET!\n",
            "core.conformation.Conformation: [ WARNING ] missing heavyatom:  CG  on residue GLU 25\n",
            "core.conformation.Conformation: [ WARNING ] missing heavyatom:  CD  on residue GLU 25\n",
            "core.conformation.Conformation: [ WARNING ] missing heavyatom:  OE1 on residue GLU 25\n",
            "core.conformation.Conformation: [ WARNING ] missing heavyatom:  OE2 on residue GLU 25\n",
            "core.conformation.Conformation: [ WARNING ] missing heavyatom:  CG  on residue ARG 85\n",
            "core.conformation.Conformation: [ WARNING ] missing heavyatom:  CD  on residue ARG 85\n",
            "core.conformation.Conformation: [ WARNING ] missing heavyatom:  NE  on residue ARG 85\n",
            "core.conformation.Conformation: [ WARNING ] missing heavyatom:  CZ  on residue ARG 85\n",
            "core.conformation.Conformation: [ WARNING ] missing heavyatom:  NH1 on residue ARG 85\n",
            "core.conformation.Conformation: [ WARNING ] missing heavyatom:  NH2 on residue ARG 85\n",
            "core.conformation.Conformation: [ WARNING ] missing heavyatom:  CG  on residue ARG 167\n",
            "core.conformation.Conformation: [ WARNING ] missing heavyatom:  CD  on residue ARG 167\n",
            "core.conformation.Conformation: [ WARNING ] missing heavyatom:  NE  on residue ARG 167\n",
            "core.conformation.Conformation: [ WARNING ] missing heavyatom:  CZ  on residue ARG 167\n",
            "core.conformation.Conformation: [ WARNING ] missing heavyatom:  NH1 on residue ARG 167\n",
            "core.conformation.Conformation: [ WARNING ] missing heavyatom:  NH2 on residue ARG 167\n",
            "core.conformation.Conformation: [ WARNING ] missing heavyatom:  OXT on residue LEU:CtermProteinFull 181\n",
            "core.pack.pack_missing_sidechains: packing residue number 25 because of missing atom number 6 atom name  CG\n",
            "core.pack.pack_missing_sidechains: packing residue number 85 because of missing atom number 6 atom name  CG\n",
            "core.pack.pack_missing_sidechains: packing residue number 167 because of missing atom number 6 atom name  CG\n",
            "core.pack.task: Packer task: initialize from command line()\n",
            "core.scoring.ScoreFunctionFactory: SCOREFUNCTION: ref2015\n",
            "core.pack.pack_rotamers: built 74 rotamers at 3 positions.\n",
            "core.pack.interaction_graph.interaction_graph_factory: Instantiating DensePDInteractionGraph\n",
            "181\n",
            "181\n"
          ]
        }
      ]
    },
    {
      "cell_type": "markdown",
      "source": [
        "#### Angle"
      ],
      "metadata": {
        "id": "td3amVorL60o"
      }
    },
    {
      "cell_type": "code",
      "source": [
        "print(pose.pdb_info())\n",
        "\n",
        "# Catalytic Serine\n",
        "resid_ser = pose.pdb_info().pdb2pose('A', 633)\n",
        "print(resid_ser)\n",
        "# This residue is an ALA rather than LYS, therefore cannot obtain chi angle\n",
        "resid_lys = pose.pdb_info().pdb2pose('A', 674)\n",
        "print(resid_lys)"
      ],
      "metadata": {
        "colab": {
          "base_uri": "https://localhost:8080/"
        },
        "outputId": "a936ac69-ba25-472a-a5e8-f415f5a5eca8",
        "id": "jyuhH_ZiJvdG"
      },
      "execution_count": 200,
      "outputs": [
        {
          "output_type": "stream",
          "name": "stdout",
          "text": [
            "PDB file name: /content/google_drive/MyDrive/vp4_protease_structure/2pnm.pdb\n",
            " Pose Range  Chain    PDB Range  |   #Residues         #Atoms\n",
            "\n",
            "0001 -- 0024    A 0524  -- 0547  |   0024 residues;    00372 atoms\n",
            "0025 -- 0181    A 0555  -- 0711  |   0157 residues;    02333 atoms\n",
            "                           TOTAL |   0181 residues;    02705 atoms\n",
            "\n",
            "103\n",
            "144\n"
          ]
        }
      ]
    },
    {
      "cell_type": "markdown",
      "source": [
        "Angles for Serine residue"
      ],
      "metadata": {
        "id": "GZ7AwyDmJvdG"
      }
    },
    {
      "cell_type": "code",
      "source": [
        "print(\"phi:\", pose.phi(resid_ser))\n",
        "print(\"psi:\", pose.psi(resid_ser))\n",
        "print(\"chi1:\", pose.chi(1, resid_ser))"
      ],
      "metadata": {
        "colab": {
          "base_uri": "https://localhost:8080/"
        },
        "outputId": "cad95032-cb66-4594-d1fb-ba6330ffda6c",
        "id": "vYqkpXS-JvdG"
      },
      "execution_count": 201,
      "outputs": [
        {
          "output_type": "stream",
          "name": "stdout",
          "text": [
            "phi: -63.153077651620016\n",
            "psi: -25.82048931582708\n",
            "chi1: 69.11933415810839\n"
          ]
        }
      ]
    },
    {
      "cell_type": "markdown",
      "source": [
        "Angles for Lysine residue"
      ],
      "metadata": {
        "id": "HiejIoM1JvdH"
      }
    },
    {
      "cell_type": "code",
      "source": [
        "print(\"phi:\", pose.phi(resid_lys))\n",
        "print(\"psi:\", pose.psi(resid_lys))\n",
        "#print(\"chi1:\", pose.chi(1, resid_lys))"
      ],
      "metadata": {
        "colab": {
          "base_uri": "https://localhost:8080/"
        },
        "outputId": "9ed2b554-cb5f-4263-fce3-4e8ada843e16",
        "id": "usxkJjgNJvdH"
      },
      "execution_count": 202,
      "outputs": [
        {
          "output_type": "stream",
          "name": "stdout",
          "text": [
            "phi: -54.20767301464966\n",
            "psi: -41.86549466709202\n"
          ]
        }
      ]
    },
    {
      "cell_type": "markdown",
      "source": [
        "## IPNV Triclinic form"
      ],
      "metadata": {
        "id": "mhuIuRCrJl-w"
      }
    },
    {
      "cell_type": "markdown",
      "source": [
        "#### Pose"
      ],
      "metadata": {
        "id": "aoRFnrYDO5dp"
      }
    },
    {
      "cell_type": "code",
      "source": [
        "pose = pose_from_pdb(\"/content/google_drive/MyDrive/vp4_protease_structure/2pnl.pdb\")\n",
        "pose.sequence()\n",
        "from pyrosetta.toolbox import cleanATOM\n",
        "cleanATOM(\"/content/google_drive/MyDrive/vp4_protease_structure/2pnl.pdb\")\n",
        "pose_clean = pose_from_pdb(\"/content/google_drive/MyDrive/vp4_protease_structure/2pnl.pdb\")\n",
        "pose_clean.sequence()\n",
        "pose.annotated_sequence()\n",
        "pose_clean.annotated_sequence()\n",
        "print(pose.total_residue())\n",
        "print(pose_clean.total_residue())"
      ],
      "metadata": {
        "colab": {
          "base_uri": "https://localhost:8080/"
        },
        "outputId": "5333dae9-02b7-4518-c032-cb79122edbe8",
        "id": "05BfPHUVO5dq"
      },
      "execution_count": 195,
      "outputs": [
        {
          "output_type": "stream",
          "name": "stdout",
          "text": [
            "core.import_pose.import_pose: File '/content/google_drive/MyDrive/vp4_protease_structure/2pnl.pdb' automatically determined to be of type PDB\n",
            "core.io.pose_from_sfr.PoseFromSFRBuilder: Reading MSE as MET!\n",
            "core.io.pose_from_sfr.PoseFromSFRBuilder: Reading MSE as MET!\n",
            "core.io.pose_from_sfr.PoseFromSFRBuilder: Reading MSE as MET!\n",
            "core.io.pose_from_sfr.PoseFromSFRBuilder: Reading MSE as MET!\n",
            "core.io.pose_from_sfr.PoseFromSFRBuilder: Reading MSE as MET!\n",
            "core.io.pose_from_sfr.PoseFromSFRBuilder: Reading MSE as MET!\n",
            "core.io.pose_from_sfr.PoseFromSFRBuilder: Reading MSE as MET!\n",
            "core.io.pose_from_sfr.PoseFromSFRBuilder: Reading Selenium SE from MSE as SD from MET\n",
            "core.io.pose_from_sfr.PoseFromSFRBuilder: Reading MSE as MET!\n",
            "core.io.pose_from_sfr.PoseFromSFRBuilder: Reading MSE as MET!\n",
            "core.io.pose_from_sfr.PoseFromSFRBuilder: Reading MSE as MET!\n",
            "core.io.pose_from_sfr.PoseFromSFRBuilder: Reading MSE as MET!\n",
            "core.io.pose_from_sfr.PoseFromSFRBuilder: Reading MSE as MET!\n",
            "core.io.pose_from_sfr.PoseFromSFRBuilder: Reading MSE as MET!\n",
            "core.io.pose_from_sfr.PoseFromSFRBuilder: Reading MSE as MET!\n",
            "core.io.pose_from_sfr.PoseFromSFRBuilder: Reading MSE as MET!\n",
            "core.io.pose_from_sfr.PoseFromSFRBuilder: Reading Selenium SE from MSE as SD from MET\n",
            "core.io.pose_from_sfr.PoseFromSFRBuilder: Reading MSE as MET!\n",
            "core.io.pose_from_sfr.PoseFromSFRBuilder: Reading MSE as MET!\n",
            "core.io.pose_from_sfr.PoseFromSFRBuilder: Reading MSE as MET!\n",
            "core.io.pose_from_sfr.PoseFromSFRBuilder: Reading MSE as MET!\n",
            "core.io.pose_from_sfr.PoseFromSFRBuilder: Reading MSE as MET!\n",
            "core.io.pose_from_sfr.PoseFromSFRBuilder: Reading MSE as MET!\n",
            "core.io.pose_from_sfr.PoseFromSFRBuilder: Reading MSE as MET!\n",
            "core.io.pose_from_sfr.PoseFromSFRBuilder: Reading MSE as MET!\n",
            "core.io.pose_from_sfr.PoseFromSFRBuilder: Reading Selenium SE from MSE as SD from MET\n",
            "core.io.pose_from_sfr.PoseFromSFRBuilder: Reading MSE as MET!\n",
            "core.io.pose_from_sfr.PoseFromSFRBuilder: Reading MSE as MET!\n",
            "core.io.pose_from_sfr.PoseFromSFRBuilder: Reading MSE as MET!\n",
            "core.io.pose_from_sfr.PoseFromSFRBuilder: Reading MSE as MET!\n",
            "core.io.pose_from_sfr.PoseFromSFRBuilder: Reading MSE as MET!\n",
            "core.io.pose_from_sfr.PoseFromSFRBuilder: Reading MSE as MET!\n",
            "core.io.pose_from_sfr.PoseFromSFRBuilder: Reading MSE as MET!\n",
            "core.io.pose_from_sfr.PoseFromSFRBuilder: Reading MSE as MET!\n",
            "core.io.pose_from_sfr.PoseFromSFRBuilder: Reading Selenium SE from MSE as SD from MET\n",
            "core.io.pose_from_sfr.PoseFromSFRBuilder: Reading MSE as MET!\n",
            "core.io.pose_from_sfr.PoseFromSFRBuilder: Reading MSE as MET!\n",
            "core.io.pose_from_sfr.PoseFromSFRBuilder: Reading MSE as MET!\n",
            "core.io.pose_from_sfr.PoseFromSFRBuilder: Reading MSE as MET!\n",
            "core.io.pose_from_sfr.PoseFromSFRBuilder: Reading MSE as MET!\n",
            "core.io.pose_from_sfr.PoseFromSFRBuilder: Reading MSE as MET!\n",
            "core.io.pose_from_sfr.PoseFromSFRBuilder: Reading MSE as MET!\n",
            "core.io.pose_from_sfr.PoseFromSFRBuilder: Reading MSE as MET!\n",
            "core.io.pose_from_sfr.PoseFromSFRBuilder: Reading Selenium SE from MSE as SD from MET\n",
            "core.io.pose_from_sfr.PoseFromSFRBuilder: Reading MSE as MET!\n",
            "core.io.pose_from_sfr.PoseFromSFRBuilder: Reading MSE as MET!\n",
            "core.io.pose_from_sfr.PoseFromSFRBuilder: Reading MSE as MET!\n",
            "core.io.pose_from_sfr.PoseFromSFRBuilder: Reading MSE as MET!\n",
            "core.io.pose_from_sfr.PoseFromSFRBuilder: Reading MSE as MET!\n",
            "core.io.pose_from_sfr.PoseFromSFRBuilder: Reading MSE as MET!\n",
            "core.io.pose_from_sfr.PoseFromSFRBuilder: Reading MSE as MET!\n",
            "core.io.pose_from_sfr.PoseFromSFRBuilder: Reading MSE as MET!\n",
            "core.io.pose_from_sfr.PoseFromSFRBuilder: Reading Selenium SE from MSE as SD from MET\n",
            "core.io.pose_from_sfr.PoseFromSFRBuilder: Reading MSE as MET!\n",
            "core.io.pose_from_sfr.PoseFromSFRBuilder: Reading MSE as MET!\n",
            "core.io.pose_from_sfr.PoseFromSFRBuilder: Reading MSE as MET!\n",
            "core.io.pose_from_sfr.PoseFromSFRBuilder: Reading MSE as MET!\n",
            "core.io.pose_from_sfr.PoseFromSFRBuilder: Reading MSE as MET!\n",
            "core.io.pose_from_sfr.PoseFromSFRBuilder: Reading MSE as MET!\n",
            "core.io.pose_from_sfr.PoseFromSFRBuilder: Reading MSE as MET!\n",
            "core.io.pose_from_sfr.PoseFromSFRBuilder: Reading MSE as MET!\n",
            "core.io.pose_from_sfr.PoseFromSFRBuilder: Reading Selenium SE from MSE as SD from MET\n",
            "core.io.pose_from_sfr.PoseFromSFRBuilder: Reading MSE as MET!\n",
            "core.io.pose_from_sfr.PoseFromSFRBuilder: Reading MSE as MET!\n",
            "core.io.pose_from_sfr.PoseFromSFRBuilder: Reading MSE as MET!\n",
            "core.io.pose_from_sfr.PoseFromSFRBuilder: Reading MSE as MET!\n",
            "core.io.pose_from_sfr.PoseFromSFRBuilder: Reading MSE as MET!\n",
            "core.io.pose_from_sfr.PoseFromSFRBuilder: Reading MSE as MET!\n",
            "core.io.pose_from_sfr.PoseFromSFRBuilder: Reading MSE as MET!\n",
            "core.io.pose_from_sfr.PoseFromSFRBuilder: Reading MSE as MET!\n",
            "core.io.pose_from_sfr.PoseFromSFRBuilder: Reading Selenium SE from MSE as SD from MET\n",
            "core.io.pose_from_sfr.PoseFromSFRBuilder: Reading MSE as MET!\n",
            "core.io.pose_from_sfr.PoseFromSFRBuilder: Reading MSE as MET!\n",
            "core.io.pose_from_sfr.PoseFromSFRBuilder: Reading MSE as MET!\n",
            "core.io.pose_from_sfr.PoseFromSFRBuilder: Reading MSE as MET!\n",
            "core.io.pose_from_sfr.PoseFromSFRBuilder: Reading MSE as MET!\n",
            "core.io.pose_from_sfr.PoseFromSFRBuilder: Reading MSE as MET!\n",
            "core.io.pose_from_sfr.PoseFromSFRBuilder: Reading MSE as MET!\n",
            "core.io.pose_from_sfr.PoseFromSFRBuilder: Reading MSE as MET!\n",
            "core.io.pose_from_sfr.PoseFromSFRBuilder: Reading Selenium SE from MSE as SD from MET\n",
            "core.io.pose_from_sfr.PoseFromSFRBuilder: Reading MSE as MET!\n",
            "core.io.pose_from_sfr.PoseFromSFRBuilder: Reading MSE as MET!\n",
            "core.io.pose_from_sfr.PoseFromSFRBuilder: Reading MSE as MET!\n",
            "core.io.pose_from_sfr.PoseFromSFRBuilder: Reading MSE as MET!\n",
            "core.io.pose_from_sfr.PoseFromSFRBuilder: Reading MSE as MET!\n",
            "core.io.pose_from_sfr.PoseFromSFRBuilder: Reading MSE as MET!\n",
            "core.io.pose_from_sfr.PoseFromSFRBuilder: Reading MSE as MET!\n",
            "core.io.pose_from_sfr.PoseFromSFRBuilder: Reading MSE as MET!\n",
            "core.io.pose_from_sfr.PoseFromSFRBuilder: Reading Selenium SE from MSE as SD from MET\n",
            "core.io.pose_from_sfr.PoseFromSFRBuilder: Reading MSE as MET!\n",
            "core.io.pose_from_sfr.PoseFromSFRBuilder: Reading MSE as MET!\n",
            "core.io.pose_from_sfr.PoseFromSFRBuilder: Reading MSE as MET!\n",
            "core.io.pose_from_sfr.PoseFromSFRBuilder: Reading MSE as MET!\n",
            "core.io.pose_from_sfr.PoseFromSFRBuilder: Reading MSE as MET!\n",
            "core.io.pose_from_sfr.PoseFromSFRBuilder: Reading MSE as MET!\n",
            "core.io.pose_from_sfr.PoseFromSFRBuilder: Reading MSE as MET!\n",
            "core.io.pose_from_sfr.PoseFromSFRBuilder: Reading MSE as MET!\n",
            "core.io.pose_from_sfr.PoseFromSFRBuilder: Reading Selenium SE from MSE as SD from MET\n",
            "core.io.pose_from_sfr.PoseFromSFRBuilder: Reading MSE as MET!\n",
            "core.io.pose_from_sfr.PoseFromSFRBuilder: Reading MSE as MET!\n",
            "core.io.pose_from_sfr.PoseFromSFRBuilder: Reading MSE as MET!\n",
            "core.io.pose_from_sfr.PoseFromSFRBuilder: Reading MSE as MET!\n",
            "core.io.pose_from_sfr.PoseFromSFRBuilder: Reading MSE as MET!\n",
            "core.io.pose_from_sfr.PoseFromSFRBuilder: Reading MSE as MET!\n",
            "core.io.pose_from_sfr.PoseFromSFRBuilder: Reading MSE as MET!\n",
            "core.io.pose_from_sfr.PoseFromSFRBuilder: Reading MSE as MET!\n",
            "core.io.pose_from_sfr.PoseFromSFRBuilder: Reading Selenium SE from MSE as SD from MET\n",
            "core.io.pose_from_sfr.PoseFromSFRBuilder: Reading MSE as MET!\n",
            "core.io.pose_from_sfr.PoseFromSFRBuilder: Reading MSE as MET!\n",
            "core.io.pose_from_sfr.PoseFromSFRBuilder: Reading MSE as MET!\n",
            "core.io.pose_from_sfr.PoseFromSFRBuilder: Reading MSE as MET!\n",
            "core.io.pose_from_sfr.PoseFromSFRBuilder: Reading MSE as MET!\n",
            "core.io.pose_from_sfr.PoseFromSFRBuilder: Reading MSE as MET!\n",
            "core.io.pose_from_sfr.PoseFromSFRBuilder: Reading MSE as MET!\n",
            "core.io.pose_from_sfr.PoseFromSFRBuilder: Reading MSE as MET!\n",
            "core.io.pose_from_sfr.PoseFromSFRBuilder: Reading Selenium SE from MSE as SD from MET\n",
            "core.io.pose_from_sfr.PoseFromSFRBuilder: Reading MSE as MET!\n",
            "core.io.pose_from_sfr.PoseFromSFRBuilder: Reading MSE as MET!\n",
            "core.io.pose_from_sfr.PoseFromSFRBuilder: Reading MSE as MET!\n",
            "core.io.pose_from_sfr.PoseFromSFRBuilder: Reading MSE as MET!\n",
            "core.io.pose_from_sfr.PoseFromSFRBuilder: Reading MSE as MET!\n",
            "core.io.pose_from_sfr.PoseFromSFRBuilder: Reading MSE as MET!\n",
            "core.io.pose_from_sfr.PoseFromSFRBuilder: Reading MSE as MET!\n",
            "core.io.pose_from_sfr.PoseFromSFRBuilder: Reading MSE as MET!\n",
            "core.io.pose_from_sfr.PoseFromSFRBuilder: Reading Selenium SE from MSE as SD from MET\n",
            "core.io.pose_from_sfr.PoseFromSFRBuilder: Reading MSE as MET!\n",
            "core.io.pose_from_sfr.PoseFromSFRBuilder: Reading MSE as MET!\n",
            "core.io.pose_from_sfr.PoseFromSFRBuilder: Reading MSE as MET!\n",
            "core.io.pose_from_sfr.PoseFromSFRBuilder: Reading MSE as MET!\n",
            "core.io.pose_from_sfr.PoseFromSFRBuilder: Reading MSE as MET!\n",
            "core.io.pose_from_sfr.PoseFromSFRBuilder: Reading MSE as MET!\n",
            "core.io.pose_from_sfr.PoseFromSFRBuilder: Reading MSE as MET!\n",
            "core.io.pose_from_sfr.PoseFromSFRBuilder: Reading MSE as MET!\n",
            "core.io.pose_from_sfr.PoseFromSFRBuilder: Reading Selenium SE from MSE as SD from MET\n",
            "core.io.pose_from_sfr.PoseFromSFRBuilder: Reading MSE as MET!\n",
            "core.io.pose_from_sfr.PoseFromSFRBuilder: Reading MSE as MET!\n",
            "core.io.pose_from_sfr.PoseFromSFRBuilder: Reading MSE as MET!\n",
            "core.io.pose_from_sfr.PoseFromSFRBuilder: Reading MSE as MET!\n",
            "core.io.pose_from_sfr.PoseFromSFRBuilder: Reading MSE as MET!\n",
            "core.io.pose_from_sfr.PoseFromSFRBuilder: Reading MSE as MET!\n",
            "core.io.pose_from_sfr.PoseFromSFRBuilder: Reading MSE as MET!\n",
            "core.io.pose_from_sfr.PoseFromSFRBuilder: Reading MSE as MET!\n",
            "core.io.pose_from_sfr.PoseFromSFRBuilder: Reading Selenium SE from MSE as SD from MET\n",
            "core.io.pose_from_sfr.PoseFromSFRBuilder: Reading MSE as MET!\n",
            "core.io.pose_from_sfr.PoseFromSFRBuilder: Reading MSE as MET!\n",
            "core.io.pose_from_sfr.PoseFromSFRBuilder: Reading MSE as MET!\n",
            "core.io.pose_from_sfr.PoseFromSFRBuilder: Reading MSE as MET!\n",
            "core.io.pose_from_sfr.PoseFromSFRBuilder: Reading MSE as MET!\n",
            "core.io.pose_from_sfr.PoseFromSFRBuilder: Reading MSE as MET!\n",
            "core.io.pose_from_sfr.PoseFromSFRBuilder: Reading MSE as MET!\n",
            "core.io.pose_from_sfr.PoseFromSFRBuilder: Reading MSE as MET!\n",
            "core.io.pose_from_sfr.PoseFromSFRBuilder: Reading Selenium SE from MSE as SD from MET\n",
            "core.io.pose_from_sfr.PoseFromSFRBuilder: Reading MSE as MET!\n",
            "core.io.pose_from_sfr.PoseFromSFRBuilder: Reading MSE as MET!\n",
            "core.io.pose_from_sfr.PoseFromSFRBuilder: Reading MSE as MET!\n",
            "core.io.pose_from_sfr.PoseFromSFRBuilder: Reading MSE as MET!\n",
            "core.io.pose_from_sfr.PoseFromSFRBuilder: Reading MSE as MET!\n",
            "core.io.pose_from_sfr.PoseFromSFRBuilder: Reading MSE as MET!\n",
            "core.io.pose_from_sfr.PoseFromSFRBuilder: Reading MSE as MET!\n",
            "core.io.pose_from_sfr.PoseFromSFRBuilder: Reading MSE as MET!\n",
            "core.io.pose_from_sfr.PoseFromSFRBuilder: Reading Selenium SE from MSE as SD from MET\n",
            "core.io.pose_from_sfr.PoseFromSFRBuilder: Reading MSE as MET!\n",
            "core.io.pose_from_sfr.PoseFromSFRBuilder: Reading MSE as MET!\n",
            "core.io.pose_from_sfr.PoseFromSFRBuilder: Reading MSE as MET!\n",
            "core.io.pose_from_sfr.PoseFromSFRBuilder: Reading MSE as MET!\n",
            "core.io.pose_from_sfr.PoseFromSFRBuilder: Reading MSE as MET!\n",
            "core.io.pose_from_sfr.PoseFromSFRBuilder: Reading MSE as MET!\n",
            "core.io.pose_from_sfr.PoseFromSFRBuilder: Reading MSE as MET!\n",
            "core.io.pose_from_sfr.PoseFromSFRBuilder: Reading MSE as MET!\n",
            "core.io.pose_from_sfr.PoseFromSFRBuilder: Reading Selenium SE from MSE as SD from MET\n",
            "core.io.pose_from_sfr.PoseFromSFRBuilder: Reading MSE as MET!\n",
            "core.io.pose_from_sfr.PoseFromSFRBuilder: Reading MSE as MET!\n",
            "core.io.pose_from_sfr.PoseFromSFRBuilder: Reading MSE as MET!\n",
            "core.io.pose_from_sfr.PoseFromSFRBuilder: Reading MSE as MET!\n",
            "core.io.pose_from_sfr.PoseFromSFRBuilder: Reading MSE as MET!\n",
            "core.io.pose_from_sfr.PoseFromSFRBuilder: Reading MSE as MET!\n",
            "core.io.pose_from_sfr.PoseFromSFRBuilder: Reading MSE as MET!\n",
            "core.io.pose_from_sfr.PoseFromSFRBuilder: Reading MSE as MET!\n",
            "core.io.pose_from_sfr.PoseFromSFRBuilder: Reading Selenium SE from MSE as SD from MET\n",
            "core.io.pose_from_sfr.PoseFromSFRBuilder: Reading MSE as MET!\n",
            "core.io.pose_from_sfr.PoseFromSFRBuilder: Reading MSE as MET!\n",
            "core.io.pose_from_sfr.PoseFromSFRBuilder: Reading MSE as MET!\n",
            "core.io.pose_from_sfr.PoseFromSFRBuilder: Reading MSE as MET!\n",
            "core.io.pose_from_sfr.PoseFromSFRBuilder: Reading MSE as MET!\n",
            "core.io.pose_from_sfr.PoseFromSFRBuilder: Reading MSE as MET!\n",
            "core.io.pose_from_sfr.PoseFromSFRBuilder: Reading MSE as MET!\n",
            "core.io.pose_from_sfr.PoseFromSFRBuilder: Reading MSE as MET!\n",
            "core.io.pose_from_sfr.PoseFromSFRBuilder: Reading Selenium SE from MSE as SD from MET\n",
            "core.io.pose_from_sfr.PoseFromSFRBuilder: Reading MSE as MET!\n",
            "core.io.pose_from_sfr.PoseFromSFRBuilder: Reading MSE as MET!\n",
            "core.io.pose_from_sfr.PoseFromSFRBuilder: Reading MSE as MET!\n",
            "core.io.pose_from_sfr.PoseFromSFRBuilder: Reading MSE as MET!\n",
            "core.io.pose_from_sfr.PoseFromSFRBuilder: Reading MSE as MET!\n",
            "core.io.pose_from_sfr.PoseFromSFRBuilder: Reading MSE as MET!\n",
            "core.io.pose_from_sfr.PoseFromSFRBuilder: Reading MSE as MET!\n",
            "core.io.pose_from_sfr.PoseFromSFRBuilder: Reading MSE as MET!\n",
            "core.io.pose_from_sfr.PoseFromSFRBuilder: Reading Selenium SE from MSE as SD from MET\n",
            "core.io.pose_from_sfr.PoseFromSFRBuilder: Reading MSE as MET!\n",
            "core.io.pose_from_sfr.PoseFromSFRBuilder: Reading MSE as MET!\n",
            "core.io.pose_from_sfr.PoseFromSFRBuilder: Reading MSE as MET!\n",
            "core.io.pose_from_sfr.PoseFromSFRBuilder: Reading MSE as MET!\n",
            "core.io.pose_from_sfr.PoseFromSFRBuilder: Reading MSE as MET!\n",
            "core.io.pose_from_sfr.PoseFromSFRBuilder: Reading MSE as MET!\n",
            "core.io.pose_from_sfr.PoseFromSFRBuilder: Reading MSE as MET!\n",
            "core.io.pose_from_sfr.PoseFromSFRBuilder: Reading MSE as MET!\n",
            "core.io.pose_from_sfr.PoseFromSFRBuilder: Reading Selenium SE from MSE as SD from MET\n",
            "core.io.pose_from_sfr.PoseFromSFRBuilder: Reading MSE as MET!\n",
            "core.io.pose_from_sfr.PoseFromSFRBuilder: Reading MSE as MET!\n",
            "core.io.pose_from_sfr.PoseFromSFRBuilder: Reading MSE as MET!\n",
            "core.io.pose_from_sfr.PoseFromSFRBuilder: Reading MSE as MET!\n",
            "core.io.pose_from_sfr.PoseFromSFRBuilder: Reading MSE as MET!\n",
            "core.io.pose_from_sfr.PoseFromSFRBuilder: Reading MSE as MET!\n",
            "core.io.pose_from_sfr.PoseFromSFRBuilder: Reading MSE as MET!\n",
            "core.io.pose_from_sfr.PoseFromSFRBuilder: Reading MSE as MET!\n",
            "core.io.pose_from_sfr.PoseFromSFRBuilder: Reading Selenium SE from MSE as SD from MET\n",
            "core.io.pose_from_sfr.PoseFromSFRBuilder: Reading MSE as MET!\n",
            "core.io.pose_from_sfr.PoseFromSFRBuilder: Reading MSE as MET!\n",
            "core.io.pose_from_sfr.PoseFromSFRBuilder: Reading MSE as MET!\n",
            "core.io.pose_from_sfr.PoseFromSFRBuilder: Reading MSE as MET!\n",
            "core.io.pose_from_sfr.PoseFromSFRBuilder: Reading MSE as MET!\n",
            "core.io.pose_from_sfr.PoseFromSFRBuilder: Reading MSE as MET!\n",
            "core.io.pose_from_sfr.PoseFromSFRBuilder: Reading MSE as MET!\n",
            "core.io.pose_from_sfr.PoseFromSFRBuilder: Reading MSE as MET!\n",
            "core.io.pose_from_sfr.PoseFromSFRBuilder: Reading Selenium SE from MSE as SD from MET\n",
            "core.io.pose_from_sfr.PoseFromSFRBuilder: Reading MSE as MET!\n",
            "core.io.pose_from_sfr.PoseFromSFRBuilder: Reading MSE as MET!\n",
            "core.io.pose_from_sfr.PoseFromSFRBuilder: Reading MSE as MET!\n",
            "core.io.pose_from_sfr.PoseFromSFRBuilder: Reading MSE as MET!\n",
            "core.io.pose_from_sfr.PoseFromSFRBuilder: Reading MSE as MET!\n",
            "core.io.pose_from_sfr.PoseFromSFRBuilder: Reading MSE as MET!\n",
            "core.io.pose_from_sfr.PoseFromSFRBuilder: Reading MSE as MET!\n",
            "core.io.pose_from_sfr.PoseFromSFRBuilder: Reading MSE as MET!\n",
            "core.io.pose_from_sfr.PoseFromSFRBuilder: Reading Selenium SE from MSE as SD from MET\n",
            "core.io.pose_from_sfr.PoseFromSFRBuilder: Reading MSE as MET!\n",
            "core.io.pose_from_sfr.PoseFromSFRBuilder: Reading MSE as MET!\n",
            "core.io.pose_from_sfr.PoseFromSFRBuilder: Reading MSE as MET!\n",
            "core.io.pose_from_sfr.PoseFromSFRBuilder: Reading MSE as MET!\n",
            "core.io.pose_from_sfr.PoseFromSFRBuilder: Reading MSE as MET!\n",
            "core.io.pose_from_sfr.PoseFromSFRBuilder: Reading MSE as MET!\n",
            "core.io.pose_from_sfr.PoseFromSFRBuilder: Reading MSE as MET!\n",
            "core.io.pose_from_sfr.PoseFromSFRBuilder: Reading MSE as MET!\n",
            "core.io.pose_from_sfr.PoseFromSFRBuilder: Reading Selenium SE from MSE as SD from MET\n",
            "core.io.pose_from_sfr.PoseFromSFRBuilder: Reading MSE as MET!\n",
            "core.io.pose_from_sfr.PoseFromSFRBuilder: Reading MSE as MET!\n",
            "core.io.pose_from_sfr.PoseFromSFRBuilder: Reading MSE as MET!\n",
            "core.io.pose_from_sfr.PoseFromSFRBuilder: Reading MSE as MET!\n",
            "core.io.pose_from_sfr.PoseFromSFRBuilder: Reading MSE as MET!\n",
            "core.io.pose_from_sfr.PoseFromSFRBuilder: Reading MSE as MET!\n",
            "core.io.pose_from_sfr.PoseFromSFRBuilder: Reading MSE as MET!\n",
            "core.io.pose_from_sfr.PoseFromSFRBuilder: Reading MSE as MET!\n",
            "core.io.pose_from_sfr.PoseFromSFRBuilder: Reading Selenium SE from MSE as SD from MET\n",
            "core.io.pose_from_sfr.PoseFromSFRBuilder: Reading MSE as MET!\n",
            "core.io.pose_from_sfr.PoseFromSFRBuilder: Reading MSE as MET!\n",
            "core.io.pose_from_sfr.PoseFromSFRBuilder: Reading MSE as MET!\n",
            "core.io.pose_from_sfr.PoseFromSFRBuilder: Reading MSE as MET!\n",
            "core.io.pose_from_sfr.PoseFromSFRBuilder: Reading MSE as MET!\n",
            "core.io.pose_from_sfr.PoseFromSFRBuilder: Reading MSE as MET!\n",
            "core.io.pose_from_sfr.PoseFromSFRBuilder: Reading MSE as MET!\n",
            "core.io.pose_from_sfr.PoseFromSFRBuilder: Reading MSE as MET!\n",
            "core.io.pose_from_sfr.PoseFromSFRBuilder: Reading Selenium SE from MSE as SD from MET\n",
            "core.io.pose_from_sfr.PoseFromSFRBuilder: Reading MSE as MET!\n",
            "core.io.pose_from_sfr.PoseFromSFRBuilder: Reading MSE as MET!\n",
            "core.io.pose_from_sfr.PoseFromSFRBuilder: Reading MSE as MET!\n",
            "core.io.pose_from_sfr.PoseFromSFRBuilder: Reading MSE as MET!\n",
            "core.io.pose_from_sfr.PoseFromSFRBuilder: Reading MSE as MET!\n",
            "core.io.pose_from_sfr.PoseFromSFRBuilder: Reading MSE as MET!\n",
            "core.io.pose_from_sfr.PoseFromSFRBuilder: Reading MSE as MET!\n",
            "core.io.pose_from_sfr.PoseFromSFRBuilder: Reading MSE as MET!\n",
            "core.io.pose_from_sfr.PoseFromSFRBuilder: Reading Selenium SE from MSE as SD from MET\n",
            "core.io.pose_from_sfr.PoseFromSFRBuilder: Reading MSE as MET!\n",
            "core.conformation.Conformation: [ WARNING ] missing heavyatom:  CG  on residue LYS 37\n",
            "core.conformation.Conformation: [ WARNING ] missing heavyatom:  CD  on residue LYS 37\n",
            "core.conformation.Conformation: [ WARNING ] missing heavyatom:  CE  on residue LYS 37\n",
            "core.conformation.Conformation: [ WARNING ] missing heavyatom:  NZ  on residue LYS 37\n",
            "core.conformation.Conformation: [ WARNING ] missing heavyatom:  CG  on residue ARG 102\n",
            "core.conformation.Conformation: [ WARNING ] missing heavyatom:  CD  on residue ARG 102\n",
            "core.conformation.Conformation: [ WARNING ] missing heavyatom:  NE  on residue ARG 102\n",
            "core.conformation.Conformation: [ WARNING ] missing heavyatom:  CZ  on residue ARG 102\n",
            "core.conformation.Conformation: [ WARNING ] missing heavyatom:  NH1 on residue ARG 102\n",
            "core.conformation.Conformation: [ WARNING ] missing heavyatom:  NH2 on residue ARG 102\n",
            "core.conformation.Conformation: [ WARNING ] missing heavyatom:  CG  on residue LYS 242\n",
            "core.conformation.Conformation: [ WARNING ] missing heavyatom:  CD  on residue LYS 242\n",
            "core.conformation.Conformation: [ WARNING ] missing heavyatom:  CE  on residue LYS 242\n",
            "core.conformation.Conformation: [ WARNING ] missing heavyatom:  NZ  on residue LYS 242\n",
            "core.conformation.Conformation: [ WARNING ] missing heavyatom:  CG  on residue LYS 448\n",
            "core.conformation.Conformation: [ WARNING ] missing heavyatom:  CD  on residue LYS 448\n",
            "core.conformation.Conformation: [ WARNING ] missing heavyatom:  CE  on residue LYS 448\n",
            "core.conformation.Conformation: [ WARNING ] missing heavyatom:  NZ  on residue LYS 448\n",
            "core.conformation.Conformation: [ WARNING ] missing heavyatom:  CG  on residue LYS 654\n",
            "core.conformation.Conformation: [ WARNING ] missing heavyatom:  CD  on residue LYS 654\n",
            "core.conformation.Conformation: [ WARNING ] missing heavyatom:  CE  on residue LYS 654\n",
            "core.conformation.Conformation: [ WARNING ] missing heavyatom:  NZ  on residue LYS 654\n",
            "core.conformation.Conformation: [ WARNING ] missing heavyatom:  OXT on residue ALA:CtermProteinFull 1024\n",
            "core.conformation.Conformation: [ WARNING ] missing heavyatom:  CG  on residue ARG 1210\n",
            "core.conformation.Conformation: [ WARNING ] missing heavyatom:  CD  on residue ARG 1210\n",
            "core.conformation.Conformation: [ WARNING ] missing heavyatom:  NE  on residue ARG 1210\n",
            "core.conformation.Conformation: [ WARNING ] missing heavyatom:  CZ  on residue ARG 1210\n",
            "core.conformation.Conformation: [ WARNING ] missing heavyatom:  NH1 on residue ARG 1210\n",
            "core.conformation.Conformation: [ WARNING ] missing heavyatom:  NH2 on residue ARG 1210\n",
            "core.conformation.Conformation: [ WARNING ] missing heavyatom:  CG  on residue LYS 1267\n",
            "core.conformation.Conformation: [ WARNING ] missing heavyatom:  CD  on residue LYS 1267\n",
            "core.conformation.Conformation: [ WARNING ] missing heavyatom:  CE  on residue LYS 1267\n",
            "core.conformation.Conformation: [ WARNING ] missing heavyatom:  NZ  on residue LYS 1267\n",
            "core.conformation.Conformation: [ WARNING ] missing heavyatom:  CG  on residue LYS 1470\n",
            "core.conformation.Conformation: [ WARNING ] missing heavyatom:  CD  on residue LYS 1470\n",
            "core.conformation.Conformation: [ WARNING ] missing heavyatom:  CE  on residue LYS 1470\n",
            "core.conformation.Conformation: [ WARNING ] missing heavyatom:  NZ  on residue LYS 1470\n",
            "core.conformation.Conformation: [ WARNING ] missing heavyatom:  CG  on residue LYS 1676\n",
            "core.conformation.Conformation: [ WARNING ] missing heavyatom:  CD  on residue LYS 1676\n",
            "core.conformation.Conformation: [ WARNING ] missing heavyatom:  CE  on residue LYS 1676\n",
            "core.conformation.Conformation: [ WARNING ] missing heavyatom:  NZ  on residue LYS 1676\n",
            "core.conformation.Conformation: [ WARNING ] missing heavyatom:  CG  on residue LYS 1880\n",
            "core.conformation.Conformation: [ WARNING ] missing heavyatom:  CD  on residue LYS 1880\n",
            "core.conformation.Conformation: [ WARNING ] missing heavyatom:  CE  on residue LYS 1880\n",
            "core.conformation.Conformation: [ WARNING ] missing heavyatom:  NZ  on residue LYS 1880\n",
            "core.conformation.Conformation: [ WARNING ] missing heavyatom:  CG  on residue ARG 2027\n",
            "core.conformation.Conformation: [ WARNING ] missing heavyatom:  CD  on residue ARG 2027\n",
            "core.conformation.Conformation: [ WARNING ] missing heavyatom:  NE  on residue ARG 2027\n",
            "core.conformation.Conformation: [ WARNING ] missing heavyatom:  CZ  on residue ARG 2027\n",
            "core.conformation.Conformation: [ WARNING ] missing heavyatom:  NH1 on residue ARG 2027\n",
            "core.conformation.Conformation: [ WARNING ] missing heavyatom:  NH2 on residue ARG 2027\n",
            "core.conformation.Conformation: [ WARNING ] missing heavyatom:  OXT on residue ALA:CtermProteinFull 2046\n",
            "core.pack.pack_missing_sidechains: packing residue number 37 because of missing atom number 6 atom name  CG\n",
            "core.pack.pack_missing_sidechains: packing residue number 102 because of missing atom number 6 atom name  CG\n",
            "core.pack.pack_missing_sidechains: packing residue number 242 because of missing atom number 6 atom name  CG\n",
            "core.pack.pack_missing_sidechains: packing residue number 448 because of missing atom number 6 atom name  CG\n",
            "core.pack.pack_missing_sidechains: packing residue number 654 because of missing atom number 6 atom name  CG\n",
            "core.pack.pack_missing_sidechains: packing residue number 1210 because of missing atom number 6 atom name  CG\n",
            "core.pack.pack_missing_sidechains: packing residue number 1267 because of missing atom number 6 atom name  CG\n",
            "core.pack.pack_missing_sidechains: packing residue number 1470 because of missing atom number 6 atom name  CG\n",
            "core.pack.pack_missing_sidechains: packing residue number 1676 because of missing atom number 6 atom name  CG\n",
            "core.pack.pack_missing_sidechains: packing residue number 1880 because of missing atom number 6 atom name  CG\n",
            "core.pack.pack_missing_sidechains: packing residue number 2027 because of missing atom number 6 atom name  CG\n",
            "core.pack.task: Packer task: initialize from command line()\n",
            "core.scoring.ScoreFunctionFactory: SCOREFUNCTION: ref2015\n",
            "core.pack.pack_rotamers: built 270 rotamers at 11 positions.\n",
            "core.pack.interaction_graph.interaction_graph_factory: Instantiating DensePDInteractionGraph\n",
            "core.import_pose.import_pose: File '/content/google_drive/MyDrive/vp4_protease_structure/2pnl.pdb' automatically determined to be of type PDB\n",
            "core.io.pose_from_sfr.PoseFromSFRBuilder: Reading MSE as MET!\n",
            "core.io.pose_from_sfr.PoseFromSFRBuilder: Reading MSE as MET!\n",
            "core.io.pose_from_sfr.PoseFromSFRBuilder: Reading MSE as MET!\n",
            "core.io.pose_from_sfr.PoseFromSFRBuilder: Reading MSE as MET!\n",
            "core.io.pose_from_sfr.PoseFromSFRBuilder: Reading MSE as MET!\n",
            "core.io.pose_from_sfr.PoseFromSFRBuilder: Reading MSE as MET!\n",
            "core.io.pose_from_sfr.PoseFromSFRBuilder: Reading MSE as MET!\n",
            "core.io.pose_from_sfr.PoseFromSFRBuilder: Reading Selenium SE from MSE as SD from MET\n",
            "core.io.pose_from_sfr.PoseFromSFRBuilder: Reading MSE as MET!\n",
            "core.io.pose_from_sfr.PoseFromSFRBuilder: Reading MSE as MET!\n",
            "core.io.pose_from_sfr.PoseFromSFRBuilder: Reading MSE as MET!\n",
            "core.io.pose_from_sfr.PoseFromSFRBuilder: Reading MSE as MET!\n",
            "core.io.pose_from_sfr.PoseFromSFRBuilder: Reading MSE as MET!\n",
            "core.io.pose_from_sfr.PoseFromSFRBuilder: Reading MSE as MET!\n",
            "core.io.pose_from_sfr.PoseFromSFRBuilder: Reading MSE as MET!\n",
            "core.io.pose_from_sfr.PoseFromSFRBuilder: Reading MSE as MET!\n",
            "core.io.pose_from_sfr.PoseFromSFRBuilder: Reading Selenium SE from MSE as SD from MET\n",
            "core.io.pose_from_sfr.PoseFromSFRBuilder: Reading MSE as MET!\n",
            "core.io.pose_from_sfr.PoseFromSFRBuilder: Reading MSE as MET!\n",
            "core.io.pose_from_sfr.PoseFromSFRBuilder: Reading MSE as MET!\n",
            "core.io.pose_from_sfr.PoseFromSFRBuilder: Reading MSE as MET!\n",
            "core.io.pose_from_sfr.PoseFromSFRBuilder: Reading MSE as MET!\n",
            "core.io.pose_from_sfr.PoseFromSFRBuilder: Reading MSE as MET!\n",
            "core.io.pose_from_sfr.PoseFromSFRBuilder: Reading MSE as MET!\n",
            "core.io.pose_from_sfr.PoseFromSFRBuilder: Reading MSE as MET!\n",
            "core.io.pose_from_sfr.PoseFromSFRBuilder: Reading Selenium SE from MSE as SD from MET\n",
            "core.io.pose_from_sfr.PoseFromSFRBuilder: Reading MSE as MET!\n",
            "core.io.pose_from_sfr.PoseFromSFRBuilder: Reading MSE as MET!\n",
            "core.io.pose_from_sfr.PoseFromSFRBuilder: Reading MSE as MET!\n",
            "core.io.pose_from_sfr.PoseFromSFRBuilder: Reading MSE as MET!\n",
            "core.io.pose_from_sfr.PoseFromSFRBuilder: Reading MSE as MET!\n",
            "core.io.pose_from_sfr.PoseFromSFRBuilder: Reading MSE as MET!\n",
            "core.io.pose_from_sfr.PoseFromSFRBuilder: Reading MSE as MET!\n",
            "core.io.pose_from_sfr.PoseFromSFRBuilder: Reading MSE as MET!\n",
            "core.io.pose_from_sfr.PoseFromSFRBuilder: Reading Selenium SE from MSE as SD from MET\n",
            "core.io.pose_from_sfr.PoseFromSFRBuilder: Reading MSE as MET!\n",
            "core.io.pose_from_sfr.PoseFromSFRBuilder: Reading MSE as MET!\n",
            "core.io.pose_from_sfr.PoseFromSFRBuilder: Reading MSE as MET!\n",
            "core.io.pose_from_sfr.PoseFromSFRBuilder: Reading MSE as MET!\n",
            "core.io.pose_from_sfr.PoseFromSFRBuilder: Reading MSE as MET!\n",
            "core.io.pose_from_sfr.PoseFromSFRBuilder: Reading MSE as MET!\n",
            "core.io.pose_from_sfr.PoseFromSFRBuilder: Reading MSE as MET!\n",
            "core.io.pose_from_sfr.PoseFromSFRBuilder: Reading MSE as MET!\n",
            "core.io.pose_from_sfr.PoseFromSFRBuilder: Reading Selenium SE from MSE as SD from MET\n",
            "core.io.pose_from_sfr.PoseFromSFRBuilder: Reading MSE as MET!\n",
            "core.io.pose_from_sfr.PoseFromSFRBuilder: Reading MSE as MET!\n",
            "core.io.pose_from_sfr.PoseFromSFRBuilder: Reading MSE as MET!\n",
            "core.io.pose_from_sfr.PoseFromSFRBuilder: Reading MSE as MET!\n",
            "core.io.pose_from_sfr.PoseFromSFRBuilder: Reading MSE as MET!\n",
            "core.io.pose_from_sfr.PoseFromSFRBuilder: Reading MSE as MET!\n",
            "core.io.pose_from_sfr.PoseFromSFRBuilder: Reading MSE as MET!\n",
            "core.io.pose_from_sfr.PoseFromSFRBuilder: Reading MSE as MET!\n",
            "core.io.pose_from_sfr.PoseFromSFRBuilder: Reading Selenium SE from MSE as SD from MET\n",
            "core.io.pose_from_sfr.PoseFromSFRBuilder: Reading MSE as MET!\n",
            "core.io.pose_from_sfr.PoseFromSFRBuilder: Reading MSE as MET!\n",
            "core.io.pose_from_sfr.PoseFromSFRBuilder: Reading MSE as MET!\n",
            "core.io.pose_from_sfr.PoseFromSFRBuilder: Reading MSE as MET!\n",
            "core.io.pose_from_sfr.PoseFromSFRBuilder: Reading MSE as MET!\n",
            "core.io.pose_from_sfr.PoseFromSFRBuilder: Reading MSE as MET!\n",
            "core.io.pose_from_sfr.PoseFromSFRBuilder: Reading MSE as MET!\n",
            "core.io.pose_from_sfr.PoseFromSFRBuilder: Reading MSE as MET!\n",
            "core.io.pose_from_sfr.PoseFromSFRBuilder: Reading Selenium SE from MSE as SD from MET\n",
            "core.io.pose_from_sfr.PoseFromSFRBuilder: Reading MSE as MET!\n",
            "core.io.pose_from_sfr.PoseFromSFRBuilder: Reading MSE as MET!\n",
            "core.io.pose_from_sfr.PoseFromSFRBuilder: Reading MSE as MET!\n",
            "core.io.pose_from_sfr.PoseFromSFRBuilder: Reading MSE as MET!\n",
            "core.io.pose_from_sfr.PoseFromSFRBuilder: Reading MSE as MET!\n",
            "core.io.pose_from_sfr.PoseFromSFRBuilder: Reading MSE as MET!\n",
            "core.io.pose_from_sfr.PoseFromSFRBuilder: Reading MSE as MET!\n",
            "core.io.pose_from_sfr.PoseFromSFRBuilder: Reading MSE as MET!\n",
            "core.io.pose_from_sfr.PoseFromSFRBuilder: Reading Selenium SE from MSE as SD from MET\n",
            "core.io.pose_from_sfr.PoseFromSFRBuilder: Reading MSE as MET!\n",
            "core.io.pose_from_sfr.PoseFromSFRBuilder: Reading MSE as MET!\n",
            "core.io.pose_from_sfr.PoseFromSFRBuilder: Reading MSE as MET!\n",
            "core.io.pose_from_sfr.PoseFromSFRBuilder: Reading MSE as MET!\n",
            "core.io.pose_from_sfr.PoseFromSFRBuilder: Reading MSE as MET!\n",
            "core.io.pose_from_sfr.PoseFromSFRBuilder: Reading MSE as MET!\n",
            "core.io.pose_from_sfr.PoseFromSFRBuilder: Reading MSE as MET!\n",
            "core.io.pose_from_sfr.PoseFromSFRBuilder: Reading MSE as MET!\n",
            "core.io.pose_from_sfr.PoseFromSFRBuilder: Reading Selenium SE from MSE as SD from MET\n",
            "core.io.pose_from_sfr.PoseFromSFRBuilder: Reading MSE as MET!\n",
            "core.io.pose_from_sfr.PoseFromSFRBuilder: Reading MSE as MET!\n",
            "core.io.pose_from_sfr.PoseFromSFRBuilder: Reading MSE as MET!\n",
            "core.io.pose_from_sfr.PoseFromSFRBuilder: Reading MSE as MET!\n",
            "core.io.pose_from_sfr.PoseFromSFRBuilder: Reading MSE as MET!\n",
            "core.io.pose_from_sfr.PoseFromSFRBuilder: Reading MSE as MET!\n",
            "core.io.pose_from_sfr.PoseFromSFRBuilder: Reading MSE as MET!\n",
            "core.io.pose_from_sfr.PoseFromSFRBuilder: Reading MSE as MET!\n",
            "core.io.pose_from_sfr.PoseFromSFRBuilder: Reading Selenium SE from MSE as SD from MET\n",
            "core.io.pose_from_sfr.PoseFromSFRBuilder: Reading MSE as MET!\n",
            "core.io.pose_from_sfr.PoseFromSFRBuilder: Reading MSE as MET!\n",
            "core.io.pose_from_sfr.PoseFromSFRBuilder: Reading MSE as MET!\n",
            "core.io.pose_from_sfr.PoseFromSFRBuilder: Reading MSE as MET!\n",
            "core.io.pose_from_sfr.PoseFromSFRBuilder: Reading MSE as MET!\n",
            "core.io.pose_from_sfr.PoseFromSFRBuilder: Reading MSE as MET!\n",
            "core.io.pose_from_sfr.PoseFromSFRBuilder: Reading MSE as MET!\n",
            "core.io.pose_from_sfr.PoseFromSFRBuilder: Reading MSE as MET!\n",
            "core.io.pose_from_sfr.PoseFromSFRBuilder: Reading Selenium SE from MSE as SD from MET\n",
            "core.io.pose_from_sfr.PoseFromSFRBuilder: Reading MSE as MET!\n",
            "core.io.pose_from_sfr.PoseFromSFRBuilder: Reading MSE as MET!\n",
            "core.io.pose_from_sfr.PoseFromSFRBuilder: Reading MSE as MET!\n",
            "core.io.pose_from_sfr.PoseFromSFRBuilder: Reading MSE as MET!\n",
            "core.io.pose_from_sfr.PoseFromSFRBuilder: Reading MSE as MET!\n",
            "core.io.pose_from_sfr.PoseFromSFRBuilder: Reading MSE as MET!\n",
            "core.io.pose_from_sfr.PoseFromSFRBuilder: Reading MSE as MET!\n",
            "core.io.pose_from_sfr.PoseFromSFRBuilder: Reading MSE as MET!\n",
            "core.io.pose_from_sfr.PoseFromSFRBuilder: Reading Selenium SE from MSE as SD from MET\n",
            "core.io.pose_from_sfr.PoseFromSFRBuilder: Reading MSE as MET!\n",
            "core.io.pose_from_sfr.PoseFromSFRBuilder: Reading MSE as MET!\n",
            "core.io.pose_from_sfr.PoseFromSFRBuilder: Reading MSE as MET!\n",
            "core.io.pose_from_sfr.PoseFromSFRBuilder: Reading MSE as MET!\n",
            "core.io.pose_from_sfr.PoseFromSFRBuilder: Reading MSE as MET!\n",
            "core.io.pose_from_sfr.PoseFromSFRBuilder: Reading MSE as MET!\n",
            "core.io.pose_from_sfr.PoseFromSFRBuilder: Reading MSE as MET!\n",
            "core.io.pose_from_sfr.PoseFromSFRBuilder: Reading MSE as MET!\n",
            "core.io.pose_from_sfr.PoseFromSFRBuilder: Reading Selenium SE from MSE as SD from MET\n",
            "core.io.pose_from_sfr.PoseFromSFRBuilder: Reading MSE as MET!\n",
            "core.io.pose_from_sfr.PoseFromSFRBuilder: Reading MSE as MET!\n",
            "core.io.pose_from_sfr.PoseFromSFRBuilder: Reading MSE as MET!\n",
            "core.io.pose_from_sfr.PoseFromSFRBuilder: Reading MSE as MET!\n",
            "core.io.pose_from_sfr.PoseFromSFRBuilder: Reading MSE as MET!\n",
            "core.io.pose_from_sfr.PoseFromSFRBuilder: Reading MSE as MET!\n",
            "core.io.pose_from_sfr.PoseFromSFRBuilder: Reading MSE as MET!\n",
            "core.io.pose_from_sfr.PoseFromSFRBuilder: Reading MSE as MET!\n",
            "core.io.pose_from_sfr.PoseFromSFRBuilder: Reading Selenium SE from MSE as SD from MET\n",
            "core.io.pose_from_sfr.PoseFromSFRBuilder: Reading MSE as MET!\n",
            "core.io.pose_from_sfr.PoseFromSFRBuilder: Reading MSE as MET!\n",
            "core.io.pose_from_sfr.PoseFromSFRBuilder: Reading MSE as MET!\n",
            "core.io.pose_from_sfr.PoseFromSFRBuilder: Reading MSE as MET!\n",
            "core.io.pose_from_sfr.PoseFromSFRBuilder: Reading MSE as MET!\n",
            "core.io.pose_from_sfr.PoseFromSFRBuilder: Reading MSE as MET!\n",
            "core.io.pose_from_sfr.PoseFromSFRBuilder: Reading MSE as MET!\n",
            "core.io.pose_from_sfr.PoseFromSFRBuilder: Reading MSE as MET!\n",
            "core.io.pose_from_sfr.PoseFromSFRBuilder: Reading Selenium SE from MSE as SD from MET\n",
            "core.io.pose_from_sfr.PoseFromSFRBuilder: Reading MSE as MET!\n",
            "core.io.pose_from_sfr.PoseFromSFRBuilder: Reading MSE as MET!\n",
            "core.io.pose_from_sfr.PoseFromSFRBuilder: Reading MSE as MET!\n",
            "core.io.pose_from_sfr.PoseFromSFRBuilder: Reading MSE as MET!\n",
            "core.io.pose_from_sfr.PoseFromSFRBuilder: Reading MSE as MET!\n",
            "core.io.pose_from_sfr.PoseFromSFRBuilder: Reading MSE as MET!\n",
            "core.io.pose_from_sfr.PoseFromSFRBuilder: Reading MSE as MET!\n",
            "core.io.pose_from_sfr.PoseFromSFRBuilder: Reading MSE as MET!\n",
            "core.io.pose_from_sfr.PoseFromSFRBuilder: Reading Selenium SE from MSE as SD from MET\n",
            "core.io.pose_from_sfr.PoseFromSFRBuilder: Reading MSE as MET!\n",
            "core.io.pose_from_sfr.PoseFromSFRBuilder: Reading MSE as MET!\n",
            "core.io.pose_from_sfr.PoseFromSFRBuilder: Reading MSE as MET!\n",
            "core.io.pose_from_sfr.PoseFromSFRBuilder: Reading MSE as MET!\n",
            "core.io.pose_from_sfr.PoseFromSFRBuilder: Reading MSE as MET!\n",
            "core.io.pose_from_sfr.PoseFromSFRBuilder: Reading MSE as MET!\n",
            "core.io.pose_from_sfr.PoseFromSFRBuilder: Reading MSE as MET!\n",
            "core.io.pose_from_sfr.PoseFromSFRBuilder: Reading MSE as MET!\n",
            "core.io.pose_from_sfr.PoseFromSFRBuilder: Reading Selenium SE from MSE as SD from MET\n",
            "core.io.pose_from_sfr.PoseFromSFRBuilder: Reading MSE as MET!\n",
            "core.io.pose_from_sfr.PoseFromSFRBuilder: Reading MSE as MET!\n",
            "core.io.pose_from_sfr.PoseFromSFRBuilder: Reading MSE as MET!\n",
            "core.io.pose_from_sfr.PoseFromSFRBuilder: Reading MSE as MET!\n",
            "core.io.pose_from_sfr.PoseFromSFRBuilder: Reading MSE as MET!\n",
            "core.io.pose_from_sfr.PoseFromSFRBuilder: Reading MSE as MET!\n",
            "core.io.pose_from_sfr.PoseFromSFRBuilder: Reading MSE as MET!\n",
            "core.io.pose_from_sfr.PoseFromSFRBuilder: Reading MSE as MET!\n",
            "core.io.pose_from_sfr.PoseFromSFRBuilder: Reading Selenium SE from MSE as SD from MET\n",
            "core.io.pose_from_sfr.PoseFromSFRBuilder: Reading MSE as MET!\n",
            "core.io.pose_from_sfr.PoseFromSFRBuilder: Reading MSE as MET!\n",
            "core.io.pose_from_sfr.PoseFromSFRBuilder: Reading MSE as MET!\n",
            "core.io.pose_from_sfr.PoseFromSFRBuilder: Reading MSE as MET!\n",
            "core.io.pose_from_sfr.PoseFromSFRBuilder: Reading MSE as MET!\n",
            "core.io.pose_from_sfr.PoseFromSFRBuilder: Reading MSE as MET!\n",
            "core.io.pose_from_sfr.PoseFromSFRBuilder: Reading MSE as MET!\n",
            "core.io.pose_from_sfr.PoseFromSFRBuilder: Reading MSE as MET!\n",
            "core.io.pose_from_sfr.PoseFromSFRBuilder: Reading Selenium SE from MSE as SD from MET\n",
            "core.io.pose_from_sfr.PoseFromSFRBuilder: Reading MSE as MET!\n",
            "core.io.pose_from_sfr.PoseFromSFRBuilder: Reading MSE as MET!\n",
            "core.io.pose_from_sfr.PoseFromSFRBuilder: Reading MSE as MET!\n",
            "core.io.pose_from_sfr.PoseFromSFRBuilder: Reading MSE as MET!\n",
            "core.io.pose_from_sfr.PoseFromSFRBuilder: Reading MSE as MET!\n",
            "core.io.pose_from_sfr.PoseFromSFRBuilder: Reading MSE as MET!\n",
            "core.io.pose_from_sfr.PoseFromSFRBuilder: Reading MSE as MET!\n",
            "core.io.pose_from_sfr.PoseFromSFRBuilder: Reading MSE as MET!\n",
            "core.io.pose_from_sfr.PoseFromSFRBuilder: Reading Selenium SE from MSE as SD from MET\n",
            "core.io.pose_from_sfr.PoseFromSFRBuilder: Reading MSE as MET!\n",
            "core.io.pose_from_sfr.PoseFromSFRBuilder: Reading MSE as MET!\n",
            "core.io.pose_from_sfr.PoseFromSFRBuilder: Reading MSE as MET!\n",
            "core.io.pose_from_sfr.PoseFromSFRBuilder: Reading MSE as MET!\n",
            "core.io.pose_from_sfr.PoseFromSFRBuilder: Reading MSE as MET!\n",
            "core.io.pose_from_sfr.PoseFromSFRBuilder: Reading MSE as MET!\n",
            "core.io.pose_from_sfr.PoseFromSFRBuilder: Reading MSE as MET!\n",
            "core.io.pose_from_sfr.PoseFromSFRBuilder: Reading MSE as MET!\n",
            "core.io.pose_from_sfr.PoseFromSFRBuilder: Reading Selenium SE from MSE as SD from MET\n",
            "core.io.pose_from_sfr.PoseFromSFRBuilder: Reading MSE as MET!\n",
            "core.io.pose_from_sfr.PoseFromSFRBuilder: Reading MSE as MET!\n",
            "core.io.pose_from_sfr.PoseFromSFRBuilder: Reading MSE as MET!\n",
            "core.io.pose_from_sfr.PoseFromSFRBuilder: Reading MSE as MET!\n",
            "core.io.pose_from_sfr.PoseFromSFRBuilder: Reading MSE as MET!\n",
            "core.io.pose_from_sfr.PoseFromSFRBuilder: Reading MSE as MET!\n",
            "core.io.pose_from_sfr.PoseFromSFRBuilder: Reading MSE as MET!\n",
            "core.io.pose_from_sfr.PoseFromSFRBuilder: Reading MSE as MET!\n",
            "core.io.pose_from_sfr.PoseFromSFRBuilder: Reading Selenium SE from MSE as SD from MET\n",
            "core.io.pose_from_sfr.PoseFromSFRBuilder: Reading MSE as MET!\n",
            "core.io.pose_from_sfr.PoseFromSFRBuilder: Reading MSE as MET!\n",
            "core.io.pose_from_sfr.PoseFromSFRBuilder: Reading MSE as MET!\n",
            "core.io.pose_from_sfr.PoseFromSFRBuilder: Reading MSE as MET!\n",
            "core.io.pose_from_sfr.PoseFromSFRBuilder: Reading MSE as MET!\n",
            "core.io.pose_from_sfr.PoseFromSFRBuilder: Reading MSE as MET!\n",
            "core.io.pose_from_sfr.PoseFromSFRBuilder: Reading MSE as MET!\n",
            "core.io.pose_from_sfr.PoseFromSFRBuilder: Reading MSE as MET!\n",
            "core.io.pose_from_sfr.PoseFromSFRBuilder: Reading Selenium SE from MSE as SD from MET\n",
            "core.io.pose_from_sfr.PoseFromSFRBuilder: Reading MSE as MET!\n",
            "core.io.pose_from_sfr.PoseFromSFRBuilder: Reading MSE as MET!\n",
            "core.io.pose_from_sfr.PoseFromSFRBuilder: Reading MSE as MET!\n",
            "core.io.pose_from_sfr.PoseFromSFRBuilder: Reading MSE as MET!\n",
            "core.io.pose_from_sfr.PoseFromSFRBuilder: Reading MSE as MET!\n",
            "core.io.pose_from_sfr.PoseFromSFRBuilder: Reading MSE as MET!\n",
            "core.io.pose_from_sfr.PoseFromSFRBuilder: Reading MSE as MET!\n",
            "core.io.pose_from_sfr.PoseFromSFRBuilder: Reading MSE as MET!\n",
            "core.io.pose_from_sfr.PoseFromSFRBuilder: Reading Selenium SE from MSE as SD from MET\n",
            "core.io.pose_from_sfr.PoseFromSFRBuilder: Reading MSE as MET!\n",
            "core.io.pose_from_sfr.PoseFromSFRBuilder: Reading MSE as MET!\n",
            "core.io.pose_from_sfr.PoseFromSFRBuilder: Reading MSE as MET!\n",
            "core.io.pose_from_sfr.PoseFromSFRBuilder: Reading MSE as MET!\n",
            "core.io.pose_from_sfr.PoseFromSFRBuilder: Reading MSE as MET!\n",
            "core.io.pose_from_sfr.PoseFromSFRBuilder: Reading MSE as MET!\n",
            "core.io.pose_from_sfr.PoseFromSFRBuilder: Reading MSE as MET!\n",
            "core.io.pose_from_sfr.PoseFromSFRBuilder: Reading MSE as MET!\n",
            "core.io.pose_from_sfr.PoseFromSFRBuilder: Reading Selenium SE from MSE as SD from MET\n",
            "core.io.pose_from_sfr.PoseFromSFRBuilder: Reading MSE as MET!\n",
            "core.io.pose_from_sfr.PoseFromSFRBuilder: Reading MSE as MET!\n",
            "core.io.pose_from_sfr.PoseFromSFRBuilder: Reading MSE as MET!\n",
            "core.io.pose_from_sfr.PoseFromSFRBuilder: Reading MSE as MET!\n",
            "core.io.pose_from_sfr.PoseFromSFRBuilder: Reading MSE as MET!\n",
            "core.io.pose_from_sfr.PoseFromSFRBuilder: Reading MSE as MET!\n",
            "core.io.pose_from_sfr.PoseFromSFRBuilder: Reading MSE as MET!\n",
            "core.io.pose_from_sfr.PoseFromSFRBuilder: Reading MSE as MET!\n",
            "core.io.pose_from_sfr.PoseFromSFRBuilder: Reading Selenium SE from MSE as SD from MET\n",
            "core.io.pose_from_sfr.PoseFromSFRBuilder: Reading MSE as MET!\n",
            "core.io.pose_from_sfr.PoseFromSFRBuilder: Reading MSE as MET!\n",
            "core.io.pose_from_sfr.PoseFromSFRBuilder: Reading MSE as MET!\n",
            "core.io.pose_from_sfr.PoseFromSFRBuilder: Reading MSE as MET!\n",
            "core.io.pose_from_sfr.PoseFromSFRBuilder: Reading MSE as MET!\n",
            "core.io.pose_from_sfr.PoseFromSFRBuilder: Reading MSE as MET!\n",
            "core.io.pose_from_sfr.PoseFromSFRBuilder: Reading MSE as MET!\n",
            "core.io.pose_from_sfr.PoseFromSFRBuilder: Reading MSE as MET!\n",
            "core.io.pose_from_sfr.PoseFromSFRBuilder: Reading Selenium SE from MSE as SD from MET\n",
            "core.io.pose_from_sfr.PoseFromSFRBuilder: Reading MSE as MET!\n",
            "core.io.pose_from_sfr.PoseFromSFRBuilder: Reading MSE as MET!\n",
            "core.io.pose_from_sfr.PoseFromSFRBuilder: Reading MSE as MET!\n",
            "core.io.pose_from_sfr.PoseFromSFRBuilder: Reading MSE as MET!\n",
            "core.io.pose_from_sfr.PoseFromSFRBuilder: Reading MSE as MET!\n",
            "core.io.pose_from_sfr.PoseFromSFRBuilder: Reading MSE as MET!\n",
            "core.io.pose_from_sfr.PoseFromSFRBuilder: Reading MSE as MET!\n",
            "core.io.pose_from_sfr.PoseFromSFRBuilder: Reading MSE as MET!\n",
            "core.io.pose_from_sfr.PoseFromSFRBuilder: Reading Selenium SE from MSE as SD from MET\n",
            "core.io.pose_from_sfr.PoseFromSFRBuilder: Reading MSE as MET!\n",
            "core.io.pose_from_sfr.PoseFromSFRBuilder: Reading MSE as MET!\n",
            "core.io.pose_from_sfr.PoseFromSFRBuilder: Reading MSE as MET!\n",
            "core.io.pose_from_sfr.PoseFromSFRBuilder: Reading MSE as MET!\n",
            "core.io.pose_from_sfr.PoseFromSFRBuilder: Reading MSE as MET!\n",
            "core.io.pose_from_sfr.PoseFromSFRBuilder: Reading MSE as MET!\n",
            "core.io.pose_from_sfr.PoseFromSFRBuilder: Reading MSE as MET!\n",
            "core.io.pose_from_sfr.PoseFromSFRBuilder: Reading MSE as MET!\n",
            "core.io.pose_from_sfr.PoseFromSFRBuilder: Reading Selenium SE from MSE as SD from MET\n",
            "core.io.pose_from_sfr.PoseFromSFRBuilder: Reading MSE as MET!\n",
            "core.io.pose_from_sfr.PoseFromSFRBuilder: Reading MSE as MET!\n",
            "core.io.pose_from_sfr.PoseFromSFRBuilder: Reading MSE as MET!\n",
            "core.io.pose_from_sfr.PoseFromSFRBuilder: Reading MSE as MET!\n",
            "core.io.pose_from_sfr.PoseFromSFRBuilder: Reading MSE as MET!\n",
            "core.io.pose_from_sfr.PoseFromSFRBuilder: Reading MSE as MET!\n",
            "core.io.pose_from_sfr.PoseFromSFRBuilder: Reading MSE as MET!\n",
            "core.io.pose_from_sfr.PoseFromSFRBuilder: Reading MSE as MET!\n",
            "core.io.pose_from_sfr.PoseFromSFRBuilder: Reading Selenium SE from MSE as SD from MET\n",
            "core.io.pose_from_sfr.PoseFromSFRBuilder: Reading MSE as MET!\n",
            "core.conformation.Conformation: [ WARNING ] missing heavyatom:  CG  on residue LYS 37\n",
            "core.conformation.Conformation: [ WARNING ] missing heavyatom:  CD  on residue LYS 37\n",
            "core.conformation.Conformation: [ WARNING ] missing heavyatom:  CE  on residue LYS 37\n",
            "core.conformation.Conformation: [ WARNING ] missing heavyatom:  NZ  on residue LYS 37\n",
            "core.conformation.Conformation: [ WARNING ] missing heavyatom:  CG  on residue ARG 102\n",
            "core.conformation.Conformation: [ WARNING ] missing heavyatom:  CD  on residue ARG 102\n",
            "core.conformation.Conformation: [ WARNING ] missing heavyatom:  NE  on residue ARG 102\n",
            "core.conformation.Conformation: [ WARNING ] missing heavyatom:  CZ  on residue ARG 102\n",
            "core.conformation.Conformation: [ WARNING ] missing heavyatom:  NH1 on residue ARG 102\n",
            "core.conformation.Conformation: [ WARNING ] missing heavyatom:  NH2 on residue ARG 102\n",
            "core.conformation.Conformation: [ WARNING ] missing heavyatom:  CG  on residue LYS 242\n",
            "core.conformation.Conformation: [ WARNING ] missing heavyatom:  CD  on residue LYS 242\n",
            "core.conformation.Conformation: [ WARNING ] missing heavyatom:  CE  on residue LYS 242\n",
            "core.conformation.Conformation: [ WARNING ] missing heavyatom:  NZ  on residue LYS 242\n",
            "core.conformation.Conformation: [ WARNING ] missing heavyatom:  CG  on residue LYS 448\n",
            "core.conformation.Conformation: [ WARNING ] missing heavyatom:  CD  on residue LYS 448\n",
            "core.conformation.Conformation: [ WARNING ] missing heavyatom:  CE  on residue LYS 448\n",
            "core.conformation.Conformation: [ WARNING ] missing heavyatom:  NZ  on residue LYS 448\n",
            "core.conformation.Conformation: [ WARNING ] missing heavyatom:  CG  on residue LYS 654\n",
            "core.conformation.Conformation: [ WARNING ] missing heavyatom:  CD  on residue LYS 654\n",
            "core.conformation.Conformation: [ WARNING ] missing heavyatom:  CE  on residue LYS 654\n",
            "core.conformation.Conformation: [ WARNING ] missing heavyatom:  NZ  on residue LYS 654\n",
            "core.conformation.Conformation: [ WARNING ] missing heavyatom:  OXT on residue ALA:CtermProteinFull 1024\n",
            "core.conformation.Conformation: [ WARNING ] missing heavyatom:  CG  on residue ARG 1210\n",
            "core.conformation.Conformation: [ WARNING ] missing heavyatom:  CD  on residue ARG 1210\n",
            "core.conformation.Conformation: [ WARNING ] missing heavyatom:  NE  on residue ARG 1210\n",
            "core.conformation.Conformation: [ WARNING ] missing heavyatom:  CZ  on residue ARG 1210\n",
            "core.conformation.Conformation: [ WARNING ] missing heavyatom:  NH1 on residue ARG 1210\n",
            "core.conformation.Conformation: [ WARNING ] missing heavyatom:  NH2 on residue ARG 1210\n",
            "core.conformation.Conformation: [ WARNING ] missing heavyatom:  CG  on residue LYS 1267\n",
            "core.conformation.Conformation: [ WARNING ] missing heavyatom:  CD  on residue LYS 1267\n",
            "core.conformation.Conformation: [ WARNING ] missing heavyatom:  CE  on residue LYS 1267\n",
            "core.conformation.Conformation: [ WARNING ] missing heavyatom:  NZ  on residue LYS 1267\n",
            "core.conformation.Conformation: [ WARNING ] missing heavyatom:  CG  on residue LYS 1470\n",
            "core.conformation.Conformation: [ WARNING ] missing heavyatom:  CD  on residue LYS 1470\n",
            "core.conformation.Conformation: [ WARNING ] missing heavyatom:  CE  on residue LYS 1470\n",
            "core.conformation.Conformation: [ WARNING ] missing heavyatom:  NZ  on residue LYS 1470\n",
            "core.conformation.Conformation: [ WARNING ] missing heavyatom:  CG  on residue LYS 1676\n",
            "core.conformation.Conformation: [ WARNING ] missing heavyatom:  CD  on residue LYS 1676\n",
            "core.conformation.Conformation: [ WARNING ] missing heavyatom:  CE  on residue LYS 1676\n",
            "core.conformation.Conformation: [ WARNING ] missing heavyatom:  NZ  on residue LYS 1676\n",
            "core.conformation.Conformation: [ WARNING ] missing heavyatom:  CG  on residue LYS 1880\n",
            "core.conformation.Conformation: [ WARNING ] missing heavyatom:  CD  on residue LYS 1880\n",
            "core.conformation.Conformation: [ WARNING ] missing heavyatom:  CE  on residue LYS 1880\n",
            "core.conformation.Conformation: [ WARNING ] missing heavyatom:  NZ  on residue LYS 1880\n",
            "core.conformation.Conformation: [ WARNING ] missing heavyatom:  CG  on residue ARG 2027\n",
            "core.conformation.Conformation: [ WARNING ] missing heavyatom:  CD  on residue ARG 2027\n",
            "core.conformation.Conformation: [ WARNING ] missing heavyatom:  NE  on residue ARG 2027\n",
            "core.conformation.Conformation: [ WARNING ] missing heavyatom:  CZ  on residue ARG 2027\n",
            "core.conformation.Conformation: [ WARNING ] missing heavyatom:  NH1 on residue ARG 2027\n",
            "core.conformation.Conformation: [ WARNING ] missing heavyatom:  NH2 on residue ARG 2027\n",
            "core.conformation.Conformation: [ WARNING ] missing heavyatom:  OXT on residue ALA:CtermProteinFull 2046\n",
            "core.pack.pack_missing_sidechains: packing residue number 37 because of missing atom number 6 atom name  CG\n",
            "core.pack.pack_missing_sidechains: packing residue number 102 because of missing atom number 6 atom name  CG\n",
            "core.pack.pack_missing_sidechains: packing residue number 242 because of missing atom number 6 atom name  CG\n",
            "core.pack.pack_missing_sidechains: packing residue number 448 because of missing atom number 6 atom name  CG\n",
            "core.pack.pack_missing_sidechains: packing residue number 654 because of missing atom number 6 atom name  CG\n",
            "core.pack.pack_missing_sidechains: packing residue number 1210 because of missing atom number 6 atom name  CG\n",
            "core.pack.pack_missing_sidechains: packing residue number 1267 because of missing atom number 6 atom name  CG\n",
            "core.pack.pack_missing_sidechains: packing residue number 1470 because of missing atom number 6 atom name  CG\n",
            "core.pack.pack_missing_sidechains: packing residue number 1676 because of missing atom number 6 atom name  CG\n",
            "core.pack.pack_missing_sidechains: packing residue number 1880 because of missing atom number 6 atom name  CG\n",
            "core.pack.pack_missing_sidechains: packing residue number 2027 because of missing atom number 6 atom name  CG\n",
            "core.pack.task: Packer task: initialize from command line()\n",
            "core.scoring.ScoreFunctionFactory: SCOREFUNCTION: ref2015\n",
            "core.pack.pack_rotamers: built 270 rotamers at 11 positions.\n",
            "core.pack.interaction_graph.interaction_graph_factory: Instantiating DensePDInteractionGraph\n",
            "2047\n",
            "2047\n"
          ]
        }
      ]
    },
    {
      "cell_type": "markdown",
      "source": [
        "#### Angle"
      ],
      "metadata": {
        "id": "7AuVL0P_QCRs"
      }
    },
    {
      "cell_type": "code",
      "source": [
        "print(pose.pdb_info())\n",
        "\n",
        "# Catalytic Serine\n",
        "resid_ser = pose.pdb_info().pdb2pose('A', 633)\n",
        "print(resid_ser)\n",
        "# Catalytic Lysine\n",
        "resid_lys = pose.pdb_info().pdb2pose('A', 674)\n",
        "print(resid_lys)"
      ],
      "metadata": {
        "colab": {
          "base_uri": "https://localhost:8080/"
        },
        "outputId": "290b911f-3d1c-4850-fcf0-47576d40011f",
        "id": "uR0YSm4XJyCT"
      },
      "execution_count": 196,
      "outputs": [
        {
          "output_type": "stream",
          "name": "stdout",
          "text": [
            "PDB file name: /content/google_drive/MyDrive/vp4_protease_structure/2pnl.pdb\n",
            " Pose Range  Chain    PDB Range  |   #Residues         #Atoms\n",
            "\n",
            "0001 -- 0203    A 0514  -- 0716  |   0203 residues;    03054 atoms\n",
            "0204 -- 0204    A 2002  -- 2002  |   0001 residues;    00009 atoms\n",
            "0205 -- 0205    A 2005  -- 2005  |   0001 residues;    00009 atoms\n",
            "0206 -- 0408    B 0514  -- 0716  |   0203 residues;    03054 atoms\n",
            "0409 -- 0410    B 2003  -- 2004  |   0002 residues;    00018 atoms\n",
            "0411 -- 0411    B 2009  -- 2009  |   0001 residues;    00009 atoms\n",
            "0412 -- 0614    C 0514  -- 0716  |   0203 residues;    03054 atoms\n",
            "0615 -- 0615    C 2001  -- 2001  |   0001 residues;    00009 atoms\n",
            "0616 -- 0616    C 2006  -- 2006  |   0001 residues;    00009 atoms\n",
            "0617 -- 0617    C 2014  -- 2014  |   0001 residues;    00009 atoms\n",
            "0618 -- 0820    D 0514  -- 0716  |   0203 residues;    03054 atoms\n",
            "0821 -- 0821    D 2010  -- 2010  |   0001 residues;    00009 atoms\n",
            "0822 -- 1024    E 0514  -- 0716  |   0203 residues;    03055 atoms\n",
            "1025 -- 1025    E 2007  -- 2007  |   0001 residues;    00009 atoms\n",
            "1026 -- 1026    E 2015  -- 2015  |   0001 residues;    00009 atoms\n",
            "1027 -- 1229    F 0514  -- 0716  |   0203 residues;    03054 atoms\n",
            "1230 -- 1230    F 2011  -- 2011  |   0001 residues;    00009 atoms\n",
            "1231 -- 1433    G 0514  -- 0716  |   0203 residues;    03054 atoms\n",
            "1434 -- 1636    H 0514  -- 0716  |   0203 residues;    03055 atoms\n",
            "1637 -- 1637    H 2008  -- 2008  |   0001 residues;    00009 atoms\n",
            "1638 -- 1639    H 2016  -- 2017  |   0002 residues;    00018 atoms\n",
            "1640 -- 1842    I 0514  -- 0716  |   0203 residues;    03055 atoms\n",
            "1843 -- 1843    I 2012  -- 2012  |   0001 residues;    00009 atoms\n",
            "1844 -- 2046    J 0514  -- 0716  |   0203 residues;    03055 atoms\n",
            "2047 -- 2047    J 2013  -- 2013  |   0001 residues;    00009 atoms\n",
            "                           TOTAL |   2047 residues;    30697 atoms\n",
            "\n",
            "120\n",
            "161\n"
          ]
        }
      ]
    },
    {
      "cell_type": "markdown",
      "source": [
        "Angles for Serine residue"
      ],
      "metadata": {
        "id": "t3lQt34XJyCU"
      }
    },
    {
      "cell_type": "code",
      "source": [
        "print(\"phi:\", pose.phi(resid_ser))\n",
        "print(\"psi:\", pose.psi(resid_ser))\n",
        "print(\"chi1:\", pose.chi(1, resid_ser))"
      ],
      "metadata": {
        "colab": {
          "base_uri": "https://localhost:8080/"
        },
        "outputId": "454daf22-3667-4e37-bdf1-8a4d480639e2",
        "id": "3fMsFZPSJyCU"
      },
      "execution_count": 197,
      "outputs": [
        {
          "output_type": "stream",
          "name": "stdout",
          "text": [
            "phi: -82.0006549823259\n",
            "psi: -8.189326289083393\n",
            "chi1: 72.9717782540581\n"
          ]
        }
      ]
    },
    {
      "cell_type": "markdown",
      "source": [
        "Angles for Lysine residue"
      ],
      "metadata": {
        "id": "x9jrNFpGJyCU"
      }
    },
    {
      "cell_type": "code",
      "source": [
        "print(\"phi:\", pose.phi(resid_lys))\n",
        "print(\"psi:\", pose.psi(resid_lys))\n",
        "#print(\"chi1:\", pose.chi(1, resid_lys))"
      ],
      "metadata": {
        "colab": {
          "base_uri": "https://localhost:8080/"
        },
        "outputId": "19333589-8181-43b5-e91f-0e8b27fe3395",
        "id": "EtxDE8HSJyCU"
      },
      "execution_count": 198,
      "outputs": [
        {
          "output_type": "stream",
          "name": "stdout",
          "text": [
            "phi: -67.21068735227797\n",
            "psi: -35.91268287475042\n"
          ]
        }
      ]
    },
    {
      "cell_type": "markdown",
      "source": [
        "## Protein Geometry"
      ],
      "metadata": {
        "id": "5KsCA3owzJpk"
      }
    },
    {
      "cell_type": "markdown",
      "source": [
        "Next stages:\n",
        "- Obtain bond length\n",
        "- Alter chi angles\n",
        "- Observe change in protein geometry using PyMOL\n",
        "- Energy score between residues"
      ],
      "metadata": {
        "id": "h8u9xzSyU0AF"
      }
    },
    {
      "cell_type": "markdown",
      "source": [
        "# PyMol"
      ],
      "metadata": {
        "id": "9-nLKza6Xdxh"
      }
    },
    {
      "cell_type": "markdown",
      "source": [
        "## Installation"
      ],
      "metadata": {
        "id": "ZarEvYN9XiE2"
      }
    },
    {
      "cell_type": "code",
      "source": [
        "!pip install py3Dmol"
      ],
      "metadata": {
        "colab": {
          "base_uri": "https://localhost:8080/"
        },
        "id": "kvno_hZiUNtr",
        "outputId": "06075272-11fa-4b2d-e6f7-619bee8c9961"
      },
      "execution_count": 203,
      "outputs": [
        {
          "output_type": "stream",
          "name": "stdout",
          "text": [
            "Looking in indexes: https://pypi.org/simple, https://us-python.pkg.dev/colab-wheels/public/simple/\n",
            "Collecting py3Dmol\n",
            "  Downloading py3Dmol-1.8.1-py2.py3-none-any.whl (6.5 kB)\n",
            "Installing collected packages: py3Dmol\n",
            "Successfully installed py3Dmol-1.8.1\n"
          ]
        }
      ]
    },
    {
      "cell_type": "code",
      "source": [
        "import py3Dmol"
      ],
      "metadata": {
        "id": "sbyNP2SeXcbu"
      },
      "execution_count": 204,
      "outputs": []
    },
    {
      "cell_type": "markdown",
      "source": [
        "RDKit Integration"
      ],
      "metadata": {
        "id": "2UJoJsZWXpjp"
      }
    },
    {
      "cell_type": "code",
      "source": [
        "!wget -c https://repo.continuum.io/miniconda/Miniconda3-py37_4.8.3-Linux-x86_64.sh\n",
        "!chmod +x Miniconda3-py37_4.8.3-Linux-x86_64.sh\n",
        "!time bash ./Miniconda3-py37_4.8.3-Linux-x86_64.sh -b -f -p /usr/local\n",
        "!time conda install -q -y -c conda-forge rdkit=2020.03.5"
      ],
      "metadata": {
        "colab": {
          "base_uri": "https://localhost:8080/"
        },
        "id": "hVcZ8LYtXnt0",
        "outputId": "b56ce91b-0044-4b2c-dca0-483bbdbfe481"
      },
      "execution_count": 207,
      "outputs": [
        {
          "output_type": "stream",
          "name": "stdout",
          "text": [
            "--2022-12-04 09:05:48--  https://repo.continuum.io/miniconda/Miniconda3-py37_4.8.3-Linux-x86_64.sh\n",
            "Resolving repo.continuum.io (repo.continuum.io)... 104.18.200.79, 104.18.201.79, 2606:4700::6812:c94f, ...\n",
            "Connecting to repo.continuum.io (repo.continuum.io)|104.18.200.79|:443... connected.\n",
            "HTTP request sent, awaiting response... 301 Moved Permanently\n",
            "Location: https://repo.anaconda.com/miniconda/Miniconda3-py37_4.8.3-Linux-x86_64.sh [following]\n",
            "--2022-12-04 09:05:48--  https://repo.anaconda.com/miniconda/Miniconda3-py37_4.8.3-Linux-x86_64.sh\n",
            "Resolving repo.anaconda.com (repo.anaconda.com)... 104.16.130.3, 104.16.131.3, 2606:4700::6810:8203, ...\n",
            "Connecting to repo.anaconda.com (repo.anaconda.com)|104.16.130.3|:443... connected.\n",
            "HTTP request sent, awaiting response... 416 Requested Range Not Satisfiable\n",
            "\n",
            "    The file is already fully retrieved; nothing to do.\n",
            "\n",
            "PREFIX=/usr/local\n",
            "Unpacking payload ...\n",
            "Collecting package metadata (current_repodata.json): - \b\b\\ \b\bdone\n",
            "Solving environment: / \b\b- \b\b\\ \b\b| \b\bdone\n",
            "\n",
            "# All requested packages already installed.\n",
            "\n",
            "installation finished.\n",
            "WARNING:\n",
            "    You currently have a PYTHONPATH environment variable set. This may cause\n",
            "    unexpected behavior when running the Python interpreter in Miniconda3.\n",
            "    For best results, please verify that your PYTHONPATH only points to\n",
            "    directories of packages that are compatible with the Python interpreter\n",
            "    in Miniconda3: /usr/local\n",
            "\n",
            "real\t0m23.642s\n",
            "user\t0m19.220s\n",
            "sys\t0m4.435s\n",
            "Collecting package metadata (current_repodata.json): ...working... done\n",
            "Solving environment: ...working... failed with initial frozen solve. Retrying with flexible solve.\n",
            "Collecting package metadata (repodata.json): ...working... done\n",
            "Solving environment: ...working... done\n",
            "\n",
            "## Package Plan ##\n",
            "\n",
            "  environment location: /usr/local\n",
            "\n",
            "  added / updated specs:\n",
            "    - rdkit=2020.03.5\n",
            "\n",
            "\n",
            "The following packages will be downloaded:\n",
            "\n",
            "    package                    |            build\n",
            "    ---------------------------|-----------------\n",
            "    boost-1.74.0               |   py37he5a615d_2         335 KB  conda-forge\n",
            "    boost-cpp-1.74.0           |       h9359b55_0        16.4 MB  conda-forge\n",
            "    bzip2-1.0.8                |       h516909a_3         398 KB  conda-forge\n",
            "    ca-certificates-2022.9.24  |       ha878542_0         150 KB  conda-forge\n",
            "    cairo-1.16.0               |    h3fc0475_1005         1.5 MB  conda-forge\n",
            "    certifi-2022.9.24          |     pyhd8ed1ab_0         155 KB  conda-forge\n",
            "    conda-22.9.0               |   py37h89c1867_1         960 KB  conda-forge\n",
            "    fontconfig-2.13.1          |    h7e3eb15_1002         324 KB  conda-forge\n",
            "    freetype-2.10.4            |       h7ca028e_0         912 KB  conda-forge\n",
            "    glib-2.68.2                |       h36276a3_0         3.0 MB\n",
            "    icu-67.1                   |       he1b5a44_0        12.9 MB  conda-forge\n",
            "    jpeg-9d                    |       h36c2ea0_0         264 KB  conda-forge\n",
            "    libblas-3.9.0              |       8_openblas          11 KB  conda-forge\n",
            "    libcblas-3.9.0             |       8_openblas          11 KB  conda-forge\n",
            "    libgfortran-ng-7.5.0       |      h14aa051_20          23 KB  conda-forge\n",
            "    libgfortran4-7.5.0         |      h14aa051_20         1.2 MB  conda-forge\n",
            "    libiconv-1.16              |       h516909a_0         1.4 MB  conda-forge\n",
            "    liblapack-3.9.0            |       8_openblas          11 KB  conda-forge\n",
            "    libopenblas-0.3.12         |pthreads_hb3c22a3_1         8.2 MB  conda-forge\n",
            "    libpng-1.6.37              |       h21135ba_2         306 KB  conda-forge\n",
            "    libtiff-4.1.0              |       hc3755c2_3         568 KB  conda-forge\n",
            "    libuuid-2.32.1             |    h14c3975_1000          26 KB  conda-forge\n",
            "    libxcb-1.13                |    h14c3975_1002         396 KB  conda-forge\n",
            "    libxml2-2.9.10             |       h68273f3_2         1.3 MB  conda-forge\n",
            "    lz4-c-1.9.2                |       he1b5a44_3         203 KB  conda-forge\n",
            "    numpy-1.19.4               |   py37h7e9df27_1         5.2 MB  conda-forge\n",
            "    olefile-0.46               |     pyh9f0ad1d_1          32 KB  conda-forge\n",
            "    openssl-1.1.1h             |       h516909a_0         2.1 MB  conda-forge\n",
            "    pandas-1.1.4               |   py37h10a2094_0        10.5 MB  conda-forge\n",
            "    pcre-8.44                  |       he1b5a44_0         261 KB  conda-forge\n",
            "    pillow-5.3.0               |py37h00a061d_1000         595 KB  conda-forge\n",
            "    pixman-0.38.0              |    h516909a_1003         594 KB  conda-forge\n",
            "    pthread-stubs-0.4          |    h36c2ea0_1001           5 KB  conda-forge\n",
            "    pycairo-1.20.0             |   py37h01af8b0_1          77 KB  conda-forge\n",
            "    python-dateutil-2.8.2      |     pyhd8ed1ab_0         240 KB  conda-forge\n",
            "    python_abi-3.7             |          2_cp37m           4 KB  conda-forge\n",
            "    pytz-2022.6                |     pyhd8ed1ab_0         235 KB  conda-forge\n",
            "    rdkit-2020.03.5            |   py37h0c252aa_2        24.6 MB  conda-forge\n",
            "    toolz-0.12.0               |     pyhd8ed1ab_0          48 KB  conda-forge\n",
            "    xorg-kbproto-1.0.7         |    h14c3975_1002          26 KB  conda-forge\n",
            "    xorg-libice-1.0.10         |       h516909a_0          57 KB  conda-forge\n",
            "    xorg-libsm-1.2.3           |    h84519dc_1000          25 KB  conda-forge\n",
            "    xorg-libx11-1.6.12         |       h36c2ea0_0         919 KB  conda-forge\n",
            "    xorg-libxau-1.0.9          |       h14c3975_0          13 KB  conda-forge\n",
            "    xorg-libxdmcp-1.1.3        |       h516909a_0          18 KB  conda-forge\n",
            "    xorg-libxext-1.3.4         |       h516909a_0          51 KB  conda-forge\n",
            "    xorg-libxrender-0.9.10     |    h516909a_1002          31 KB  conda-forge\n",
            "    xorg-renderproto-0.11.1    |    h14c3975_1002           8 KB  conda-forge\n",
            "    xorg-xextproto-7.3.0       |    h14c3975_1002          27 KB  conda-forge\n",
            "    xorg-xproto-7.0.31         |    h14c3975_1007          72 KB  conda-forge\n",
            "    zstd-1.4.5                 |       h6597ccf_2         712 KB  conda-forge\n",
            "    ------------------------------------------------------------\n",
            "                                           Total:        97.1 MB\n",
            "\n",
            "The following NEW packages will be INSTALLED:\n",
            "\n",
            "  boost              conda-forge/linux-64::boost-1.74.0-py37he5a615d_2\n",
            "  boost-cpp          conda-forge/linux-64::boost-cpp-1.74.0-h9359b55_0\n",
            "  bzip2              conda-forge/linux-64::bzip2-1.0.8-h516909a_3\n",
            "  cairo              conda-forge/linux-64::cairo-1.16.0-h3fc0475_1005\n",
            "  fontconfig         conda-forge/linux-64::fontconfig-2.13.1-h7e3eb15_1002\n",
            "  freetype           conda-forge/linux-64::freetype-2.10.4-h7ca028e_0\n",
            "  glib               pkgs/main/linux-64::glib-2.68.2-h36276a3_0\n",
            "  icu                conda-forge/linux-64::icu-67.1-he1b5a44_0\n",
            "  jpeg               conda-forge/linux-64::jpeg-9d-h36c2ea0_0\n",
            "  libblas            conda-forge/linux-64::libblas-3.9.0-8_openblas\n",
            "  libcblas           conda-forge/linux-64::libcblas-3.9.0-8_openblas\n",
            "  libgfortran-ng     conda-forge/linux-64::libgfortran-ng-7.5.0-h14aa051_20\n",
            "  libgfortran4       conda-forge/linux-64::libgfortran4-7.5.0-h14aa051_20\n",
            "  libiconv           conda-forge/linux-64::libiconv-1.16-h516909a_0\n",
            "  liblapack          conda-forge/linux-64::liblapack-3.9.0-8_openblas\n",
            "  libopenblas        conda-forge/linux-64::libopenblas-0.3.12-pthreads_hb3c22a3_1\n",
            "  libpng             conda-forge/linux-64::libpng-1.6.37-h21135ba_2\n",
            "  libtiff            conda-forge/linux-64::libtiff-4.1.0-hc3755c2_3\n",
            "  libuuid            conda-forge/linux-64::libuuid-2.32.1-h14c3975_1000\n",
            "  libxcb             conda-forge/linux-64::libxcb-1.13-h14c3975_1002\n",
            "  libxml2            conda-forge/linux-64::libxml2-2.9.10-h68273f3_2\n",
            "  lz4-c              conda-forge/linux-64::lz4-c-1.9.2-he1b5a44_3\n",
            "  numpy              conda-forge/linux-64::numpy-1.19.4-py37h7e9df27_1\n",
            "  olefile            conda-forge/noarch::olefile-0.46-pyh9f0ad1d_1\n",
            "  pandas             conda-forge/linux-64::pandas-1.1.4-py37h10a2094_0\n",
            "  pcre               conda-forge/linux-64::pcre-8.44-he1b5a44_0\n",
            "  pillow             conda-forge/linux-64::pillow-5.3.0-py37h00a061d_1000\n",
            "  pixman             conda-forge/linux-64::pixman-0.38.0-h516909a_1003\n",
            "  pthread-stubs      conda-forge/linux-64::pthread-stubs-0.4-h36c2ea0_1001\n",
            "  pycairo            conda-forge/linux-64::pycairo-1.20.0-py37h01af8b0_1\n",
            "  python-dateutil    conda-forge/noarch::python-dateutil-2.8.2-pyhd8ed1ab_0\n",
            "  python_abi         conda-forge/linux-64::python_abi-3.7-2_cp37m\n",
            "  pytz               conda-forge/noarch::pytz-2022.6-pyhd8ed1ab_0\n",
            "  rdkit              conda-forge/linux-64::rdkit-2020.03.5-py37h0c252aa_2\n",
            "  toolz              conda-forge/noarch::toolz-0.12.0-pyhd8ed1ab_0\n",
            "  xorg-kbproto       conda-forge/linux-64::xorg-kbproto-1.0.7-h14c3975_1002\n",
            "  xorg-libice        conda-forge/linux-64::xorg-libice-1.0.10-h516909a_0\n",
            "  xorg-libsm         conda-forge/linux-64::xorg-libsm-1.2.3-h84519dc_1000\n",
            "  xorg-libx11        conda-forge/linux-64::xorg-libx11-1.6.12-h36c2ea0_0\n",
            "  xorg-libxau        conda-forge/linux-64::xorg-libxau-1.0.9-h14c3975_0\n",
            "  xorg-libxdmcp      conda-forge/linux-64::xorg-libxdmcp-1.1.3-h516909a_0\n",
            "  xorg-libxext       conda-forge/linux-64::xorg-libxext-1.3.4-h516909a_0\n",
            "  xorg-libxrender    conda-forge/linux-64::xorg-libxrender-0.9.10-h516909a_1002\n",
            "  xorg-renderproto   conda-forge/linux-64::xorg-renderproto-0.11.1-h14c3975_1002\n",
            "  xorg-xextproto     conda-forge/linux-64::xorg-xextproto-7.3.0-h14c3975_1002\n",
            "  xorg-xproto        conda-forge/linux-64::xorg-xproto-7.0.31-h14c3975_1007\n",
            "  zstd               conda-forge/linux-64::zstd-1.4.5-h6597ccf_2\n",
            "\n",
            "The following packages will be UPDATED:\n",
            "\n",
            "  ca-certificates     pkgs/main::ca-certificates-2020.1.1-0 --> conda-forge::ca-certificates-2022.9.24-ha878542_0\n",
            "  certifi            pkgs/main/linux-64::certifi-2020.4.5.~ --> conda-forge/noarch::certifi-2022.9.24-pyhd8ed1ab_0\n",
            "  conda                       pkgs/main::conda-4.8.3-py37_0 --> conda-forge::conda-22.9.0-py37h89c1867_1\n",
            "  openssl              pkgs/main::openssl-1.1.1g-h7b6447c_0 --> conda-forge::openssl-1.1.1h-h516909a_0\n",
            "\n",
            "\n",
            "Preparing transaction: ...working... done\n",
            "Verifying transaction: ...working... done\n",
            "Executing transaction: ...working... done\n",
            "\n",
            "real\t5m56.107s\n",
            "user\t5m37.924s\n",
            "sys\t0m11.036s\n"
          ]
        }
      ]
    },
    {
      "cell_type": "markdown",
      "source": [
        "Import libraries"
      ],
      "metadata": {
        "id": "O_mWuGUeXz4p"
      }
    },
    {
      "cell_type": "code",
      "source": [
        "import sys\n",
        "sys.path.append('/usr/local/lib/python3.7/site-packages/')\n",
        "import rdkit\n",
        "from rdkit import Chem\n",
        "from rdkit.Chem import AllChem\n",
        "from rdkit.Chem import Draw\n",
        "from rdkit.Chem.Draw import IPythonConsole"
      ],
      "metadata": {
        "id": "GIYsRtKLXxYC"
      },
      "execution_count": 211,
      "outputs": []
    },
    {
      "cell_type": "markdown",
      "source": [
        "## View Protein Structure"
      ],
      "metadata": {
        "id": "abnmt-dpcrWK"
      }
    },
    {
      "cell_type": "code",
      "source": [
        "view = py3Dmol.view(query='pdb:2gef', linked = False, viewergrid = (1,2))\n",
        "chA = {'chain':'A'}\n",
        "chB = {'chain':'B'}\n",
        "view.setStyle(chA,{'cartoon': {'color':'red'}}, viewer = (0,0))\n",
        "view.addSurface(py3Dmol.VDW,{'opacity':0.7,'color':'white'}, chA, viewer = (0,0))\n",
        "view.addSurface(py3Dmol.VDW,{'opacity':0.5,'color':'orange'}, chB, viewer = (0,0))\n",
        "view.setStyle(chB,{'cartoon':{'color':'blue'}}, viewer = (0,0))\n",
        "\n",
        "view.setStyle(chA,{'cartoon': {'color':'spectrum'}}, viewer = (0,1))\n",
        "view.setStyle(chB,{'cartoon':{'color':'spectrum'}}, viewer = (0,1))\n",
        "\n",
        "view.show()"
      ],
      "metadata": {
        "colab": {
          "base_uri": "https://localhost:8080/",
          "height": 497
        },
        "id": "SK4Us2SRYq5K",
        "outputId": "ea560ef0-8b31-4ea9-b55c-4f4553dd75bc"
      },
      "execution_count": 234,
      "outputs": [
        {
          "output_type": "display_data",
          "data": {
            "application/3dmoljs_load.v0": "<div id=\"3dmolviewer_167014576601325\"  style=\"position: relative; width: 640px; height: 480px\">\n        <p id=\"3dmolwarning_167014576601325\" style=\"background-color:#ffcccc;color:black\">You appear to be running in JupyterLab (or JavaScript failed to load for some other reason).  You need to install the 3dmol extension: <br>\n        <tt>jupyter labextension install jupyterlab_3dmol</tt></p>\n        </div>\n<script>\n\nvar loadScriptAsync = function(uri){\n  return new Promise((resolve, reject) => {\n    var tag = document.createElement('script');\n    tag.src = uri;\n    tag.async = true;\n    tag.onload = () => {\n      resolve();\n    };\n  var firstScriptTag = document.getElementsByTagName('script')[0];\n  firstScriptTag.parentNode.insertBefore(tag, firstScriptTag);\n});\n};\n\nif(typeof $3Dmolpromise === 'undefined') {\n$3Dmolpromise = null;\n  $3Dmolpromise = loadScriptAsync('https://cdn.jsdelivr.net/npm/3dmol@latest/build/3Dmol-min.min.js');\n}\n\nvar viewer_167014576601325 = null;\nvar warn = document.getElementById(\"3dmolwarning_167014576601325\");\nif(warn) {\n    warn.parentNode.removeChild(warn);\n}\n$3Dmolpromise.then(function() {\nvar viewergrid_167014576601325 = null;\nviewergrid_167014576601325 = $3Dmol.createViewerGrid($(\"#3dmolviewer_167014576601325\"),{rows: 1, cols: 2, control_all: true},{backgroundColor:\"white\"});\nviewer_167014576601325 = viewergrid_167014576601325[0][0];\n$3Dmol.download(\"pdb:2gef\", viewergrid_167014576601325[0][0], {}, function() {\n$3Dmol.download(\"pdb:2gef\", viewergrid_167014576601325[0][1], {}, function() {\nviewergrid_167014576601325[0][0].zoomTo();viewergrid_167014576601325[0][1].zoomTo();\tviewergrid_167014576601325[0][0].setStyle({\"chain\": \"A\"},{\"cartoon\": {\"color\": \"red\"}});\n\tviewergrid_167014576601325[0][0].addSurface(1,{\"opacity\": 0.7, \"color\": \"white\"},{\"chain\": \"A\"});\n\tviewergrid_167014576601325[0][0].addSurface(1,{\"opacity\": 0.5, \"color\": \"orange\"},{\"chain\": \"B\"});\n\tviewergrid_167014576601325[0][0].setStyle({\"chain\": \"B\"},{\"cartoon\": {\"color\": \"blue\"}});\n\tviewergrid_167014576601325[0][1].setStyle({\"chain\": \"A\"},{\"cartoon\": {\"color\": \"spectrum\"}});\n\tviewergrid_167014576601325[0][1].setStyle({\"chain\": \"B\"},{\"cartoon\": {\"color\": \"spectrum\"}});\nviewergrid_167014576601325[0][1].render();\nviewergrid_167014576601325[0][0].render();\n})\n})\n});\n</script>",
            "text/html": [
              "<div id=\"3dmolviewer_167014576601325\"  style=\"position: relative; width: 640px; height: 480px\">\n",
              "        <p id=\"3dmolwarning_167014576601325\" style=\"background-color:#ffcccc;color:black\">You appear to be running in JupyterLab (or JavaScript failed to load for some other reason).  You need to install the 3dmol extension: <br>\n",
              "        <tt>jupyter labextension install jupyterlab_3dmol</tt></p>\n",
              "        </div>\n",
              "<script>\n",
              "\n",
              "var loadScriptAsync = function(uri){\n",
              "  return new Promise((resolve, reject) => {\n",
              "    var tag = document.createElement('script');\n",
              "    tag.src = uri;\n",
              "    tag.async = true;\n",
              "    tag.onload = () => {\n",
              "      resolve();\n",
              "    };\n",
              "  var firstScriptTag = document.getElementsByTagName('script')[0];\n",
              "  firstScriptTag.parentNode.insertBefore(tag, firstScriptTag);\n",
              "});\n",
              "};\n",
              "\n",
              "if(typeof $3Dmolpromise === 'undefined') {\n",
              "$3Dmolpromise = null;\n",
              "  $3Dmolpromise = loadScriptAsync('https://cdn.jsdelivr.net/npm/3dmol@latest/build/3Dmol-min.min.js');\n",
              "}\n",
              "\n",
              "var viewer_167014576601325 = null;\n",
              "var warn = document.getElementById(\"3dmolwarning_167014576601325\");\n",
              "if(warn) {\n",
              "    warn.parentNode.removeChild(warn);\n",
              "}\n",
              "$3Dmolpromise.then(function() {\n",
              "var viewergrid_167014576601325 = null;\n",
              "viewergrid_167014576601325 = $3Dmol.createViewerGrid($(\"#3dmolviewer_167014576601325\"),{rows: 1, cols: 2, control_all: true},{backgroundColor:\"white\"});\n",
              "viewer_167014576601325 = viewergrid_167014576601325[0][0];\n",
              "$3Dmol.download(\"pdb:2gef\", viewergrid_167014576601325[0][0], {}, function() {\n",
              "$3Dmol.download(\"pdb:2gef\", viewergrid_167014576601325[0][1], {}, function() {\n",
              "viewergrid_167014576601325[0][0].zoomTo();viewergrid_167014576601325[0][1].zoomTo();\tviewergrid_167014576601325[0][0].setStyle({\"chain\": \"A\"},{\"cartoon\": {\"color\": \"red\"}});\n",
              "\tviewergrid_167014576601325[0][0].addSurface(1,{\"opacity\": 0.7, \"color\": \"white\"},{\"chain\": \"A\"});\n",
              "\tviewergrid_167014576601325[0][0].addSurface(1,{\"opacity\": 0.5, \"color\": \"orange\"},{\"chain\": \"B\"});\n",
              "\tviewergrid_167014576601325[0][0].setStyle({\"chain\": \"B\"},{\"cartoon\": {\"color\": \"blue\"}});\n",
              "\tviewergrid_167014576601325[0][1].setStyle({\"chain\": \"A\"},{\"cartoon\": {\"color\": \"spectrum\"}});\n",
              "\tviewergrid_167014576601325[0][1].setStyle({\"chain\": \"B\"},{\"cartoon\": {\"color\": \"spectrum\"}});\n",
              "viewergrid_167014576601325[0][1].render();\n",
              "viewergrid_167014576601325[0][0].render();\n",
              "})\n",
              "})\n",
              "});\n",
              "</script>"
            ]
          },
          "metadata": {}
        }
      ]
    }
  ]
}